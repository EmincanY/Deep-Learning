{
  "cells": [
    {
      "cell_type": "markdown",
      "metadata": {
        "id": "vIM4fVZHqPWp"
      },
      "source": [
        "![image.png](attachment:image.png)"
      ]
    },
    {
      "cell_type": "markdown",
      "metadata": {
        "id": "GDBIxT8XqPWq"
      },
      "source": [
        "![image.png](attachment:image.png)"
      ]
    },
    {
      "cell_type": "markdown",
      "metadata": {
        "id": "RAM2wOYdqPWr"
      },
      "source": [
        "![68747470733a2f2f7777772e7079696d6167657365617263682e636f6d2f77702d636f6e74656e742f75706c6f6164732f323031382f31322f646c5f6d65646963616c5f696d6167696e675f6d616c617269615f646174617365742e6a7067.jpg](attachment:68747470733a2f2f7777772e7079696d6167657365617263682e636f6d2f77702d636f6e74656e742f75706c6f6164732f323031382f31322f646c5f6d65646963616c5f696d6167696e675f6d616c617269615f646174617365742e6a7067.jpg)"
      ]
    },
    {
      "cell_type": "markdown",
      "metadata": {
        "id": "pAqK_4rJyGIo"
      },
      "source": [
        "\n",
        "## CNN With Custom Images: Malaria Cell Images Dataset\n",
        "\n",
        "The dataset contains 2 folders - Infected - Uninfected\n",
        "\n",
        "And a total of 27,558 images.\n",
        "\n",
        "\n",
        "This Dataset was taken from the official NIH Website: https://ceb.nlm.nih.gov/repositories/malaria-datasets/ "
      ]
    },
    {
      "cell_type": "code",
      "execution_count": 1,
      "metadata": {
        "id": "HujjHaXQyGIr"
      },
      "outputs": [],
      "source": [
        "import os\n",
        "\n",
        "import pandas as pd\n",
        "import numpy as np\n",
        "\n",
        "import seaborn as sns\n",
        "import matplotlib.pyplot as plt\n",
        "from matplotlib.image import imread"
      ]
    },
    {
      "cell_type": "code",
      "source": [
        "from google.colab import drive\n",
        "drive.mount('/content/drive')"
      ],
      "metadata": {
        "colab": {
          "base_uri": "https://localhost:8080/"
        },
        "id": "qNnFTzbs40Yo",
        "outputId": "af1432d4-b037-4de6-b925-3ff2e65db592"
      },
      "execution_count": 2,
      "outputs": [
        {
          "output_type": "stream",
          "name": "stdout",
          "text": [
            "Drive already mounted at /content/drive; to attempt to forcibly remount, call drive.mount(\"/content/drive\", force_remount=True).\n"
          ]
        }
      ]
    },
    {
      "cell_type": "code",
      "execution_count": 3,
      "metadata": {
        "id": "uFZ8x6-PyGIs",
        "outputId": "5a22ff20-9318-47c8-db85-c363a1afd098",
        "colab": {
          "base_uri": "https://localhost:8080/",
          "height": 35
        }
      },
      "outputs": [
        {
          "output_type": "execute_result",
          "data": {
            "text/plain": [
              "'/content'"
            ],
            "application/vnd.google.colaboratory.intrinsic+json": {
              "type": "string"
            }
          },
          "metadata": {},
          "execution_count": 3
        }
      ],
      "source": [
        "pwd"
      ]
    },
    {
      "cell_type": "code",
      "execution_count": 4,
      "metadata": {
        "id": "0PVP7I4EqPWt"
      },
      "outputs": [],
      "source": [
        "my_data= '/content/drive/MyDrive/DataSets/cell_images'"
      ]
    },
    {
      "cell_type": "code",
      "execution_count": 5,
      "metadata": {
        "id": "KPXlpKTpyGIv",
        "outputId": "1e62cba8-d9d4-48b7-95d3-0a8dd35e051b",
        "colab": {
          "base_uri": "https://localhost:8080/"
        }
      },
      "outputs": [
        {
          "output_type": "execute_result",
          "data": {
            "text/plain": [
              "['test', 'train']"
            ]
          },
          "metadata": {},
          "execution_count": 5
        }
      ],
      "source": [
        "os.listdir(my_data) "
      ]
    },
    {
      "cell_type": "code",
      "execution_count": 6,
      "metadata": {
        "id": "z0BuKsaFyGIv"
      },
      "outputs": [],
      "source": [
        "test_path = my_data+'/test/'\n",
        "train_path = my_data+'/train/'"
      ]
    },
    {
      "cell_type": "code",
      "execution_count": 7,
      "metadata": {
        "id": "5eOc4BKRyGIv",
        "outputId": "cd52478d-29d2-4258-8348-167bc36df612",
        "colab": {
          "base_uri": "https://localhost:8080/"
        }
      },
      "outputs": [
        {
          "output_type": "execute_result",
          "data": {
            "text/plain": [
              "['parasitized', 'uninfected']"
            ]
          },
          "metadata": {},
          "execution_count": 7
        }
      ],
      "source": [
        "os.listdir(test_path)"
      ]
    },
    {
      "cell_type": "code",
      "execution_count": 8,
      "metadata": {
        "id": "mKliw2QVyGIw",
        "outputId": "8b146bd1-97a0-40b5-ff7d-2b297418407a",
        "colab": {
          "base_uri": "https://localhost:8080/"
        }
      },
      "outputs": [
        {
          "output_type": "execute_result",
          "data": {
            "text/plain": [
              "['parasitized', 'uninfected']"
            ]
          },
          "metadata": {},
          "execution_count": 8
        }
      ],
      "source": [
        "os.listdir(train_path)"
      ]
    },
    {
      "cell_type": "markdown",
      "metadata": {
        "id": "6v-wORTRqPWv"
      },
      "source": [
        "![images.jpg](attachment:images.jpg)"
      ]
    },
    {
      "cell_type": "code",
      "execution_count": 9,
      "metadata": {
        "id": "kFQ10IvvyGIx",
        "outputId": "c714bf42-3bef-41d2-a06f-1491fe62c671",
        "tags": [],
        "colab": {
          "base_uri": "https://localhost:8080/"
        }
      },
      "outputs": [
        {
          "output_type": "execute_result",
          "data": {
            "text/plain": [
              "['C97P58ThinF_IMG_20150917_151903_cell_17.png',\n",
              " 'C97P58ThinF_IMG_20150917_152225_cell_27.png',\n",
              " 'C96P57ThinF_IMG_20150824_105213_cell_207.png',\n",
              " 'C93P54ThinF_IMG_20150821_162641_cell_220.png',\n",
              " 'C99P60ThinF_IMG_20150918_141520_cell_97.png',\n",
              " 'C99P60ThinF_IMG_20150918_141520_cell_144.png',\n",
              " 'C99P60ThinF_IMG_20150918_141857_cell_3.png',\n",
              " 'C92P53ThinF_IMG_20150821_151646_cell_201.png',\n",
              " 'C97P58ThinF_IMG_20150917_152032_cell_170.png',\n",
              " 'C99P60ThinF_IMG_20150918_141520_cell_129.png',\n",
              " 'C97P58ThinF_IMG_20150917_145555_cell_168.png',\n",
              " 'C99P60ThinF_IMG_20150918_141314_cell_110.png',\n",
              " 'C97P58ThinF_IMG_20150917_145555_cell_191.png',\n",
              " 'C99P60ThinF_IMG_20150918_141520_cell_110.png',\n",
              " 'C99P60ThinF_IMG_20150918_142334_cell_18.png',\n",
              " 'C99P60ThinF_IMG_20150918_141001_cell_142.png',\n",
              " 'C99P60ThinF_IMG_20150918_142334_cell_19.png',\n",
              " 'C91P52ThinF_IMG_20150821_125154_cell_202.png',\n",
              " 'C99P60ThinF_IMG_20150918_140900_cell_146.png',\n",
              " 'C99P60ThinF_IMG_20150918_141129_cell_97.png',\n",
              " 'C99P60ThinF_IMG_20150918_141857_cell_13.png',\n",
              " 'C97P58ThinF_IMG_20150917_151437_cell_175.png',\n",
              " 'C99P60ThinF_IMG_20150918_141857_cell_56.png',\n",
              " 'C95P56ThinF_IMG_20150821_171530_cell_85.png',\n",
              " 'C98P59ThinF_IMG_20150917_153801_cell_193.png',\n",
              " 'C92P53ThinF_IMG_20150821_150718_cell_205.png',\n",
              " 'C99P60ThinF_IMG_20150918_141520_cell_121.png',\n",
              " 'C92P53ThinF_IMG_20150821_151224_cell_207.png',\n",
              " 'C94P55ThinF_IMG_20150821_170403_cell_234.png',\n",
              " 'C99P60ThinF_IMG_20150918_141001_cell_103.png']"
            ]
          },
          "metadata": {},
          "execution_count": 9
        }
      ],
      "source": [
        "os.listdir(train_path+'parasitized')[:30] # First 30 train parasitized images."
      ]
    },
    {
      "cell_type": "code",
      "execution_count": 10,
      "metadata": {
        "id": "JF8rXNQPyGIx",
        "outputId": "8713d0d3-3264-4f0b-891e-0892f7343f28",
        "colab": {
          "base_uri": "https://localhost:8080/",
          "height": 35
        }
      },
      "outputs": [
        {
          "output_type": "execute_result",
          "data": {
            "text/plain": [
              "'C91P52ThinF_IMG_20150821_125154_cell_202.png'"
            ],
            "application/vnd.google.colaboratory.intrinsic+json": {
              "type": "string"
            }
          },
          "metadata": {},
          "execution_count": 10
        }
      ],
      "source": [
        "os.listdir(train_path+'parasitized')[17] # a image sample"
      ]
    },
    {
      "cell_type": "code",
      "execution_count": 11,
      "metadata": {
        "id": "YZPSIYW8yGIy"
      },
      "outputs": [],
      "source": [
        "para_cell_path = train_path+'parasitized'+'/C89P50ThinF_IMG_20150820_163347_cell_203.png'"
      ]
    },
    {
      "cell_type": "code",
      "execution_count": 12,
      "metadata": {
        "id": "cPfIa7-kyGIy",
        "outputId": "2abe747a-7658-462e-b766-deb697a5d948",
        "tags": [],
        "colab": {
          "base_uri": "https://localhost:8080/"
        }
      },
      "outputs": [
        {
          "output_type": "execute_result",
          "data": {
            "text/plain": [
              "array([[[0., 0., 0.],\n",
              "        [0., 0., 0.],\n",
              "        [0., 0., 0.],\n",
              "        ...,\n",
              "        [0., 0., 0.],\n",
              "        [0., 0., 0.],\n",
              "        [0., 0., 0.]],\n",
              "\n",
              "       [[0., 0., 0.],\n",
              "        [0., 0., 0.],\n",
              "        [0., 0., 0.],\n",
              "        ...,\n",
              "        [0., 0., 0.],\n",
              "        [0., 0., 0.],\n",
              "        [0., 0., 0.]],\n",
              "\n",
              "       [[0., 0., 0.],\n",
              "        [0., 0., 0.],\n",
              "        [0., 0., 0.],\n",
              "        ...,\n",
              "        [0., 0., 0.],\n",
              "        [0., 0., 0.],\n",
              "        [0., 0., 0.]],\n",
              "\n",
              "       ...,\n",
              "\n",
              "       [[0., 0., 0.],\n",
              "        [0., 0., 0.],\n",
              "        [0., 0., 0.],\n",
              "        ...,\n",
              "        [0., 0., 0.],\n",
              "        [0., 0., 0.],\n",
              "        [0., 0., 0.]],\n",
              "\n",
              "       [[0., 0., 0.],\n",
              "        [0., 0., 0.],\n",
              "        [0., 0., 0.],\n",
              "        ...,\n",
              "        [0., 0., 0.],\n",
              "        [0., 0., 0.],\n",
              "        [0., 0., 0.]],\n",
              "\n",
              "       [[0., 0., 0.],\n",
              "        [0., 0., 0.],\n",
              "        [0., 0., 0.],\n",
              "        ...,\n",
              "        [0., 0., 0.],\n",
              "        [0., 0., 0.],\n",
              "        [0., 0., 0.]]], dtype=float32)"
            ]
          },
          "metadata": {},
          "execution_count": 12
        }
      ],
      "source": [
        "imread(para_cell_path)"
      ]
    },
    {
      "cell_type": "code",
      "execution_count": 13,
      "metadata": {
        "id": "On0snEeYyGIz"
      },
      "outputs": [],
      "source": [
        "para_cell = imread(para_cell_path)"
      ]
    },
    {
      "cell_type": "code",
      "execution_count": 14,
      "metadata": {
        "id": "LACF8r3CyGIz",
        "outputId": "48fd1754-a312-494d-b374-ead97fbcc0b0",
        "colab": {
          "base_uri": "https://localhost:8080/",
          "height": 269
        }
      },
      "outputs": [
        {
          "output_type": "display_data",
          "data": {
            "text/plain": [
              "<Figure size 432x288 with 1 Axes>"
            ],
            "image/png": "[encoded data removed]"
          },
          "metadata": {
            "needs_background": "light"
          }
        }
      ],
      "source": [
        "plt.imshow(para_cell);"
      ]
    },
    {
      "cell_type": "code",
      "execution_count": 15,
      "metadata": {
        "id": "Y1O2gbWsyGIz",
        "outputId": "a15eac6b-d84c-492c-8a0c-15010f144f68",
        "colab": {
          "base_uri": "https://localhost:8080/"
        }
      },
      "outputs": [
        {
          "output_type": "execute_result",
          "data": {
            "text/plain": [
              "(148, 172, 3)"
            ]
          },
          "metadata": {},
          "execution_count": 15
        }
      ],
      "source": [
        "para_cell.shape"
      ]
    },
    {
      "cell_type": "code",
      "execution_count": 16,
      "metadata": {
        "id": "IdFMDqZmyGI0",
        "outputId": "73c963a8-19bc-4c52-8964-798ea2f086ab",
        "tags": [],
        "colab": {
          "base_uri": "https://localhost:8080/"
        }
      },
      "outputs": [
        {
          "output_type": "execute_result",
          "data": {
            "text/plain": [
              "['C80P41ThinF_IMG_20150817_111121_cell_92.png',\n",
              " 'C74P35_ThinF_IMG_20150815_114555_cell_37.png',\n",
              " 'C75P36_ThinF_IMG_20150815_162935_cell_117.png',\n",
              " 'C90P51ThinF_IMG_20150821_115056_cell_208.png',\n",
              " 'C92P53ThinF_IMG_20150821_151722_cell_75.png',\n",
              " 'C74P35_ThinF_IMG_20150815_120957_cell_32.png',\n",
              " 'C83P44ThinF_IMG_20150817_133609_cell_118.png',\n",
              " 'C95P56ThinF_IMG_20150821_171603_cell_19.png',\n",
              " 'C80P41ThinF_IMG_20150817_110608_cell_33.png',\n",
              " 'C85P46ThinF_IMG_20150820_105748_cell_128.png',\n",
              " 'C90P51ThinF_IMG_20150821_115310_cell_13.png',\n",
              " 'C86P47ThinF_IMG_20150820_124259_cell_52.png',\n",
              " 'C90P51ThinF_IMG_20150821_120044_cell_37.png',\n",
              " 'C74P35_ThinF_IMG_20150815_114153_cell_23.png',\n",
              " 'C93P54ThinF_IMG_20150821_163815_cell_149.png',\n",
              " 'C7NthinF_IMG_20150611_104404_cell_138.png',\n",
              " 'C80P41ThinF_IMG_20150817_111246_cell_27.png',\n",
              " 'C76P37ThinF_IMG_20150815_165356_cell_109.png',\n",
              " 'C74P35_ThinF_IMG_20150815_120957_cell_22.png',\n",
              " 'C88P49ThinF_IMG_20150820_150141_cell_183.png']"
            ]
          },
          "metadata": {},
          "execution_count": 16
        }
      ],
      "source": [
        "os.listdir(train_path+'uninfected')[:20]"
      ]
    },
    {
      "cell_type": "code",
      "source": [
        "# uninfected_cell_path = train_path+'uninfected'+os.listdir(train_path+'uninfected')[53]"
      ],
      "metadata": {
        "id": "cT4ZG4H9LPTW"
      },
      "execution_count": 17,
      "outputs": []
    },
    {
      "cell_type": "code",
      "execution_count": 18,
      "metadata": {
        "id": "lP9Put_-yGI0"
      },
      "outputs": [],
      "source": [
        "uninfected_cell_path = train_path+'uninfected/'+os.listdir(train_path+'uninfected')[53]"
      ]
    },
    {
      "cell_type": "code",
      "execution_count": 19,
      "metadata": {
        "colab": {
          "base_uri": "https://localhost:8080/",
          "height": 35
        },
        "id": "V6hG3INTqPWx",
        "outputId": "d04965e9-c94b-459f-bc1c-9c54ab9602aa"
      },
      "outputs": [
        {
          "output_type": "execute_result",
          "data": {
            "text/plain": [
              "'/content/drive/MyDrive/DataSets/cell_images/train/uninfected/C81P42ThinF_IMG_20150817_120351_cell_122.png'"
            ],
            "application/vnd.google.colaboratory.intrinsic+json": {
              "type": "string"
            }
          },
          "metadata": {},
          "execution_count": 19
        }
      ],
      "source": [
        "uninfected_cell_path"
      ]
    },
    {
      "cell_type": "code",
      "execution_count": 20,
      "metadata": {
        "id": "d-L4Uw9TyGI1",
        "outputId": "06d94418-9e7c-4596-925c-e857f0a30e7b",
        "tags": [],
        "colab": {
          "base_uri": "https://localhost:8080/"
        }
      },
      "outputs": [
        {
          "output_type": "execute_result",
          "data": {
            "text/plain": [
              "array([[[0., 0., 0.],\n",
              "        [0., 0., 0.],\n",
              "        [0., 0., 0.],\n",
              "        ...,\n",
              "        [0., 0., 0.],\n",
              "        [0., 0., 0.],\n",
              "        [0., 0., 0.]],\n",
              "\n",
              "       [[0., 0., 0.],\n",
              "        [0., 0., 0.],\n",
              "        [0., 0., 0.],\n",
              "        ...,\n",
              "        [0., 0., 0.],\n",
              "        [0., 0., 0.],\n",
              "        [0., 0., 0.]],\n",
              "\n",
              "       [[0., 0., 0.],\n",
              "        [0., 0., 0.],\n",
              "        [0., 0., 0.],\n",
              "        ...,\n",
              "        [0., 0., 0.],\n",
              "        [0., 0., 0.],\n",
              "        [0., 0., 0.]],\n",
              "\n",
              "       ...,\n",
              "\n",
              "       [[0., 0., 0.],\n",
              "        [0., 0., 0.],\n",
              "        [0., 0., 0.],\n",
              "        ...,\n",
              "        [0., 0., 0.],\n",
              "        [0., 0., 0.],\n",
              "        [0., 0., 0.]],\n",
              "\n",
              "       [[0., 0., 0.],\n",
              "        [0., 0., 0.],\n",
              "        [0., 0., 0.],\n",
              "        ...,\n",
              "        [0., 0., 0.],\n",
              "        [0., 0., 0.],\n",
              "        [0., 0., 0.]],\n",
              "\n",
              "       [[0., 0., 0.],\n",
              "        [0., 0., 0.],\n",
              "        [0., 0., 0.],\n",
              "        ...,\n",
              "        [0., 0., 0.],\n",
              "        [0., 0., 0.],\n",
              "        [0., 0., 0.]]], dtype=float32)"
            ]
          },
          "metadata": {},
          "execution_count": 20
        }
      ],
      "source": [
        "imread(uninfected_cell_path) # imread read images as an array."
      ]
    },
    {
      "cell_type": "code",
      "execution_count": 21,
      "metadata": {
        "id": "5077yUK2yGI1",
        "outputId": "55e0b286-437b-418d-e000-19abea0519b1",
        "colab": {
          "base_uri": "https://localhost:8080/",
          "height": 268
        }
      },
      "outputs": [
        {
          "output_type": "display_data",
          "data": {
            "text/plain": [
              "<Figure size 432x288 with 1 Axes>"
            ],
            "image/png": "[encoded data removed]"
          },
          "metadata": {
            "needs_background": "light"
          }
        }
      ],
      "source": [
        "uninfected_cell = imread(uninfected_cell_path)\n",
        "plt.imshow(uninfected_cell); # imshow show image array's as a normal image."
      ]
    },
    {
      "cell_type": "markdown",
      "metadata": {
        "id": "ozw3janNyGI1"
      },
      "source": [
        "**Let's check how many images there are.**"
      ]
    },
    {
      "cell_type": "code",
      "execution_count": 22,
      "metadata": {
        "id": "AyIjBX6HyGI2",
        "outputId": "d0fae67b-fb83-4031-ed33-a42c2acaeb5b",
        "colab": {
          "base_uri": "https://localhost:8080/"
        }
      },
      "outputs": [
        {
          "output_type": "execute_result",
          "data": {
            "text/plain": [
              "12480"
            ]
          },
          "metadata": {},
          "execution_count": 22
        }
      ],
      "source": [
        "len(os.listdir(train_path+'parasitized'))"
      ]
    },
    {
      "cell_type": "code",
      "execution_count": 23,
      "metadata": {
        "id": "B_qqqbbjyGI2",
        "outputId": "3cb5b37f-6962-443e-8f01-b3c02112809a",
        "colab": {
          "base_uri": "https://localhost:8080/"
        }
      },
      "outputs": [
        {
          "output_type": "execute_result",
          "data": {
            "text/plain": [
              "12480"
            ]
          },
          "metadata": {},
          "execution_count": 23
        }
      ],
      "source": [
        "len(os.listdir(train_path+'uninfected'))"
      ]
    },
    {
      "cell_type": "markdown",
      "metadata": {
        "id": "M11aEESPyGI3"
      },
      "source": [
        "**Let's find out the average dimensions of these images.**"
      ]
    },
    {
      "cell_type": "code",
      "execution_count": 24,
      "metadata": {
        "id": "hDI2g2MTyGI3",
        "outputId": "a23b713f-a9ca-455d-e2c3-3e133afa6eb1",
        "colab": {
          "base_uri": "https://localhost:8080/"
        }
      },
      "outputs": [
        {
          "output_type": "execute_result",
          "data": {
            "text/plain": [
              "(115, 118, 3)"
            ]
          },
          "metadata": {},
          "execution_count": 24
        }
      ],
      "source": [
        "uninfected_cell.shape"
      ]
    },
    {
      "cell_type": "code",
      "execution_count": 25,
      "metadata": {
        "id": "JmYusxi-yGI3",
        "outputId": "ce08d432-716c-4c9c-a4a5-51f3d9887d78",
        "colab": {
          "base_uri": "https://localhost:8080/"
        }
      },
      "outputs": [
        {
          "output_type": "execute_result",
          "data": {
            "text/plain": [
              "(148, 172, 3)"
            ]
          },
          "metadata": {},
          "execution_count": 25
        }
      ],
      "source": [
        "para_cell.shape"
      ]
    },
    {
      "cell_type": "code",
      "execution_count": 26,
      "metadata": {
        "id": "KU8vN3COyGI4"
      },
      "outputs": [],
      "source": [
        "x = []\n",
        "y = []\n",
        "for image in os.listdir(test_path+'uninfected'):\n",
        "    \n",
        "    img = imread(test_path+'uninfected/'+image)\n",
        "    d1,d2,_ = img.shape\n",
        "    x.append(d1)\n",
        "    y.append(d2)"
      ]
    },
    {
      "cell_type": "code",
      "execution_count": 27,
      "metadata": {
        "id": "uN5np7FCyGI4",
        "outputId": "df439bf9-da01-497d-de87-fca91a590f16",
        "tags": [],
        "colab": {
          "base_uri": "https://localhost:8080/"
        }
      },
      "outputs": [
        {
          "output_type": "execute_result",
          "data": {
            "text/plain": [
              "[175,\n",
              " 151,\n",
              " 124,\n",
              " 160,\n",
              " 115,\n",
              " 136,\n",
              " 103,\n",
              " 148,\n",
              " 145,\n",
              " 115,\n",
              " 124,\n",
              " 130,\n",
              " 121,\n",
              " 139,\n",
              " 136,\n",
              " 163,\n",
              " 127,\n",
              " 151,\n",
              " 133,\n",
              " 181]"
            ]
          },
          "metadata": {},
          "execution_count": 27
        }
      ],
      "source": [
        "y[:20]"
      ]
    },
    {
      "cell_type": "code",
      "execution_count": 28,
      "metadata": {
        "colab": {
          "base_uri": "https://localhost:8080/"
        },
        "id": "yhdCeEIXqPWz",
        "outputId": "5517bad4-4e75-47b4-c5b0-8cda09708376"
      },
      "outputs": [
        {
          "output_type": "execute_result",
          "data": {
            "text/plain": [
              "[112,\n",
              " 154,\n",
              " 148,\n",
              " 130,\n",
              " 88,\n",
              " 151,\n",
              " 112,\n",
              " 145,\n",
              " 130,\n",
              " 103,\n",
              " 130,\n",
              " 136,\n",
              " 109,\n",
              " 130,\n",
              " 154,\n",
              " 142,\n",
              " 145,\n",
              " 130,\n",
              " 124,\n",
              " 130]"
            ]
          },
          "metadata": {},
          "execution_count": 28
        }
      ],
      "source": [
        "x[:20]"
      ]
    },
    {
      "cell_type": "code",
      "execution_count": 29,
      "metadata": {
        "colab": {
          "base_uri": "https://localhost:8080/",
          "height": 324
        },
        "id": "1ITDOElpqPWz",
        "outputId": "232502e4-c1d7-4b25-f1a9-8588f829b493"
      },
      "outputs": [
        {
          "output_type": "stream",
          "name": "stderr",
          "text": [
            "/usr/local/lib/python3.7/dist-packages/seaborn/_decorators.py:43: FutureWarning: Pass the following variables as keyword args: x, y. From version 0.12, the only valid positional argument will be `data`, and passing other arguments without an explicit keyword will result in an error or misinterpretation.\n",
            "  FutureWarning\n"
          ]
        },
        {
          "output_type": "display_data",
          "data": {
            "text/plain": [
              "<Figure size 432x288 with 1 Axes>"
            ],
            "image/png": "[encoded data removed]"
          },
          "metadata": {
            "needs_background": "light"
          }
        }
      ],
      "source": [
        "sns.scatterplot(x,y); # Linearity is good."
      ]
    },
    {
      "cell_type": "code",
      "execution_count": 30,
      "metadata": {
        "id": "xkA-LSmJyGI5",
        "outputId": "dfd324a8-e3a3-450e-a37a-14d1b0de2f58",
        "colab": {
          "base_uri": "https://localhost:8080/"
        }
      },
      "outputs": [
        {
          "output_type": "execute_result",
          "data": {
            "text/plain": [
              "130.92538461538462"
            ]
          },
          "metadata": {},
          "execution_count": 30
        }
      ],
      "source": [
        "np.mean(x)"
      ]
    },
    {
      "cell_type": "code",
      "execution_count": 31,
      "metadata": {
        "id": "7uqu0mzfyGI5",
        "outputId": "1a12186c-065d-4ce7-c5dd-cc5106d4d94c",
        "colab": {
          "base_uri": "https://localhost:8080/"
        }
      },
      "outputs": [
        {
          "output_type": "execute_result",
          "data": {
            "text/plain": [
              "130.75"
            ]
          },
          "metadata": {},
          "execution_count": 31
        }
      ],
      "source": [
        "np.mean(y)"
      ]
    },
    {
      "cell_type": "code",
      "execution_count": 32,
      "metadata": {
        "id": "E2kCYgOQyGI5"
      },
      "outputs": [],
      "source": [
        "image_shape = (130,130,3) # We will do all images with this shape"
      ]
    },
    {
      "cell_type": "markdown",
      "metadata": {
        "id": "Cc9Ey1zhyGI5"
      },
      "source": [
        "## Preparing the Data for the model"
      ]
    },
    {
      "cell_type": "code",
      "execution_count": 33,
      "metadata": {
        "id": "toDwf2JTyGI5",
        "outputId": "aa1494a6-50cc-40f7-dc8b-82abe243f3c6",
        "colab": {
          "base_uri": "https://localhost:8080/"
        }
      },
      "outputs": [
        {
          "output_type": "execute_result",
          "data": {
            "text/plain": [
              "0.8509804"
            ]
          },
          "metadata": {},
          "execution_count": 33
        }
      ],
      "source": [
        "uninfected_cell.max()"
      ]
    },
    {
      "cell_type": "code",
      "execution_count": 34,
      "metadata": {
        "id": "jgml-VO9yGI6",
        "outputId": "d96dbe0c-879e-4070-a571-e9cde7d37259",
        "colab": {
          "base_uri": "https://localhost:8080/"
        }
      },
      "outputs": [
        {
          "output_type": "execute_result",
          "data": {
            "text/plain": [
              "0.9137255"
            ]
          },
          "metadata": {},
          "execution_count": 34
        }
      ],
      "source": [
        "para_cell.max()"
      ]
    },
    {
      "cell_type": "code",
      "execution_count": 35,
      "metadata": {
        "id": "-da3iZnSyGI6"
      },
      "outputs": [],
      "source": [
        "from tensorflow.keras.preprocessing.image import ImageDataGenerator"
      ]
    },
    {
      "cell_type": "code",
      "execution_count": 36,
      "metadata": {
        "id": "C4jI9UIJyGI6",
        "tags": []
      },
      "outputs": [],
      "source": [
        "#help(ImageDataGenerator)"
      ]
    },
    {
      "cell_type": "code",
      "execution_count": 37,
      "metadata": {
        "id": "4hYotfXGyGI6"
      },
      "outputs": [],
      "source": [
        "image_gen = ImageDataGenerator(rotation_range=15, \n",
        "                               width_shift_range=0.10, \n",
        "                               height_shift_range=0.10, \n",
        "                               #rescale=1/255, # Images already scaled.\n",
        "                               shear_range=0.1, \n",
        "                               zoom_range=0.1, \n",
        "                               horizontal_flip=True, \n",
        "                               fill_mode='nearest')"
      ]
    },
    {
      "cell_type": "code",
      "source": [
        "# image_gen = ImageDataGenerator(rotation_range=15, #resmi %15 oynayabilirsin\n",
        "#                                width_shift_range=0.10,  #genislik ayarini %10 oraninda istedigin gibi genislek\n",
        "#                                height_shift_range=0.10, #yüksekliklede oyna\n",
        "#                                #rescale=1/255,  # normalde olmasi gerekiyordu,ama bizim fotolarimiz scled edilmis oldugu icin, buna gerek kalmadi, uninfected_cell.max() bu biri gecmedigi icin\n",
        "#                                shear_range=0.1, #yirtmak anlaminda ,resmi dagitabilirsin diyoruz\n",
        "#                                zoom_range=0.1,\n",
        "#                                horizontal_flip=True,  #cevirebilirsin\n",
        "#                                fill_mode='nearest')  #bosluk bir alan bulursan ,en yakininda ne varsa onunla doldur diyoruz\n",
        "# #bundan sonrasi önemli CNN katmanlarina temiz veri verme islemleri yapacagiz\n",
        "# # bu fonksiyonun amaci, makinanin resimleri cok temiz ögrenmesini istemiaoruz,eger öyle olursa cok temiz bir resm isteyecek eslestirmek icin\n",
        "# # bulanik görsünkü bulanik kabaca bir tahmin etsin\n",
        "# # resim üret bu belirlemis oldugum parametreler boyunca modelin icine koy\n",
        "# # her batch_size da bu degerleri random olarak vererek fotolari isliyor"
      ],
      "metadata": {
        "id": "Qv_jCl0_JQb3"
      },
      "execution_count": 38,
      "outputs": []
    },
    {
      "cell_type": "code",
      "execution_count": 39,
      "metadata": {
        "id": "YkgwWRm0yGI7",
        "outputId": "80799ff4-9af1-4703-c0ed-3f73be02f744",
        "colab": {
          "base_uri": "https://localhost:8080/",
          "height": 269
        }
      },
      "outputs": [
        {
          "output_type": "display_data",
          "data": {
            "text/plain": [
              "<Figure size 432x288 with 1 Axes>"
            ],
            "image/png": "[encoded data removed]"
          },
          "metadata": {
            "needs_background": "light"
          }
        }
      ],
      "source": [
        "plt.imshow(para_cell);"
      ]
    },
    {
      "cell_type": "code",
      "source": [
        "image_gen.random_transform(para_cell)"
      ],
      "metadata": {
        "colab": {
          "base_uri": "https://localhost:8080/"
        },
        "id": "Avog2GfbORXc",
        "outputId": "04ef1ed0-47d1-4037-c8df-75de70ca73d5"
      },
      "execution_count": 40,
      "outputs": [
        {
          "output_type": "execute_result",
          "data": {
            "text/plain": [
              "array([[[0., 0., 0.],\n",
              "        [0., 0., 0.],\n",
              "        [0., 0., 0.],\n",
              "        ...,\n",
              "        [0., 0., 0.],\n",
              "        [0., 0., 0.],\n",
              "        [0., 0., 0.]],\n",
              "\n",
              "       [[0., 0., 0.],\n",
              "        [0., 0., 0.],\n",
              "        [0., 0., 0.],\n",
              "        ...,\n",
              "        [0., 0., 0.],\n",
              "        [0., 0., 0.],\n",
              "        [0., 0., 0.]],\n",
              "\n",
              "       [[0., 0., 0.],\n",
              "        [0., 0., 0.],\n",
              "        [0., 0., 0.],\n",
              "        ...,\n",
              "        [0., 0., 0.],\n",
              "        [0., 0., 0.],\n",
              "        [0., 0., 0.]],\n",
              "\n",
              "       ...,\n",
              "\n",
              "       [[0., 0., 0.],\n",
              "        [0., 0., 0.],\n",
              "        [0., 0., 0.],\n",
              "        ...,\n",
              "        [0., 0., 0.],\n",
              "        [0., 0., 0.],\n",
              "        [0., 0., 0.]],\n",
              "\n",
              "       [[0., 0., 0.],\n",
              "        [0., 0., 0.],\n",
              "        [0., 0., 0.],\n",
              "        ...,\n",
              "        [0., 0., 0.],\n",
              "        [0., 0., 0.],\n",
              "        [0., 0., 0.]],\n",
              "\n",
              "       [[0., 0., 0.],\n",
              "        [0., 0., 0.],\n",
              "        [0., 0., 0.],\n",
              "        ...,\n",
              "        [0., 0., 0.],\n",
              "        [0., 0., 0.],\n",
              "        [0., 0., 0.]]], dtype=float32)"
            ]
          },
          "metadata": {},
          "execution_count": 40
        }
      ]
    },
    {
      "cell_type": "code",
      "execution_count": 41,
      "metadata": {
        "id": "JvAditu3yGI7",
        "outputId": "a9aa8fa6-e2e7-4b08-aa29-9903d3660ef4",
        "colab": {
          "base_uri": "https://localhost:8080/",
          "height": 269
        }
      },
      "outputs": [
        {
          "output_type": "display_data",
          "data": {
            "text/plain": [
              "<Figure size 432x288 with 1 Axes>"
            ],
            "image/png": "[encoded data removed]"
          },
          "metadata": {
            "needs_background": "light"
          }
        }
      ],
      "source": [
        "plt.imshow(image_gen.random_transform(para_cell));"
      ]
    },
    {
      "cell_type": "code",
      "execution_count": 42,
      "metadata": {
        "id": "iLfrSbXeyGI7",
        "outputId": "59e3f1be-c906-4915-8bb8-c7ac50d9eca8",
        "colab": {
          "base_uri": "https://localhost:8080/"
        }
      },
      "outputs": [
        {
          "output_type": "stream",
          "name": "stdout",
          "text": [
            "Found 24958 images belonging to 2 classes.\n"
          ]
        },
        {
          "output_type": "execute_result",
          "data": {
            "text/plain": [
              "<keras.preprocessing.image.DirectoryIterator at 0x7f0fd48b6690>"
            ]
          },
          "metadata": {},
          "execution_count": 42
        }
      ],
      "source": [
        "image_gen.flow_from_directory(train_path)"
      ]
    },
    {
      "cell_type": "code",
      "execution_count": 43,
      "metadata": {
        "id": "1LZT1qN1yGI8",
        "outputId": "8a7615ab-6cca-4d47-cfc9-00ce6e54dbab",
        "colab": {
          "base_uri": "https://localhost:8080/"
        }
      },
      "outputs": [
        {
          "output_type": "stream",
          "name": "stdout",
          "text": [
            "Found 2600 images belonging to 2 classes.\n"
          ]
        },
        {
          "output_type": "execute_result",
          "data": {
            "text/plain": [
              "<keras.preprocessing.image.DirectoryIterator at 0x7f0fd4820510>"
            ]
          },
          "metadata": {},
          "execution_count": 43
        }
      ],
      "source": [
        "image_gen.flow_from_directory(test_path)"
      ]
    },
    {
      "cell_type": "markdown",
      "metadata": {
        "id": "9S34xPOIqPW1"
      },
      "source": [
        "![3-layer-CNN-architecture-composed-by-two-layers-of-convolutional-and-pooling-layers-a.png](attachment:3-layer-CNN-architecture-composed-by-two-layers-of-convolutional-and-pooling-layers-a.png)"
      ]
    },
    {
      "cell_type": "markdown",
      "metadata": {
        "id": "0NEQcQp7yGI8"
      },
      "source": [
        "# Creating the Model"
      ]
    },
    {
      "cell_type": "code",
      "execution_count": 44,
      "metadata": {
        "id": "AIdvyrxlyGI8"
      },
      "outputs": [],
      "source": [
        "from tensorflow.keras.models import Sequential\n",
        "from tensorflow.keras.layers import Activation, Dropout, Flatten, Dense, Conv2D, MaxPooling2D"
      ]
    },
    {
      "cell_type": "code",
      "execution_count": 45,
      "metadata": {
        "id": "5VXwv5MnyGI8"
      },
      "outputs": [],
      "source": [
        "model = Sequential()\n",
        "\n",
        "model.add(Conv2D(filters=64, kernel_size=(3,3),input_shape=image_shape, padding='same', activation='relu',))\n",
        "model.add(MaxPooling2D(pool_size=(2, 2)))\n",
        "\n",
        "model.add(Conv2D(filters=128, kernel_size=(3,3), padding='same', activation='relu',))\n",
        "model.add(Conv2D(filters=128, kernel_size=(3,3), padding='same', activation='relu',))\n",
        "model.add(MaxPooling2D(pool_size=(2, 2)))\n",
        "\n",
        "model.add(Conv2D(filters=256, kernel_size=(3,3), padding='same', activation='relu',))\n",
        "model.add(Conv2D(filters=256, kernel_size=(3,3), padding='same', activation='relu',))\n",
        "model.add(Conv2D(filters=256, kernel_size=(3,3), padding='same', activation='relu',))\n",
        "model.add(MaxPooling2D(pool_size=(2, 2)))\n",
        "\n",
        "model.add(Conv2D(filters=128, kernel_size=(3,3), padding='same', activation='relu',))\n",
        "model.add(MaxPooling2D(pool_size=(2, 2)))\n",
        "\n",
        "model.add(Conv2D(filters=64, kernel_size=(3,3), padding='same', activation='relu',))\n",
        "model.add(MaxPooling2D(pool_size=(2, 2)))\n",
        "\n",
        "\n",
        "model.add(Flatten())\n",
        "\n",
        "\n",
        "model.add(Dense(128))\n",
        "model.add(Activation('relu'))\n",
        "\n",
        "model.add(Dropout(0.5))\n",
        "\n",
        "model.add(Dense(1))\n",
        "model.add(Activation('sigmoid'))\n",
        "\n",
        "model.compile(loss='binary_crossentropy',\n",
        "              optimizer='adam',\n",
        "              metrics=['accuracy'])"
      ]
    },
    {
      "cell_type": "code",
      "execution_count": 46,
      "metadata": {
        "id": "_QJoTfEdyGI9",
        "outputId": "2108217b-0d02-45ff-f758-2f262f968126",
        "colab": {
          "base_uri": "https://localhost:8080/"
        }
      },
      "outputs": [
        {
          "output_type": "stream",
          "name": "stdout",
          "text": [
            "Model: \"sequential\"\n",
            "_________________________________________________________________\n",
            " Layer (type)                Output Shape              Param #   \n",
            "=================================================================\n",
            " conv2d (Conv2D)             (None, 130, 130, 64)      1792      \n",
            "                                                                 \n",
            " max_pooling2d (MaxPooling2D  (None, 65, 65, 64)       0         \n",
            " )                                                               \n",
            "                                                                 \n",
            " conv2d_1 (Conv2D)           (None, 65, 65, 128)       73856     \n",
            "                                                                 \n",
            " conv2d_2 (Conv2D)           (None, 65, 65, 128)       147584    \n",
            "                                                                 \n",
            " max_pooling2d_1 (MaxPooling  (None, 32, 32, 128)      0         \n",
            " 2D)                                                             \n",
            "                                                                 \n",
            " conv2d_3 (Conv2D)           (None, 32, 32, 256)       295168    \n",
            "                                                                 \n",
            " conv2d_4 (Conv2D)           (None, 32, 32, 256)       590080    \n",
            "                                                                 \n",
            " conv2d_5 (Conv2D)           (None, 32, 32, 256)       590080    \n",
            "                                                                 \n",
            " max_pooling2d_2 (MaxPooling  (None, 16, 16, 256)      0         \n",
            " 2D)                                                             \n",
            "                                                                 \n",
            " conv2d_6 (Conv2D)           (None, 16, 16, 128)       295040    \n",
            "                                                                 \n",
            " max_pooling2d_3 (MaxPooling  (None, 8, 8, 128)        0         \n",
            " 2D)                                                             \n",
            "                                                                 \n",
            " conv2d_7 (Conv2D)           (None, 8, 8, 64)          73792     \n",
            "                                                                 \n",
            " max_pooling2d_4 (MaxPooling  (None, 4, 4, 64)         0         \n",
            " 2D)                                                             \n",
            "                                                                 \n",
            " flatten (Flatten)           (None, 1024)              0         \n",
            "                                                                 \n",
            " dense (Dense)               (None, 128)               131200    \n",
            "                                                                 \n",
            " activation (Activation)     (None, 128)               0         \n",
            "                                                                 \n",
            " dropout (Dropout)           (None, 128)               0         \n",
            "                                                                 \n",
            " dense_1 (Dense)             (None, 1)                 129       \n",
            "                                                                 \n",
            " activation_1 (Activation)   (None, 1)                 0         \n",
            "                                                                 \n",
            "=================================================================\n",
            "Total params: 2,198,721\n",
            "Trainable params: 2,198,721\n",
            "Non-trainable params: 0\n",
            "_________________________________________________________________\n"
          ]
        }
      ],
      "source": [
        "model.summary()"
      ]
    },
    {
      "cell_type": "markdown",
      "metadata": {
        "id": "TvogdJyQqPW2"
      },
      "source": [
        "![early-stopping-machine-learning.jpg](attachment:early-stopping-machine-learning.jpg)"
      ]
    },
    {
      "cell_type": "markdown",
      "metadata": {
        "id": "j42pXlqfyGI9"
      },
      "source": [
        "## Early Stopping"
      ]
    },
    {
      "cell_type": "code",
      "execution_count": 47,
      "metadata": {
        "id": "42_fU9BgyGI9"
      },
      "outputs": [],
      "source": [
        "from tensorflow.keras.callbacks import EarlyStopping"
      ]
    },
    {
      "cell_type": "code",
      "execution_count": 48,
      "metadata": {
        "id": "iK59XS1qyGI-"
      },
      "outputs": [],
      "source": [
        "early_stop = EarlyStopping(monitor='val_loss',patience=5)"
      ]
    },
    {
      "cell_type": "markdown",
      "metadata": {
        "id": "QrN3SdBmyGI-"
      },
      "source": [
        "## Training the Model"
      ]
    },
    {
      "cell_type": "code",
      "execution_count": 49,
      "metadata": {
        "id": "_eXPvbMnyGI_"
      },
      "outputs": [],
      "source": [
        "#help(image_gen.flow_from_directory)"
      ]
    },
    {
      "cell_type": "code",
      "execution_count": 50,
      "metadata": {
        "id": "SIBZVLaIyGI_",
        "outputId": "3e74d7b2-faf1-4cda-a28d-3dae07b7bf4f",
        "colab": {
          "base_uri": "https://localhost:8080/"
        }
      },
      "outputs": [
        {
          "output_type": "stream",
          "name": "stdout",
          "text": [
            "Found 24958 images belonging to 2 classes.\n"
          ]
        }
      ],
      "source": [
        "batch_size = 32\n",
        "train_image_gen = image_gen.flow_from_directory(train_path,\n",
        "                                               target_size=(130,130),\n",
        "                                                color_mode='rgb',\n",
        "                                               batch_size=batch_size,\n",
        "                                               class_mode='binary', shuffle=True, seed=53) # We set train images shape to (130,130,3)\n",
        "                                                                                           # We set batch_size now. Not at fitting."
      ]
    },
    {
      "cell_type": "code",
      "execution_count": 51,
      "metadata": {
        "id": "knuURbmnyGI_",
        "outputId": "dbb7d424-b069-4985-d4ac-8b7df615342e",
        "colab": {
          "base_uri": "https://localhost:8080/"
        }
      },
      "outputs": [
        {
          "output_type": "stream",
          "name": "stdout",
          "text": [
            "Found 2600 images belonging to 2 classes.\n"
          ]
        }
      ],
      "source": [
        "test_image_gen = image_gen.flow_from_directory(test_path,\n",
        "                                               target_size=(130,130),\n",
        "                                               color_mode='rgb',\n",
        "                                               batch_size=batch_size,\n",
        "                                               class_mode='binary', shuffle=True, seed=53) # We set test images shape to (130,130,3)\n",
        "                                                                                           # # We set batch_size now. Not at fitting."
      ]
    },
    {
      "cell_type": "code",
      "execution_count": 52,
      "metadata": {
        "id": "12yCh0kEyGJA",
        "outputId": "29655dab-7bd0-49c5-8f20-ee96b38a2f89",
        "colab": {
          "base_uri": "https://localhost:8080/"
        }
      },
      "outputs": [
        {
          "output_type": "execute_result",
          "data": {
            "text/plain": [
              "{'parasitized': 0, 'uninfected': 1}"
            ]
          },
          "metadata": {},
          "execution_count": 52
        }
      ],
      "source": [
        "train_image_gen.class_indices"
      ]
    },
    {
      "cell_type": "code",
      "execution_count": 53,
      "metadata": {
        "colab": {
          "base_uri": "https://localhost:8080/"
        },
        "id": "mVzFwsPEqPW3",
        "outputId": "d707d2e1-bcdf-4c41-91d8-b1471c65ecb1"
      },
      "outputs": [
        {
          "output_type": "execute_result",
          "data": {
            "text/plain": [
              "{'parasitized': 0, 'uninfected': 1}"
            ]
          },
          "metadata": {},
          "execution_count": 53
        }
      ],
      "source": [
        "test_image_gen.class_indices"
      ]
    },
    {
      "cell_type": "code",
      "source": [
        "train_image_gen.n"
      ],
      "metadata": {
        "colab": {
          "base_uri": "https://localhost:8080/"
        },
        "id": "QF9687ikQ2ky",
        "outputId": "76d483e6-0bf5-4cac-f114-4e8b8cfdc65b"
      },
      "execution_count": 54,
      "outputs": [
        {
          "output_type": "execute_result",
          "data": {
            "text/plain": [
              "24958"
            ]
          },
          "metadata": {},
          "execution_count": 54
        }
      ]
    },
    {
      "cell_type": "code",
      "source": [
        "train_image_gen.batch_size"
      ],
      "metadata": {
        "colab": {
          "base_uri": "https://localhost:8080/"
        },
        "id": "nACp7DAZQ53E",
        "outputId": "d5fa2e46-7049-4df9-9c4a-30a7cf83d283"
      },
      "execution_count": 55,
      "outputs": [
        {
          "output_type": "execute_result",
          "data": {
            "text/plain": [
              "32"
            ]
          },
          "metadata": {},
          "execution_count": 55
        }
      ]
    },
    {
      "cell_type": "code",
      "source": [
        "train_image_gen.n // train_image_gen.batch_size # Total train step size."
      ],
      "metadata": {
        "colab": {
          "base_uri": "https://localhost:8080/"
        },
        "id": "ox5cubR0RH7t",
        "outputId": "b062e318-a5a7-4ffb-fd46-c2fc64422d30"
      },
      "execution_count": 56,
      "outputs": [
        {
          "output_type": "execute_result",
          "data": {
            "text/plain": [
              "779"
            ]
          },
          "metadata": {},
          "execution_count": 56
        }
      ]
    },
    {
      "cell_type": "code",
      "execution_count": 57,
      "metadata": {
        "id": "QR_w_ieUqPW3"
      },
      "outputs": [],
      "source": [
        "STEP_SIZE_TRAIN=train_image_gen.n//train_image_gen.batch_size\n",
        "STEP_SIZE_TEST=test_image_gen.n//test_image_gen.batch_size"
      ]
    },
    {
      "cell_type": "code",
      "execution_count": 58,
      "metadata": {
        "colab": {
          "base_uri": "https://localhost:8080/"
        },
        "id": "TRIQnDRoqPW3",
        "outputId": "a4ad3405-6fe9-4c75-9e72-00e809628dea"
      },
      "outputs": [
        {
          "output_type": "execute_result",
          "data": {
            "text/plain": [
              "(779, 81)"
            ]
          },
          "metadata": {},
          "execution_count": 58
        }
      ],
      "source": [
        "STEP_SIZE_TRAIN, STEP_SIZE_TEST"
      ]
    },
    {
      "cell_type": "code",
      "execution_count": 59,
      "metadata": {
        "id": "jSYdC6x_yGJA",
        "outputId": "cee463eb-1896-4650-9e79-8df208a420ac",
        "scrolled": true,
        "tags": [],
        "colab": {
          "base_uri": "https://localhost:8080/"
        }
      },
      "outputs": [
        {
          "output_type": "stream",
          "name": "stdout",
          "text": [
            "Epoch 1/15\n",
            "779/779 [==============================] - 161s 200ms/step - loss: 0.7313 - accuracy: 0.5094 - val_loss: 0.6931 - val_accuracy: 0.5000\n",
            "Epoch 2/15\n",
            "779/779 [==============================] - 147s 188ms/step - loss: 0.6927 - accuracy: 0.5183 - val_loss: 0.6938 - val_accuracy: 0.5262\n",
            "Epoch 3/15\n",
            "779/779 [==============================] - 146s 187ms/step - loss: 0.6935 - accuracy: 0.5047 - val_loss: 0.6919 - val_accuracy: 0.5559\n",
            "Epoch 4/15\n",
            "779/779 [==============================] - 149s 191ms/step - loss: 0.6932 - accuracy: 0.5120 - val_loss: 0.6782 - val_accuracy: 0.5463\n",
            "Epoch 5/15\n",
            "779/779 [==============================] - 148s 190ms/step - loss: 0.7006 - accuracy: 0.5187 - val_loss: 0.6930 - val_accuracy: 0.4996\n",
            "Epoch 6/15\n",
            "779/779 [==============================] - 149s 191ms/step - loss: 0.6918 - accuracy: 0.5290 - val_loss: 0.6842 - val_accuracy: 0.5563\n",
            "Epoch 7/15\n",
            "779/779 [==============================] - 148s 190ms/step - loss: 0.6849 - accuracy: 0.5511 - val_loss: 0.6720 - val_accuracy: 0.5922\n",
            "Epoch 8/15\n",
            "779/779 [==============================] - 149s 191ms/step - loss: 0.6669 - accuracy: 0.6025 - val_loss: 0.6557 - val_accuracy: 0.6165\n",
            "Epoch 9/15\n",
            "779/779 [==============================] - 146s 187ms/step - loss: 0.4862 - accuracy: 0.7492 - val_loss: 0.2491 - val_accuracy: 0.9441\n",
            "Epoch 10/15\n",
            "779/779 [==============================] - 147s 188ms/step - loss: 0.2250 - accuracy: 0.9302 - val_loss: 0.1761 - val_accuracy: 0.9437\n",
            "Epoch 11/15\n",
            "779/779 [==============================] - 147s 189ms/step - loss: 0.1971 - accuracy: 0.9428 - val_loss: 0.1771 - val_accuracy: 0.9429\n",
            "Epoch 12/15\n",
            "779/779 [==============================] - 147s 189ms/step - loss: 0.1779 - accuracy: 0.9468 - val_loss: 0.1751 - val_accuracy: 0.9491\n",
            "Epoch 13/15\n",
            "779/779 [==============================] - 146s 187ms/step - loss: 0.1683 - accuracy: 0.9485 - val_loss: 0.2996 - val_accuracy: 0.9302\n",
            "Epoch 14/15\n",
            "779/779 [==============================] - 146s 187ms/step - loss: 0.1731 - accuracy: 0.9498 - val_loss: 0.1767 - val_accuracy: 0.9460\n",
            "Epoch 15/15\n",
            "779/779 [==============================] - 146s 187ms/step - loss: 0.1663 - accuracy: 0.9507 - val_loss: 0.1567 - val_accuracy: 0.9483\n"
          ]
        }
      ],
      "source": [
        "results = model.fit(train_image_gen,epochs=15,\n",
        "                    validation_data=test_image_gen,\n",
        "                    steps_per_epoch=STEP_SIZE_TRAIN, # This parameter about how many batch do you have.\n",
        "                    #callbacks=[early_stop]\n",
        "                    validation_steps=STEP_SIZE_TEST)\n",
        "                    "
      ]
    },
    {
      "cell_type": "markdown",
      "metadata": {
        "id": "Ifqf6EmfqPW3"
      },
      "source": [
        "![1_f-k9vMJGKqctXjvO8dM-UQ.gif](attachment:1_f-k9vMJGKqctXjvO8dM-UQ.gif)"
      ]
    },
    {
      "cell_type": "markdown",
      "metadata": {
        "id": "vZn8PTMVyGJA",
        "tags": []
      },
      "source": [
        "# Evaluating the Model"
      ]
    },
    {
      "cell_type": "code",
      "execution_count": 60,
      "metadata": {
        "id": "loJLAh7syGJA",
        "outputId": "0ca715cd-4669-4175-dfdd-f95e10859862",
        "colab": {
          "base_uri": "https://localhost:8080/",
          "height": 206
        }
      },
      "outputs": [
        {
          "output_type": "execute_result",
          "data": {
            "text/plain": [
              "       loss  accuracy  val_loss  val_accuracy\n",
              "0  0.731275  0.509388  0.693109      0.500000\n",
              "1  0.692658  0.518334  0.693838      0.526235\n",
              "2  0.693467  0.504734  0.691901      0.555941\n",
              "3  0.693155  0.512036  0.678197      0.546296\n",
              "4  0.700595  0.518695  0.692985      0.499614"
            ],
            "text/html": [
              "\n",
              "  <div id=\"df-dd04ffec-c9f4-41c2-8875-a873f8241140\">\n",
              "    <div class=\"colab-df-container\">\n",
              "      <div>\n",
              "<style scoped>\n",
              "    .dataframe tbody tr th:only-of-type {\n",
              "        vertical-align: middle;\n",
              "    }\n",
              "\n",
              "    .dataframe tbody tr th {\n",
              "        vertical-align: top;\n",
              "    }\n",
              "\n",
              "    .dataframe thead th {\n",
              "        text-align: right;\n",
              "    }\n",
              "</style>\n",
              "<table border=\"1\" class=\"dataframe\">\n",
              "  <thead>\n",
              "    <tr style=\"text-align: right;\">\n",
              "      <th></th>\n",
              "      <th>loss</th>\n",
              "      <th>accuracy</th>\n",
              "      <th>val_loss</th>\n",
              "      <th>val_accuracy</th>\n",
              "    </tr>\n",
              "  </thead>\n",
              "  <tbody>\n",
              "    <tr>\n",
              "      <th>0</th>\n",
              "      <td>0.731275</td>\n",
              "      <td>0.509388</td>\n",
              "      <td>0.693109</td>\n",
              "      <td>0.500000</td>\n",
              "    </tr>\n",
              "    <tr>\n",
              "      <th>1</th>\n",
              "      <td>0.692658</td>\n",
              "      <td>0.518334</td>\n",
              "      <td>0.693838</td>\n",
              "      <td>0.526235</td>\n",
              "    </tr>\n",
              "    <tr>\n",
              "      <th>2</th>\n",
              "      <td>0.693467</td>\n",
              "      <td>0.504734</td>\n",
              "      <td>0.691901</td>\n",
              "      <td>0.555941</td>\n",
              "    </tr>\n",
              "    <tr>\n",
              "      <th>3</th>\n",
              "      <td>0.693155</td>\n",
              "      <td>0.512036</td>\n",
              "      <td>0.678197</td>\n",
              "      <td>0.546296</td>\n",
              "    </tr>\n",
              "    <tr>\n",
              "      <th>4</th>\n",
              "      <td>0.700595</td>\n",
              "      <td>0.518695</td>\n",
              "      <td>0.692985</td>\n",
              "      <td>0.499614</td>\n",
              "    </tr>\n",
              "  </tbody>\n",
              "</table>\n",
              "</div>\n",
              "      <button class=\"colab-df-convert\" onclick=\"convertToInteractive('df-dd04ffec-c9f4-41c2-8875-a873f8241140')\"\n",
              "              title=\"Convert this dataframe to an interactive table.\"\n",
              "              style=\"display:none;\">\n",
              "        \n",
              "  <svg xmlns=\"http://www.w3.org/2000/svg\" height=\"24px\"viewBox=\"0 0 24 24\"\n",
              "       width=\"24px\">\n",
              "    <path d=\"M0 0h24v24H0V0z\" fill=\"none\"/>\n",
              "    <path d=\"M18.56 5.44l.94 2.06.94-2.06 2.06-.94-2.06-.94-.94-2.06-.94 2.06-2.06.94zm-11 1L8.5 8.5l.94-2.06 2.06-.94-2.06-.94L8.5 2.5l-.94 2.06-2.06.94zm10 10l.94 2.06.94-2.06 2.06-.94-2.06-.94-.94-2.06-.94 2.06-2.06.94z\"/><path d=\"M17.41 7.96l-1.37-1.37c-.4-.4-.92-.59-1.43-.59-.52 0-1.04.2-1.43.59L10.3 9.45l-7.72 7.72c-.78.78-.78 2.05 0 2.83L4 21.41c.39.39.9.59 1.41.59.51 0 1.02-.2 1.41-.59l7.78-7.78 2.81-2.81c.8-.78.8-2.07 0-2.86zM5.41 20L4 18.59l7.72-7.72 1.47 1.35L5.41 20z\"/>\n",
              "  </svg>\n",
              "      </button>\n",
              "      \n",
              "  <style>\n",
              "    .colab-df-container {\n",
              "      display:flex;\n",
              "      flex-wrap:wrap;\n",
              "      gap: 12px;\n",
              "    }\n",
              "\n",
              "    .colab-df-convert {\n",
              "      background-color: #E8F0FE;\n",
              "      border: none;\n",
              "      border-radius: 50%;\n",
              "      cursor: pointer;\n",
              "      display: none;\n",
              "      fill: #1967D2;\n",
              "      height: 32px;\n",
              "      padding: 0 0 0 0;\n",
              "      width: 32px;\n",
              "    }\n",
              "\n",
              "    .colab-df-convert:hover {\n",
              "      background-color: #E2EBFA;\n",
              "      box-shadow: 0px 1px 2px rgba(60, 64, 67, 0.3), 0px 1px 3px 1px rgba(60, 64, 67, 0.15);\n",
              "      fill: #174EA6;\n",
              "    }\n",
              "\n",
              "    [theme=dark] .colab-df-convert {\n",
              "      background-color: #3B4455;\n",
              "      fill: #D2E3FC;\n",
              "    }\n",
              "\n",
              "    [theme=dark] .colab-df-convert:hover {\n",
              "      background-color: #434B5C;\n",
              "      box-shadow: 0px 1px 3px 1px rgba(0, 0, 0, 0.15);\n",
              "      filter: drop-shadow(0px 1px 2px rgba(0, 0, 0, 0.3));\n",
              "      fill: #FFFFFF;\n",
              "    }\n",
              "  </style>\n",
              "\n",
              "      <script>\n",
              "        const buttonEl =\n",
              "          document.querySelector('#df-dd04ffec-c9f4-41c2-8875-a873f8241140 button.colab-df-convert');\n",
              "        buttonEl.style.display =\n",
              "          google.colab.kernel.accessAllowed ? 'block' : 'none';\n",
              "\n",
              "        async function convertToInteractive(key) {\n",
              "          const element = document.querySelector('#df-dd04ffec-c9f4-41c2-8875-a873f8241140');\n",
              "          const dataTable =\n",
              "            await google.colab.kernel.invokeFunction('convertToInteractive',\n",
              "                                                     [key], {});\n",
              "          if (!dataTable) return;\n",
              "\n",
              "          const docLinkHtml = 'Like what you see? Visit the ' +\n",
              "            '<a target=\"_blank\" href=https://colab.research.google.com/notebooks/data_table.ipynb>data table notebook</a>'\n",
              "            + ' to learn more about interactive tables.';\n",
              "          element.innerHTML = '';\n",
              "          dataTable['output_type'] = 'display_data';\n",
              "          await google.colab.output.renderOutput(dataTable, element);\n",
              "          const docLink = document.createElement('div');\n",
              "          docLink.innerHTML = docLinkHtml;\n",
              "          element.appendChild(docLink);\n",
              "        }\n",
              "      </script>\n",
              "    </div>\n",
              "  </div>\n",
              "  "
            ]
          },
          "metadata": {},
          "execution_count": 60
        }
      ],
      "source": [
        "summary = pd.DataFrame(model.history.history)\n",
        "summary.head()"
      ]
    },
    {
      "cell_type": "code",
      "source": [
        "summary.tail()"
      ],
      "metadata": {
        "colab": {
          "base_uri": "https://localhost:8080/",
          "height": 206
        },
        "id": "rlVb1rkfdW4m",
        "outputId": "46335752-a70e-4660-d794-69c7c1d82782"
      },
      "execution_count": 61,
      "outputs": [
        {
          "output_type": "execute_result",
          "data": {
            "text/plain": [
              "        loss  accuracy  val_loss  val_accuracy\n",
              "10  0.197059  0.942791  0.177092      0.942901\n",
              "11  0.177929  0.946803  0.175105      0.949074\n",
              "12  0.168349  0.948488  0.299648      0.930170\n",
              "13  0.173052  0.949811  0.176680      0.945988\n",
              "14  0.166252  0.950654  0.156744      0.948302"
            ],
            "text/html": [
              "\n",
              "  <div id=\"df-f97ebae4-b6e3-4eba-8c95-f28662a0c988\">\n",
              "    <div class=\"colab-df-container\">\n",
              "      <div>\n",
              "<style scoped>\n",
              "    .dataframe tbody tr th:only-of-type {\n",
              "        vertical-align: middle;\n",
              "    }\n",
              "\n",
              "    .dataframe tbody tr th {\n",
              "        vertical-align: top;\n",
              "    }\n",
              "\n",
              "    .dataframe thead th {\n",
              "        text-align: right;\n",
              "    }\n",
              "</style>\n",
              "<table border=\"1\" class=\"dataframe\">\n",
              "  <thead>\n",
              "    <tr style=\"text-align: right;\">\n",
              "      <th></th>\n",
              "      <th>loss</th>\n",
              "      <th>accuracy</th>\n",
              "      <th>val_loss</th>\n",
              "      <th>val_accuracy</th>\n",
              "    </tr>\n",
              "  </thead>\n",
              "  <tbody>\n",
              "    <tr>\n",
              "      <th>10</th>\n",
              "      <td>0.197059</td>\n",
              "      <td>0.942791</td>\n",
              "      <td>0.177092</td>\n",
              "      <td>0.942901</td>\n",
              "    </tr>\n",
              "    <tr>\n",
              "      <th>11</th>\n",
              "      <td>0.177929</td>\n",
              "      <td>0.946803</td>\n",
              "      <td>0.175105</td>\n",
              "      <td>0.949074</td>\n",
              "    </tr>\n",
              "    <tr>\n",
              "      <th>12</th>\n",
              "      <td>0.168349</td>\n",
              "      <td>0.948488</td>\n",
              "      <td>0.299648</td>\n",
              "      <td>0.930170</td>\n",
              "    </tr>\n",
              "    <tr>\n",
              "      <th>13</th>\n",
              "      <td>0.173052</td>\n",
              "      <td>0.949811</td>\n",
              "      <td>0.176680</td>\n",
              "      <td>0.945988</td>\n",
              "    </tr>\n",
              "    <tr>\n",
              "      <th>14</th>\n",
              "      <td>0.166252</td>\n",
              "      <td>0.950654</td>\n",
              "      <td>0.156744</td>\n",
              "      <td>0.948302</td>\n",
              "    </tr>\n",
              "  </tbody>\n",
              "</table>\n",
              "</div>\n",
              "      <button class=\"colab-df-convert\" onclick=\"convertToInteractive('df-f97ebae4-b6e3-4eba-8c95-f28662a0c988')\"\n",
              "              title=\"Convert this dataframe to an interactive table.\"\n",
              "              style=\"display:none;\">\n",
              "        \n",
              "  <svg xmlns=\"http://www.w3.org/2000/svg\" height=\"24px\"viewBox=\"0 0 24 24\"\n",
              "       width=\"24px\">\n",
              "    <path d=\"M0 0h24v24H0V0z\" fill=\"none\"/>\n",
              "    <path d=\"M18.56 5.44l.94 2.06.94-2.06 2.06-.94-2.06-.94-.94-2.06-.94 2.06-2.06.94zm-11 1L8.5 8.5l.94-2.06 2.06-.94-2.06-.94L8.5 2.5l-.94 2.06-2.06.94zm10 10l.94 2.06.94-2.06 2.06-.94-2.06-.94-.94-2.06-.94 2.06-2.06.94z\"/><path d=\"M17.41 7.96l-1.37-1.37c-.4-.4-.92-.59-1.43-.59-.52 0-1.04.2-1.43.59L10.3 9.45l-7.72 7.72c-.78.78-.78 2.05 0 2.83L4 21.41c.39.39.9.59 1.41.59.51 0 1.02-.2 1.41-.59l7.78-7.78 2.81-2.81c.8-.78.8-2.07 0-2.86zM5.41 20L4 18.59l7.72-7.72 1.47 1.35L5.41 20z\"/>\n",
              "  </svg>\n",
              "      </button>\n",
              "      \n",
              "  <style>\n",
              "    .colab-df-container {\n",
              "      display:flex;\n",
              "      flex-wrap:wrap;\n",
              "      gap: 12px;\n",
              "    }\n",
              "\n",
              "    .colab-df-convert {\n",
              "      background-color: #E8F0FE;\n",
              "      border: none;\n",
              "      border-radius: 50%;\n",
              "      cursor: pointer;\n",
              "      display: none;\n",
              "      fill: #1967D2;\n",
              "      height: 32px;\n",
              "      padding: 0 0 0 0;\n",
              "      width: 32px;\n",
              "    }\n",
              "\n",
              "    .colab-df-convert:hover {\n",
              "      background-color: #E2EBFA;\n",
              "      box-shadow: 0px 1px 2px rgba(60, 64, 67, 0.3), 0px 1px 3px 1px rgba(60, 64, 67, 0.15);\n",
              "      fill: #174EA6;\n",
              "    }\n",
              "\n",
              "    [theme=dark] .colab-df-convert {\n",
              "      background-color: #3B4455;\n",
              "      fill: #D2E3FC;\n",
              "    }\n",
              "\n",
              "    [theme=dark] .colab-df-convert:hover {\n",
              "      background-color: #434B5C;\n",
              "      box-shadow: 0px 1px 3px 1px rgba(0, 0, 0, 0.15);\n",
              "      filter: drop-shadow(0px 1px 2px rgba(0, 0, 0, 0.3));\n",
              "      fill: #FFFFFF;\n",
              "    }\n",
              "  </style>\n",
              "\n",
              "      <script>\n",
              "        const buttonEl =\n",
              "          document.querySelector('#df-f97ebae4-b6e3-4eba-8c95-f28662a0c988 button.colab-df-convert');\n",
              "        buttonEl.style.display =\n",
              "          google.colab.kernel.accessAllowed ? 'block' : 'none';\n",
              "\n",
              "        async function convertToInteractive(key) {\n",
              "          const element = document.querySelector('#df-f97ebae4-b6e3-4eba-8c95-f28662a0c988');\n",
              "          const dataTable =\n",
              "            await google.colab.kernel.invokeFunction('convertToInteractive',\n",
              "                                                     [key], {});\n",
              "          if (!dataTable) return;\n",
              "\n",
              "          const docLinkHtml = 'Like what you see? Visit the ' +\n",
              "            '<a target=\"_blank\" href=https://colab.research.google.com/notebooks/data_table.ipynb>data table notebook</a>'\n",
              "            + ' to learn more about interactive tables.';\n",
              "          element.innerHTML = '';\n",
              "          dataTable['output_type'] = 'display_data';\n",
              "          await google.colab.output.renderOutput(dataTable, element);\n",
              "          const docLink = document.createElement('div');\n",
              "          docLink.innerHTML = docLinkHtml;\n",
              "          element.appendChild(docLink);\n",
              "        }\n",
              "      </script>\n",
              "    </div>\n",
              "  </div>\n",
              "  "
            ]
          },
          "metadata": {},
          "execution_count": 61
        }
      ]
    },
    {
      "cell_type": "code",
      "execution_count": 62,
      "metadata": {
        "id": "u2grfsQmyGJB",
        "outputId": "52055583-231d-4d7e-814e-a7bbbe68b561",
        "colab": {
          "base_uri": "https://localhost:8080/",
          "height": 388
        }
      },
      "outputs": [
        {
          "output_type": "display_data",
          "data": {
            "text/plain": [
              "<Figure size 720x432 with 1 Axes>"
            ],
            "image/png": "[encoded data removed]"
          },
          "metadata": {
            "needs_background": "light"
          }
        }
      ],
      "source": [
        "plt.figure(figsize=(10,6))\n",
        "\n",
        "plt.plot(summary.loss, label=\"loss\")\n",
        "plt.plot(summary.val_loss, label=\"val_loss\")\n",
        "\n",
        "plt.legend(loc=\"upper right\")\n",
        "plt.ylabel(\"Loss\")\n",
        "plt.xlabel(\"Epoch\")\n",
        "\n",
        "plt.show()"
      ]
    },
    {
      "cell_type": "code",
      "execution_count": 63,
      "metadata": {
        "id": "jD4KIrKnyGJB",
        "outputId": "5f6883bf-57c7-4533-c39f-5c6b88a16436",
        "colab": {
          "base_uri": "https://localhost:8080/",
          "height": 388
        }
      },
      "outputs": [
        {
          "output_type": "display_data",
          "data": {
            "text/plain": [
              "<Figure size 720x432 with 1 Axes>"
            ],
            "image/png": "[encoded data removed]"
          },
          "metadata": {
            "needs_background": "light"
          }
        }
      ],
      "source": [
        "plt.figure(figsize = (10,6))\n",
        "\n",
        "plt.plot(summary.accuracy, label = \"accuracy\")\n",
        "plt.plot(summary.val_accuracy, label = \"val_accuracy\")\n",
        "\n",
        "plt.legend(loc = \"upper left\")\n",
        "plt.ylabel(\"Accuracy\")\n",
        "plt.xlabel(\"Epoch\")\n",
        "\n",
        "plt.show()"
      ]
    },
    {
      "cell_type": "code",
      "execution_count": 64,
      "metadata": {
        "id": "GTPA47R7yGJB",
        "outputId": "9de2343e-9196-4249-b2b8-1dd4452bbcd4",
        "colab": {
          "base_uri": "https://localhost:8080/"
        }
      },
      "outputs": [
        {
          "output_type": "execute_result",
          "data": {
            "text/plain": [
              "['loss', 'accuracy']"
            ]
          },
          "metadata": {},
          "execution_count": 64
        }
      ],
      "source": [
        "model.metrics_names"
      ]
    },
    {
      "cell_type": "markdown",
      "metadata": {
        "id": "lpLznF_oqPW4"
      },
      "source": [
        "we should sample the images in the validation set exactly once(if you are planning to evaluate, you need to change the batch size of the valid generator to 1 or something that exactly divides the total num of samples in validation set), but the order doesn’t matter so let “shuffle” be True as it was earlier."
      ]
    },
    {
      "cell_type": "code",
      "execution_count": 65,
      "metadata": {
        "id": "lnTF0Q66yGJB",
        "outputId": "dad20501-5219-4c21-88bd-6d8a17e076a6",
        "colab": {
          "base_uri": "https://localhost:8080/"
        }
      },
      "outputs": [
        {
          "output_type": "stream",
          "name": "stdout",
          "text": [
            "81/81 [==============================] - 14s 167ms/step - loss: 0.1634 - accuracy: 0.9464\n"
          ]
        },
        {
          "output_type": "execute_result",
          "data": {
            "text/plain": [
              "[0.16342280805110931, 0.946373462677002]"
            ]
          },
          "metadata": {},
          "execution_count": 65
        }
      ],
      "source": [
        "model.evaluate(test_image_gen,\n",
        "steps=STEP_SIZE_TEST) # Different evaluate parameters. Learn this."
      ]
    },
    {
      "cell_type": "code",
      "execution_count": 66,
      "metadata": {
        "id": "ZCo0yg6PyGJC"
      },
      "outputs": [],
      "source": [
        "from tensorflow.keras.preprocessing import image"
      ]
    },
    {
      "cell_type": "code",
      "execution_count": 80,
      "metadata": {
        "id": "2aSpYj9LyGJC",
        "colab": {
          "base_uri": "https://localhost:8080/"
        },
        "outputId": "d6ff1e6b-1c8f-462f-a8b4-a9f23c44dcfb"
      },
      "outputs": [
        {
          "output_type": "stream",
          "name": "stdout",
          "text": [
            "82/82 [==============================] - 15s 181ms/step\n"
          ]
        }
      ],
      "source": [
        "pred_probabilities = model.predict(test_image_gen)"
      ]
    },
    {
      "cell_type": "code",
      "execution_count": 68,
      "metadata": {
        "id": "5jVh9p-1yGJC",
        "outputId": "62f0cf9c-3ac1-4106-ff72-f64e2a81ebd4",
        "colab": {
          "base_uri": "https://localhost:8080/"
        }
      },
      "outputs": [
        {
          "output_type": "execute_result",
          "data": {
            "text/plain": [
              "array([[6.3934335e-06],\n",
              "       [1.2549876e-06],\n",
              "       [1.5679477e-03],\n",
              "       ...,\n",
              "       [9.8105246e-01],\n",
              "       [9.7530669e-01],\n",
              "       [1.3465848e-03]], dtype=float32)"
            ]
          },
          "metadata": {},
          "execution_count": 68
        }
      ],
      "source": [
        "pred_probabilities"
      ]
    },
    {
      "cell_type": "code",
      "source": [
        "pred_probabilities[0]"
      ],
      "metadata": {
        "colab": {
          "base_uri": "https://localhost:8080/"
        },
        "id": "G0O9dcbyeikJ",
        "outputId": "5876d56d-01e7-4e09-96fa-8525ffe3e153"
      },
      "execution_count": 69,
      "outputs": [
        {
          "output_type": "execute_result",
          "data": {
            "text/plain": [
              "array([6.3934335e-06], dtype=float32)"
            ]
          },
          "metadata": {},
          "execution_count": 69
        }
      ]
    },
    {
      "cell_type": "code",
      "execution_count": 72,
      "metadata": {
        "id": "d6fxjzltyGJC",
        "outputId": "c3ae4a1e-2949-42f3-b4dc-2ff108cc8aac",
        "colab": {
          "base_uri": "https://localhost:8080/"
        }
      },
      "outputs": [
        {
          "output_type": "execute_result",
          "data": {
            "text/plain": [
              "array([0, 0, 0, ..., 1, 1, 1], dtype=int32)"
            ]
          },
          "metadata": {},
          "execution_count": 72
        }
      ],
      "source": [
        "test_image_gen.classes"
      ]
    },
    {
      "cell_type": "code",
      "execution_count": 73,
      "metadata": {
        "colab": {
          "base_uri": "https://localhost:8080/"
        },
        "id": "FR8AaexNqPW5",
        "outputId": "40d6db24-3f32-42a0-dade-3aa8cc5f417f"
      },
      "outputs": [
        {
          "output_type": "execute_result",
          "data": {
            "text/plain": [
              "array([[6.3934335e-06],\n",
              "       [1.2549876e-06],\n",
              "       [1.5679477e-03],\n",
              "       ...,\n",
              "       [9.8105246e-01],\n",
              "       [9.7530669e-01],\n",
              "       [1.3465848e-03]], dtype=float32)"
            ]
          },
          "metadata": {},
          "execution_count": 73
        }
      ],
      "source": [
        "pred_probabilities"
      ]
    },
    {
      "cell_type": "code",
      "source": [
        "pred_probabilities > 0.5"
      ],
      "metadata": {
        "colab": {
          "base_uri": "https://localhost:8080/"
        },
        "id": "640JVNCggjWw",
        "outputId": "fdab2912-9ec2-4e62-9bd3-a0897f49fb41"
      },
      "execution_count": 74,
      "outputs": [
        {
          "output_type": "execute_result",
          "data": {
            "text/plain": [
              "array([[False],\n",
              "       [False],\n",
              "       [False],\n",
              "       ...,\n",
              "       [ True],\n",
              "       [ True],\n",
              "       [False]])"
            ]
          },
          "metadata": {},
          "execution_count": 74
        }
      ]
    },
    {
      "cell_type": "code",
      "execution_count": 82,
      "metadata": {
        "id": "cfC-SV7xyGJC"
      },
      "outputs": [],
      "source": [
        "predictions = pred_probabilities > 0.5"
      ]
    },
    {
      "cell_type": "code",
      "execution_count": 76,
      "metadata": {
        "id": "jbQXSglqyGJD",
        "outputId": "8c925416-168b-42c6-de43-a0315c45826d",
        "colab": {
          "base_uri": "https://localhost:8080/"
        }
      },
      "outputs": [
        {
          "output_type": "execute_result",
          "data": {
            "text/plain": [
              "array([[False],\n",
              "       [False],\n",
              "       [False],\n",
              "       [False],\n",
              "       [False],\n",
              "       [ True],\n",
              "       [ True],\n",
              "       [ True],\n",
              "       [ True],\n",
              "       [False],\n",
              "       [False],\n",
              "       [False],\n",
              "       [False],\n",
              "       [ True],\n",
              "       [False],\n",
              "       [False],\n",
              "       [False],\n",
              "       [ True],\n",
              "       [False],\n",
              "       [ True],\n",
              "       [False],\n",
              "       [ True],\n",
              "       [False],\n",
              "       [ True],\n",
              "       [False],\n",
              "       [ True],\n",
              "       [ True],\n",
              "       [ True],\n",
              "       [False],\n",
              "       [False],\n",
              "       [False],\n",
              "       [False],\n",
              "       [ True],\n",
              "       [ True],\n",
              "       [ True],\n",
              "       [ True],\n",
              "       [False],\n",
              "       [False],\n",
              "       [ True],\n",
              "       [False],\n",
              "       [False],\n",
              "       [False],\n",
              "       [False],\n",
              "       [False],\n",
              "       [ True],\n",
              "       [ True],\n",
              "       [ True],\n",
              "       [False],\n",
              "       [ True],\n",
              "       [ True],\n",
              "       [False],\n",
              "       [False],\n",
              "       [ True],\n",
              "       [False],\n",
              "       [ True],\n",
              "       [ True],\n",
              "       [False],\n",
              "       [ True],\n",
              "       [ True],\n",
              "       [False],\n",
              "       [ True],\n",
              "       [False],\n",
              "       [ True],\n",
              "       [ True],\n",
              "       [ True],\n",
              "       [False],\n",
              "       [False],\n",
              "       [False],\n",
              "       [ True],\n",
              "       [ True],\n",
              "       [ True],\n",
              "       [False],\n",
              "       [ True],\n",
              "       [False],\n",
              "       [False],\n",
              "       [ True],\n",
              "       [ True],\n",
              "       [ True],\n",
              "       [False],\n",
              "       [False],\n",
              "       [False],\n",
              "       [False],\n",
              "       [False],\n",
              "       [ True],\n",
              "       [ True],\n",
              "       [ True],\n",
              "       [ True],\n",
              "       [False],\n",
              "       [ True],\n",
              "       [ True],\n",
              "       [False],\n",
              "       [ True],\n",
              "       [ True],\n",
              "       [False],\n",
              "       [False],\n",
              "       [False],\n",
              "       [ True],\n",
              "       [ True],\n",
              "       [False],\n",
              "       [False]])"
            ]
          },
          "metadata": {},
          "execution_count": 76
        }
      ],
      "source": [
        "predictions[:100]"
      ]
    },
    {
      "cell_type": "code",
      "execution_count": 77,
      "metadata": {
        "id": "XAdk4L8WyGJD"
      },
      "outputs": [],
      "source": [
        "from sklearn.metrics import classification_report,confusion_matrix"
      ]
    },
    {
      "cell_type": "code",
      "execution_count": 84,
      "metadata": {
        "id": "O-YOZuolyGJD",
        "outputId": "4901e6df-0bd1-4bee-eb29-65eac4f9a39b",
        "colab": {
          "base_uri": "https://localhost:8080/"
        }
      },
      "outputs": [
        {
          "output_type": "stream",
          "name": "stdout",
          "text": [
            "              precision    recall  f1-score   support\n",
            "\n",
            "           0       0.50      0.48      0.49      1300\n",
            "           1       0.50      0.51      0.51      1300\n",
            "\n",
            "    accuracy                           0.50      2600\n",
            "   macro avg       0.50      0.50      0.50      2600\n",
            "weighted avg       0.50      0.50      0.50      2600\n",
            "\n"
          ]
        }
      ],
      "source": [
        "print(classification_report(test_image_gen.classes,predictions)) # Idk why that scores."
      ]
    },
    {
      "cell_type": "code",
      "execution_count": 85,
      "metadata": {
        "id": "OaLqsbwyyGJD",
        "outputId": "44f17977-9fdd-4b81-c5a6-414a7d4b1132",
        "colab": {
          "base_uri": "https://localhost:8080/"
        }
      },
      "outputs": [
        {
          "output_type": "execute_result",
          "data": {
            "text/plain": [
              "array([[624, 676],\n",
              "       [631, 669]])"
            ]
          },
          "metadata": {},
          "execution_count": 85
        }
      ],
      "source": [
        "confusion_matrix(test_image_gen.classes,predictions)"
      ]
    },
    {
      "cell_type": "code",
      "execution_count": null,
      "metadata": {
        "id": "XFsDYmx1yGJF"
      },
      "outputs": [],
      "source": [
        "#model.save('malaria_model.h5')"
      ]
    },
    {
      "cell_type": "markdown",
      "metadata": {
        "id": "BoOmIj8-qPW6"
      },
      "source": [
        "![6230f046627012226ca691ed_61c9f5e9334bd82512b86cda_predictive-modeling-diagram.png](attachment:6230f046627012226ca691ed_61c9f5e9334bd82512b86cda_predictive-modeling-diagram.png)"
      ]
    },
    {
      "cell_type": "markdown",
      "metadata": {
        "id": "oQB-AVGRyGJF"
      },
      "source": [
        "# Predicting on an Image"
      ]
    },
    {
      "cell_type": "code",
      "execution_count": 86,
      "metadata": {
        "id": "z1EX1D1ryGJF",
        "outputId": "ff108905-1f64-4d97-817c-747527f3cd60",
        "colab": {
          "base_uri": "https://localhost:8080/"
        }
      },
      "outputs": [
        {
          "output_type": "execute_result",
          "data": {
            "text/plain": [
              "array([[[0., 0., 0.],\n",
              "        [0., 0., 0.],\n",
              "        [0., 0., 0.],\n",
              "        ...,\n",
              "        [0., 0., 0.],\n",
              "        [0., 0., 0.],\n",
              "        [0., 0., 0.]],\n",
              "\n",
              "       [[0., 0., 0.],\n",
              "        [0., 0., 0.],\n",
              "        [0., 0., 0.],\n",
              "        ...,\n",
              "        [0., 0., 0.],\n",
              "        [0., 0., 0.],\n",
              "        [0., 0., 0.]],\n",
              "\n",
              "       [[0., 0., 0.],\n",
              "        [0., 0., 0.],\n",
              "        [0., 0., 0.],\n",
              "        ...,\n",
              "        [0., 0., 0.],\n",
              "        [0., 0., 0.],\n",
              "        [0., 0., 0.]],\n",
              "\n",
              "       ...,\n",
              "\n",
              "       [[0., 0., 0.],\n",
              "        [0., 0., 0.],\n",
              "        [0., 0., 0.],\n",
              "        ...,\n",
              "        [0., 0., 0.],\n",
              "        [0., 0., 0.],\n",
              "        [0., 0., 0.]],\n",
              "\n",
              "       [[0., 0., 0.],\n",
              "        [0., 0., 0.],\n",
              "        [0., 0., 0.],\n",
              "        ...,\n",
              "        [0., 0., 0.],\n",
              "        [0., 0., 0.],\n",
              "        [0., 0., 0.]],\n",
              "\n",
              "       [[0., 0., 0.],\n",
              "        [0., 0., 0.],\n",
              "        [0., 0., 0.],\n",
              "        ...,\n",
              "        [0., 0., 0.],\n",
              "        [0., 0., 0.],\n",
              "        [0., 0., 0.]]], dtype=float32)"
            ]
          },
          "metadata": {},
          "execution_count": 86
        }
      ],
      "source": [
        "para_cell"
      ]
    },
    {
      "cell_type": "code",
      "execution_count": 90,
      "metadata": {
        "id": "xJnaWQcnyGJF"
      },
      "outputs": [],
      "source": [
        "my_image = image.load_img(para_cell_path,target_size=image_shape) # I'll fix it later."
      ]
    },
    {
      "cell_type": "code",
      "execution_count": 97,
      "metadata": {
        "colab": {
          "base_uri": "https://localhost:8080/"
        },
        "id": "b_elg1RLqPW7",
        "outputId": "b72de0a4-a692-443f-ff84-7ed2e6aa7eb3"
      },
      "outputs": [
        {
          "output_type": "execute_result",
          "data": {
            "text/plain": [
              "array([[[0., 0., 0.],\n",
              "        [0., 0., 0.],\n",
              "        [0., 0., 0.],\n",
              "        ...,\n",
              "        [0., 0., 0.],\n",
              "        [0., 0., 0.],\n",
              "        [0., 0., 0.]],\n",
              "\n",
              "       [[0., 0., 0.],\n",
              "        [0., 0., 0.],\n",
              "        [0., 0., 0.],\n",
              "        ...,\n",
              "        [0., 0., 0.],\n",
              "        [0., 0., 0.],\n",
              "        [0., 0., 0.]],\n",
              "\n",
              "       [[0., 0., 0.],\n",
              "        [0., 0., 0.],\n",
              "        [0., 0., 0.],\n",
              "        ...,\n",
              "        [0., 0., 0.],\n",
              "        [0., 0., 0.],\n",
              "        [0., 0., 0.]],\n",
              "\n",
              "       ...,\n",
              "\n",
              "       [[0., 0., 0.],\n",
              "        [0., 0., 0.],\n",
              "        [0., 0., 0.],\n",
              "        ...,\n",
              "        [0., 0., 0.],\n",
              "        [0., 0., 0.],\n",
              "        [0., 0., 0.]],\n",
              "\n",
              "       [[0., 0., 0.],\n",
              "        [0., 0., 0.],\n",
              "        [0., 0., 0.],\n",
              "        ...,\n",
              "        [0., 0., 0.],\n",
              "        [0., 0., 0.],\n",
              "        [0., 0., 0.]],\n",
              "\n",
              "       [[0., 0., 0.],\n",
              "        [0., 0., 0.],\n",
              "        [0., 0., 0.],\n",
              "        ...,\n",
              "        [0., 0., 0.],\n",
              "        [0., 0., 0.],\n",
              "        [0., 0., 0.]]], dtype=float32)"
            ]
          },
          "metadata": {},
          "execution_count": 97
        }
      ],
      "source": [
        "import tensorflow as tf\n",
        "\n",
        "tf.keras.preprocessing.image.smart_resize(para_cell, (130,130))"
      ]
    },
    {
      "cell_type": "code",
      "execution_count": 98,
      "metadata": {
        "id": "Vj1KNBEnyGJG",
        "outputId": "15b3c93e-f3bd-44fe-fb52-61434eb81509",
        "colab": {
          "base_uri": "https://localhost:8080/",
          "height": 147
        }
      },
      "outputs": [
        {
          "output_type": "execute_result",
          "data": {
            "text/plain": [
              "<PIL.Image.Image image mode=RGB size=130x130 at 0x7F0F53526FD0>"
            ],
            "image/png": "[encoded data removed]"
          },
          "metadata": {},
          "execution_count": 98
        }
      ],
      "source": [
        "my_image"
      ]
    },
    {
      "cell_type": "code",
      "execution_count": 99,
      "metadata": {
        "id": "RAomlcwXyGJG",
        "outputId": "9987632c-ef62-4ee3-a38b-32279c15c1a2",
        "colab": {
          "base_uri": "https://localhost:8080/"
        }
      },
      "outputs": [
        {
          "output_type": "execute_result",
          "data": {
            "text/plain": [
              "PIL.Image.Image"
            ]
          },
          "metadata": {},
          "execution_count": 99
        }
      ],
      "source": [
        "type(my_image)"
      ]
    },
    {
      "cell_type": "code",
      "execution_count": 100,
      "metadata": {
        "id": "h_8_dFYOyGJH"
      },
      "outputs": [],
      "source": [
        "my_image = image.img_to_array(my_image)"
      ]
    },
    {
      "cell_type": "code",
      "execution_count": 101,
      "metadata": {
        "id": "x0SDzKj1yGJH",
        "outputId": "1b782d5f-ea48-4c48-fbd0-5f176dfff9b6",
        "colab": {
          "base_uri": "https://localhost:8080/"
        }
      },
      "outputs": [
        {
          "output_type": "execute_result",
          "data": {
            "text/plain": [
              "numpy.ndarray"
            ]
          },
          "metadata": {},
          "execution_count": 101
        }
      ],
      "source": [
        "type(my_image)"
      ]
    },
    {
      "cell_type": "code",
      "execution_count": 102,
      "metadata": {
        "id": "PQaOgbqoyGJH",
        "outputId": "8e14b8ce-6ca4-4232-fc32-9ff78699b702",
        "colab": {
          "base_uri": "https://localhost:8080/"
        }
      },
      "outputs": [
        {
          "output_type": "execute_result",
          "data": {
            "text/plain": [
              "(130, 130, 3)"
            ]
          },
          "metadata": {},
          "execution_count": 102
        }
      ],
      "source": [
        "my_image.shape"
      ]
    },
    {
      "cell_type": "code",
      "execution_count": 103,
      "metadata": {
        "id": "5oQ9QaVpyGJH"
      },
      "outputs": [],
      "source": [
        "my_image = np.expand_dims(my_image, axis=0)"
      ]
    },
    {
      "cell_type": "code",
      "execution_count": 104,
      "metadata": {
        "id": "lqAXKrXqyGJH",
        "outputId": "f8fe4d0f-2849-4692-d415-59ba7bad9300",
        "colab": {
          "base_uri": "https://localhost:8080/"
        }
      },
      "outputs": [
        {
          "output_type": "execute_result",
          "data": {
            "text/plain": [
              "(1, 130, 130, 3)"
            ]
          },
          "metadata": {},
          "execution_count": 104
        }
      ],
      "source": [
        "my_image.shape"
      ]
    },
    {
      "cell_type": "code",
      "execution_count": 105,
      "metadata": {
        "id": "kANFISzNyGJI",
        "outputId": "68ab7229-f46b-4f86-9770-5bd46d762298",
        "colab": {
          "base_uri": "https://localhost:8080/"
        }
      },
      "outputs": [
        {
          "output_type": "stream",
          "name": "stdout",
          "text": [
            "1/1 [==============================] - 0s 471ms/step\n"
          ]
        },
        {
          "output_type": "execute_result",
          "data": {
            "text/plain": [
              "array([[0.00522378]], dtype=float32)"
            ]
          },
          "metadata": {},
          "execution_count": 105
        }
      ],
      "source": [
        "model.predict(my_image)"
      ]
    },
    {
      "cell_type": "code",
      "execution_count": 106,
      "metadata": {
        "id": "XZqaf6IbyGJI",
        "outputId": "05e181ec-b144-4683-c1a8-25044fdb6726",
        "colab": {
          "base_uri": "https://localhost:8080/"
        }
      },
      "outputs": [
        {
          "output_type": "execute_result",
          "data": {
            "text/plain": [
              "{'parasitized': 0, 'uninfected': 1}"
            ]
          },
          "metadata": {},
          "execution_count": 106
        }
      ],
      "source": [
        "train_image_gen.class_indices"
      ]
    },
    {
      "cell_type": "code",
      "execution_count": 107,
      "metadata": {
        "id": "PcaLwwCPyGJI",
        "outputId": "825888c2-eeb8-4e56-f500-0c55f4a1fa88",
        "colab": {
          "base_uri": "https://localhost:8080/"
        }
      },
      "outputs": [
        {
          "output_type": "execute_result",
          "data": {
            "text/plain": [
              "{'parasitized': 0, 'uninfected': 1}"
            ]
          },
          "metadata": {},
          "execution_count": 107
        }
      ],
      "source": [
        "test_image_gen.class_indices"
      ]
    },
    {
      "cell_type": "code",
      "source": [
        "# Done for now."
      ],
      "metadata": {
        "id": "We2iEbX7j-S_"
      },
      "execution_count": null,
      "outputs": []
    }
  ],
  "metadata": {
    "colab": {
      "provenance": [],
      "collapsed_sections": [
        "vZn8PTMVyGJA",
        "oQB-AVGRyGJF"
      ],
      "machine_shape": "hm"
    },
    "kernelspec": {
      "display_name": "Python 3 (ipykernel)",
      "language": "python",
      "name": "python3"
    },
    "language_info": {
      "codemirror_mode": {
        "name": "ipython",
        "version": 3
      },
      "file_extension": ".py",
      "mimetype": "text/x-python",
      "name": "python",
      "nbconvert_exporter": "python",
      "pygments_lexer": "ipython3",
      "version": "3.9.7"
    },
    "accelerator": "GPU",
    "gpuClass": "standard"
  },
  "nbformat": 4,
  "nbformat_minor": 0
}