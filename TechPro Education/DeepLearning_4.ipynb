{
  "nbformat": 4,
  "nbformat_minor": 0,
  "metadata": {
    "colab": {
      "provenance": [],
      "collapsed_sections": [],
      "machine_shape": "hm"
    },
    "kernelspec": {
      "name": "python3",
      "display_name": "Python 3"
    },
    "language_info": {
      "name": "python"
    },
    "accelerator": "GPU",
    "gpuClass": "standard"
  },
  "cells": [
    {
      "cell_type": "markdown",
      "source": [
        "# Import Libraries"
      ],
      "metadata": {
        "id": "gpv3J_c7gYZ9"
      }
    },
    {
      "cell_type": "code",
      "execution_count": 2,
      "metadata": {
        "id": "nen7YPw_bsiy"
      },
      "outputs": [],
      "source": [
        "import tensorflow as tf\n",
        "import numpy as np\n",
        "import pandas as pd\n",
        "\n",
        "import matplotlib.pyplot as plt\n",
        "import seaborn as sns\n",
        "\n",
        "# import warnings\n",
        "# warnings.filterwarnings(\"ignore\")\n",
        "# warnings.warn(\"this will not show\")\n",
        "\n",
        "plt.rcParams[\"figure.figsize\"] = (10,6)\n",
        "\n",
        "sns.set_style(\"whitegrid\")\n",
        "pd.set_option('display.float_format', lambda x: '%.3f' % x)\n",
        "\n",
        "# Set it None to display all rows in the dataframe\n",
        "# pd.set_option('display.max_rows', None)\n",
        "\n",
        "# Set it to None to display all columns in the dataframe\n",
        "pd.set_option('display.max_columns', None)"
      ]
    },
    {
      "cell_type": "code",
      "source": [
        "df = sns.load_dataset(\"iris\")\n",
        "df"
      ],
      "metadata": {
        "colab": {
          "base_uri": "https://localhost:8080/",
          "height": 424
        },
        "id": "4ErJzWtygakw",
        "outputId": "b30e6219-2f5e-41e2-d66c-125cf2fb26d5"
      },
      "execution_count": 3,
      "outputs": [
        {
          "output_type": "execute_result",
          "data": {
            "text/plain": [
              "     sepal_length  sepal_width  petal_length  petal_width    species\n",
              "0           5.100        3.500         1.400        0.200     setosa\n",
              "1           4.900        3.000         1.400        0.200     setosa\n",
              "2           4.700        3.200         1.300        0.200     setosa\n",
              "3           4.600        3.100         1.500        0.200     setosa\n",
              "4           5.000        3.600         1.400        0.200     setosa\n",
              "..            ...          ...           ...          ...        ...\n",
              "145         6.700        3.000         5.200        2.300  virginica\n",
              "146         6.300        2.500         5.000        1.900  virginica\n",
              "147         6.500        3.000         5.200        2.000  virginica\n",
              "148         6.200        3.400         5.400        2.300  virginica\n",
              "149         5.900        3.000         5.100        1.800  virginica\n",
              "\n",
              "[150 rows x 5 columns]"
            ],
            "text/html": [
              "\n",
              "  <div id=\"df-01ae0431-7ddf-42cb-8a6a-2f5587e09f17\">\n",
              "    <div class=\"colab-df-container\">\n",
              "      <div>\n",
              "<style scoped>\n",
              "    .dataframe tbody tr th:only-of-type {\n",
              "        vertical-align: middle;\n",
              "    }\n",
              "\n",
              "    .dataframe tbody tr th {\n",
              "        vertical-align: top;\n",
              "    }\n",
              "\n",
              "    .dataframe thead th {\n",
              "        text-align: right;\n",
              "    }\n",
              "</style>\n",
              "<table border=\"1\" class=\"dataframe\">\n",
              "  <thead>\n",
              "    <tr style=\"text-align: right;\">\n",
              "      <th></th>\n",
              "      <th>sepal_length</th>\n",
              "      <th>sepal_width</th>\n",
              "      <th>petal_length</th>\n",
              "      <th>petal_width</th>\n",
              "      <th>species</th>\n",
              "    </tr>\n",
              "  </thead>\n",
              "  <tbody>\n",
              "    <tr>\n",
              "      <th>0</th>\n",
              "      <td>5.100</td>\n",
              "      <td>3.500</td>\n",
              "      <td>1.400</td>\n",
              "      <td>0.200</td>\n",
              "      <td>setosa</td>\n",
              "    </tr>\n",
              "    <tr>\n",
              "      <th>1</th>\n",
              "      <td>4.900</td>\n",
              "      <td>3.000</td>\n",
              "      <td>1.400</td>\n",
              "      <td>0.200</td>\n",
              "      <td>setosa</td>\n",
              "    </tr>\n",
              "    <tr>\n",
              "      <th>2</th>\n",
              "      <td>4.700</td>\n",
              "      <td>3.200</td>\n",
              "      <td>1.300</td>\n",
              "      <td>0.200</td>\n",
              "      <td>setosa</td>\n",
              "    </tr>\n",
              "    <tr>\n",
              "      <th>3</th>\n",
              "      <td>4.600</td>\n",
              "      <td>3.100</td>\n",
              "      <td>1.500</td>\n",
              "      <td>0.200</td>\n",
              "      <td>setosa</td>\n",
              "    </tr>\n",
              "    <tr>\n",
              "      <th>4</th>\n",
              "      <td>5.000</td>\n",
              "      <td>3.600</td>\n",
              "      <td>1.400</td>\n",
              "      <td>0.200</td>\n",
              "      <td>setosa</td>\n",
              "    </tr>\n",
              "    <tr>\n",
              "      <th>...</th>\n",
              "      <td>...</td>\n",
              "      <td>...</td>\n",
              "      <td>...</td>\n",
              "      <td>...</td>\n",
              "      <td>...</td>\n",
              "    </tr>\n",
              "    <tr>\n",
              "      <th>145</th>\n",
              "      <td>6.700</td>\n",
              "      <td>3.000</td>\n",
              "      <td>5.200</td>\n",
              "      <td>2.300</td>\n",
              "      <td>virginica</td>\n",
              "    </tr>\n",
              "    <tr>\n",
              "      <th>146</th>\n",
              "      <td>6.300</td>\n",
              "      <td>2.500</td>\n",
              "      <td>5.000</td>\n",
              "      <td>1.900</td>\n",
              "      <td>virginica</td>\n",
              "    </tr>\n",
              "    <tr>\n",
              "      <th>147</th>\n",
              "      <td>6.500</td>\n",
              "      <td>3.000</td>\n",
              "      <td>5.200</td>\n",
              "      <td>2.000</td>\n",
              "      <td>virginica</td>\n",
              "    </tr>\n",
              "    <tr>\n",
              "      <th>148</th>\n",
              "      <td>6.200</td>\n",
              "      <td>3.400</td>\n",
              "      <td>5.400</td>\n",
              "      <td>2.300</td>\n",
              "      <td>virginica</td>\n",
              "    </tr>\n",
              "    <tr>\n",
              "      <th>149</th>\n",
              "      <td>5.900</td>\n",
              "      <td>3.000</td>\n",
              "      <td>5.100</td>\n",
              "      <td>1.800</td>\n",
              "      <td>virginica</td>\n",
              "    </tr>\n",
              "  </tbody>\n",
              "</table>\n",
              "<p>150 rows × 5 columns</p>\n",
              "</div>\n",
              "      <button class=\"colab-df-convert\" onclick=\"convertToInteractive('df-01ae0431-7ddf-42cb-8a6a-2f5587e09f17')\"\n",
              "              title=\"Convert this dataframe to an interactive table.\"\n",
              "              style=\"display:none;\">\n",
              "        \n",
              "  <svg xmlns=\"http://www.w3.org/2000/svg\" height=\"24px\"viewBox=\"0 0 24 24\"\n",
              "       width=\"24px\">\n",
              "    <path d=\"M0 0h24v24H0V0z\" fill=\"none\"/>\n",
              "    <path d=\"M18.56 5.44l.94 2.06.94-2.06 2.06-.94-2.06-.94-.94-2.06-.94 2.06-2.06.94zm-11 1L8.5 8.5l.94-2.06 2.06-.94-2.06-.94L8.5 2.5l-.94 2.06-2.06.94zm10 10l.94 2.06.94-2.06 2.06-.94-2.06-.94-.94-2.06-.94 2.06-2.06.94z\"/><path d=\"M17.41 7.96l-1.37-1.37c-.4-.4-.92-.59-1.43-.59-.52 0-1.04.2-1.43.59L10.3 9.45l-7.72 7.72c-.78.78-.78 2.05 0 2.83L4 21.41c.39.39.9.59 1.41.59.51 0 1.02-.2 1.41-.59l7.78-7.78 2.81-2.81c.8-.78.8-2.07 0-2.86zM5.41 20L4 18.59l7.72-7.72 1.47 1.35L5.41 20z\"/>\n",
              "  </svg>\n",
              "      </button>\n",
              "      \n",
              "  <style>\n",
              "    .colab-df-container {\n",
              "      display:flex;\n",
              "      flex-wrap:wrap;\n",
              "      gap: 12px;\n",
              "    }\n",
              "\n",
              "    .colab-df-convert {\n",
              "      background-color: #E8F0FE;\n",
              "      border: none;\n",
              "      border-radius: 50%;\n",
              "      cursor: pointer;\n",
              "      display: none;\n",
              "      fill: #1967D2;\n",
              "      height: 32px;\n",
              "      padding: 0 0 0 0;\n",
              "      width: 32px;\n",
              "    }\n",
              "\n",
              "    .colab-df-convert:hover {\n",
              "      background-color: #E2EBFA;\n",
              "      box-shadow: 0px 1px 2px rgba(60, 64, 67, 0.3), 0px 1px 3px 1px rgba(60, 64, 67, 0.15);\n",
              "      fill: #174EA6;\n",
              "    }\n",
              "\n",
              "    [theme=dark] .colab-df-convert {\n",
              "      background-color: #3B4455;\n",
              "      fill: #D2E3FC;\n",
              "    }\n",
              "\n",
              "    [theme=dark] .colab-df-convert:hover {\n",
              "      background-color: #434B5C;\n",
              "      box-shadow: 0px 1px 3px 1px rgba(0, 0, 0, 0.15);\n",
              "      filter: drop-shadow(0px 1px 2px rgba(0, 0, 0, 0.3));\n",
              "      fill: #FFFFFF;\n",
              "    }\n",
              "  </style>\n",
              "\n",
              "      <script>\n",
              "        const buttonEl =\n",
              "          document.querySelector('#df-01ae0431-7ddf-42cb-8a6a-2f5587e09f17 button.colab-df-convert');\n",
              "        buttonEl.style.display =\n",
              "          google.colab.kernel.accessAllowed ? 'block' : 'none';\n",
              "\n",
              "        async function convertToInteractive(key) {\n",
              "          const element = document.querySelector('#df-01ae0431-7ddf-42cb-8a6a-2f5587e09f17');\n",
              "          const dataTable =\n",
              "            await google.colab.kernel.invokeFunction('convertToInteractive',\n",
              "                                                     [key], {});\n",
              "          if (!dataTable) return;\n",
              "\n",
              "          const docLinkHtml = 'Like what you see? Visit the ' +\n",
              "            '<a target=\"_blank\" href=https://colab.research.google.com/notebooks/data_table.ipynb>data table notebook</a>'\n",
              "            + ' to learn more about interactive tables.';\n",
              "          element.innerHTML = '';\n",
              "          dataTable['output_type'] = 'display_data';\n",
              "          await google.colab.output.renderOutput(dataTable, element);\n",
              "          const docLink = document.createElement('div');\n",
              "          docLink.innerHTML = docLinkHtml;\n",
              "          element.appendChild(docLink);\n",
              "        }\n",
              "      </script>\n",
              "    </div>\n",
              "  </div>\n",
              "  "
            ]
          },
          "metadata": {},
          "execution_count": 3
        }
      ]
    },
    {
      "cell_type": "code",
      "source": [
        "df['species'].value_counts()"
      ],
      "metadata": {
        "colab": {
          "base_uri": "https://localhost:8080/"
        },
        "id": "t6gsZAvmgiF6",
        "outputId": "16e959f7-5122-424d-c0dd-d339dec3ba72"
      },
      "execution_count": 4,
      "outputs": [
        {
          "output_type": "execute_result",
          "data": {
            "text/plain": [
              "setosa        50\n",
              "versicolor    50\n",
              "virginica     50\n",
              "Name: species, dtype: int64"
            ]
          },
          "metadata": {},
          "execution_count": 4
        }
      ]
    },
    {
      "cell_type": "code",
      "source": [
        "sns.countplot(df['species']);"
      ],
      "metadata": {
        "colab": {
          "base_uri": "https://localhost:8080/",
          "height": 443
        },
        "id": "ZF451ljcguAK",
        "outputId": "c08f5749-dcaf-4f50-b7d9-eed53d40240b"
      },
      "execution_count": 5,
      "outputs": [
        {
          "output_type": "stream",
          "name": "stderr",
          "text": [
            "/usr/local/lib/python3.7/dist-packages/seaborn/_decorators.py:43: FutureWarning: Pass the following variable as a keyword arg: x. From version 0.12, the only valid positional argument will be `data`, and passing other arguments without an explicit keyword will result in an error or misinterpretation.\n",
            "  FutureWarning\n"
          ]
        },
        {
          "output_type": "display_data",
          "data": {
            "text/plain": [
              "<Figure size 720x432 with 1 Axes>"
            ],
            "image/png": "[encoded data removed]"
          },
          "metadata": {}
        }
      ]
    },
    {
      "cell_type": "code",
      "source": [
        "sns.pairplot(df,hue='species'); # Already everyone know iris dataset lol"
      ],
      "metadata": {
        "colab": {
          "base_uri": "https://localhost:8080/",
          "height": 726
        },
        "id": "YK720TKMgvbf",
        "outputId": "c248a714-3a60-40e8-b212-75cba24efa27"
      },
      "execution_count": 6,
      "outputs": [
        {
          "output_type": "display_data",
          "data": {
            "text/plain": [
              "<Figure size 804.75x720 with 20 Axes>"
            ],
            "image/png": "[encoded data removed]"
          },
          "metadata": {}
        }
      ]
    },
    {
      "cell_type": "code",
      "source": [
        "sns.heatmap(df.corr(),annot=True);"
      ],
      "metadata": {
        "colab": {
          "base_uri": "https://localhost:8080/",
          "height": 379
        },
        "id": "Bsa6TWwmg0IM",
        "outputId": "c2bf4046-dedb-4b50-c139-9e5386d7bc6f"
      },
      "execution_count": 7,
      "outputs": [
        {
          "output_type": "display_data",
          "data": {
            "text/plain": [
              "<Figure size 720x432 with 2 Axes>"
            ],
            "image/png": "[encoded data removed]"
          },
          "metadata": {}
        }
      ]
    },
    {
      "cell_type": "code",
      "source": [
        "from tensorflow.keras.layers import Dense, Activation \n",
        "from tensorflow.keras.models import Sequential\n",
        "from tensorflow.keras.optimizers import Adam"
      ],
      "metadata": {
        "id": "oWhhoPH1g-Hj"
      },
      "execution_count": 8,
      "outputs": []
    },
    {
      "cell_type": "code",
      "source": [
        "#Splitting the data into training and test\n",
        "X = df.iloc[:,0:4].values\n",
        "y = df.iloc[:,4].values\n",
        "\n",
        "from sklearn.preprocessing import LabelEncoder\n",
        "encoder =  LabelEncoder()\n",
        "y1 = encoder.fit_transform(y)\n",
        "Y = pd.get_dummies(y1).values # We also do get dummies because we will use softmax."
      ],
      "metadata": {
        "id": "fREhLDMrhHxn"
      },
      "execution_count": 9,
      "outputs": []
    },
    {
      "cell_type": "code",
      "source": [
        "X[:5]"
      ],
      "metadata": {
        "colab": {
          "base_uri": "https://localhost:8080/"
        },
        "id": "i3-QPvqChaDi",
        "outputId": "c332091c-32c5-41e9-abd3-3f07d8eda93f"
      },
      "execution_count": 11,
      "outputs": [
        {
          "output_type": "execute_result",
          "data": {
            "text/plain": [
              "array([[5.1, 3.5, 1.4, 0.2],\n",
              "       [4.9, 3. , 1.4, 0.2],\n",
              "       [4.7, 3.2, 1.3, 0.2],\n",
              "       [4.6, 3.1, 1.5, 0.2],\n",
              "       [5. , 3.6, 1.4, 0.2]])"
            ]
          },
          "metadata": {},
          "execution_count": 11
        }
      ]
    },
    {
      "cell_type": "code",
      "source": [
        "y[:5]"
      ],
      "metadata": {
        "colab": {
          "base_uri": "https://localhost:8080/"
        },
        "id": "_X3l4RPjhcdw",
        "outputId": "540597c7-a2a5-4cb7-b371-6606dd779b00"
      },
      "execution_count": 12,
      "outputs": [
        {
          "output_type": "execute_result",
          "data": {
            "text/plain": [
              "array(['setosa', 'setosa', 'setosa', 'setosa', 'setosa'], dtype=object)"
            ]
          },
          "metadata": {},
          "execution_count": 12
        }
      ]
    },
    {
      "cell_type": "code",
      "source": [
        "y1[:5]"
      ],
      "metadata": {
        "colab": {
          "base_uri": "https://localhost:8080/"
        },
        "id": "5xrbR8h2hfjT",
        "outputId": "6427ce0f-6cd9-4093-eb8e-ad40e7cf38f5"
      },
      "execution_count": 16,
      "outputs": [
        {
          "output_type": "execute_result",
          "data": {
            "text/plain": [
              "array([0, 0, 0, 0, 0])"
            ]
          },
          "metadata": {},
          "execution_count": 16
        }
      ]
    },
    {
      "cell_type": "code",
      "source": [
        "Y[:5]"
      ],
      "metadata": {
        "colab": {
          "base_uri": "https://localhost:8080/"
        },
        "id": "J0ZKK2BghhXm",
        "outputId": "ab08a798-62a0-442c-d94e-9675dcc3cb15"
      },
      "execution_count": 18,
      "outputs": [
        {
          "output_type": "execute_result",
          "data": {
            "text/plain": [
              "array([[1, 0, 0],\n",
              "       [1, 0, 0],\n",
              "       [1, 0, 0],\n",
              "       [1, 0, 0],\n",
              "       [1, 0, 0]], dtype=uint8)"
            ]
          },
          "metadata": {},
          "execution_count": 18
        }
      ]
    },
    {
      "cell_type": "code",
      "source": [
        "from sklearn.model_selection import train_test_split\n",
        "X_train,X_test, y_train,y_test = train_test_split(X,Y,test_size=0.2,random_state=0) "
      ],
      "metadata": {
        "id": "Z5soKzV3hnFa"
      },
      "execution_count": 43,
      "outputs": []
    },
    {
      "cell_type": "code",
      "source": [
        "len(X_test)"
      ],
      "metadata": {
        "colab": {
          "base_uri": "https://localhost:8080/"
        },
        "id": "wuEZdndvhvqf",
        "outputId": "b940c1eb-0ea1-430b-d16d-641b697385ae"
      },
      "execution_count": 44,
      "outputs": [
        {
          "output_type": "execute_result",
          "data": {
            "text/plain": [
              "30"
            ]
          },
          "metadata": {},
          "execution_count": 44
        }
      ]
    },
    {
      "cell_type": "code",
      "source": [
        "model = Sequential()\n",
        "\n",
        "model.add(Dense(units=4,activation='relu'))\n",
        "model.add(Dense(units=8,activation='tanh'))\n",
        "model.add(Dense(units=6,activation='tanh'))\n",
        "model.add(Dense(units=3,activation='softmax')) # We do get dummies so we need 3 output nodes."
      ],
      "metadata": {
        "id": "iZLBTZLJhxkT"
      },
      "execution_count": 45,
      "outputs": []
    },
    {
      "cell_type": "code",
      "source": [
        "opt = Adam(learning_rate = 0.03)\n",
        "model.compile(optimizer = opt , loss = 'categorical_crossentropy' , metrics = ['accuracy'])"
      ],
      "metadata": {
        "id": "FS-0sT8miBHF"
      },
      "execution_count": 46,
      "outputs": []
    },
    {
      "cell_type": "code",
      "source": [
        "model.fit(X_train , y_train , epochs = 200 , batch_size = 15 )"
      ],
      "metadata": {
        "colab": {
          "base_uri": "https://localhost:8080/"
        },
        "id": "F3EAD9nniV0K",
        "outputId": "02643af9-b9a0-4570-93fd-a43f331f635e"
      },
      "execution_count": 47,
      "outputs": [
        {
          "output_type": "stream",
          "name": "stdout",
          "text": [
            "Epoch 1/200\n",
            "8/8 [==============================] - 0s 3ms/step - loss: 1.0373 - accuracy: 0.5000\n",
            "Epoch 2/200\n",
            "8/8 [==============================] - 0s 2ms/step - loss: 0.6275 - accuracy: 0.6917\n",
            "Epoch 3/200\n",
            "8/8 [==============================] - 0s 3ms/step - loss: 0.4943 - accuracy: 0.6917\n",
            "Epoch 4/200\n",
            "8/8 [==============================] - 0s 2ms/step - loss: 0.4620 - accuracy: 0.7333\n",
            "Epoch 5/200\n",
            "8/8 [==============================] - 0s 2ms/step - loss: 0.4195 - accuracy: 0.9083\n",
            "Epoch 6/200\n",
            "8/8 [==============================] - 0s 2ms/step - loss: 0.3763 - accuracy: 0.8750\n",
            "Epoch 7/200\n",
            "8/8 [==============================] - 0s 2ms/step - loss: 0.3017 - accuracy: 0.8917\n",
            "Epoch 8/200\n",
            "8/8 [==============================] - 0s 2ms/step - loss: 0.3186 - accuracy: 0.8583\n",
            "Epoch 9/200\n",
            "8/8 [==============================] - 0s 3ms/step - loss: 0.3598 - accuracy: 0.8000\n",
            "Epoch 10/200\n",
            "8/8 [==============================] - 0s 2ms/step - loss: 0.2766 - accuracy: 0.8667\n",
            "Epoch 11/200\n",
            "8/8 [==============================] - 0s 2ms/step - loss: 0.1772 - accuracy: 0.9333\n",
            "Epoch 12/200\n",
            "8/8 [==============================] - 0s 2ms/step - loss: 0.1320 - accuracy: 0.9750\n",
            "Epoch 13/200\n",
            "8/8 [==============================] - 0s 2ms/step - loss: 0.1694 - accuracy: 0.9333\n",
            "Epoch 14/200\n",
            "8/8 [==============================] - 0s 2ms/step - loss: 0.1705 - accuracy: 0.9417\n",
            "Epoch 15/200\n",
            "8/8 [==============================] - 0s 2ms/step - loss: 0.1463 - accuracy: 0.9333\n",
            "Epoch 16/200\n",
            "8/8 [==============================] - 0s 2ms/step - loss: 0.1649 - accuracy: 0.9250\n",
            "Epoch 17/200\n",
            "8/8 [==============================] - 0s 2ms/step - loss: 0.1051 - accuracy: 0.9583\n",
            "Epoch 18/200\n",
            "8/8 [==============================] - 0s 2ms/step - loss: 0.1052 - accuracy: 0.9667\n",
            "Epoch 19/200\n",
            "8/8 [==============================] - 0s 2ms/step - loss: 0.1309 - accuracy: 0.9500\n",
            "Epoch 20/200\n",
            "8/8 [==============================] - 0s 2ms/step - loss: 0.2336 - accuracy: 0.9083\n",
            "Epoch 21/200\n",
            "8/8 [==============================] - 0s 3ms/step - loss: 0.1432 - accuracy: 0.9417\n",
            "Epoch 22/200\n",
            "8/8 [==============================] - 0s 2ms/step - loss: 0.1047 - accuracy: 0.9583\n",
            "Epoch 23/200\n",
            "8/8 [==============================] - 0s 2ms/step - loss: 0.1069 - accuracy: 0.9667\n",
            "Epoch 24/200\n",
            "8/8 [==============================] - 0s 2ms/step - loss: 0.0893 - accuracy: 0.9583\n",
            "Epoch 25/200\n",
            "8/8 [==============================] - 0s 2ms/step - loss: 0.1233 - accuracy: 0.9417\n",
            "Epoch 26/200\n",
            "8/8 [==============================] - 0s 2ms/step - loss: 0.0861 - accuracy: 0.9583\n",
            "Epoch 27/200\n",
            "8/8 [==============================] - 0s 3ms/step - loss: 0.0861 - accuracy: 0.9500\n",
            "Epoch 28/200\n",
            "8/8 [==============================] - 0s 2ms/step - loss: 0.0811 - accuracy: 0.9750\n",
            "Epoch 29/200\n",
            "8/8 [==============================] - 0s 2ms/step - loss: 0.0997 - accuracy: 0.9583\n",
            "Epoch 30/200\n",
            "8/8 [==============================] - 0s 2ms/step - loss: 0.2106 - accuracy: 0.9167\n",
            "Epoch 31/200\n",
            "8/8 [==============================] - 0s 2ms/step - loss: 0.2720 - accuracy: 0.9000\n",
            "Epoch 32/200\n",
            "8/8 [==============================] - 0s 2ms/step - loss: 0.1693 - accuracy: 0.9500\n",
            "Epoch 33/200\n",
            "8/8 [==============================] - 0s 2ms/step - loss: 0.0879 - accuracy: 0.9667\n",
            "Epoch 34/200\n",
            "8/8 [==============================] - 0s 2ms/step - loss: 0.1145 - accuracy: 0.9417\n",
            "Epoch 35/200\n",
            "8/8 [==============================] - 0s 2ms/step - loss: 0.0774 - accuracy: 0.9667\n",
            "Epoch 36/200\n",
            "8/8 [==============================] - 0s 2ms/step - loss: 0.1019 - accuracy: 0.9500\n",
            "Epoch 37/200\n",
            "8/8 [==============================] - 0s 2ms/step - loss: 0.0755 - accuracy: 0.9750\n",
            "Epoch 38/200\n",
            "8/8 [==============================] - 0s 2ms/step - loss: 0.1557 - accuracy: 0.9167\n",
            "Epoch 39/200\n",
            "8/8 [==============================] - 0s 2ms/step - loss: 0.1482 - accuracy: 0.9583\n",
            "Epoch 40/200\n",
            "8/8 [==============================] - 0s 2ms/step - loss: 0.1493 - accuracy: 0.9583\n",
            "Epoch 41/200\n",
            "8/8 [==============================] - 0s 2ms/step - loss: 0.0905 - accuracy: 0.9583\n",
            "Epoch 42/200\n",
            "8/8 [==============================] - 0s 2ms/step - loss: 0.0905 - accuracy: 0.9667\n",
            "Epoch 43/200\n",
            "8/8 [==============================] - 0s 2ms/step - loss: 0.1108 - accuracy: 0.9417\n",
            "Epoch 44/200\n",
            "8/8 [==============================] - 0s 2ms/step - loss: 0.0813 - accuracy: 0.9667\n",
            "Epoch 45/200\n",
            "8/8 [==============================] - 0s 2ms/step - loss: 0.0784 - accuracy: 0.9667\n",
            "Epoch 46/200\n",
            "8/8 [==============================] - 0s 2ms/step - loss: 0.1260 - accuracy: 0.9500\n",
            "Epoch 47/200\n",
            "8/8 [==============================] - 0s 2ms/step - loss: 0.1071 - accuracy: 0.9417\n",
            "Epoch 48/200\n",
            "8/8 [==============================] - 0s 3ms/step - loss: 0.0791 - accuracy: 0.9667\n",
            "Epoch 49/200\n",
            "8/8 [==============================] - 0s 2ms/step - loss: 0.0716 - accuracy: 0.9583\n",
            "Epoch 50/200\n",
            "8/8 [==============================] - 0s 3ms/step - loss: 0.0792 - accuracy: 0.9583\n",
            "Epoch 51/200\n",
            "8/8 [==============================] - 0s 2ms/step - loss: 0.1180 - accuracy: 0.9333\n",
            "Epoch 52/200\n",
            "8/8 [==============================] - 0s 2ms/step - loss: 0.1284 - accuracy: 0.9667\n",
            "Epoch 53/200\n",
            "8/8 [==============================] - 0s 2ms/step - loss: 0.1142 - accuracy: 0.9500\n",
            "Epoch 54/200\n",
            "8/8 [==============================] - 0s 2ms/step - loss: 0.0568 - accuracy: 0.9833\n",
            "Epoch 55/200\n",
            "8/8 [==============================] - 0s 2ms/step - loss: 0.0711 - accuracy: 0.9750\n",
            "Epoch 56/200\n",
            "8/8 [==============================] - 0s 2ms/step - loss: 0.2029 - accuracy: 0.9250\n",
            "Epoch 57/200\n",
            "8/8 [==============================] - 0s 2ms/step - loss: 0.1322 - accuracy: 0.9583\n",
            "Epoch 58/200\n",
            "8/8 [==============================] - 0s 2ms/step - loss: 0.0679 - accuracy: 0.9667\n",
            "Epoch 59/200\n",
            "8/8 [==============================] - 0s 2ms/step - loss: 0.0805 - accuracy: 0.9750\n",
            "Epoch 60/200\n",
            "8/8 [==============================] - 0s 2ms/step - loss: 0.0972 - accuracy: 0.9583\n",
            "Epoch 61/200\n",
            "8/8 [==============================] - 0s 2ms/step - loss: 0.0647 - accuracy: 0.9750\n",
            "Epoch 62/200\n",
            "8/8 [==============================] - 0s 2ms/step - loss: 0.0768 - accuracy: 0.9667\n",
            "Epoch 63/200\n",
            "8/8 [==============================] - 0s 3ms/step - loss: 0.0854 - accuracy: 0.9583\n",
            "Epoch 64/200\n",
            "8/8 [==============================] - 0s 2ms/step - loss: 0.0578 - accuracy: 0.9750\n",
            "Epoch 65/200\n",
            "8/8 [==============================] - 0s 2ms/step - loss: 0.1089 - accuracy: 0.9417\n",
            "Epoch 66/200\n",
            "8/8 [==============================] - 0s 2ms/step - loss: 0.0825 - accuracy: 0.9667\n",
            "Epoch 67/200\n",
            "8/8 [==============================] - 0s 2ms/step - loss: 0.0675 - accuracy: 0.9750\n",
            "Epoch 68/200\n",
            "8/8 [==============================] - 0s 2ms/step - loss: 0.0808 - accuracy: 0.9667\n",
            "Epoch 69/200\n",
            "8/8 [==============================] - 0s 2ms/step - loss: 0.0799 - accuracy: 0.9583\n",
            "Epoch 70/200\n",
            "8/8 [==============================] - 0s 3ms/step - loss: 0.1104 - accuracy: 0.9667\n",
            "Epoch 71/200\n",
            "8/8 [==============================] - 0s 2ms/step - loss: 0.1886 - accuracy: 0.9333\n",
            "Epoch 72/200\n",
            "8/8 [==============================] - 0s 2ms/step - loss: 0.0845 - accuracy: 0.9667\n",
            "Epoch 73/200\n",
            "8/8 [==============================] - 0s 2ms/step - loss: 0.1468 - accuracy: 0.9500\n",
            "Epoch 74/200\n",
            "8/8 [==============================] - 0s 2ms/step - loss: 0.0793 - accuracy: 0.9583\n",
            "Epoch 75/200\n",
            "8/8 [==============================] - 0s 2ms/step - loss: 0.0640 - accuracy: 0.9750\n",
            "Epoch 76/200\n",
            "8/8 [==============================] - 0s 2ms/step - loss: 0.0671 - accuracy: 0.9667\n",
            "Epoch 77/200\n",
            "8/8 [==============================] - 0s 2ms/step - loss: 0.1193 - accuracy: 0.9667\n",
            "Epoch 78/200\n",
            "8/8 [==============================] - 0s 2ms/step - loss: 0.0938 - accuracy: 0.9750\n",
            "Epoch 79/200\n",
            "8/8 [==============================] - 0s 2ms/step - loss: 0.1301 - accuracy: 0.9500\n",
            "Epoch 80/200\n",
            "8/8 [==============================] - 0s 2ms/step - loss: 0.0606 - accuracy: 0.9917\n",
            "Epoch 81/200\n",
            "8/8 [==============================] - 0s 2ms/step - loss: 0.0831 - accuracy: 0.9667\n",
            "Epoch 82/200\n",
            "8/8 [==============================] - 0s 2ms/step - loss: 0.0728 - accuracy: 0.9667\n",
            "Epoch 83/200\n",
            "8/8 [==============================] - 0s 2ms/step - loss: 0.0581 - accuracy: 0.9750\n",
            "Epoch 84/200\n",
            "8/8 [==============================] - 0s 2ms/step - loss: 0.0880 - accuracy: 0.9667\n",
            "Epoch 85/200\n",
            "8/8 [==============================] - 0s 2ms/step - loss: 0.0691 - accuracy: 0.9833\n",
            "Epoch 86/200\n",
            "8/8 [==============================] - 0s 2ms/step - loss: 0.1041 - accuracy: 0.9417\n",
            "Epoch 87/200\n",
            "8/8 [==============================] - 0s 3ms/step - loss: 0.1491 - accuracy: 0.9417\n",
            "Epoch 88/200\n",
            "8/8 [==============================] - 0s 2ms/step - loss: 0.1148 - accuracy: 0.9750\n",
            "Epoch 89/200\n",
            "8/8 [==============================] - 0s 2ms/step - loss: 0.1386 - accuracy: 0.9500\n",
            "Epoch 90/200\n",
            "8/8 [==============================] - 0s 3ms/step - loss: 0.0858 - accuracy: 0.9667\n",
            "Epoch 91/200\n",
            "8/8 [==============================] - 0s 2ms/step - loss: 0.0656 - accuracy: 0.9750\n",
            "Epoch 92/200\n",
            "8/8 [==============================] - 0s 3ms/step - loss: 0.0600 - accuracy: 0.9750\n",
            "Epoch 93/200\n",
            "8/8 [==============================] - 0s 2ms/step - loss: 0.0564 - accuracy: 0.9833\n",
            "Epoch 94/200\n",
            "8/8 [==============================] - 0s 2ms/step - loss: 0.0907 - accuracy: 0.9417\n",
            "Epoch 95/200\n",
            "8/8 [==============================] - 0s 2ms/step - loss: 0.0863 - accuracy: 0.9750\n",
            "Epoch 96/200\n",
            "8/8 [==============================] - 0s 2ms/step - loss: 0.1384 - accuracy: 0.9583\n",
            "Epoch 97/200\n",
            "8/8 [==============================] - 0s 2ms/step - loss: 0.0861 - accuracy: 0.9750\n",
            "Epoch 98/200\n",
            "8/8 [==============================] - 0s 2ms/step - loss: 0.2023 - accuracy: 0.9250\n",
            "Epoch 99/200\n",
            "8/8 [==============================] - 0s 3ms/step - loss: 0.1159 - accuracy: 0.9417\n",
            "Epoch 100/200\n",
            "8/8 [==============================] - 0s 2ms/step - loss: 0.1591 - accuracy: 0.9333\n",
            "Epoch 101/200\n",
            "8/8 [==============================] - 0s 2ms/step - loss: 0.0963 - accuracy: 0.9750\n",
            "Epoch 102/200\n",
            "8/8 [==============================] - 0s 2ms/step - loss: 0.1115 - accuracy: 0.9417\n",
            "Epoch 103/200\n",
            "8/8 [==============================] - 0s 3ms/step - loss: 0.0661 - accuracy: 0.9667\n",
            "Epoch 104/200\n",
            "8/8 [==============================] - 0s 2ms/step - loss: 0.0748 - accuracy: 0.9583\n",
            "Epoch 105/200\n",
            "8/8 [==============================] - 0s 2ms/step - loss: 0.1938 - accuracy: 0.9250\n",
            "Epoch 106/200\n",
            "8/8 [==============================] - 0s 2ms/step - loss: 0.1370 - accuracy: 0.9500\n",
            "Epoch 107/200\n",
            "8/8 [==============================] - 0s 2ms/step - loss: 0.0977 - accuracy: 0.9583\n",
            "Epoch 108/200\n",
            "8/8 [==============================] - 0s 2ms/step - loss: 0.0735 - accuracy: 0.9833\n",
            "Epoch 109/200\n",
            "8/8 [==============================] - 0s 2ms/step - loss: 0.0658 - accuracy: 0.9667\n",
            "Epoch 110/200\n",
            "8/8 [==============================] - 0s 3ms/step - loss: 0.0663 - accuracy: 0.9750\n",
            "Epoch 111/200\n",
            "8/8 [==============================] - 0s 2ms/step - loss: 0.1054 - accuracy: 0.9583\n",
            "Epoch 112/200\n",
            "8/8 [==============================] - 0s 2ms/step - loss: 0.0597 - accuracy: 0.9750\n",
            "Epoch 113/200\n",
            "8/8 [==============================] - 0s 2ms/step - loss: 0.0665 - accuracy: 0.9667\n",
            "Epoch 114/200\n",
            "8/8 [==============================] - 0s 2ms/step - loss: 0.0624 - accuracy: 0.9750\n",
            "Epoch 115/200\n",
            "8/8 [==============================] - 0s 2ms/step - loss: 0.0646 - accuracy: 0.9750\n",
            "Epoch 116/200\n",
            "8/8 [==============================] - 0s 2ms/step - loss: 0.0668 - accuracy: 0.9750\n",
            "Epoch 117/200\n",
            "8/8 [==============================] - 0s 2ms/step - loss: 0.0565 - accuracy: 0.9750\n",
            "Epoch 118/200\n",
            "8/8 [==============================] - 0s 2ms/step - loss: 0.0553 - accuracy: 0.9750\n",
            "Epoch 119/200\n",
            "8/8 [==============================] - 0s 2ms/step - loss: 0.1196 - accuracy: 0.9417\n",
            "Epoch 120/200\n",
            "8/8 [==============================] - 0s 2ms/step - loss: 0.0832 - accuracy: 0.9667\n",
            "Epoch 121/200\n",
            "8/8 [==============================] - 0s 2ms/step - loss: 0.0519 - accuracy: 0.9833\n",
            "Epoch 122/200\n",
            "8/8 [==============================] - 0s 2ms/step - loss: 0.0804 - accuracy: 0.9583\n",
            "Epoch 123/200\n",
            "8/8 [==============================] - 0s 2ms/step - loss: 0.0629 - accuracy: 0.9750\n",
            "Epoch 124/200\n",
            "8/8 [==============================] - 0s 2ms/step - loss: 0.0677 - accuracy: 0.9833\n",
            "Epoch 125/200\n",
            "8/8 [==============================] - 0s 2ms/step - loss: 0.1137 - accuracy: 0.9583\n",
            "Epoch 126/200\n",
            "8/8 [==============================] - 0s 2ms/step - loss: 0.0916 - accuracy: 0.9667\n",
            "Epoch 127/200\n",
            "8/8 [==============================] - 0s 3ms/step - loss: 0.0846 - accuracy: 0.9583\n",
            "Epoch 128/200\n",
            "8/8 [==============================] - 0s 2ms/step - loss: 0.0764 - accuracy: 0.9667\n",
            "Epoch 129/200\n",
            "8/8 [==============================] - 0s 3ms/step - loss: 0.0625 - accuracy: 0.9750\n",
            "Epoch 130/200\n",
            "8/8 [==============================] - 0s 2ms/step - loss: 0.0780 - accuracy: 0.9667\n",
            "Epoch 131/200\n",
            "8/8 [==============================] - 0s 2ms/step - loss: 0.0619 - accuracy: 0.9833\n",
            "Epoch 132/200\n",
            "8/8 [==============================] - 0s 2ms/step - loss: 0.0754 - accuracy: 0.9667\n",
            "Epoch 133/200\n",
            "8/8 [==============================] - 0s 2ms/step - loss: 0.0648 - accuracy: 0.9750\n",
            "Epoch 134/200\n",
            "8/8 [==============================] - 0s 2ms/step - loss: 0.0768 - accuracy: 0.9583\n",
            "Epoch 135/200\n",
            "8/8 [==============================] - 0s 2ms/step - loss: 0.0941 - accuracy: 0.9583\n",
            "Epoch 136/200\n",
            "8/8 [==============================] - 0s 2ms/step - loss: 0.0610 - accuracy: 0.9667\n",
            "Epoch 137/200\n",
            "8/8 [==============================] - 0s 2ms/step - loss: 0.0866 - accuracy: 0.9500\n",
            "Epoch 138/200\n",
            "8/8 [==============================] - 0s 2ms/step - loss: 0.0844 - accuracy: 0.9667\n",
            "Epoch 139/200\n",
            "8/8 [==============================] - 0s 2ms/step - loss: 0.0610 - accuracy: 0.9750\n",
            "Epoch 140/200\n",
            "8/8 [==============================] - 0s 2ms/step - loss: 0.0614 - accuracy: 0.9750\n",
            "Epoch 141/200\n",
            "8/8 [==============================] - 0s 2ms/step - loss: 0.0554 - accuracy: 0.9750\n",
            "Epoch 142/200\n",
            "8/8 [==============================] - 0s 2ms/step - loss: 0.0637 - accuracy: 0.9750\n",
            "Epoch 143/200\n",
            "8/8 [==============================] - 0s 2ms/step - loss: 0.0813 - accuracy: 0.9667\n",
            "Epoch 144/200\n",
            "8/8 [==============================] - 0s 2ms/step - loss: 0.0466 - accuracy: 0.9833\n",
            "Epoch 145/200\n",
            "8/8 [==============================] - 0s 2ms/step - loss: 0.0543 - accuracy: 0.9667\n",
            "Epoch 146/200\n",
            "8/8 [==============================] - 0s 2ms/step - loss: 0.0725 - accuracy: 0.9667\n",
            "Epoch 147/200\n",
            "8/8 [==============================] - 0s 2ms/step - loss: 0.0578 - accuracy: 0.9750\n",
            "Epoch 148/200\n",
            "8/8 [==============================] - 0s 2ms/step - loss: 0.0582 - accuracy: 0.9833\n",
            "Epoch 149/200\n",
            "8/8 [==============================] - 0s 2ms/step - loss: 0.0764 - accuracy: 0.9583\n",
            "Epoch 150/200\n",
            "8/8 [==============================] - 0s 2ms/step - loss: 0.0590 - accuracy: 0.9750\n",
            "Epoch 151/200\n",
            "8/8 [==============================] - 0s 2ms/step - loss: 0.0580 - accuracy: 0.9750\n",
            "Epoch 152/200\n",
            "8/8 [==============================] - 0s 2ms/step - loss: 0.0617 - accuracy: 0.9667\n",
            "Epoch 153/200\n",
            "8/8 [==============================] - 0s 2ms/step - loss: 0.0790 - accuracy: 0.9667\n",
            "Epoch 154/200\n",
            "8/8 [==============================] - 0s 2ms/step - loss: 0.0695 - accuracy: 0.9750\n",
            "Epoch 155/200\n",
            "8/8 [==============================] - 0s 2ms/step - loss: 0.1318 - accuracy: 0.9500\n",
            "Epoch 156/200\n",
            "8/8 [==============================] - 0s 2ms/step - loss: 0.1260 - accuracy: 0.9417\n",
            "Epoch 157/200\n",
            "8/8 [==============================] - 0s 2ms/step - loss: 0.1188 - accuracy: 0.9667\n",
            "Epoch 158/200\n",
            "8/8 [==============================] - 0s 2ms/step - loss: 0.1020 - accuracy: 0.9583\n",
            "Epoch 159/200\n",
            "8/8 [==============================] - 0s 2ms/step - loss: 0.0773 - accuracy: 0.9667\n",
            "Epoch 160/200\n",
            "8/8 [==============================] - 0s 2ms/step - loss: 0.0687 - accuracy: 0.9667\n",
            "Epoch 161/200\n",
            "8/8 [==============================] - 0s 2ms/step - loss: 0.0769 - accuracy: 0.9667\n",
            "Epoch 162/200\n",
            "8/8 [==============================] - 0s 2ms/step - loss: 0.1465 - accuracy: 0.9333\n",
            "Epoch 163/200\n",
            "8/8 [==============================] - 0s 2ms/step - loss: 0.1126 - accuracy: 0.9583\n",
            "Epoch 164/200\n",
            "8/8 [==============================] - 0s 2ms/step - loss: 0.0885 - accuracy: 0.9583\n",
            "Epoch 165/200\n",
            "8/8 [==============================] - 0s 2ms/step - loss: 0.0655 - accuracy: 0.9750\n",
            "Epoch 166/200\n",
            "8/8 [==============================] - 0s 2ms/step - loss: 0.0833 - accuracy: 0.9583\n",
            "Epoch 167/200\n",
            "8/8 [==============================] - 0s 2ms/step - loss: 0.0748 - accuracy: 0.9750\n",
            "Epoch 168/200\n",
            "8/8 [==============================] - 0s 2ms/step - loss: 0.0615 - accuracy: 0.9833\n",
            "Epoch 169/200\n",
            "8/8 [==============================] - 0s 3ms/step - loss: 0.0590 - accuracy: 0.9750\n",
            "Epoch 170/200\n",
            "8/8 [==============================] - 0s 2ms/step - loss: 0.0593 - accuracy: 0.9667\n",
            "Epoch 171/200\n",
            "8/8 [==============================] - 0s 2ms/step - loss: 0.1067 - accuracy: 0.9417\n",
            "Epoch 172/200\n",
            "8/8 [==============================] - 0s 2ms/step - loss: 0.1952 - accuracy: 0.9250\n",
            "Epoch 173/200\n",
            "8/8 [==============================] - 0s 3ms/step - loss: 0.1687 - accuracy: 0.9333\n",
            "Epoch 174/200\n",
            "8/8 [==============================] - 0s 2ms/step - loss: 0.1067 - accuracy: 0.9583\n",
            "Epoch 175/200\n",
            "8/8 [==============================] - 0s 3ms/step - loss: 0.0649 - accuracy: 0.9750\n",
            "Epoch 176/200\n",
            "8/8 [==============================] - 0s 2ms/step - loss: 0.0655 - accuracy: 0.9667\n",
            "Epoch 177/200\n",
            "8/8 [==============================] - 0s 2ms/step - loss: 0.0900 - accuracy: 0.9750\n",
            "Epoch 178/200\n",
            "8/8 [==============================] - 0s 2ms/step - loss: 0.1190 - accuracy: 0.9667\n",
            "Epoch 179/200\n",
            "8/8 [==============================] - 0s 2ms/step - loss: 0.2336 - accuracy: 0.9000\n",
            "Epoch 180/200\n",
            "8/8 [==============================] - 0s 2ms/step - loss: 0.2017 - accuracy: 0.8833\n",
            "Epoch 181/200\n",
            "8/8 [==============================] - 0s 2ms/step - loss: 0.1328 - accuracy: 0.9500\n",
            "Epoch 182/200\n",
            "8/8 [==============================] - 0s 2ms/step - loss: 0.1023 - accuracy: 0.9333\n",
            "Epoch 183/200\n",
            "8/8 [==============================] - 0s 2ms/step - loss: 0.1015 - accuracy: 0.9667\n",
            "Epoch 184/200\n",
            "8/8 [==============================] - 0s 2ms/step - loss: 0.0799 - accuracy: 0.9667\n",
            "Epoch 185/200\n",
            "8/8 [==============================] - 0s 3ms/step - loss: 0.0772 - accuracy: 0.9750\n",
            "Epoch 186/200\n",
            "8/8 [==============================] - 0s 2ms/step - loss: 0.1222 - accuracy: 0.9417\n",
            "Epoch 187/200\n",
            "8/8 [==============================] - 0s 2ms/step - loss: 0.1128 - accuracy: 0.9750\n",
            "Epoch 188/200\n",
            "8/8 [==============================] - 0s 2ms/step - loss: 0.1452 - accuracy: 0.9500\n",
            "Epoch 189/200\n",
            "8/8 [==============================] - 0s 2ms/step - loss: 0.1072 - accuracy: 0.9750\n",
            "Epoch 190/200\n",
            "8/8 [==============================] - 0s 2ms/step - loss: 0.1656 - accuracy: 0.9417\n",
            "Epoch 191/200\n",
            "8/8 [==============================] - 0s 2ms/step - loss: 0.0920 - accuracy: 0.9583\n",
            "Epoch 192/200\n",
            "8/8 [==============================] - 0s 3ms/step - loss: 0.0972 - accuracy: 0.9667\n",
            "Epoch 193/200\n",
            "8/8 [==============================] - 0s 2ms/step - loss: 0.0662 - accuracy: 0.9667\n",
            "Epoch 194/200\n",
            "8/8 [==============================] - 0s 2ms/step - loss: 0.0652 - accuracy: 0.9583\n",
            "Epoch 195/200\n",
            "8/8 [==============================] - 0s 2ms/step - loss: 0.0616 - accuracy: 0.9833\n",
            "Epoch 196/200\n",
            "8/8 [==============================] - 0s 2ms/step - loss: 0.0945 - accuracy: 0.9583\n",
            "Epoch 197/200\n",
            "8/8 [==============================] - 0s 2ms/step - loss: 0.1028 - accuracy: 0.9583\n",
            "Epoch 198/200\n",
            "8/8 [==============================] - 0s 2ms/step - loss: 0.0656 - accuracy: 0.9833\n",
            "Epoch 199/200\n",
            "8/8 [==============================] - 0s 2ms/step - loss: 0.0759 - accuracy: 0.9750\n",
            "Epoch 200/200\n",
            "8/8 [==============================] - 0s 2ms/step - loss: 0.1200 - accuracy: 0.9583\n"
          ]
        },
        {
          "output_type": "execute_result",
          "data": {
            "text/plain": [
              "<keras.callbacks.History at 0x7fee85772190>"
            ]
          },
          "metadata": {},
          "execution_count": 47
        }
      ]
    },
    {
      "cell_type": "code",
      "source": [
        "model.summary() "
      ],
      "metadata": {
        "colab": {
          "base_uri": "https://localhost:8080/"
        },
        "id": "jKtcGcmnijB3",
        "outputId": "818a4fe0-df36-4442-d539-4f56923e344f"
      },
      "execution_count": 48,
      "outputs": [
        {
          "output_type": "stream",
          "name": "stdout",
          "text": [
            "Model: \"sequential_1\"\n",
            "_________________________________________________________________\n",
            " Layer (type)                Output Shape              Param #   \n",
            "=================================================================\n",
            " dense_4 (Dense)             (15, 4)                   20        \n",
            "                                                                 \n",
            " dense_5 (Dense)             (15, 8)                   40        \n",
            "                                                                 \n",
            " dense_6 (Dense)             (15, 6)                   54        \n",
            "                                                                 \n",
            " dense_7 (Dense)             (15, 3)                   21        \n",
            "                                                                 \n",
            "=================================================================\n",
            "Total params: 135\n",
            "Trainable params: 135\n",
            "Non-trainable params: 0\n",
            "_________________________________________________________________\n"
          ]
        }
      ]
    },
    {
      "cell_type": "code",
      "source": [
        "y_pred = model.predict(X_test)\n",
        "\n",
        "y_test_class = np.argmax(y_test,axis=1)\n",
        "y_pred_class = np.argmax(y_pred,axis=1)"
      ],
      "metadata": {
        "colab": {
          "base_uri": "https://localhost:8080/"
        },
        "id": "Y25-4XmWi1Uc",
        "outputId": "d6f0608b-d087-4ad3-9116-87c7c829a38f"
      },
      "execution_count": 49,
      "outputs": [
        {
          "output_type": "stream",
          "name": "stdout",
          "text": [
            "1/1 [==============================] - 0s 68ms/step\n"
          ]
        }
      ]
    },
    {
      "cell_type": "code",
      "source": [
        "from sklearn.metrics import classification_report,confusion_matrix\n",
        "\n",
        "print(classification_report(y_test_class,y_pred_class))\n",
        "print(confusion_matrix(y_test_class,y_pred_class))"
      ],
      "metadata": {
        "colab": {
          "base_uri": "https://localhost:8080/"
        },
        "id": "YeVrY3MBi9uu",
        "outputId": "a9a2ffcc-6be2-442a-9f28-8cd352ca547c"
      },
      "execution_count": 50,
      "outputs": [
        {
          "output_type": "stream",
          "name": "stdout",
          "text": [
            "              precision    recall  f1-score   support\n",
            "\n",
            "           0       1.00      1.00      1.00        11\n",
            "           1       1.00      1.00      1.00        13\n",
            "           2       1.00      1.00      1.00         6\n",
            "\n",
            "    accuracy                           1.00        30\n",
            "   macro avg       1.00      1.00      1.00        30\n",
            "weighted avg       1.00      1.00      1.00        30\n",
            "\n",
            "[[11  0  0]\n",
            " [ 0 13  0]\n",
            " [ 0  0  6]]\n"
          ]
        }
      ]
    },
    {
      "cell_type": "code",
      "source": [
        "from tensorflow.keras.callbacks import EarlyStopping # It will effect very bad because small data.\n",
        "from tensorflow.keras.layers import Dropout # This is the same."
      ],
      "metadata": {
        "id": "X0ORIvr8jBZO"
      },
      "execution_count": 51,
      "outputs": []
    },
    {
      "cell_type": "code",
      "source": [
        "model = Sequential()\n",
        "\n",
        "model.add(Dense(units=4,activation='relu'))\n",
        "model.add(Dropout(0.5))\n",
        "model.add(Dense(units=8,activation='tanh'))\n",
        "model.add(Dropout(0.4))\n",
        "model.add(Dense(units=6,activation='tanh'))\n",
        "model.add(Dropout(0.2))\n",
        "model.add(Dense(units=3,activation='softmax'))"
      ],
      "metadata": {
        "id": "3j3M0_tOjyxp"
      },
      "execution_count": 52,
      "outputs": []
    },
    {
      "cell_type": "code",
      "source": [
        "opt = Adam(learning_rate = 0.006)                              \n",
        "model.compile(optimizer = opt, loss = \"categorical_crossentropy\", metrics=['accuracy']) "
      ],
      "metadata": {
        "id": "rzRrdyyRj6tJ"
      },
      "execution_count": 53,
      "outputs": []
    },
    {
      "cell_type": "code",
      "source": [
        "early_stop = EarlyStopping(monitor = \"accuracy\", mode = \"auto\", verbose = 1, patience = 35) "
      ],
      "metadata": {
        "id": "6WwHbak4j-NV"
      },
      "execution_count": 54,
      "outputs": []
    },
    {
      "cell_type": "code",
      "source": [
        "model.fit(x = X_train, y = y_train,batch_size= 30, epochs=150, callbacks = [early_stop])"
      ],
      "metadata": {
        "colab": {
          "base_uri": "https://localhost:8080/"
        },
        "id": "Jz7LKcSDj_NT",
        "outputId": "5361137a-31f7-4d88-f6f4-2e7b94b1da3c"
      },
      "execution_count": 55,
      "outputs": [
        {
          "output_type": "stream",
          "name": "stdout",
          "text": [
            "Epoch 1/150\n",
            "4/4 [==============================] - 0s 4ms/step - loss: 1.1331 - accuracy: 0.3333\n",
            "Epoch 2/150\n",
            "4/4 [==============================] - 0s 4ms/step - loss: 1.1278 - accuracy: 0.3167\n",
            "Epoch 3/150\n",
            "4/4 [==============================] - 0s 4ms/step - loss: 1.0983 - accuracy: 0.3583\n",
            "Epoch 4/150\n",
            "4/4 [==============================] - 0s 4ms/step - loss: 1.1416 - accuracy: 0.3583\n",
            "Epoch 5/150\n",
            "4/4 [==============================] - 0s 3ms/step - loss: 1.1487 - accuracy: 0.3250\n",
            "Epoch 6/150\n",
            "4/4 [==============================] - 0s 4ms/step - loss: 1.1467 - accuracy: 0.2750\n",
            "Epoch 7/150\n",
            "4/4 [==============================] - 0s 4ms/step - loss: 1.1232 - accuracy: 0.3333\n",
            "Epoch 8/150\n",
            "4/4 [==============================] - 0s 4ms/step - loss: 1.1134 - accuracy: 0.3167\n",
            "Epoch 9/150\n",
            "4/4 [==============================] - 0s 3ms/step - loss: 1.1153 - accuracy: 0.4000\n",
            "Epoch 10/150\n",
            "4/4 [==============================] - 0s 3ms/step - loss: 1.1200 - accuracy: 0.3750\n",
            "Epoch 11/150\n",
            "4/4 [==============================] - 0s 4ms/step - loss: 1.1358 - accuracy: 0.3250\n",
            "Epoch 12/150\n",
            "4/4 [==============================] - 0s 4ms/step - loss: 1.1003 - accuracy: 0.3583\n",
            "Epoch 13/150\n",
            "4/4 [==============================] - 0s 3ms/step - loss: 1.1098 - accuracy: 0.3917\n",
            "Epoch 14/150\n",
            "4/4 [==============================] - 0s 3ms/step - loss: 1.1293 - accuracy: 0.3500\n",
            "Epoch 15/150\n",
            "4/4 [==============================] - 0s 3ms/step - loss: 1.1288 - accuracy: 0.3417\n",
            "Epoch 16/150\n",
            "4/4 [==============================] - 0s 3ms/step - loss: 1.0931 - accuracy: 0.3333\n",
            "Epoch 17/150\n",
            "4/4 [==============================] - 0s 3ms/step - loss: 1.1015 - accuracy: 0.3750\n",
            "Epoch 18/150\n",
            "4/4 [==============================] - 0s 3ms/step - loss: 1.1198 - accuracy: 0.3083\n",
            "Epoch 19/150\n",
            "4/4 [==============================] - 0s 3ms/step - loss: 1.1043 - accuracy: 0.3250\n",
            "Epoch 20/150\n",
            "4/4 [==============================] - 0s 3ms/step - loss: 1.1217 - accuracy: 0.3583\n",
            "Epoch 21/150\n",
            "4/4 [==============================] - 0s 3ms/step - loss: 1.0942 - accuracy: 0.3833\n",
            "Epoch 22/150\n",
            "4/4 [==============================] - 0s 3ms/step - loss: 1.0971 - accuracy: 0.3750\n",
            "Epoch 23/150\n",
            "4/4 [==============================] - 0s 3ms/step - loss: 1.1045 - accuracy: 0.3333\n",
            "Epoch 24/150\n",
            "4/4 [==============================] - 0s 3ms/step - loss: 1.0902 - accuracy: 0.4083\n",
            "Epoch 25/150\n",
            "4/4 [==============================] - 0s 3ms/step - loss: 1.0945 - accuracy: 0.3583\n",
            "Epoch 26/150\n",
            "4/4 [==============================] - 0s 3ms/step - loss: 1.0966 - accuracy: 0.3500\n",
            "Epoch 27/150\n",
            "4/4 [==============================] - 0s 3ms/step - loss: 1.0895 - accuracy: 0.3917\n",
            "Epoch 28/150\n",
            "4/4 [==============================] - 0s 3ms/step - loss: 1.0958 - accuracy: 0.3917\n",
            "Epoch 29/150\n",
            "4/4 [==============================] - 0s 3ms/step - loss: 1.0942 - accuracy: 0.3917\n",
            "Epoch 30/150\n",
            "4/4 [==============================] - 0s 3ms/step - loss: 1.0889 - accuracy: 0.4333\n",
            "Epoch 31/150\n",
            "4/4 [==============================] - 0s 3ms/step - loss: 1.0845 - accuracy: 0.4417\n",
            "Epoch 32/150\n",
            "4/4 [==============================] - 0s 3ms/step - loss: 1.0786 - accuracy: 0.4917\n",
            "Epoch 33/150\n",
            "4/4 [==============================] - 0s 3ms/step - loss: 1.0795 - accuracy: 0.4583\n",
            "Epoch 34/150\n",
            "4/4 [==============================] - 0s 3ms/step - loss: 1.0494 - accuracy: 0.5250\n",
            "Epoch 35/150\n",
            "4/4 [==============================] - 0s 3ms/step - loss: 1.0546 - accuracy: 0.4833\n",
            "Epoch 36/150\n",
            "4/4 [==============================] - 0s 3ms/step - loss: 1.0516 - accuracy: 0.4750\n",
            "Epoch 37/150\n",
            "4/4 [==============================] - 0s 4ms/step - loss: 1.0418 - accuracy: 0.4750\n",
            "Epoch 38/150\n",
            "4/4 [==============================] - 0s 3ms/step - loss: 1.0250 - accuracy: 0.4917\n",
            "Epoch 39/150\n",
            "4/4 [==============================] - 0s 3ms/step - loss: 0.9917 - accuracy: 0.5333\n",
            "Epoch 40/150\n",
            "4/4 [==============================] - 0s 3ms/step - loss: 1.0070 - accuracy: 0.4917\n",
            "Epoch 41/150\n",
            "4/4 [==============================] - 0s 3ms/step - loss: 0.9760 - accuracy: 0.5167\n",
            "Epoch 42/150\n",
            "4/4 [==============================] - 0s 3ms/step - loss: 0.9830 - accuracy: 0.5083\n",
            "Epoch 43/150\n",
            "4/4 [==============================] - 0s 3ms/step - loss: 0.9741 - accuracy: 0.5167\n",
            "Epoch 44/150\n",
            "4/4 [==============================] - 0s 3ms/step - loss: 0.9956 - accuracy: 0.5083\n",
            "Epoch 45/150\n",
            "4/4 [==============================] - 0s 3ms/step - loss: 0.9635 - accuracy: 0.5000\n",
            "Epoch 46/150\n",
            "4/4 [==============================] - 0s 3ms/step - loss: 0.9270 - accuracy: 0.5417\n",
            "Epoch 47/150\n",
            "4/4 [==============================] - 0s 3ms/step - loss: 0.9426 - accuracy: 0.5667\n",
            "Epoch 48/150\n",
            "4/4 [==============================] - 0s 3ms/step - loss: 0.9483 - accuracy: 0.4833\n",
            "Epoch 49/150\n",
            "4/4 [==============================] - 0s 3ms/step - loss: 0.9260 - accuracy: 0.5417\n",
            "Epoch 50/150\n",
            "4/4 [==============================] - 0s 3ms/step - loss: 0.9848 - accuracy: 0.4750\n",
            "Epoch 51/150\n",
            "4/4 [==============================] - 0s 3ms/step - loss: 0.9404 - accuracy: 0.5000\n",
            "Epoch 52/150\n",
            "4/4 [==============================] - 0s 3ms/step - loss: 0.8940 - accuracy: 0.5333\n",
            "Epoch 53/150\n",
            "4/4 [==============================] - 0s 3ms/step - loss: 0.9790 - accuracy: 0.4667\n",
            "Epoch 54/150\n",
            "4/4 [==============================] - 0s 3ms/step - loss: 0.9740 - accuracy: 0.4500\n",
            "Epoch 55/150\n",
            "4/4 [==============================] - 0s 3ms/step - loss: 0.9270 - accuracy: 0.4583\n",
            "Epoch 56/150\n",
            "4/4 [==============================] - 0s 3ms/step - loss: 0.9614 - accuracy: 0.4500\n",
            "Epoch 57/150\n",
            "4/4 [==============================] - 0s 3ms/step - loss: 0.8484 - accuracy: 0.5250\n",
            "Epoch 58/150\n",
            "4/4 [==============================] - 0s 3ms/step - loss: 0.8452 - accuracy: 0.5833\n",
            "Epoch 59/150\n",
            "4/4 [==============================] - 0s 3ms/step - loss: 0.9750 - accuracy: 0.4583\n",
            "Epoch 60/150\n",
            "4/4 [==============================] - 0s 3ms/step - loss: 0.9214 - accuracy: 0.5333\n",
            "Epoch 61/150\n",
            "4/4 [==============================] - 0s 3ms/step - loss: 0.9210 - accuracy: 0.5333\n",
            "Epoch 62/150\n",
            "4/4 [==============================] - 0s 4ms/step - loss: 0.8738 - accuracy: 0.5250\n",
            "Epoch 63/150\n",
            "4/4 [==============================] - 0s 4ms/step - loss: 0.9163 - accuracy: 0.5333\n",
            "Epoch 64/150\n",
            "4/4 [==============================] - 0s 3ms/step - loss: 0.9284 - accuracy: 0.5000\n",
            "Epoch 65/150\n",
            "4/4 [==============================] - 0s 3ms/step - loss: 0.9031 - accuracy: 0.5500\n",
            "Epoch 66/150\n",
            "4/4 [==============================] - 0s 3ms/step - loss: 0.9376 - accuracy: 0.4917\n",
            "Epoch 67/150\n",
            "4/4 [==============================] - 0s 3ms/step - loss: 0.9413 - accuracy: 0.4917\n",
            "Epoch 68/150\n",
            "4/4 [==============================] - 0s 3ms/step - loss: 0.8534 - accuracy: 0.5583\n",
            "Epoch 69/150\n",
            "4/4 [==============================] - 0s 3ms/step - loss: 0.8622 - accuracy: 0.5583\n",
            "Epoch 70/150\n",
            "4/4 [==============================] - 0s 3ms/step - loss: 0.8932 - accuracy: 0.5333\n",
            "Epoch 71/150\n",
            "4/4 [==============================] - 0s 3ms/step - loss: 0.9234 - accuracy: 0.5333\n",
            "Epoch 72/150\n",
            "4/4 [==============================] - 0s 3ms/step - loss: 0.8922 - accuracy: 0.5333\n",
            "Epoch 73/150\n",
            "4/4 [==============================] - 0s 3ms/step - loss: 0.8784 - accuracy: 0.5500\n",
            "Epoch 74/150\n",
            "4/4 [==============================] - 0s 3ms/step - loss: 0.8291 - accuracy: 0.5750\n",
            "Epoch 75/150\n",
            "4/4 [==============================] - 0s 3ms/step - loss: 0.9649 - accuracy: 0.4917\n",
            "Epoch 76/150\n",
            "4/4 [==============================] - 0s 3ms/step - loss: 0.9224 - accuracy: 0.5333\n",
            "Epoch 77/150\n",
            "4/4 [==============================] - 0s 3ms/step - loss: 0.8900 - accuracy: 0.5417\n",
            "Epoch 78/150\n",
            "4/4 [==============================] - 0s 3ms/step - loss: 0.8964 - accuracy: 0.5167\n",
            "Epoch 79/150\n",
            "4/4 [==============================] - 0s 3ms/step - loss: 0.8828 - accuracy: 0.5333\n",
            "Epoch 80/150\n",
            "4/4 [==============================] - 0s 3ms/step - loss: 0.8518 - accuracy: 0.5667\n",
            "Epoch 81/150\n",
            "4/4 [==============================] - 0s 3ms/step - loss: 0.8922 - accuracy: 0.5250\n",
            "Epoch 82/150\n",
            "4/4 [==============================] - 0s 3ms/step - loss: 0.8788 - accuracy: 0.5500\n",
            "Epoch 83/150\n",
            "4/4 [==============================] - 0s 3ms/step - loss: 0.9793 - accuracy: 0.4750\n",
            "Epoch 84/150\n",
            "4/4 [==============================] - 0s 3ms/step - loss: 0.9210 - accuracy: 0.5167\n",
            "Epoch 85/150\n",
            "4/4 [==============================] - 0s 3ms/step - loss: 0.8890 - accuracy: 0.5333\n",
            "Epoch 86/150\n",
            "4/4 [==============================] - 0s 3ms/step - loss: 0.8616 - accuracy: 0.5667\n",
            "Epoch 87/150\n",
            "4/4 [==============================] - 0s 3ms/step - loss: 0.8787 - accuracy: 0.5333\n",
            "Epoch 88/150\n",
            "4/4 [==============================] - 0s 3ms/step - loss: 0.9040 - accuracy: 0.5167\n",
            "Epoch 89/150\n",
            "4/4 [==============================] - 0s 3ms/step - loss: 0.8977 - accuracy: 0.5417\n",
            "Epoch 90/150\n",
            "4/4 [==============================] - 0s 3ms/step - loss: 0.9703 - accuracy: 0.5083\n",
            "Epoch 91/150\n",
            "4/4 [==============================] - 0s 3ms/step - loss: 0.9230 - accuracy: 0.5167\n",
            "Epoch 92/150\n",
            "4/4 [==============================] - 0s 3ms/step - loss: 0.8814 - accuracy: 0.5417\n",
            "Epoch 93/150\n",
            "4/4 [==============================] - 0s 3ms/step - loss: 0.8568 - accuracy: 0.5417\n",
            "Epoch 93: early stopping\n"
          ]
        },
        {
          "output_type": "execute_result",
          "data": {
            "text/plain": [
              "<keras.callbacks.History at 0x7fee85663150>"
            ]
          },
          "metadata": {},
          "execution_count": 55
        }
      ]
    },
    {
      "cell_type": "code",
      "source": [
        "y_pred = model.predict(X_test)\n",
        "\n",
        "y_test_class = np.argmax(y_test,axis=1)\n",
        "y_pred_class = np.argmax(y_pred,axis=1)"
      ],
      "metadata": {
        "colab": {
          "base_uri": "https://localhost:8080/"
        },
        "id": "Z3aHR98jkA7J",
        "outputId": "d098d5c4-00b7-4317-dedf-01896eb64dba"
      },
      "execution_count": 56,
      "outputs": [
        {
          "output_type": "stream",
          "name": "stdout",
          "text": [
            "1/1 [==============================] - 0s 72ms/step\n"
          ]
        }
      ]
    },
    {
      "cell_type": "code",
      "source": [
        "y_test_class"
      ],
      "metadata": {
        "colab": {
          "base_uri": "https://localhost:8080/"
        },
        "id": "MRnLR-E8kEd9",
        "outputId": "2b1e911a-40db-4692-c167-57f0a1466557"
      },
      "execution_count": 57,
      "outputs": [
        {
          "output_type": "execute_result",
          "data": {
            "text/plain": [
              "array([2, 1, 0, 2, 0, 2, 0, 1, 1, 1, 2, 1, 1, 1, 1, 0, 1, 1, 0, 0, 2, 1,\n",
              "       0, 0, 2, 0, 0, 1, 1, 0])"
            ]
          },
          "metadata": {},
          "execution_count": 57
        }
      ]
    },
    {
      "cell_type": "code",
      "source": [
        "y_pred_class"
      ],
      "metadata": {
        "colab": {
          "base_uri": "https://localhost:8080/"
        },
        "id": "e2Lampv7kG6i",
        "outputId": "071a0152-ef1d-4cd8-ee99-8eddcabcc43d"
      },
      "execution_count": 58,
      "outputs": [
        {
          "output_type": "execute_result",
          "data": {
            "text/plain": [
              "array([2, 2, 0, 2, 0, 2, 0, 2, 2, 2, 2, 2, 2, 2, 2, 0, 2, 2, 0, 0, 2, 2,\n",
              "       0, 0, 2, 0, 0, 2, 2, 0])"
            ]
          },
          "metadata": {},
          "execution_count": 58
        }
      ]
    },
    {
      "cell_type": "code",
      "source": [
        "#from sklearn.metrics import classification_report,confusion_matrix\n",
        "print(classification_report(y_test_class,y_pred_class))\n",
        "print(confusion_matrix(y_test_class,y_pred_class)) # Too bad results."
      ],
      "metadata": {
        "colab": {
          "base_uri": "https://localhost:8080/"
        },
        "id": "UApcG9awkIWV",
        "outputId": "db9291e7-5139-46f2-ca81-701f5f0c94fe"
      },
      "execution_count": 59,
      "outputs": [
        {
          "output_type": "stream",
          "name": "stdout",
          "text": [
            "              precision    recall  f1-score   support\n",
            "\n",
            "           0       1.00      1.00      1.00        11\n",
            "           1       0.00      0.00      0.00        13\n",
            "           2       0.32      1.00      0.48         6\n",
            "\n",
            "    accuracy                           0.57        30\n",
            "   macro avg       0.44      0.67      0.49        30\n",
            "weighted avg       0.43      0.57      0.46        30\n",
            "\n",
            "[[11  0  0]\n",
            " [ 0  0 13]\n",
            " [ 0  0  6]]\n"
          ]
        },
        {
          "output_type": "stream",
          "name": "stderr",
          "text": [
            "/usr/local/lib/python3.7/dist-packages/sklearn/metrics/_classification.py:1318: UndefinedMetricWarning: Precision and F-score are ill-defined and being set to 0.0 in labels with no predicted samples. Use `zero_division` parameter to control this behavior.\n",
            "  _warn_prf(average, modifier, msg_start, len(result))\n",
            "/usr/local/lib/python3.7/dist-packages/sklearn/metrics/_classification.py:1318: UndefinedMetricWarning: Precision and F-score are ill-defined and being set to 0.0 in labels with no predicted samples. Use `zero_division` parameter to control this behavior.\n",
            "  _warn_prf(average, modifier, msg_start, len(result))\n",
            "/usr/local/lib/python3.7/dist-packages/sklearn/metrics/_classification.py:1318: UndefinedMetricWarning: Precision and F-score are ill-defined and being set to 0.0 in labels with no predicted samples. Use `zero_division` parameter to control this behavior.\n",
            "  _warn_prf(average, modifier, msg_start, len(result))\n"
          ]
        }
      ]
    },
    {
      "cell_type": "markdown",
      "source": [
        "# Final Model"
      ],
      "metadata": {
        "id": "ZF9Z9ZMXkQKZ"
      }
    },
    {
      "cell_type": "code",
      "source": [
        "model = Sequential()\n",
        "\n",
        "model.add(Dense(units=4,activation='relu'))\n",
        "model.add(Dense(units=8,activation='tanh'))\n",
        "model.add(Dense(units=6,activation='tanh'))\n",
        "model.add(Dense(units=3,activation='softmax')) # We do get dummies so we need 3 output nodes."
      ],
      "metadata": {
        "id": "SX5d1UrwkKZy"
      },
      "execution_count": 60,
      "outputs": []
    },
    {
      "cell_type": "code",
      "source": [
        "opt = Adam(learning_rate = 0.03)\n",
        "model.compile(optimizer = opt , loss = 'categorical_crossentropy' , metrics = ['accuracy'])"
      ],
      "metadata": {
        "id": "acPYE8rYkW_H"
      },
      "execution_count": 61,
      "outputs": []
    },
    {
      "cell_type": "code",
      "source": [
        "model.fit(X_train , y_train , batch_size = 15 , epochs = 200 ,verbose = 2)"
      ],
      "metadata": {
        "colab": {
          "base_uri": "https://localhost:8080/"
        },
        "id": "8wkLOqMVkaBX",
        "outputId": "a36d00d1-3a20-4e83-d635-9d87325773e6"
      },
      "execution_count": 62,
      "outputs": [
        {
          "output_type": "stream",
          "name": "stdout",
          "text": [
            "Epoch 1/200\n",
            "8/8 - 0s - loss: 1.1810 - accuracy: 0.2667 - 437ms/epoch - 55ms/step\n",
            "Epoch 2/200\n",
            "8/8 - 0s - loss: 1.0564 - accuracy: 0.3917 - 20ms/epoch - 2ms/step\n",
            "Epoch 3/200\n",
            "8/8 - 0s - loss: 0.9240 - accuracy: 0.5917 - 20ms/epoch - 2ms/step\n",
            "Epoch 4/200\n",
            "8/8 - 0s - loss: 0.6715 - accuracy: 0.8250 - 21ms/epoch - 3ms/step\n",
            "Epoch 5/200\n",
            "8/8 - 0s - loss: 0.4808 - accuracy: 0.7667 - 20ms/epoch - 3ms/step\n",
            "Epoch 6/200\n",
            "8/8 - 0s - loss: 0.3846 - accuracy: 0.8250 - 19ms/epoch - 2ms/step\n",
            "Epoch 7/200\n",
            "8/8 - 0s - loss: 0.3029 - accuracy: 0.9417 - 26ms/epoch - 3ms/step\n",
            "Epoch 8/200\n",
            "8/8 - 0s - loss: 0.2641 - accuracy: 0.9250 - 20ms/epoch - 2ms/step\n",
            "Epoch 9/200\n",
            "8/8 - 0s - loss: 0.2368 - accuracy: 0.9000 - 25ms/epoch - 3ms/step\n",
            "Epoch 10/200\n",
            "8/8 - 0s - loss: 0.2992 - accuracy: 0.8333 - 21ms/epoch - 3ms/step\n",
            "Epoch 11/200\n",
            "8/8 - 0s - loss: 0.4032 - accuracy: 0.7833 - 20ms/epoch - 2ms/step\n",
            "Epoch 12/200\n",
            "8/8 - 0s - loss: 0.3308 - accuracy: 0.8333 - 19ms/epoch - 2ms/step\n",
            "Epoch 13/200\n",
            "8/8 - 0s - loss: 0.3173 - accuracy: 0.8583 - 24ms/epoch - 3ms/step\n",
            "Epoch 14/200\n",
            "8/8 - 0s - loss: 0.2071 - accuracy: 0.9250 - 16ms/epoch - 2ms/step\n",
            "Epoch 15/200\n",
            "8/8 - 0s - loss: 0.1414 - accuracy: 0.9500 - 16ms/epoch - 2ms/step\n",
            "Epoch 16/200\n",
            "8/8 - 0s - loss: 0.1309 - accuracy: 0.9583 - 17ms/epoch - 2ms/step\n",
            "Epoch 17/200\n",
            "8/8 - 0s - loss: 0.1238 - accuracy: 0.9417 - 16ms/epoch - 2ms/step\n",
            "Epoch 18/200\n",
            "8/8 - 0s - loss: 0.1035 - accuracy: 0.9500 - 16ms/epoch - 2ms/step\n",
            "Epoch 19/200\n",
            "8/8 - 0s - loss: 0.0981 - accuracy: 0.9417 - 17ms/epoch - 2ms/step\n",
            "Epoch 20/200\n",
            "8/8 - 0s - loss: 0.1031 - accuracy: 0.9500 - 17ms/epoch - 2ms/step\n",
            "Epoch 21/200\n",
            "8/8 - 0s - loss: 0.1076 - accuracy: 0.9583 - 18ms/epoch - 2ms/step\n",
            "Epoch 22/200\n",
            "8/8 - 0s - loss: 0.0977 - accuracy: 0.9750 - 16ms/epoch - 2ms/step\n",
            "Epoch 23/200\n",
            "8/8 - 0s - loss: 0.1852 - accuracy: 0.9167 - 16ms/epoch - 2ms/step\n",
            "Epoch 24/200\n",
            "8/8 - 0s - loss: 0.2129 - accuracy: 0.9250 - 16ms/epoch - 2ms/step\n",
            "Epoch 25/200\n",
            "8/8 - 0s - loss: 0.1513 - accuracy: 0.9250 - 16ms/epoch - 2ms/step\n",
            "Epoch 26/200\n",
            "8/8 - 0s - loss: 0.1017 - accuracy: 0.9500 - 17ms/epoch - 2ms/step\n",
            "Epoch 27/200\n",
            "8/8 - 0s - loss: 0.1584 - accuracy: 0.9333 - 16ms/epoch - 2ms/step\n",
            "Epoch 28/200\n",
            "8/8 - 0s - loss: 0.1114 - accuracy: 0.9500 - 16ms/epoch - 2ms/step\n",
            "Epoch 29/200\n",
            "8/8 - 0s - loss: 0.1002 - accuracy: 0.9583 - 17ms/epoch - 2ms/step\n",
            "Epoch 30/200\n",
            "8/8 - 0s - loss: 0.1354 - accuracy: 0.9333 - 18ms/epoch - 2ms/step\n",
            "Epoch 31/200\n",
            "8/8 - 0s - loss: 0.1276 - accuracy: 0.9583 - 16ms/epoch - 2ms/step\n",
            "Epoch 32/200\n",
            "8/8 - 0s - loss: 0.0976 - accuracy: 0.9500 - 18ms/epoch - 2ms/step\n",
            "Epoch 33/200\n",
            "8/8 - 0s - loss: 0.0655 - accuracy: 0.9833 - 16ms/epoch - 2ms/step\n",
            "Epoch 34/200\n",
            "8/8 - 0s - loss: 0.0915 - accuracy: 0.9500 - 15ms/epoch - 2ms/step\n",
            "Epoch 35/200\n",
            "8/8 - 0s - loss: 0.1060 - accuracy: 0.9500 - 17ms/epoch - 2ms/step\n",
            "Epoch 36/200\n",
            "8/8 - 0s - loss: 0.0861 - accuracy: 0.9667 - 16ms/epoch - 2ms/step\n",
            "Epoch 37/200\n",
            "8/8 - 0s - loss: 0.0899 - accuracy: 0.9583 - 16ms/epoch - 2ms/step\n",
            "Epoch 38/200\n",
            "8/8 - 0s - loss: 0.1086 - accuracy: 0.9667 - 21ms/epoch - 3ms/step\n",
            "Epoch 39/200\n",
            "8/8 - 0s - loss: 0.1165 - accuracy: 0.9500 - 16ms/epoch - 2ms/step\n",
            "Epoch 40/200\n",
            "8/8 - 0s - loss: 0.0800 - accuracy: 0.9750 - 16ms/epoch - 2ms/step\n",
            "Epoch 41/200\n",
            "8/8 - 0s - loss: 0.0822 - accuracy: 0.9583 - 17ms/epoch - 2ms/step\n",
            "Epoch 42/200\n",
            "8/8 - 0s - loss: 0.0875 - accuracy: 0.9500 - 16ms/epoch - 2ms/step\n",
            "Epoch 43/200\n",
            "8/8 - 0s - loss: 0.0716 - accuracy: 0.9667 - 16ms/epoch - 2ms/step\n",
            "Epoch 44/200\n",
            "8/8 - 0s - loss: 0.0936 - accuracy: 0.9500 - 16ms/epoch - 2ms/step\n",
            "Epoch 45/200\n",
            "8/8 - 0s - loss: 0.1361 - accuracy: 0.9583 - 16ms/epoch - 2ms/step\n",
            "Epoch 46/200\n",
            "8/8 - 0s - loss: 0.1647 - accuracy: 0.9417 - 16ms/epoch - 2ms/step\n",
            "Epoch 47/200\n",
            "8/8 - 0s - loss: 0.1635 - accuracy: 0.9500 - 17ms/epoch - 2ms/step\n",
            "Epoch 48/200\n",
            "8/8 - 0s - loss: 0.1457 - accuracy: 0.9500 - 17ms/epoch - 2ms/step\n",
            "Epoch 49/200\n",
            "8/8 - 0s - loss: 0.1164 - accuracy: 0.9417 - 16ms/epoch - 2ms/step\n",
            "Epoch 50/200\n",
            "8/8 - 0s - loss: 0.0856 - accuracy: 0.9667 - 16ms/epoch - 2ms/step\n",
            "Epoch 51/200\n",
            "8/8 - 0s - loss: 0.0840 - accuracy: 0.9500 - 16ms/epoch - 2ms/step\n",
            "Epoch 52/200\n",
            "8/8 - 0s - loss: 0.1060 - accuracy: 0.9583 - 15ms/epoch - 2ms/step\n",
            "Epoch 53/200\n",
            "8/8 - 0s - loss: 0.1590 - accuracy: 0.9333 - 17ms/epoch - 2ms/step\n",
            "Epoch 54/200\n",
            "8/8 - 0s - loss: 0.1219 - accuracy: 0.9500 - 15ms/epoch - 2ms/step\n",
            "Epoch 55/200\n",
            "8/8 - 0s - loss: 0.0861 - accuracy: 0.9750 - 15ms/epoch - 2ms/step\n",
            "Epoch 56/200\n",
            "8/8 - 0s - loss: 0.0733 - accuracy: 0.9667 - 16ms/epoch - 2ms/step\n",
            "Epoch 57/200\n",
            "8/8 - 0s - loss: 0.0776 - accuracy: 0.9583 - 16ms/epoch - 2ms/step\n",
            "Epoch 58/200\n",
            "8/8 - 0s - loss: 0.0846 - accuracy: 0.9583 - 16ms/epoch - 2ms/step\n",
            "Epoch 59/200\n",
            "8/8 - 0s - loss: 0.0602 - accuracy: 0.9583 - 17ms/epoch - 2ms/step\n",
            "Epoch 60/200\n",
            "8/8 - 0s - loss: 0.0779 - accuracy: 0.9667 - 22ms/epoch - 3ms/step\n",
            "Epoch 61/200\n",
            "8/8 - 0s - loss: 0.0814 - accuracy: 0.9750 - 20ms/epoch - 2ms/step\n",
            "Epoch 62/200\n",
            "8/8 - 0s - loss: 0.0900 - accuracy: 0.9583 - 17ms/epoch - 2ms/step\n",
            "Epoch 63/200\n",
            "8/8 - 0s - loss: 0.1093 - accuracy: 0.9583 - 17ms/epoch - 2ms/step\n",
            "Epoch 64/200\n",
            "8/8 - 0s - loss: 0.2914 - accuracy: 0.9333 - 17ms/epoch - 2ms/step\n",
            "Epoch 65/200\n",
            "8/8 - 0s - loss: 0.1383 - accuracy: 0.9333 - 16ms/epoch - 2ms/step\n",
            "Epoch 66/200\n",
            "8/8 - 0s - loss: 0.1435 - accuracy: 0.9417 - 17ms/epoch - 2ms/step\n",
            "Epoch 67/200\n",
            "8/8 - 0s - loss: 0.0655 - accuracy: 0.9833 - 16ms/epoch - 2ms/step\n",
            "Epoch 68/200\n",
            "8/8 - 0s - loss: 0.0892 - accuracy: 0.9583 - 16ms/epoch - 2ms/step\n",
            "Epoch 69/200\n",
            "8/8 - 0s - loss: 0.0688 - accuracy: 0.9750 - 16ms/epoch - 2ms/step\n",
            "Epoch 70/200\n",
            "8/8 - 0s - loss: 0.0668 - accuracy: 0.9750 - 16ms/epoch - 2ms/step\n",
            "Epoch 71/200\n",
            "8/8 - 0s - loss: 0.0683 - accuracy: 0.9667 - 18ms/epoch - 2ms/step\n",
            "Epoch 72/200\n",
            "8/8 - 0s - loss: 0.0776 - accuracy: 0.9583 - 17ms/epoch - 2ms/step\n",
            "Epoch 73/200\n",
            "8/8 - 0s - loss: 0.0963 - accuracy: 0.9500 - 16ms/epoch - 2ms/step\n",
            "Epoch 74/200\n",
            "8/8 - 0s - loss: 0.0640 - accuracy: 0.9667 - 16ms/epoch - 2ms/step\n",
            "Epoch 75/200\n",
            "8/8 - 0s - loss: 0.0591 - accuracy: 0.9750 - 17ms/epoch - 2ms/step\n",
            "Epoch 76/200\n",
            "8/8 - 0s - loss: 0.0718 - accuracy: 0.9583 - 16ms/epoch - 2ms/step\n",
            "Epoch 77/200\n",
            "8/8 - 0s - loss: 0.0486 - accuracy: 0.9833 - 16ms/epoch - 2ms/step\n",
            "Epoch 78/200\n",
            "8/8 - 0s - loss: 0.1028 - accuracy: 0.9583 - 16ms/epoch - 2ms/step\n",
            "Epoch 79/200\n",
            "8/8 - 0s - loss: 0.1574 - accuracy: 0.9500 - 16ms/epoch - 2ms/step\n",
            "Epoch 80/200\n",
            "8/8 - 0s - loss: 0.1136 - accuracy: 0.9583 - 16ms/epoch - 2ms/step\n",
            "Epoch 81/200\n",
            "8/8 - 0s - loss: 0.0855 - accuracy: 0.9583 - 16ms/epoch - 2ms/step\n",
            "Epoch 82/200\n",
            "8/8 - 0s - loss: 0.1265 - accuracy: 0.9583 - 18ms/epoch - 2ms/step\n",
            "Epoch 83/200\n",
            "8/8 - 0s - loss: 0.1428 - accuracy: 0.9417 - 17ms/epoch - 2ms/step\n",
            "Epoch 84/200\n",
            "8/8 - 0s - loss: 0.1484 - accuracy: 0.9500 - 17ms/epoch - 2ms/step\n",
            "Epoch 85/200\n",
            "8/8 - 0s - loss: 0.0931 - accuracy: 0.9583 - 17ms/epoch - 2ms/step\n",
            "Epoch 86/200\n",
            "8/8 - 0s - loss: 0.0761 - accuracy: 0.9750 - 17ms/epoch - 2ms/step\n",
            "Epoch 87/200\n",
            "8/8 - 0s - loss: 0.0743 - accuracy: 0.9667 - 16ms/epoch - 2ms/step\n",
            "Epoch 88/200\n",
            "8/8 - 0s - loss: 0.0773 - accuracy: 0.9667 - 16ms/epoch - 2ms/step\n",
            "Epoch 89/200\n",
            "8/8 - 0s - loss: 0.1679 - accuracy: 0.9583 - 16ms/epoch - 2ms/step\n",
            "Epoch 90/200\n",
            "8/8 - 0s - loss: 0.0836 - accuracy: 0.9583 - 16ms/epoch - 2ms/step\n",
            "Epoch 91/200\n",
            "8/8 - 0s - loss: 0.0679 - accuracy: 0.9667 - 16ms/epoch - 2ms/step\n",
            "Epoch 92/200\n",
            "8/8 - 0s - loss: 0.0656 - accuracy: 0.9583 - 17ms/epoch - 2ms/step\n",
            "Epoch 93/200\n",
            "8/8 - 0s - loss: 0.0585 - accuracy: 0.9750 - 17ms/epoch - 2ms/step\n",
            "Epoch 94/200\n",
            "8/8 - 0s - loss: 0.0649 - accuracy: 0.9667 - 16ms/epoch - 2ms/step\n",
            "Epoch 95/200\n",
            "8/8 - 0s - loss: 0.0843 - accuracy: 0.9667 - 16ms/epoch - 2ms/step\n",
            "Epoch 96/200\n",
            "8/8 - 0s - loss: 0.0632 - accuracy: 0.9667 - 17ms/epoch - 2ms/step\n",
            "Epoch 97/200\n",
            "8/8 - 0s - loss: 0.0687 - accuracy: 0.9667 - 17ms/epoch - 2ms/step\n",
            "Epoch 98/200\n",
            "8/8 - 0s - loss: 0.0941 - accuracy: 0.9583 - 17ms/epoch - 2ms/step\n",
            "Epoch 99/200\n",
            "8/8 - 0s - loss: 0.0754 - accuracy: 0.9750 - 17ms/epoch - 2ms/step\n",
            "Epoch 100/200\n",
            "8/8 - 0s - loss: 0.1227 - accuracy: 0.9667 - 19ms/epoch - 2ms/step\n",
            "Epoch 101/200\n",
            "8/8 - 0s - loss: 0.0997 - accuracy: 0.9583 - 17ms/epoch - 2ms/step\n",
            "Epoch 102/200\n",
            "8/8 - 0s - loss: 0.1031 - accuracy: 0.9667 - 16ms/epoch - 2ms/step\n",
            "Epoch 103/200\n",
            "8/8 - 0s - loss: 0.0665 - accuracy: 0.9750 - 16ms/epoch - 2ms/step\n",
            "Epoch 104/200\n",
            "8/8 - 0s - loss: 0.0673 - accuracy: 0.9750 - 16ms/epoch - 2ms/step\n",
            "Epoch 105/200\n",
            "8/8 - 0s - loss: 0.1074 - accuracy: 0.9417 - 16ms/epoch - 2ms/step\n",
            "Epoch 106/200\n",
            "8/8 - 0s - loss: 0.0668 - accuracy: 0.9667 - 20ms/epoch - 2ms/step\n",
            "Epoch 107/200\n",
            "8/8 - 0s - loss: 0.1269 - accuracy: 0.9417 - 17ms/epoch - 2ms/step\n",
            "Epoch 108/200\n",
            "8/8 - 0s - loss: 0.0663 - accuracy: 0.9667 - 16ms/epoch - 2ms/step\n",
            "Epoch 109/200\n",
            "8/8 - 0s - loss: 0.0629 - accuracy: 0.9833 - 17ms/epoch - 2ms/step\n",
            "Epoch 110/200\n",
            "8/8 - 0s - loss: 0.0574 - accuracy: 0.9667 - 16ms/epoch - 2ms/step\n",
            "Epoch 111/200\n",
            "8/8 - 0s - loss: 0.0913 - accuracy: 0.9417 - 16ms/epoch - 2ms/step\n",
            "Epoch 112/200\n",
            "8/8 - 0s - loss: 0.0653 - accuracy: 0.9667 - 16ms/epoch - 2ms/step\n",
            "Epoch 113/200\n",
            "8/8 - 0s - loss: 0.0911 - accuracy: 0.9667 - 17ms/epoch - 2ms/step\n",
            "Epoch 114/200\n",
            "8/8 - 0s - loss: 0.0620 - accuracy: 0.9667 - 17ms/epoch - 2ms/step\n",
            "Epoch 115/200\n",
            "8/8 - 0s - loss: 0.0587 - accuracy: 0.9833 - 16ms/epoch - 2ms/step\n",
            "Epoch 116/200\n",
            "8/8 - 0s - loss: 0.0568 - accuracy: 0.9750 - 16ms/epoch - 2ms/step\n",
            "Epoch 117/200\n",
            "8/8 - 0s - loss: 0.0856 - accuracy: 0.9667 - 16ms/epoch - 2ms/step\n",
            "Epoch 118/200\n",
            "8/8 - 0s - loss: 0.0658 - accuracy: 0.9667 - 16ms/epoch - 2ms/step\n",
            "Epoch 119/200\n",
            "8/8 - 0s - loss: 0.1364 - accuracy: 0.9417 - 16ms/epoch - 2ms/step\n",
            "Epoch 120/200\n",
            "8/8 - 0s - loss: 0.1289 - accuracy: 0.9583 - 16ms/epoch - 2ms/step\n",
            "Epoch 121/200\n",
            "8/8 - 0s - loss: 0.1174 - accuracy: 0.9583 - 18ms/epoch - 2ms/step\n",
            "Epoch 122/200\n",
            "8/8 - 0s - loss: 0.0925 - accuracy: 0.9500 - 16ms/epoch - 2ms/step\n",
            "Epoch 123/200\n",
            "8/8 - 0s - loss: 0.0687 - accuracy: 0.9667 - 17ms/epoch - 2ms/step\n",
            "Epoch 124/200\n",
            "8/8 - 0s - loss: 0.0596 - accuracy: 0.9833 - 17ms/epoch - 2ms/step\n",
            "Epoch 125/200\n",
            "8/8 - 0s - loss: 0.0649 - accuracy: 0.9750 - 16ms/epoch - 2ms/step\n",
            "Epoch 126/200\n",
            "8/8 - 0s - loss: 0.0600 - accuracy: 0.9833 - 17ms/epoch - 2ms/step\n",
            "Epoch 127/200\n",
            "8/8 - 0s - loss: 0.0714 - accuracy: 0.9583 - 16ms/epoch - 2ms/step\n",
            "Epoch 128/200\n",
            "8/8 - 0s - loss: 0.2238 - accuracy: 0.9083 - 17ms/epoch - 2ms/step\n",
            "Epoch 129/200\n",
            "8/8 - 0s - loss: 0.1537 - accuracy: 0.9333 - 17ms/epoch - 2ms/step\n",
            "Epoch 130/200\n",
            "8/8 - 0s - loss: 0.0696 - accuracy: 0.9750 - 16ms/epoch - 2ms/step\n",
            "Epoch 131/200\n",
            "8/8 - 0s - loss: 0.0760 - accuracy: 0.9583 - 16ms/epoch - 2ms/step\n",
            "Epoch 132/200\n",
            "8/8 - 0s - loss: 0.0797 - accuracy: 0.9583 - 17ms/epoch - 2ms/step\n",
            "Epoch 133/200\n",
            "8/8 - 0s - loss: 0.0950 - accuracy: 0.9500 - 18ms/epoch - 2ms/step\n",
            "Epoch 134/200\n",
            "8/8 - 0s - loss: 0.0671 - accuracy: 0.9667 - 16ms/epoch - 2ms/step\n",
            "Epoch 135/200\n",
            "8/8 - 0s - loss: 0.0703 - accuracy: 0.9750 - 17ms/epoch - 2ms/step\n",
            "Epoch 136/200\n",
            "8/8 - 0s - loss: 0.1466 - accuracy: 0.9500 - 16ms/epoch - 2ms/step\n",
            "Epoch 137/200\n",
            "8/8 - 0s - loss: 0.1386 - accuracy: 0.9417 - 16ms/epoch - 2ms/step\n",
            "Epoch 138/200\n",
            "8/8 - 0s - loss: 0.1013 - accuracy: 0.9583 - 16ms/epoch - 2ms/step\n",
            "Epoch 139/200\n",
            "8/8 - 0s - loss: 0.0787 - accuracy: 0.9667 - 16ms/epoch - 2ms/step\n",
            "Epoch 140/200\n",
            "8/8 - 0s - loss: 0.0799 - accuracy: 0.9750 - 17ms/epoch - 2ms/step\n",
            "Epoch 141/200\n",
            "8/8 - 0s - loss: 0.0752 - accuracy: 0.9583 - 18ms/epoch - 2ms/step\n",
            "Epoch 142/200\n",
            "8/8 - 0s - loss: 0.0534 - accuracy: 0.9750 - 18ms/epoch - 2ms/step\n",
            "Epoch 143/200\n",
            "8/8 - 0s - loss: 0.0700 - accuracy: 0.9667 - 17ms/epoch - 2ms/step\n",
            "Epoch 144/200\n",
            "8/8 - 0s - loss: 0.1391 - accuracy: 0.9583 - 16ms/epoch - 2ms/step\n",
            "Epoch 145/200\n",
            "8/8 - 0s - loss: 0.1313 - accuracy: 0.9583 - 16ms/epoch - 2ms/step\n",
            "Epoch 146/200\n",
            "8/8 - 0s - loss: 0.1854 - accuracy: 0.9250 - 16ms/epoch - 2ms/step\n",
            "Epoch 147/200\n",
            "8/8 - 0s - loss: 0.1518 - accuracy: 0.9500 - 16ms/epoch - 2ms/step\n",
            "Epoch 148/200\n",
            "8/8 - 0s - loss: 0.1613 - accuracy: 0.9583 - 17ms/epoch - 2ms/step\n",
            "Epoch 149/200\n",
            "8/8 - 0s - loss: 0.0919 - accuracy: 0.9833 - 17ms/epoch - 2ms/step\n",
            "Epoch 150/200\n",
            "8/8 - 0s - loss: 0.0683 - accuracy: 0.9833 - 17ms/epoch - 2ms/step\n",
            "Epoch 151/200\n",
            "8/8 - 0s - loss: 0.1246 - accuracy: 0.9417 - 17ms/epoch - 2ms/step\n",
            "Epoch 152/200\n",
            "8/8 - 0s - loss: 0.0799 - accuracy: 0.9750 - 17ms/epoch - 2ms/step\n",
            "Epoch 153/200\n",
            "8/8 - 0s - loss: 0.0742 - accuracy: 0.9667 - 17ms/epoch - 2ms/step\n",
            "Epoch 154/200\n",
            "8/8 - 0s - loss: 0.0589 - accuracy: 0.9667 - 17ms/epoch - 2ms/step\n",
            "Epoch 155/200\n",
            "8/8 - 0s - loss: 0.0763 - accuracy: 0.9583 - 16ms/epoch - 2ms/step\n",
            "Epoch 156/200\n",
            "8/8 - 0s - loss: 0.0679 - accuracy: 0.9667 - 19ms/epoch - 2ms/step\n",
            "Epoch 157/200\n",
            "8/8 - 0s - loss: 0.0919 - accuracy: 0.9583 - 16ms/epoch - 2ms/step\n",
            "Epoch 158/200\n",
            "8/8 - 0s - loss: 0.0979 - accuracy: 0.9583 - 16ms/epoch - 2ms/step\n",
            "Epoch 159/200\n",
            "8/8 - 0s - loss: 0.0698 - accuracy: 0.9750 - 16ms/epoch - 2ms/step\n",
            "Epoch 160/200\n",
            "8/8 - 0s - loss: 0.0965 - accuracy: 0.9583 - 17ms/epoch - 2ms/step\n",
            "Epoch 161/200\n",
            "8/8 - 0s - loss: 0.0699 - accuracy: 0.9667 - 16ms/epoch - 2ms/step\n",
            "Epoch 162/200\n",
            "8/8 - 0s - loss: 0.0862 - accuracy: 0.9667 - 16ms/epoch - 2ms/step\n",
            "Epoch 163/200\n",
            "8/8 - 0s - loss: 0.0754 - accuracy: 0.9750 - 16ms/epoch - 2ms/step\n",
            "Epoch 164/200\n",
            "8/8 - 0s - loss: 0.0893 - accuracy: 0.9583 - 16ms/epoch - 2ms/step\n",
            "Epoch 165/200\n",
            "8/8 - 0s - loss: 0.0604 - accuracy: 0.9750 - 17ms/epoch - 2ms/step\n",
            "Epoch 166/200\n",
            "8/8 - 0s - loss: 0.0683 - accuracy: 0.9750 - 18ms/epoch - 2ms/step\n",
            "Epoch 167/200\n",
            "8/8 - 0s - loss: 0.0848 - accuracy: 0.9667 - 16ms/epoch - 2ms/step\n",
            "Epoch 168/200\n",
            "8/8 - 0s - loss: 0.0559 - accuracy: 0.9833 - 17ms/epoch - 2ms/step\n",
            "Epoch 169/200\n",
            "8/8 - 0s - loss: 0.0656 - accuracy: 0.9750 - 17ms/epoch - 2ms/step\n",
            "Epoch 170/200\n",
            "8/8 - 0s - loss: 0.0854 - accuracy: 0.9583 - 20ms/epoch - 3ms/step\n",
            "Epoch 171/200\n",
            "8/8 - 0s - loss: 0.1389 - accuracy: 0.9583 - 17ms/epoch - 2ms/step\n",
            "Epoch 172/200\n",
            "8/8 - 0s - loss: 0.1869 - accuracy: 0.9250 - 17ms/epoch - 2ms/step\n",
            "Epoch 173/200\n",
            "8/8 - 0s - loss: 0.1014 - accuracy: 0.9583 - 17ms/epoch - 2ms/step\n",
            "Epoch 174/200\n",
            "8/8 - 0s - loss: 0.0824 - accuracy: 0.9750 - 16ms/epoch - 2ms/step\n",
            "Epoch 175/200\n",
            "8/8 - 0s - loss: 0.0621 - accuracy: 0.9667 - 17ms/epoch - 2ms/step\n",
            "Epoch 176/200\n",
            "8/8 - 0s - loss: 0.0596 - accuracy: 0.9750 - 17ms/epoch - 2ms/step\n",
            "Epoch 177/200\n",
            "8/8 - 0s - loss: 0.0723 - accuracy: 0.9667 - 17ms/epoch - 2ms/step\n",
            "Epoch 178/200\n",
            "8/8 - 0s - loss: 0.1217 - accuracy: 0.9667 - 16ms/epoch - 2ms/step\n",
            "Epoch 179/200\n",
            "8/8 - 0s - loss: 0.0705 - accuracy: 0.9750 - 17ms/epoch - 2ms/step\n",
            "Epoch 180/200\n",
            "8/8 - 0s - loss: 0.0638 - accuracy: 0.9667 - 16ms/epoch - 2ms/step\n",
            "Epoch 181/200\n",
            "8/8 - 0s - loss: 0.0626 - accuracy: 0.9583 - 17ms/epoch - 2ms/step\n",
            "Epoch 182/200\n",
            "8/8 - 0s - loss: 0.0637 - accuracy: 0.9667 - 16ms/epoch - 2ms/step\n",
            "Epoch 183/200\n",
            "8/8 - 0s - loss: 0.0908 - accuracy: 0.9667 - 16ms/epoch - 2ms/step\n",
            "Epoch 184/200\n",
            "8/8 - 0s - loss: 0.0770 - accuracy: 0.9667 - 16ms/epoch - 2ms/step\n",
            "Epoch 185/200\n",
            "8/8 - 0s - loss: 0.0907 - accuracy: 0.9583 - 17ms/epoch - 2ms/step\n",
            "Epoch 186/200\n",
            "8/8 - 0s - loss: 0.0740 - accuracy: 0.9750 - 17ms/epoch - 2ms/step\n",
            "Epoch 187/200\n",
            "8/8 - 0s - loss: 0.0907 - accuracy: 0.9667 - 16ms/epoch - 2ms/step\n",
            "Epoch 188/200\n",
            "8/8 - 0s - loss: 0.0809 - accuracy: 0.9667 - 19ms/epoch - 2ms/step\n",
            "Epoch 189/200\n",
            "8/8 - 0s - loss: 0.0879 - accuracy: 0.9583 - 17ms/epoch - 2ms/step\n",
            "Epoch 190/200\n",
            "8/8 - 0s - loss: 0.0696 - accuracy: 0.9583 - 17ms/epoch - 2ms/step\n",
            "Epoch 191/200\n",
            "8/8 - 0s - loss: 0.0630 - accuracy: 0.9750 - 16ms/epoch - 2ms/step\n",
            "Epoch 192/200\n",
            "8/8 - 0s - loss: 0.0532 - accuracy: 0.9750 - 18ms/epoch - 2ms/step\n",
            "Epoch 193/200\n",
            "8/8 - 0s - loss: 0.0579 - accuracy: 0.9833 - 16ms/epoch - 2ms/step\n",
            "Epoch 194/200\n",
            "8/8 - 0s - loss: 0.0565 - accuracy: 0.9667 - 17ms/epoch - 2ms/step\n",
            "Epoch 195/200\n",
            "8/8 - 0s - loss: 0.0823 - accuracy: 0.9750 - 16ms/epoch - 2ms/step\n",
            "Epoch 196/200\n",
            "8/8 - 0s - loss: 0.0589 - accuracy: 0.9750 - 17ms/epoch - 2ms/step\n",
            "Epoch 197/200\n",
            "8/8 - 0s - loss: 0.0676 - accuracy: 0.9833 - 17ms/epoch - 2ms/step\n",
            "Epoch 198/200\n",
            "8/8 - 0s - loss: 0.1209 - accuracy: 0.9583 - 16ms/epoch - 2ms/step\n",
            "Epoch 199/200\n",
            "8/8 - 0s - loss: 0.0571 - accuracy: 0.9667 - 16ms/epoch - 2ms/step\n",
            "Epoch 200/200\n",
            "8/8 - 0s - loss: 0.0896 - accuracy: 0.9583 - 17ms/epoch - 2ms/step\n"
          ]
        },
        {
          "output_type": "execute_result",
          "data": {
            "text/plain": [
              "<keras.callbacks.History at 0x7fee85dba6d0>"
            ]
          },
          "metadata": {},
          "execution_count": 62
        }
      ]
    },
    {
      "cell_type": "code",
      "source": [
        "y_pred = model.predict(X_test)\n",
        "\n",
        "y_test_class = np.argmax(y_test,axis=1)\n",
        "y_pred_class = np.argmax(y_pred,axis=1)"
      ],
      "metadata": {
        "colab": {
          "base_uri": "https://localhost:8080/"
        },
        "id": "wMANK9LZkhzl",
        "outputId": "ff014f16-493f-491d-d585-0c4fb5ed7e55"
      },
      "execution_count": 63,
      "outputs": [
        {
          "output_type": "stream",
          "name": "stdout",
          "text": [
            "1/1 [==============================] - 0s 65ms/step\n"
          ]
        }
      ]
    },
    {
      "cell_type": "code",
      "source": [
        "y_pred_class"
      ],
      "metadata": {
        "colab": {
          "base_uri": "https://localhost:8080/"
        },
        "id": "VTYJHOQckm1X",
        "outputId": "ec0a381b-5a16-4888-8005-ca80bb54238e"
      },
      "execution_count": 64,
      "outputs": [
        {
          "output_type": "execute_result",
          "data": {
            "text/plain": [
              "array([2, 1, 0, 2, 0, 2, 0, 1, 1, 1, 2, 1, 1, 1, 1, 0, 1, 1, 0, 0, 2, 1,\n",
              "       0, 0, 2, 0, 0, 1, 1, 0])"
            ]
          },
          "metadata": {},
          "execution_count": 64
        }
      ]
    },
    {
      "cell_type": "code",
      "source": [
        "y_test_class"
      ],
      "metadata": {
        "colab": {
          "base_uri": "https://localhost:8080/"
        },
        "id": "Q1Y3uSNykoCq",
        "outputId": "1446fe05-b976-4246-82cc-32acceeb91a3"
      },
      "execution_count": 65,
      "outputs": [
        {
          "output_type": "execute_result",
          "data": {
            "text/plain": [
              "array([2, 1, 0, 2, 0, 2, 0, 1, 1, 1, 2, 1, 1, 1, 1, 0, 1, 1, 0, 0, 2, 1,\n",
              "       0, 0, 2, 0, 0, 1, 1, 0])"
            ]
          },
          "metadata": {},
          "execution_count": 65
        }
      ]
    },
    {
      "cell_type": "code",
      "source": [
        "#from sklearn.metrics import classification_report,confusion_matrix\n",
        "print(classification_report(y_test_class,y_pred_class))\n",
        "print(confusion_matrix(y_test_class,y_pred_class)) # Too bad results."
      ],
      "metadata": {
        "colab": {
          "base_uri": "https://localhost:8080/"
        },
        "id": "PujqCUjkkoy4",
        "outputId": "ace2eedf-912f-498f-dca6-38ef29d9aae1"
      },
      "execution_count": 66,
      "outputs": [
        {
          "output_type": "stream",
          "name": "stdout",
          "text": [
            "              precision    recall  f1-score   support\n",
            "\n",
            "           0       1.00      1.00      1.00        11\n",
            "           1       1.00      1.00      1.00        13\n",
            "           2       1.00      1.00      1.00         6\n",
            "\n",
            "    accuracy                           1.00        30\n",
            "   macro avg       1.00      1.00      1.00        30\n",
            "weighted avg       1.00      1.00      1.00        30\n",
            "\n",
            "[[11  0  0]\n",
            " [ 0 13  0]\n",
            " [ 0  0  6]]\n"
          ]
        }
      ]
    },
    {
      "cell_type": "markdown",
      "source": [
        "## Save final model"
      ],
      "metadata": {
        "id": "ZvzuLSCEkuXf"
      }
    },
    {
      "cell_type": "code",
      "source": [
        "import joblib"
      ],
      "metadata": {
        "id": "GLh2wi-BksXX"
      },
      "execution_count": 67,
      "outputs": []
    },
    {
      "cell_type": "code",
      "source": [
        "joblib.dump(model , 'model.h5')"
      ],
      "metadata": {
        "colab": {
          "base_uri": "https://localhost:8080/"
        },
        "id": "sb2HfkNbkwil",
        "outputId": "99961cd0-8783-404d-ec62-9a80c07153e6"
      },
      "execution_count": 68,
      "outputs": [
        {
          "output_type": "execute_result",
          "data": {
            "text/plain": [
              "['model.h5']"
            ]
          },
          "metadata": {},
          "execution_count": 68
        }
      ]
    },
    {
      "cell_type": "code",
      "source": [
        "# Done"
      ],
      "metadata": {
        "id": "7Eofa9eck8kF"
      },
      "execution_count": null,
      "outputs": []
    }
  ]
}