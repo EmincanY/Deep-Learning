{
 "cells": [
  {
   "attachments": {},
   "cell_type": "markdown",
   "metadata": {},
   "source": [
    "## Get Access to GPU's\n",
    "<a id='1.kısım'></a>\n",
    "\n",
    "Tensors can work with GPU's. We will want to work with GPU's when we build big models. You can check your GPU's with [`tf.config.list_physical_devices()`](https://www.tensorflow.org/guide/gpu) function."
   ]
  },
  {
   "cell_type": "code",
   "execution_count": 1,
   "metadata": {},
   "outputs": [
    {
     "name": "stdout",
     "output_type": "stream",
     "text": [
      "[PhysicalDevice(name='/physical_device:GPU:0', device_type='GPU')]\n",
      "1 Physical GPUs, 1 Logical GPUs\n"
     ]
    }
   ],
   "source": [
    "import tensorflow as tf\n",
    "import numpy as np\n",
    "\n",
    "print(tf.config.list_physical_devices('GPU'))\n",
    "\n",
    "gpus = tf.config.list_physical_devices('GPU')\n",
    "if gpus:\n",
    "  try:\n",
    "    # Currently, memory growth needs to be the same across GPUs\n",
    "    for gpu in gpus:\n",
    "      tf.config.experimental.set_memory_growth(gpu, True)\n",
    "    logical_gpus = tf.config.list_logical_devices('GPU')\n",
    "    print(len(gpus), \"Physical GPUs,\", len(logical_gpus), \"Logical GPUs\")\n",
    "  except RuntimeError as e:\n",
    "    # Memory growth must be set before GPUs have been initialized\n",
    "    print(e)"
   ]
  },
  {
   "attachments": {},
   "cell_type": "markdown",
   "metadata": {},
   "source": [
    "* `nvidia-smi` shows more information about GPU"
   ]
  },
  {
   "cell_type": "code",
   "execution_count": 2,
   "metadata": {},
   "outputs": [
    {
     "name": "stdout",
     "output_type": "stream",
     "text": [
      "Tue Mar 28 12:40:03 2023       \n",
      "+---------------------------------------------------------------------------------------+\n",
      "| NVIDIA-SMI 531.18                 Driver Version: 531.18       CUDA Version: 12.1     |\n",
      "|-----------------------------------------+----------------------+----------------------+\n",
      "| GPU  Name                      TCC/WDDM | Bus-Id        Disp.A | Volatile Uncorr. ECC |\n",
      "| Fan  Temp  Perf            Pwr:Usage/Cap|         Memory-Usage | GPU-Util  Compute M. |\n",
      "|                                         |                      |               MIG M. |\n",
      "|=========================================+======================+======================|\n",
      "|   0  NVIDIA GeForce RTX 3090 Ti    WDDM | 00000000:01:00.0  On |                  Off |\n",
      "|  0%   57C    P2              109W / 450W|   1630MiB / 24564MiB |      8%      Default |\n",
      "|                                         |                      |                  N/A |\n",
      "+-----------------------------------------+----------------------+----------------------+\n",
      "                                                                                         \n",
      "+---------------------------------------------------------------------------------------+\n",
      "| Processes:                                                                            |\n",
      "|  GPU   GI   CI        PID   Type   Process name                            GPU Memory |\n",
      "|        ID   ID                                                             Usage      |\n",
      "|=======================================================================================|\n",
      "|    0   N/A  N/A      1540    C+G   ...al\\Discord\\app-1.0.9011\\Discord.exe    N/A      |\n",
      "|    0   N/A  N/A      5256      C   ...rograms\\Python\\Python310\\python.exe    N/A      |\n",
      "|    0   N/A  N/A     10164    C+G   ...\\Local\\slack\\app-4.31.155\\slack.exe    N/A      |\n",
      "|    0   N/A  N/A     10232    C+G   ...e Stream\\72.0.3.0\\GoogleDriveFS.exe    N/A      |\n",
      "|    0   N/A  N/A     10268    C+G   ...on\\111.0.1661.54\\msedgewebview2.exe    N/A      |\n",
      "|    0   N/A  N/A     11796    C+G   C:\\Windows\\explorer.exe                   N/A      |\n",
      "|    0   N/A  N/A     13780    C+G   ...Programs\\Microsoft VS Code\\Code.exe    N/A      |\n",
      "|    0   N/A  N/A     15244    C+G   ...ekyb3d8bbwe\\PhoneExperienceHost.exe    N/A      |\n",
      "|    0   N/A  N/A     16628    C+G   ...GeForce Experience\\NVIDIA Share.exe    N/A      |\n",
      "|    0   N/A  N/A     16768    C+G   ...2txyewy\\StartMenuExperienceHost.exe    N/A      |\n",
      "|    0   N/A  N/A     19828    C+G   ...nt.CBS_cw5n1h2txyewy\\SearchHost.exe    N/A      |\n",
      "|    0   N/A  N/A     22704    C+G   ...GeForce Experience\\NVIDIA Share.exe    N/A      |\n",
      "|    0   N/A  N/A     22736    C+G   ..._x64__8j3eq9eme6ctt\\IntelUnison.exe    N/A      |\n",
      "|    0   N/A  N/A     25088    C+G   ...siveControlPanel\\SystemSettings.exe    N/A      |\n",
      "|    0   N/A  N/A     28860    C+G   ...oogle\\Chrome\\Application\\chrome.exe    N/A      |\n",
      "|    0   N/A  N/A     28912    C+G   ...q9eme6ctt\\app\\IntelUnisonClient.exe    N/A      |\n",
      "|    0   N/A  N/A     28948    C+G   ...77.0_x86__zpdnekdrzrea0\\Spotify.exe    N/A      |\n",
      "|    0   N/A  N/A     30840    C+G   ...on\\111.0.1661.54\\msedgewebview2.exe    N/A      |\n",
      "|    0   N/A  N/A     31552    C+G   ...les\\Microsoft OneDrive\\OneDrive.exe    N/A      |\n",
      "|    0   N/A  N/A     32596    C+G   ...crosoft\\Edge\\Application\\msedge.exe    N/A      |\n",
      "+---------------------------------------------------------------------------------------+\n"
     ]
    }
   ],
   "source": [
    "!nvidia-smi"
   ]
  },
  {
   "attachments": {},
   "cell_type": "markdown",
   "metadata": {},
   "source": [
    "## What's the tensors ?\n",
    "<a id='2.part'></a>\n",
    "\n",
    "Picture from Vikipedia ***tensor***:\n",
    "<div>\n",
    "<img src=\"https://upload.wikimedia.org/wikipedia/commons/thumb/4/45/Components_stress_tensor.svg/1200px-Components_stress_tensor.svg.png\" width=\"500\"/>\n",
    "</div>\n",
    "\n",
    "You could think tensors as a NumPy array. **just for now** \n",
    "\n",
    "Tensors can express anything or a numerical value:\n",
    "* **The numbers themselves can be:** Tensor can be used to represent the price of houses.\n",
    "* **An image can be:** Tensors can be used to represent the pixels of an image.\n",
    "* **Text can be:** Tensors can be used to represent words.\n",
    "* Or it may be another form of information or data that you want to represent with numbers.\n",
    "\n",
    "\n",
    "The main difference between tensors and NumPy arrays (an n-dimensional array of numbers) is that tensors are Decoupled in [GPUs or TPUs (graphics/tensor processing units)](https://blogs.nvidia.com/blog/2009/12 /) it can be used.\n",
    "The benefit of being able to work on GPUs and TPUs is that calculations can be performed faster.\n",
    "This means that if we want to find patterns in the data that our data represents numerically (deep learning), we can usually find them faster using GPUs and TPUs."
   ]
  },
  {
   "cell_type": "code",
   "execution_count": 3,
   "metadata": {},
   "outputs": [
    {
     "name": "stdout",
     "output_type": "stream",
     "text": [
      "2.10.1\n"
     ]
    }
   ],
   "source": [
    "print(tf.__version__) # 2.7.0"
   ]
  },
  {
   "attachments": {},
   "cell_type": "markdown",
   "metadata": {},
   "source": [
    "### Creating Tensors with `tf.constant()` (https://www.tensorflow.org/api_docs/python/tf/constant ) \n",
    "\n",
    "When creating a model, TensorFlow will convert most things to tensor for us. ([tf.data])https://www.tensorflow.org/guide/data ) and [tf.io ](https://www.tensorflow.org/api_docs/python/tf/io ))"
   ]
  },
  {
   "cell_type": "code",
   "execution_count": 4,
   "metadata": {},
   "outputs": [
    {
     "data": {
      "text/plain": [
       "<tf.Tensor: shape=(), dtype=int32, numpy=53>"
      ]
     },
     "execution_count": 4,
     "metadata": {},
     "output_type": "execute_result"
    }
   ],
   "source": [
    "# Lets create a scaler tensor\n",
    "skalar = tf.constant(53)\n",
    "skalar"
   ]
  },
  {
   "attachments": {},
   "cell_type": "markdown",
   "metadata": {},
   "source": [
    "The rank of the scalar tensors is 0. Because there are no dimensions, it is just a number.\n",
    "\n",
    "In terms of TensorFlow, there is no limit to the dimensions of tensors."
   ]
  },
  {
   "cell_type": "code",
   "execution_count": 5,
   "metadata": {},
   "outputs": [
    {
     "data": {
      "text/plain": [
       "0"
      ]
     },
     "execution_count": 5,
     "metadata": {},
     "output_type": "execute_result"
    }
   ],
   "source": [
    "# We can check dimension with .ndim attribute.\n",
    "# ndim = number of dimensions\n",
    "skalar.ndim"
   ]
  },
  {
   "cell_type": "code",
   "execution_count": 6,
   "metadata": {},
   "outputs": [
    {
     "data": {
      "text/plain": [
       "<tf.Tensor: shape=(2,), dtype=int32, numpy=array([1, 2])>"
      ]
     },
     "execution_count": 6,
     "metadata": {},
     "output_type": "execute_result"
    }
   ],
   "source": [
    "vector = tf.constant([1,2])\n",
    "vector"
   ]
  },
  {
   "cell_type": "code",
   "execution_count": 7,
   "metadata": {},
   "outputs": [
    {
     "data": {
      "text/plain": [
       "1"
      ]
     },
     "execution_count": 7,
     "metadata": {},
     "output_type": "execute_result"
    }
   ],
   "source": [
    "vector.ndim"
   ]
  },
  {
   "cell_type": "code",
   "execution_count": 8,
   "metadata": {},
   "outputs": [
    {
     "data": {
      "text/plain": [
       "<tf.Tensor: shape=(2, 2), dtype=int32, numpy=\n",
       "array([[1, 2],\n",
       "       [3, 4]])>"
      ]
     },
     "execution_count": 8,
     "metadata": {},
     "output_type": "execute_result"
    }
   ],
   "source": [
    "matris = tf.constant([ [1,2],\n",
    "                       [3,4]])\n",
    "matris"
   ]
  },
  {
   "cell_type": "code",
   "execution_count": 9,
   "metadata": {},
   "outputs": [
    {
     "data": {
      "text/plain": [
       "2"
      ]
     },
     "execution_count": 9,
     "metadata": {},
     "output_type": "execute_result"
    }
   ],
   "source": [
    "matris.ndim"
   ]
  },
  {
   "attachments": {},
   "cell_type": "markdown",
   "metadata": {},
   "source": [
    "TensorFlow sets numeric values as `float32` or `int32` by default."
   ]
  },
  {
   "cell_type": "code",
   "execution_count": 10,
   "metadata": {},
   "outputs": [
    {
     "data": {
      "text/plain": [
       "<tf.Tensor: shape=(3, 2), dtype=float64, numpy=\n",
       "array([[11.5 ,  0.2 ],\n",
       "       [10.3 ,  5.7 ],\n",
       "       [11.8 ,  2.03]])>"
      ]
     },
     "execution_count": 10,
     "metadata": {},
     "output_type": "execute_result"
    }
   ],
   "source": [
    "# dtype değiştirmek için\n",
    "matris = tf.constant([[11.5, 0.2],\n",
    "                              [10.3, 5.7],\n",
    "                              [11.8, 2.03]], dtype=tf.float64)\n",
    "matris"
   ]
  },
  {
   "cell_type": "code",
   "execution_count": 11,
   "metadata": {},
   "outputs": [
    {
     "data": {
      "text/plain": [
       "2"
      ]
     },
     "execution_count": 11,
     "metadata": {},
     "output_type": "execute_result"
    }
   ],
   "source": [
    "matris.ndim"
   ]
  },
  {
   "cell_type": "code",
   "execution_count": 12,
   "metadata": {},
   "outputs": [],
   "source": [
    "# Stablize the dimension\n",
    "assert matris.ndim == 2"
   ]
  },
  {
   "cell_type": "code",
   "execution_count": 13,
   "metadata": {},
   "outputs": [
    {
     "data": {
      "text/plain": [
       "<tf.Tensor: shape=(3, 2, 3), dtype=int32, numpy=\n",
       "array([[[  0,   1,   2],\n",
       "        [  3,   4,   5]],\n",
       "\n",
       "       [[ 10,  20,  30],\n",
       "        [ 50,  60,  70]],\n",
       "\n",
       "       [[100, 200, 300],\n",
       "        [400, 500, 600]]])>"
      ]
     },
     "execution_count": 13,
     "metadata": {},
     "output_type": "execute_result"
    }
   ],
   "source": [
    "tensor = tf.constant([[ [0,1,2],\n",
    "                        [3,4,5]],\n",
    "                       \n",
    "                      [ [10,20,30],\n",
    "                        [50,60,70]],\n",
    "                     \n",
    "                      [ [100,200,300],\n",
    "                        [400,500,600]]])\n",
    "tensor"
   ]
  },
  {
   "cell_type": "code",
   "execution_count": 14,
   "metadata": {},
   "outputs": [
    {
     "data": {
      "text/plain": [
       "3"
      ]
     },
     "execution_count": 14,
     "metadata": {},
     "output_type": "execute_result"
    }
   ],
   "source": [
    "tensor.ndim"
   ]
  },
  {
   "attachments": {},
   "cell_type": "markdown",
   "metadata": {},
   "source": [
    "#### Lets show it with a picture:"
   ]
  },
  {
   "attachments": {},
   "cell_type": "markdown",
   "metadata": {},
   "source": [
    "![image.png](data:image/png;base64,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)"
   ]
  },
  {
   "attachments": {},
   "cell_type": "markdown",
   "metadata": {},
   "source": [
    "### Create a Tensor with `tf.Variable()` (https://www.tensorflow.org/api_docs/python/tf/Variable )\n",
    "\n",
    "Differences between `tf.Variable' and 'tf.constant`:\n",
    "* 'tf.Variable  'mutable' --> The value can be changed.\n",
    "* 'tf.constant  'immutable' --> remains constant, does not change.\n",
    "\n",
    "We will mention the main crucial difference in the GradientTape section."
   ]
  },
  {
   "cell_type": "code",
   "execution_count": 15,
   "metadata": {},
   "outputs": [
    {
     "data": {
      "text/plain": [
       "(<tf.Variable 'Variable:0' shape=(2,) dtype=int32, numpy=array([3, 6])>,\n",
       " <tf.Tensor: shape=(2,), dtype=int32, numpy=array([18,  9])>)"
      ]
     },
     "execution_count": 15,
     "metadata": {},
     "output_type": "execute_result"
    }
   ],
   "source": [
    "# Numeric tensors\n",
    "tf_variable_tensor = tf.Variable([3, 6])\n",
    "tf_constant_tensor = tf.constant([18, 9])\n",
    "tf_variable_tensor, tf_constant_tensor"
   ]
  },
  {
   "attachments": {},
   "cell_type": "markdown",
   "metadata": {},
   "source": [
    "If we try to change the elements of a tensor that forms created with `'tf.Variable'`, we will give error:"
   ]
  },
  {
   "cell_type": "code",
   "execution_count": 17,
   "metadata": {},
   "outputs": [
    {
     "ename": "TypeError",
     "evalue": "'ResourceVariable' object does not support item assignment",
     "output_type": "error",
     "traceback": [
      "\u001b[1;31m---------------------------------------------------------------------------\u001b[0m",
      "\u001b[1;31mTypeError\u001b[0m                                 Traceback (most recent call last)",
      "Cell \u001b[1;32mIn[17], line 1\u001b[0m\n\u001b[1;32m----> 1\u001b[0m tf_variable_tensor[\u001b[39m0\u001b[39;49m] \u001b[39m=\u001b[39m \u001b[39m53\u001b[39m\n\u001b[0;32m      2\u001b[0m tf_variable_tensor\n",
      "\u001b[1;31mTypeError\u001b[0m: 'ResourceVariable' object does not support item assignment"
     ]
    }
   ],
   "source": [
    "tf_variable_tensor[0] = 53\n",
    "tf_variable_tensor"
   ]
  },
  {
   "attachments": {},
   "cell_type": "markdown",
   "metadata": {},
   "source": [
    "We Should use .assign() method for change values inside the tensor created with `'tf.Variable'`"
   ]
  },
  {
   "cell_type": "code",
   "execution_count": 18,
   "metadata": {},
   "outputs": [
    {
     "data": {
      "text/plain": [
       "<tf.Variable 'Variable:0' shape=(2,) dtype=int32, numpy=array([53,  6])>"
      ]
     },
     "execution_count": 18,
     "metadata": {},
     "output_type": "execute_result"
    }
   ],
   "source": [
    "# It works with .assign() method\n",
    "tf_variable_tensor[0].assign(53)\n",
    "tf_variable_tensor"
   ]
  },
  {
   "attachments": {},
   "cell_type": "markdown",
   "metadata": {},
   "source": [
    "But We can't change the values of tensors which is created by `'tf.constant()'`"
   ]
  },
  {
   "cell_type": "code",
   "execution_count": 19,
   "metadata": {},
   "outputs": [
    {
     "ename": "AttributeError",
     "evalue": "'tensorflow.python.framework.ops.EagerTensor' object has no attribute 'assign'",
     "output_type": "error",
     "traceback": [
      "\u001b[1;31m---------------------------------------------------------------------------\u001b[0m",
      "\u001b[1;31mAttributeError\u001b[0m                            Traceback (most recent call last)",
      "Cell \u001b[1;32mIn[19], line 1\u001b[0m\n\u001b[1;32m----> 1\u001b[0m tf_constant_tensor[\u001b[39m0\u001b[39;49m]\u001b[39m.\u001b[39;49massign(\u001b[39m53\u001b[39m)\n\u001b[0;32m      2\u001b[0m tf_constant_tensor\n",
      "File \u001b[1;32m~\\AppData\\Roaming\\Python\\Python310\\site-packages\\tensorflow\\python\\framework\\ops.py:446\u001b[0m, in \u001b[0;36mTensor.__getattr__\u001b[1;34m(self, name)\u001b[0m\n\u001b[0;32m    437\u001b[0m \u001b[39mif\u001b[39;00m name \u001b[39min\u001b[39;00m {\u001b[39m\"\u001b[39m\u001b[39mT\u001b[39m\u001b[39m\"\u001b[39m, \u001b[39m\"\u001b[39m\u001b[39mastype\u001b[39m\u001b[39m\"\u001b[39m, \u001b[39m\"\u001b[39m\u001b[39mravel\u001b[39m\u001b[39m\"\u001b[39m, \u001b[39m\"\u001b[39m\u001b[39mtranspose\u001b[39m\u001b[39m\"\u001b[39m, \u001b[39m\"\u001b[39m\u001b[39mreshape\u001b[39m\u001b[39m\"\u001b[39m, \u001b[39m\"\u001b[39m\u001b[39mclip\u001b[39m\u001b[39m\"\u001b[39m, \u001b[39m\"\u001b[39m\u001b[39msize\u001b[39m\u001b[39m\"\u001b[39m,\n\u001b[0;32m    438\u001b[0m             \u001b[39m\"\u001b[39m\u001b[39mtolist\u001b[39m\u001b[39m\"\u001b[39m, \u001b[39m\"\u001b[39m\u001b[39mdata\u001b[39m\u001b[39m\"\u001b[39m}:\n\u001b[0;32m    439\u001b[0m   \u001b[39m# TODO(wangpeng): Export the enable_numpy_behavior knob\u001b[39;00m\n\u001b[0;32m    440\u001b[0m   \u001b[39mraise\u001b[39;00m \u001b[39mAttributeError\u001b[39;00m(\n\u001b[0;32m    441\u001b[0m       \u001b[39mf\u001b[39m\u001b[39m\"\u001b[39m\u001b[39m{\u001b[39;00m\u001b[39mtype\u001b[39m(\u001b[39mself\u001b[39m)\u001b[39m.\u001b[39m\u001b[39m__name__\u001b[39m\u001b[39m}\u001b[39;00m\u001b[39m object has no attribute \u001b[39m\u001b[39m'\u001b[39m\u001b[39m{\u001b[39;00mname\u001b[39m}\u001b[39;00m\u001b[39m'\u001b[39m\u001b[39m. \u001b[39m\u001b[39m\"\u001b[39m \u001b[39m+\u001b[39m \u001b[39m\"\"\"\u001b[39m\n\u001b[0;32m    442\u001b[0m \u001b[39m    If you are looking for numpy-related methods, please run the following:\u001b[39m\n\u001b[0;32m    443\u001b[0m \u001b[39m    from tensorflow.python.ops.numpy_ops import np_config\u001b[39m\n\u001b[0;32m    444\u001b[0m \u001b[39m    np_config.enable_numpy_behavior()\u001b[39m\n\u001b[0;32m    445\u001b[0m \u001b[39m  \u001b[39m\u001b[39m\"\"\"\u001b[39m)\n\u001b[1;32m--> 446\u001b[0m \u001b[39mself\u001b[39;49m\u001b[39m.\u001b[39;49m\u001b[39m__getattribute__\u001b[39;49m(name)\n",
      "\u001b[1;31mAttributeError\u001b[0m: 'tensorflow.python.framework.ops.EagerTensor' object has no attribute 'assign'"
     ]
    }
   ],
   "source": [
    "tf_constant_tensor[0].assign(53)\n",
    "tf_constant_tensor"
   ]
  },
  {
   "attachments": {},
   "cell_type": "markdown",
   "metadata": {},
   "source": [
    "So which one should we use when creating tensors? `'tf.is constant()'` or `'tf.Variable()'` ?\n",
    "\n",
    "Most of the time, TensorFlow will set this up for us in the background while we are writing the model."
   ]
  },
  {
   "attachments": {},
   "cell_type": "markdown",
   "metadata": {},
   "source": [
    "### Mixing Tensor Elements with `'tf.random.shuffle'` (https://www.tensorflow.org/api_docs/python/tf/random/shuffle ) "
   ]
  },
  {
   "attachments": {},
   "cell_type": "markdown",
   "metadata": {},
   "source": [
    "It is also very important to mix the elements in the tensor. Deep Learning models are very prone to overfitting. Depending on any factor, they may overfit the data(memorizing the train data). On the other hand,\n",
    "\n",
    "Example labels:\n",
    "\n",
    "`0 0 0 0 0 0 0 0 0 0 0 1 1 1 1 1 1 1 1 1` if we consider a data that is, it is important to mix the elements in the tensor. When Decoupling such a sorted data as a train-test, we can create an imbalance between classes."
   ]
  },
  {
   "cell_type": "code",
   "execution_count": 20,
   "metadata": {},
   "outputs": [
    {
     "data": {
      "text/plain": [
       "<tf.Tensor: shape=(4, 2), dtype=int32, numpy=\n",
       "array([[348,   4],\n",
       "       [  1,  21],\n",
       "       [ 22,  11],\n",
       "       [ 50,   6]])>"
      ]
     },
     "execution_count": 20,
     "metadata": {},
     "output_type": "execute_result"
    }
   ],
   "source": [
    "tensor = tf.constant([[1, 21],\n",
    "                            [348, 4],\n",
    "                            [50, 6],\n",
    "                            [22, 11]])\n",
    "\n",
    "# It gives always different result.\n",
    "tf.random.shuffle(tensor)"
   ]
  },
  {
   "cell_type": "code",
   "execution_count": 21,
   "metadata": {},
   "outputs": [
    {
     "data": {
      "text/plain": [
       "<tf.Tensor: shape=(4, 2), dtype=int32, numpy=\n",
       "array([[ 50,   6],\n",
       "       [348,   4],\n",
       "       [ 22,  11],\n",
       "       [  1,  21]])>"
      ]
     },
     "execution_count": 21,
     "metadata": {},
     "output_type": "execute_result"
    }
   ],
   "source": [
    "tf.random.shuffle(tensor)"
   ]
  },
  {
   "cell_type": "code",
   "execution_count": 22,
   "metadata": {},
   "outputs": [
    {
     "data": {
      "text/plain": [
       "<tf.Tensor: shape=(4, 2), dtype=int32, numpy=\n",
       "array([[  1,  21],\n",
       "       [ 22,  11],\n",
       "       [ 50,   6],\n",
       "       [348,   4]])>"
      ]
     },
     "execution_count": 22,
     "metadata": {},
     "output_type": "execute_result"
    }
   ],
   "source": [
    "# Lets look out the seed parameter\n",
    "tf.random.shuffle(tensor, seed= 53)"
   ]
  },
  {
   "cell_type": "code",
   "execution_count": 23,
   "metadata": {},
   "outputs": [
    {
     "data": {
      "text/plain": [
       "<tf.Tensor: shape=(4, 2), dtype=int32, numpy=\n",
       "array([[ 22,  11],\n",
       "       [  1,  21],\n",
       "       [348,   4],\n",
       "       [ 50,   6]])>"
      ]
     },
     "execution_count": 23,
     "metadata": {},
     "output_type": "execute_result"
    }
   ],
   "source": [
    "tf.random.shuffle(tensor, seed= 53)"
   ]
  },
  {
   "attachments": {},
   "cell_type": "markdown",
   "metadata": {},
   "source": [
    "--> even though we gave `seed`, the shuffle results turned out to be different."
   ]
  },
  {
   "attachments": {},
   "cell_type": "markdown",
   "metadata": {},
   "source": [
    "If we want the same results here, it will not be enough to determine the operational seed. We also need to set up a global seed."
   ]
  },
  {
   "cell_type": "code",
   "execution_count": 24,
   "metadata": {},
   "outputs": [
    {
     "name": "stdout",
     "output_type": "stream",
     "text": [
      "tf.Tensor(\n",
      "[[348   4]\n",
      " [  1  21]\n",
      " [ 50   6]\n",
      " [ 22  11]], shape=(4, 2), dtype=int32)\n",
      "tf.Tensor(\n",
      "[[348   4]\n",
      " [  1  21]\n",
      " [ 50   6]\n",
      " [ 22  11]], shape=(4, 2), dtype=int32)\n",
      "tf.Tensor(\n",
      "[[348   4]\n",
      " [  1  21]\n",
      " [ 50   6]\n",
      " [ 22  11]], shape=(4, 2), dtype=int32)\n",
      "tf.Tensor(\n",
      "[[348   4]\n",
      " [  1  21]\n",
      " [ 50   6]\n",
      " [ 22  11]], shape=(4, 2), dtype=int32)\n",
      "tf.Tensor(\n",
      "[[348   4]\n",
      " [  1  21]\n",
      " [ 50   6]\n",
      " [ 22  11]], shape=(4, 2), dtype=int32)\n"
     ]
    }
   ],
   "source": [
    "# We gave same shuffle always in this ways.\n",
    "\n",
    "seed = 53\n",
    "\n",
    "for _ in range(5):\n",
    "  # Set Global seed\n",
    "  tf.random.set_seed(seed)\n",
    "\n",
    "  # Set operational seed\n",
    "  print(tf.random.shuffle(tensor, seed=seed)) "
   ]
  },
  {
   "attachments": {},
   "cell_type": "markdown",
   "metadata": {},
   "source": [
    "Creating Tensor with other Functions\n",
    "\n",
    "`tf.ones()` , `tf.fill()` and `tf.zeros()` etc."
   ]
  },
  {
   "cell_type": "code",
   "execution_count": 25,
   "metadata": {},
   "outputs": [
    {
     "data": {
      "text/plain": [
       "<tf.Tensor: shape=(3, 3), dtype=float32, numpy=\n",
       "array([[1., 1., 1.],\n",
       "       [1., 1., 1.],\n",
       "       [1., 1., 1.]], dtype=float32)>"
      ]
     },
     "execution_count": 25,
     "metadata": {},
     "output_type": "execute_result"
    }
   ],
   "source": [
    "tf.ones(shape= (3,3))"
   ]
  },
  {
   "cell_type": "code",
   "execution_count": 26,
   "metadata": {},
   "outputs": [
    {
     "data": {
      "text/plain": [
       "<tf.Tensor: shape=(2, 3), dtype=int32, numpy=\n",
       "array([[-1, -1, -1],\n",
       "       [-1, -1, -1]])>"
      ]
     },
     "execution_count": 26,
     "metadata": {},
     "output_type": "execute_result"
    }
   ],
   "source": [
    "tf.fill((2,3) , -1)"
   ]
  },
  {
   "cell_type": "code",
   "execution_count": 27,
   "metadata": {},
   "outputs": [
    {
     "data": {
      "text/plain": [
       "<tf.Tensor: shape=(3, 5), dtype=float32, numpy=\n",
       "array([[0., 0., 0., 0., 0.],\n",
       "       [0., 0., 0., 0., 0.],\n",
       "       [0., 0., 0., 0., 0.]], dtype=float32)>"
      ]
     },
     "execution_count": 27,
     "metadata": {},
     "output_type": "execute_result"
    }
   ],
   "source": [
    "tf.zeros((3,5))"
   ]
  },
  {
   "attachments": {},
   "cell_type": "markdown",
   "metadata": {},
   "source": [
    "We can also convert numpy arrays into tensors using `tf.constant()`\n",
    "\n",
    "Matrices or tensors are usually named with capital letters. The vectors are named with small letters."
   ]
  },
  {
   "cell_type": "code",
   "execution_count": 28,
   "metadata": {},
   "outputs": [
    {
     "name": "stdout",
     "output_type": "stream",
     "text": [
      "[ 1  2  3  4  5  6  7  8  9 10 11 12]\n",
      "tf.Tensor(\n",
      "[[[ 1  2]\n",
      "  [ 3  4]\n",
      "  [ 5  6]]\n",
      "\n",
      " [[ 7  8]\n",
      "  [ 9 10]\n",
      "  [11 12]]], shape=(2, 3, 2), dtype=int32)\n"
     ]
    }
   ],
   "source": [
    "import numpy as np\n",
    "\n",
    "np_array = np.arange(1, 13)\n",
    "\n",
    "k = tf.constant(np_array,  \n",
    "                shape=[2, 3, 2]) \n",
    "print(np_array) \n",
    "print(k) "
   ]
  },
  {
   "attachments": {},
   "cell_type": "markdown",
   "metadata": {},
   "source": [
    "You can also do this using [`tf.convert_to_tensor()`](https://www.tensorflow.org/api_docs/python/tf/convert_to_tensor)"
   ]
  },
  {
   "cell_type": "code",
   "execution_count": 29,
   "metadata": {},
   "outputs": [
    {
     "data": {
      "text/plain": [
       "<tf.Tensor: shape=(2, 3, 2), dtype=int32, numpy=\n",
       "array([[[ 1,  2],\n",
       "        [ 3,  4],\n",
       "        [ 5,  6]],\n",
       "\n",
       "       [[ 7,  8],\n",
       "        [ 9, 10],\n",
       "        [11, 12]]])>"
      ]
     },
     "execution_count": 29,
     "metadata": {},
     "output_type": "execute_result"
    }
   ],
   "source": [
    "n = tf.convert_to_tensor(np_array) # it doesn't have shape argument.\n",
    "n = tf.reshape(n, [2,3,2]) # But you can reshape it this way.\n",
    "n"
   ]
  },
  {
   "attachments": {},
   "cell_type": "markdown",
   "metadata": {},
   "source": [
    "## Access Tensors informations(shape, rank, size, axis etc.)"
   ]
  },
  {
   "cell_type": "code",
   "execution_count": 30,
   "metadata": {},
   "outputs": [
    {
     "data": {
      "text/plain": [
       "<tf.Tensor: shape=(2, 3, 4, 6), dtype=float32, numpy=\n",
       "array([[[[1., 1., 1., 1., 1., 1.],\n",
       "         [1., 1., 1., 1., 1., 1.],\n",
       "         [1., 1., 1., 1., 1., 1.],\n",
       "         [1., 1., 1., 1., 1., 1.]],\n",
       "\n",
       "        [[1., 1., 1., 1., 1., 1.],\n",
       "         [1., 1., 1., 1., 1., 1.],\n",
       "         [1., 1., 1., 1., 1., 1.],\n",
       "         [1., 1., 1., 1., 1., 1.]],\n",
       "\n",
       "        [[1., 1., 1., 1., 1., 1.],\n",
       "         [1., 1., 1., 1., 1., 1.],\n",
       "         [1., 1., 1., 1., 1., 1.],\n",
       "         [1., 1., 1., 1., 1., 1.]]],\n",
       "\n",
       "\n",
       "       [[[1., 1., 1., 1., 1., 1.],\n",
       "         [1., 1., 1., 1., 1., 1.],\n",
       "         [1., 1., 1., 1., 1., 1.],\n",
       "         [1., 1., 1., 1., 1., 1.]],\n",
       "\n",
       "        [[1., 1., 1., 1., 1., 1.],\n",
       "         [1., 1., 1., 1., 1., 1.],\n",
       "         [1., 1., 1., 1., 1., 1.],\n",
       "         [1., 1., 1., 1., 1., 1.]],\n",
       "\n",
       "        [[1., 1., 1., 1., 1., 1.],\n",
       "         [1., 1., 1., 1., 1., 1.],\n",
       "         [1., 1., 1., 1., 1., 1.],\n",
       "         [1., 1., 1., 1., 1., 1.]]]], dtype=float32)>"
      ]
     },
     "execution_count": 30,
     "metadata": {},
     "output_type": "execute_result"
    }
   ],
   "source": [
    "tensor_4_rank = tf.ones(shape= (2, 3, 4, 6))\n",
    "tensor_4_rank"
   ]
  },
  {
   "cell_type": "code",
   "execution_count": 31,
   "metadata": {},
   "outputs": [
    {
     "name": "stdout",
     "output_type": "stream",
     "text": [
      "(2, 3, 4, 6)\n",
      "4\n",
      "tf.Tensor(144, shape=(), dtype=int32)\n",
      "tf.Tensor([2 3 4 6], shape=(4,), dtype=int32)\n"
     ]
    }
   ],
   "source": [
    "print(tensor_4_rank.shape)\n",
    "print(tensor_4_rank.ndim)\n",
    "print(tf.size(tensor_4_rank))\n",
    "print(tf.shape(tensor_4_rank))"
   ]
  },
  {
   "cell_type": "code",
   "execution_count": 32,
   "metadata": {},
   "outputs": [
    {
     "name": "stdout",
     "output_type": "stream",
     "text": [
      "Elements dtypes: <dtype: 'float32'>\n",
      "Dimensions or Ranks: 4\n",
      "Tensor's shape: (2, 3, 4, 6)\n",
      "Number of items at 0.axis: 2\n",
      "Number of items at last axis: 6\n",
      "Number of total elements: 144\n"
     ]
    }
   ],
   "source": [
    "print(\"Elements dtypes:\", tensor_4_rank.dtype)\n",
    "print(\"Dimensions or Ranks:\", tensor_4_rank.ndim)\n",
    "print(\"Tensor's shape:\", tensor_4_rank.shape)\n",
    "print(\"Number of items at 0.axis:\", tensor_4_rank.shape[0])\n",
    "print(\"Number of items at last axis:\", tensor_4_rank.shape[-1])\n",
    "print(\"Number of total elements:\", tf.size(tensor_4_rank).numpy())"
   ]
  },
  {
   "attachments": {},
   "cell_type": "markdown",
   "metadata": {},
   "source": [
    "It is also possible to index tensors just like python lists."
   ]
  },
  {
   "cell_type": "code",
   "execution_count": 33,
   "metadata": {},
   "outputs": [
    {
     "data": {
      "text/plain": [
       "<tf.Tensor: shape=(2, 2, 2, 2), dtype=float32, numpy=\n",
       "array([[[[1., 1.],\n",
       "         [1., 1.]],\n",
       "\n",
       "        [[1., 1.],\n",
       "         [1., 1.]]],\n",
       "\n",
       "\n",
       "       [[[1., 1.],\n",
       "         [1., 1.]],\n",
       "\n",
       "        [[1., 1.],\n",
       "         [1., 1.]]]], dtype=float32)>"
      ]
     },
     "execution_count": 33,
     "metadata": {},
     "output_type": "execute_result"
    }
   ],
   "source": [
    "# Get first 2 elements in all dimensions\n",
    "tensor_4_rank[:2, :2, :2, :2]"
   ]
  },
  {
   "cell_type": "code",
   "execution_count": 34,
   "metadata": {},
   "outputs": [
    {
     "data": {
      "text/plain": [
       "<tf.Tensor: shape=(2,), dtype=int32, numpy=array([2, 4])>"
      ]
     },
     "execution_count": 34,
     "metadata": {},
     "output_type": "execute_result"
    }
   ],
   "source": [
    "tensor_2_rank = tf.constant([[1, 2],\n",
    "                             [3, 4]])\n",
    "\n",
    "tensor_2_rank[:, -1] # Get last elements from all rows"
   ]
  },
  {
   "attachments": {},
   "cell_type": "markdown",
   "metadata": {},
   "source": [
    "## We can add new dimensions to tensors. There is 2 different way `tf.newaxis()` and `tf.expand_dims()`"
   ]
  },
  {
   "cell_type": "code",
   "execution_count": 35,
   "metadata": {},
   "outputs": [
    {
     "name": "stdout",
     "output_type": "stream",
     "text": [
      "Rank 2: tf.Tensor(\n",
      "[[1 2]\n",
      " [3 4]], shape=(2, 2), dtype=int32) \n",
      "\n",
      "\n",
      "Rank 3: tf.Tensor(\n",
      "[[[1]\n",
      "  [2]]\n",
      "\n",
      " [[3]\n",
      "  [4]]], shape=(2, 2, 1), dtype=int32) \n",
      "\n",
      "\n",
      "Rank 3 alternatif: tf.Tensor(\n",
      "[[[1]\n",
      "  [2]]\n",
      "\n",
      " [[3]\n",
      "  [4]]], shape=(2, 2, 1), dtype=int32)\n"
     ]
    }
   ],
   "source": [
    "tensor_3_rank = tensor_2_rank[..., tf.newaxis] # Pythonic way\n",
    "\n",
    "alternatif_3_rank_tensor = tf.expand_dims(tensor_2_rank, axis = -1)\n",
    "\n",
    "print('Rank 2:', tensor_2_rank, '\\n\\n') \n",
    "print('Rank 3:', tensor_3_rank, '\\n\\n') \n",
    "print('Rank 3 alternatif:', alternatif_3_rank_tensor)"
   ]
  },
  {
   "attachments": {},
   "cell_type": "markdown",
   "metadata": {},
   "source": [
    "## Manipulate Tensors"
   ]
  },
  {
   "attachments": {},
   "cell_type": "markdown",
   "metadata": {},
   "source": [
    "### Mathematical Functions"
   ]
  },
  {
   "cell_type": "code",
   "execution_count": 36,
   "metadata": {},
   "outputs": [
    {
     "name": "stdout",
     "output_type": "stream",
     "text": [
      "2668015072064\n",
      "2668015073216\n",
      "tf.Tensor(\n",
      "[[24 38]\n",
      " [52 66]], shape=(2, 2), dtype=int32)\n"
     ]
    }
   ],
   "source": [
    "tensor = tf.constant([[14, 28], [42, 56]])\n",
    "print(id(tensor))\n",
    "\n",
    "print(id(tensor + 10))\n",
    "print(tensor + 10)"
   ]
  },
  {
   "attachments": {},
   "cell_type": "markdown",
   "metadata": {},
   "source": [
    "Original tensor didin't change because we didin't assign it."
   ]
  },
  {
   "cell_type": "code",
   "execution_count": 37,
   "metadata": {},
   "outputs": [
    {
     "data": {
      "text/plain": [
       "<tf.Tensor: shape=(2, 2), dtype=int32, numpy=\n",
       "array([[14, 28],\n",
       "       [42, 56]])>"
      ]
     },
     "execution_count": 37,
     "metadata": {},
     "output_type": "execute_result"
    }
   ],
   "source": [
    "# Original tensor\n",
    "tensor"
   ]
  },
  {
   "cell_type": "code",
   "execution_count": 38,
   "metadata": {},
   "outputs": [
    {
     "data": {
      "text/plain": [
       "<tf.Tensor: shape=(2, 2), dtype=int32, numpy=\n",
       "array([[24, 38],\n",
       "       [52, 66]])>"
      ]
     },
     "execution_count": 38,
     "metadata": {},
     "output_type": "execute_result"
    }
   ],
   "source": [
    "# Now original tensor is changed too\n",
    "tensor = tensor + 10\n",
    "tensor"
   ]
  },
  {
   "cell_type": "code",
   "execution_count": 39,
   "metadata": {},
   "outputs": [
    {
     "data": {
      "text/plain": [
       "<tf.Tensor: shape=(2, 2), dtype=int32, numpy=\n",
       "array([[240, 380],\n",
       "       [520, 660]])>"
      ]
     },
     "execution_count": 39,
     "metadata": {},
     "output_type": "execute_result"
    }
   ],
   "source": [
    "tensor * 10"
   ]
  },
  {
   "cell_type": "code",
   "execution_count": 40,
   "metadata": {},
   "outputs": [
    {
     "data": {
      "text/plain": [
       "<tf.Tensor: shape=(2, 2), dtype=int32, numpy=\n",
       "array([[14, 28],\n",
       "       [42, 56]])>"
      ]
     },
     "execution_count": 40,
     "metadata": {},
     "output_type": "execute_result"
    }
   ],
   "source": [
    "tensor - 10"
   ]
  },
  {
   "attachments": {},
   "cell_type": "markdown",
   "metadata": {},
   "source": [
    "It is a better practice to use the functions implemented by TensorFlow as much as possible. This is necessary so that there is no problem with TensorFlow's graph. TensorFlow needs its own functions to be able to track transactions. This is inevitable, especially in gradient calculation."
   ]
  },
  {
   "cell_type": "code",
   "execution_count": 41,
   "metadata": {},
   "outputs": [
    {
     "data": {
      "text/plain": [
       "<tf.Tensor: shape=(2, 2), dtype=int32, numpy=\n",
       "array([[240, 380],\n",
       "       [520, 660]])>"
      ]
     },
     "execution_count": 41,
     "metadata": {},
     "output_type": "execute_result"
    }
   ],
   "source": [
    "tf.multiply(tensor , 10)"
   ]
  },
  {
   "cell_type": "code",
   "execution_count": 42,
   "metadata": {},
   "outputs": [
    {
     "data": {
      "text/plain": [
       "<tf.Tensor: shape=(2, 2), dtype=int32, numpy=\n",
       "array([[24, 38],\n",
       "       [52, 66]])>"
      ]
     },
     "execution_count": 42,
     "metadata": {},
     "output_type": "execute_result"
    }
   ],
   "source": [
    "# Original didin't changed.\n",
    "tensor "
   ]
  },
  {
   "cell_type": "code",
   "execution_count": 43,
   "metadata": {},
   "outputs": [
    {
     "data": {
      "text/plain": [
       "<tf.Tensor: shape=(2, 2), dtype=int32, numpy=\n",
       "array([[240, 380],\n",
       "       [520, 660]])>"
      ]
     },
     "execution_count": 43,
     "metadata": {},
     "output_type": "execute_result"
    }
   ],
   "source": [
    "tensor = tf.multiply(tensor , 10)\n",
    "tensor"
   ]
  },
  {
   "attachments": {},
   "cell_type": "markdown",
   "metadata": {},
   "source": [
    "## Matrix Multiply"
   ]
  },
  {
   "attachments": {},
   "cell_type": "markdown",
   "metadata": {},
   "source": [
    "There are 3 ways for matrix multiply:\n",
    "* [`tf.matmul()`](https://www.tensorflow.org/api_docs/python/tf/linalg/matmul)\n",
    "* [`tf.tensordot()`](https://www.tensorflow.org/api_docs/python/tf/tensordot)\n",
    "* [`tf.einsum()`](https://www.tensorflow.org/api_docs/python/tf/einsum) -- > We will talk about it later."
   ]
  },
  {
   "cell_type": "code",
   "execution_count": 44,
   "metadata": {},
   "outputs": [
    {
     "data": {
      "text/plain": [
       "<tf.Tensor: shape=(2, 2), dtype=int32, numpy=\n",
       "array([[14, 28],\n",
       "       [42, 56]])>"
      ]
     },
     "execution_count": 44,
     "metadata": {},
     "output_type": "execute_result"
    }
   ],
   "source": [
    "tensor = tf.constant([[14, 28], [42, 56]])\n",
    "tensor"
   ]
  },
  {
   "cell_type": "code",
   "execution_count": 45,
   "metadata": {},
   "outputs": [
    {
     "name": "stdout",
     "output_type": "stream",
     "text": [
      "tf.Tensor(\n",
      "[[14 28]\n",
      " [42 56]], shape=(2, 2), dtype=int32) \n",
      "\n",
      "\n",
      "Matrix Multiply with itself: tf.Tensor(\n",
      "[[1372 1960]\n",
      " [2940 4312]], shape=(2, 2), dtype=int32)\n"
     ]
    }
   ],
   "source": [
    "print(tensor, '\\n\\n')\n",
    "print('Matrix Multiply with itself:', tf.matmul(tensor, tensor))"
   ]
  },
  {
   "cell_type": "code",
   "execution_count": 46,
   "metadata": {},
   "outputs": [
    {
     "data": {
      "text/plain": [
       "<tf.Tensor: shape=(2, 2), dtype=int32, numpy=\n",
       "array([[1372, 1960],\n",
       "       [2940, 4312]])>"
      ]
     },
     "execution_count": 46,
     "metadata": {},
     "output_type": "execute_result"
    }
   ],
   "source": [
    "# We can also do it with @ python operator\n",
    "tensor @ tensor"
   ]
  },
  {
   "attachments": {},
   "cell_type": "markdown",
   "metadata": {},
   "source": [
    "Tensors shape must be correct."
   ]
  },
  {
   "cell_type": "code",
   "execution_count": 47,
   "metadata": {},
   "outputs": [
    {
     "name": "stdout",
     "output_type": "stream",
     "text": [
      "tf.Tensor(\n",
      "[[10 20]\n",
      " [30 40]\n",
      " [50 60]], shape=(3, 2), dtype=int32)\n",
      "tf.Tensor(\n",
      "[[ 1  2]\n",
      " [ 4 45]\n",
      " [ 1  0]], shape=(3, 2), dtype=int32)\n"
     ]
    }
   ],
   "source": [
    "# (3,2) Tensor\n",
    "tensor_1 = tf.constant([[10, 20],\n",
    "                 [30, 40],\n",
    "                 [50, 60]])\n",
    "\n",
    "# (3,2) Tensor\n",
    "tensor_2 = tf.constant([[1, 2],\n",
    "                 [4, 45],\n",
    "                 [1, 0]])\n",
    "\n",
    "print(tensor_1)\n",
    "print(tensor_2)"
   ]
  },
  {
   "cell_type": "code",
   "execution_count": 48,
   "metadata": {},
   "outputs": [
    {
     "ename": "InvalidArgumentError",
     "evalue": "{{function_node __wrapped__MatMul_device_/job:localhost/replica:0/task:0/device:CPU:0}} Matrix size-incompatible: In[0]: [3,2], In[1]: [3,2] [Op:MatMul]",
     "output_type": "error",
     "traceback": [
      "\u001b[1;31m---------------------------------------------------------------------------\u001b[0m",
      "\u001b[1;31mInvalidArgumentError\u001b[0m                      Traceback (most recent call last)",
      "Cell \u001b[1;32mIn[48], line 1\u001b[0m\n\u001b[1;32m----> 1\u001b[0m tensor_1 \u001b[39m@\u001b[39;49m tensor_2\n",
      "File \u001b[1;32m~\\AppData\\Roaming\\Python\\Python310\\site-packages\\tensorflow\\python\\util\\traceback_utils.py:153\u001b[0m, in \u001b[0;36mfilter_traceback.<locals>.error_handler\u001b[1;34m(*args, **kwargs)\u001b[0m\n\u001b[0;32m    151\u001b[0m \u001b[39mexcept\u001b[39;00m \u001b[39mException\u001b[39;00m \u001b[39mas\u001b[39;00m e:\n\u001b[0;32m    152\u001b[0m   filtered_tb \u001b[39m=\u001b[39m _process_traceback_frames(e\u001b[39m.\u001b[39m__traceback__)\n\u001b[1;32m--> 153\u001b[0m   \u001b[39mraise\u001b[39;00m e\u001b[39m.\u001b[39mwith_traceback(filtered_tb) \u001b[39mfrom\u001b[39;00m \u001b[39mNone\u001b[39m\n\u001b[0;32m    154\u001b[0m \u001b[39mfinally\u001b[39;00m:\n\u001b[0;32m    155\u001b[0m   \u001b[39mdel\u001b[39;00m filtered_tb\n",
      "File \u001b[1;32m~\\AppData\\Roaming\\Python\\Python310\\site-packages\\tensorflow\\python\\framework\\ops.py:7209\u001b[0m, in \u001b[0;36mraise_from_not_ok_status\u001b[1;34m(e, name)\u001b[0m\n\u001b[0;32m   7207\u001b[0m \u001b[39mdef\u001b[39;00m \u001b[39mraise_from_not_ok_status\u001b[39m(e, name):\n\u001b[0;32m   7208\u001b[0m   e\u001b[39m.\u001b[39mmessage \u001b[39m+\u001b[39m\u001b[39m=\u001b[39m (\u001b[39m\"\u001b[39m\u001b[39m name: \u001b[39m\u001b[39m\"\u001b[39m \u001b[39m+\u001b[39m name \u001b[39mif\u001b[39;00m name \u001b[39mis\u001b[39;00m \u001b[39mnot\u001b[39;00m \u001b[39mNone\u001b[39;00m \u001b[39melse\u001b[39;00m \u001b[39m\"\u001b[39m\u001b[39m\"\u001b[39m)\n\u001b[1;32m-> 7209\u001b[0m   \u001b[39mraise\u001b[39;00m core\u001b[39m.\u001b[39m_status_to_exception(e) \u001b[39mfrom\u001b[39;00m \u001b[39mNone\u001b[39m\n",
      "\u001b[1;31mInvalidArgumentError\u001b[0m: {{function_node __wrapped__MatMul_device_/job:localhost/replica:0/task:0/device:CPU:0}} Matrix size-incompatible: In[0]: [3,2], In[1]: [3,2] [Op:MatMul]"
     ]
    }
   ],
   "source": [
    "tensor_1 @ tensor_2"
   ]
  },
  {
   "attachments": {},
   "cell_type": "markdown",
   "metadata": {},
   "source": [
    "First tensor's column size must be equal to second tensors rows"
   ]
  },
  {
   "attachments": {},
   "cell_type": "markdown",
   "metadata": {},
   "source": [
    "What can we do now ? \n",
    "* We can transpose to `tensor_1`\n",
    "* We could reshape `tensor_2` shape to  `(2, 3)`\n",
    "\n",
    "* [`tf.reshape()`](https://www.tensorflow.org/api_docs/python/tf/reshape)\n",
    "* [`tf.transpose()`](https://www.tensorflow.org/api_docs/python/tf/transpose)"
   ]
  },
  {
   "cell_type": "code",
   "execution_count": 49,
   "metadata": {},
   "outputs": [
    {
     "data": {
      "text/plain": [
       "<tf.Tensor: shape=(2, 3), dtype=int32, numpy=\n",
       "array([[10, 20, 30],\n",
       "       [40, 50, 60]])>"
      ]
     },
     "execution_count": 49,
     "metadata": {},
     "output_type": "execute_result"
    }
   ],
   "source": [
    "# (3, 2) --> (2, 3)\n",
    "tf.reshape(tensor_1 , shape = (2,3))"
   ]
  },
  {
   "cell_type": "code",
   "execution_count": 50,
   "metadata": {},
   "outputs": [
    {
     "data": {
      "text/plain": [
       "<tf.Tensor: shape=(3, 3), dtype=int32, numpy=\n",
       "array([[ 910,   40,   40],\n",
       "       [1830,  100,  120],\n",
       "       [2750,  160,  200]])>"
      ]
     },
     "execution_count": 50,
     "metadata": {},
     "output_type": "execute_result"
    }
   ],
   "source": [
    "# We can do matrix multiply now (3, 2) * (2, 3)\n",
    "tensor_1 @ tf.reshape(tensor_2, shape=(2, 3))"
   ]
  },
  {
   "cell_type": "code",
   "execution_count": 51,
   "metadata": {},
   "outputs": [
    {
     "data": {
      "text/plain": [
       "<tf.Tensor: shape=(2, 3), dtype=int32, numpy=\n",
       "array([[10, 30, 50],\n",
       "       [20, 40, 60]])>"
      ]
     },
     "execution_count": 51,
     "metadata": {},
     "output_type": "execute_result"
    }
   ],
   "source": [
    "# tensor_1'in transpozu\n",
    "tf.transpose(tensor_1)"
   ]
  },
  {
   "cell_type": "code",
   "execution_count": 52,
   "metadata": {},
   "outputs": [
    {
     "data": {
      "text/plain": [
       "<tf.Tensor: shape=(2, 2), dtype=int32, numpy=\n",
       "array([[ 180, 1370],\n",
       "       [ 240, 1840]])>"
      ]
     },
     "execution_count": 52,
     "metadata": {},
     "output_type": "execute_result"
    }
   ],
   "source": [
    "# Aynı matris çarpımı transpoz ile (2, 3) (3, 2)\n",
    "tf.matmul(tf.transpose(tensor_1), tensor_2)"
   ]
  },
  {
   "cell_type": "code",
   "execution_count": 53,
   "metadata": {},
   "outputs": [
    {
     "data": {
      "text/plain": [
       "<tf.Tensor: shape=(2, 2), dtype=int32, numpy=\n",
       "array([[ 180, 1370],\n",
       "       [ 240, 1840]])>"
      ]
     },
     "execution_count": 53,
     "metadata": {},
     "output_type": "execute_result"
    }
   ],
   "source": [
    "# We can use transpose parameter in tf.matmul() function.\n",
    "tf.matmul(a = tensor_1 , b = tensor_2,\n",
    "          transpose_a= True , transpose_b= False)"
   ]
  },
  {
   "attachments": {},
   "cell_type": "markdown",
   "metadata": {},
   "source": [
    "### `tf.transpose()` - perm parameter\n",
    "\n",
    "We can change axixes"
   ]
  },
  {
   "cell_type": "code",
   "execution_count": 54,
   "metadata": {},
   "outputs": [
    {
     "name": "stdout",
     "output_type": "stream",
     "text": [
      "(2, 2, 32, 3)\n"
     ]
    },
    {
     "data": {
      "text/plain": [
       "TensorShape([3, 32, 2, 2])"
      ]
     },
     "execution_count": 54,
     "metadata": {},
     "output_type": "execute_result"
    }
   ],
   "source": [
    "x = tf.random.normal([2,2,32,3]) # 2, 2, 32, 3\n",
    "print(x.shape)\n",
    "tf.transpose(x).shape"
   ]
  },
  {
   "cell_type": "code",
   "execution_count": 55,
   "metadata": {},
   "outputs": [
    {
     "data": {
      "text/plain": [
       "TensorShape([1, 3, 32, 2, 2])"
      ]
     },
     "execution_count": 55,
     "metadata": {},
     "output_type": "execute_result"
    }
   ],
   "source": [
    "x = tf.random.normal([2, 2, 32, 3, 1])\n",
    "tf.transpose(x).shape"
   ]
  },
  {
   "cell_type": "code",
   "execution_count": 56,
   "metadata": {},
   "outputs": [
    {
     "data": {
      "text/plain": [
       "TensorShape([2, 3, 32, 2, 1])"
      ]
     },
     "execution_count": 56,
     "metadata": {},
     "output_type": "execute_result"
    }
   ],
   "source": [
    "tf.transpose(x, perm = [0, 3, 2, 1, 4]).shape # (32, 32, 3) 3 --> derinlik rgb (3, 32, 32)"
   ]
  },
  {
   "attachments": {},
   "cell_type": "markdown",
   "metadata": {},
   "source": [
    "## Dot Product"
   ]
  },
  {
   "attachments": {},
   "cell_type": "markdown",
   "metadata": {},
   "source": [
    "We can do matrix multiply with `tf.tensordot()` instead of `tf.matmul()`\n",
    "\n",
    "For simple operations `tf.matmul()` more fast and logical because `tf.matmul()` func's graph are more basic.\n",
    "`tf.matmul()` working simplier than tf.tensordot()"
   ]
  },
  {
   "cell_type": "code",
   "execution_count": 57,
   "metadata": {},
   "outputs": [
    {
     "data": {
      "text/plain": [
       "<tf.Tensor: shape=(2, 2), dtype=int32, numpy=\n",
       "array([[ 180, 1370],\n",
       "       [ 240, 1840]])>"
      ]
     },
     "execution_count": 57,
     "metadata": {},
     "output_type": "execute_result"
    }
   ],
   "source": [
    "tf.tensordot(tf.transpose(tensor_1) , tensor_2 , axes = 1) # if axes = 1 its equal to tf.matmul()"
   ]
  },
  {
   "cell_type": "code",
   "execution_count": 58,
   "metadata": {},
   "outputs": [
    {
     "data": {
      "text/plain": [
       "<tf.Tensor: shape=(3, 3), dtype=int32, numpy=\n",
       "array([[  50,  940,   10],\n",
       "       [ 110, 1920,   30],\n",
       "       [ 170, 2900,   50]])>"
      ]
     },
     "execution_count": 58,
     "metadata": {},
     "output_type": "execute_result"
    }
   ],
   "source": [
    "tf.matmul(tensor_1, tf.transpose(tensor_2))"
   ]
  },
  {
   "cell_type": "code",
   "execution_count": 59,
   "metadata": {},
   "outputs": [
    {
     "data": {
      "text/plain": [
       "<tf.Tensor: shape=(3, 3), dtype=int32, numpy=\n",
       "array([[ 910,   40,   40],\n",
       "       [1830,  100,  120],\n",
       "       [2750,  160,  200]])>"
      ]
     },
     "execution_count": 59,
     "metadata": {},
     "output_type": "execute_result"
    }
   ],
   "source": [
    "tf.matmul(tensor_1, tf.reshape(tensor_2, (2, 3))) # why different ?"
   ]
  },
  {
   "cell_type": "code",
   "execution_count": 60,
   "metadata": {},
   "outputs": [
    {
     "name": "stdout",
     "output_type": "stream",
     "text": [
      "tensor_2 shape: (3, 2)\n",
      "tensor_2 - Reshape edildi: (2, 3)\n",
      "tensor_2 Transpoz - Shape: (2, 3)\n"
     ]
    }
   ],
   "source": [
    "print('tensor_2 shape:', tensor_2.shape)\n",
    "print('tensor_2 - Reshape edildi:', tf.reshape(tensor_2, (2, 3)).shape)\n",
    "print('tensor_2 Transpoz - Shape:', tf.transpose(tensor_2).shape) # Even if their shape is same, their results are different."
   ]
  },
  {
   "cell_type": "code",
   "execution_count": 61,
   "metadata": {},
   "outputs": [
    {
     "name": "stdout",
     "output_type": "stream",
     "text": [
      "Normal tensor_2:\n",
      "tf.Tensor(\n",
      "[[ 1  2]\n",
      " [ 4 45]\n",
      " [ 1  0]], shape=(3, 2), dtype=int32) \n",
      "\n",
      "tensor_2 reshape edildi --> (2, 3):\n",
      "tf.Tensor(\n",
      "[[ 1  2  4]\n",
      " [45  1  0]], shape=(2, 3), dtype=int32) \n",
      "\n",
      "tensor_2 transpoz edilince:\n",
      "tf.Tensor(\n",
      "[[ 1  4  1]\n",
      " [ 2 45  0]], shape=(2, 3), dtype=int32)\n"
     ]
    }
   ],
   "source": [
    "# Lets print reshape and  transpose matrixes\n",
    "print(\"Normal tensor_2:\")\n",
    "print(tensor_2, \"\\n\")\n",
    "\n",
    "print(\"tensor_2 reshape edildi --> (2, 3):\")\n",
    "print(tf.reshape(tensor_2, (2, 3)), \"\\n\")\n",
    "\n",
    "print(\"tensor_2 transpoz edilince:\")\n",
    "print(tf.transpose(tensor_2))"
   ]
  },
  {
   "attachments": {},
   "cell_type": "markdown",
   "metadata": {},
   "source": [
    "As you see, even if their shape is same, their values are different.\n",
    "\n",
    "`tf.reshape()` or `tf.transpose()` which one is better ?\n",
    "\n",
    "Most of time we will use `tf.transpose()` if there is shape problem."
   ]
  },
  {
   "attachments": {},
   "cell_type": "markdown",
   "metadata": {},
   "source": [
    "## Change the dtype of Tensor"
   ]
  },
  {
   "attachments": {},
   "cell_type": "markdown",
   "metadata": {},
   "source": [
    "We can do this with tf.cast() function"
   ]
  },
  {
   "cell_type": "code",
   "execution_count": 62,
   "metadata": {},
   "outputs": [
    {
     "data": {
      "text/plain": [
       "<tf.Tensor: shape=(2,), dtype=float32, numpy=array([1.6, 8.5], dtype=float32)>"
      ]
     },
     "execution_count": 62,
     "metadata": {},
     "output_type": "execute_result"
    }
   ],
   "source": [
    "tensor = tf.constant([1.6 , 8.5])\n",
    "\n",
    "tensor # dtype float32 default."
   ]
  },
  {
   "cell_type": "code",
   "execution_count": 63,
   "metadata": {},
   "outputs": [
    {
     "name": "stdout",
     "output_type": "stream",
     "text": [
      "tf.Tensor([1.6 8.5], shape=(2,), dtype=float16)\n"
     ]
    }
   ],
   "source": [
    "tensor = tf.cast(tensor , dtype= tf.float16)\n",
    "print(tensor)"
   ]
  },
  {
   "cell_type": "code",
   "execution_count": 64,
   "metadata": {},
   "outputs": [
    {
     "name": "stdout",
     "output_type": "stream",
     "text": [
      "tf.Tensor([1.5996094 8.5      ], shape=(2,), dtype=float32)\n"
     ]
    }
   ],
   "source": [
    "tensor = tf.cast(tensor , dtype= tf.float32)\n",
    "print(tensor)"
   ]
  },
  {
   "attachments": {},
   "cell_type": "markdown",
   "metadata": {},
   "source": [
    "## Tensor's absolute"
   ]
  },
  {
   "attachments": {},
   "cell_type": "markdown",
   "metadata": {},
   "source": [
    "`tf.abs()` function can do the absolute of all tensor values"
   ]
  },
  {
   "cell_type": "code",
   "execution_count": 65,
   "metadata": {},
   "outputs": [
    {
     "data": {
      "text/plain": [
       "<tf.Tensor: shape=(3,), dtype=int32, numpy=array([15,  7,  5])>"
      ]
     },
     "execution_count": 65,
     "metadata": {},
     "output_type": "execute_result"
    }
   ],
   "source": [
    "tensor = tf.constant([-15 , -7 , 5])\n",
    "tf.abs(tensor)"
   ]
  },
  {
   "attachments": {},
   "cell_type": "markdown",
   "metadata": {},
   "source": [
    "## Square , Sqrt , Log Math Operations"
   ]
  },
  {
   "attachments": {},
   "cell_type": "markdown",
   "metadata": {},
   "source": [
    "Probably already have function you need in tensorflow for math operations.\n",
    "* `tf.square()`\n",
    "* `tf.sqrt()` (Need float)\n",
    "* `tf.math.log()` (Need float)"
   ]
  },
  {
   "cell_type": "code",
   "execution_count": 66,
   "metadata": {},
   "outputs": [
    {
     "data": {
      "text/plain": [
       "<tf.Tensor: shape=(9,), dtype=int32, numpy=array([1, 2, 3, 4, 5, 6, 7, 8, 9])>"
      ]
     },
     "execution_count": 66,
     "metadata": {},
     "output_type": "execute_result"
    }
   ],
   "source": [
    "tensor = tf.constant(tf.range(1,10))\n",
    "tensor"
   ]
  },
  {
   "cell_type": "code",
   "execution_count": 67,
   "metadata": {},
   "outputs": [
    {
     "data": {
      "text/plain": [
       "<tf.Tensor: shape=(9,), dtype=int32, numpy=array([ 1,  4,  9, 16, 25, 36, 49, 64, 81])>"
      ]
     },
     "execution_count": 67,
     "metadata": {},
     "output_type": "execute_result"
    }
   ],
   "source": [
    "tf.square(tensor)"
   ]
  },
  {
   "cell_type": "code",
   "execution_count": 68,
   "metadata": {},
   "outputs": [
    {
     "ename": "InvalidArgumentError",
     "evalue": "Value for attr 'T' of int32 is not in the list of allowed values: bfloat16, half, float, double, complex64, complex128\n\t; NodeDef: {{node Sqrt}}; Op<name=Sqrt; signature=x:T -> y:T; attr=T:type,allowed=[DT_BFLOAT16, DT_HALF, DT_FLOAT, DT_DOUBLE, DT_COMPLEX64, DT_COMPLEX128]> [Op:Sqrt]",
     "output_type": "error",
     "traceback": [
      "\u001b[1;31m---------------------------------------------------------------------------\u001b[0m",
      "\u001b[1;31mInvalidArgumentError\u001b[0m                      Traceback (most recent call last)",
      "Cell \u001b[1;32mIn[68], line 1\u001b[0m\n\u001b[1;32m----> 1\u001b[0m tf\u001b[39m.\u001b[39;49msqrt(tensor) \u001b[39m# You need do dtype as float\u001b[39;00m\n",
      "File \u001b[1;32m~\\AppData\\Roaming\\Python\\Python310\\site-packages\\tensorflow\\python\\util\\traceback_utils.py:153\u001b[0m, in \u001b[0;36mfilter_traceback.<locals>.error_handler\u001b[1;34m(*args, **kwargs)\u001b[0m\n\u001b[0;32m    151\u001b[0m \u001b[39mexcept\u001b[39;00m \u001b[39mException\u001b[39;00m \u001b[39mas\u001b[39;00m e:\n\u001b[0;32m    152\u001b[0m   filtered_tb \u001b[39m=\u001b[39m _process_traceback_frames(e\u001b[39m.\u001b[39m__traceback__)\n\u001b[1;32m--> 153\u001b[0m   \u001b[39mraise\u001b[39;00m e\u001b[39m.\u001b[39mwith_traceback(filtered_tb) \u001b[39mfrom\u001b[39;00m \u001b[39mNone\u001b[39m\n\u001b[0;32m    154\u001b[0m \u001b[39mfinally\u001b[39;00m:\n\u001b[0;32m    155\u001b[0m   \u001b[39mdel\u001b[39;00m filtered_tb\n",
      "File \u001b[1;32m~\\AppData\\Roaming\\Python\\Python310\\site-packages\\tensorflow\\python\\framework\\ops.py:7209\u001b[0m, in \u001b[0;36mraise_from_not_ok_status\u001b[1;34m(e, name)\u001b[0m\n\u001b[0;32m   7207\u001b[0m \u001b[39mdef\u001b[39;00m \u001b[39mraise_from_not_ok_status\u001b[39m(e, name):\n\u001b[0;32m   7208\u001b[0m   e\u001b[39m.\u001b[39mmessage \u001b[39m+\u001b[39m\u001b[39m=\u001b[39m (\u001b[39m\"\u001b[39m\u001b[39m name: \u001b[39m\u001b[39m\"\u001b[39m \u001b[39m+\u001b[39m name \u001b[39mif\u001b[39;00m name \u001b[39mis\u001b[39;00m \u001b[39mnot\u001b[39;00m \u001b[39mNone\u001b[39;00m \u001b[39melse\u001b[39;00m \u001b[39m\"\u001b[39m\u001b[39m\"\u001b[39m)\n\u001b[1;32m-> 7209\u001b[0m   \u001b[39mraise\u001b[39;00m core\u001b[39m.\u001b[39m_status_to_exception(e) \u001b[39mfrom\u001b[39;00m \u001b[39mNone\u001b[39m\n",
      "\u001b[1;31mInvalidArgumentError\u001b[0m: Value for attr 'T' of int32 is not in the list of allowed values: bfloat16, half, float, double, complex64, complex128\n\t; NodeDef: {{node Sqrt}}; Op<name=Sqrt; signature=x:T -> y:T; attr=T:type,allowed=[DT_BFLOAT16, DT_HALF, DT_FLOAT, DT_DOUBLE, DT_COMPLEX64, DT_COMPLEX128]> [Op:Sqrt]"
     ]
    }
   ],
   "source": [
    "tf.sqrt(tensor) # You need do dtype as float"
   ]
  },
  {
   "cell_type": "code",
   "execution_count": 69,
   "metadata": {},
   "outputs": [
    {
     "data": {
      "text/plain": [
       "<tf.Tensor: shape=(9,), dtype=float16, numpy=\n",
       "array([1.   , 1.414, 1.732, 2.   , 2.236, 2.45 , 2.646, 2.828, 3.   ],\n",
       "      dtype=float16)>"
      ]
     },
     "execution_count": 69,
     "metadata": {},
     "output_type": "execute_result"
    }
   ],
   "source": [
    "tf.sqrt(tf.cast(tensor , tf.float16))"
   ]
  },
  {
   "cell_type": "code",
   "execution_count": 70,
   "metadata": {},
   "outputs": [
    {
     "data": {
      "text/plain": [
       "<tf.Tensor: shape=(9,), dtype=float16, numpy=\n",
       "array([0.    , 0.6934, 1.099 , 1.387 , 1.609 , 1.792 , 1.946 , 2.08  ,\n",
       "       2.197 ], dtype=float16)>"
      ]
     },
     "execution_count": 70,
     "metadata": {},
     "output_type": "execute_result"
    }
   ],
   "source": [
    "tf.math.log(tf.cast(tensor , tf.float16))"
   ]
  },
  {
   "attachments": {},
   "cell_type": "markdown",
   "metadata": {},
   "source": [
    "## Minimum , Maksimum , Mean , Sum"
   ]
  },
  {
   "attachments": {},
   "cell_type": "markdown",
   "metadata": {},
   "source": [
    "* `tf.reduce_min()`\n",
    "* `tf.reduce_max()`\n",
    "* `tf.reduce_mean()`\n",
    "* `tf.reduce_sum()`\n",
    "\n",
    "This functions also in tf.math module."
   ]
  },
  {
   "cell_type": "code",
   "execution_count": 71,
   "metadata": {},
   "outputs": [
    {
     "data": {
      "text/plain": [
       "<tf.Tensor: shape=(10,), dtype=int32, numpy=array([413, 355, 881, 564, 420, 760, 911, 313, 616, 870])>"
      ]
     },
     "execution_count": 71,
     "metadata": {},
     "output_type": "execute_result"
    }
   ],
   "source": [
    "tensor = tf.constant(np.random.randint(0,1000, 10))\n",
    "tensor"
   ]
  },
  {
   "cell_type": "code",
   "execution_count": 72,
   "metadata": {},
   "outputs": [
    {
     "data": {
      "text/plain": [
       "<tf.Tensor: shape=(), dtype=int32, numpy=313>"
      ]
     },
     "execution_count": 72,
     "metadata": {},
     "output_type": "execute_result"
    }
   ],
   "source": [
    "tf.reduce_min(tensor)"
   ]
  },
  {
   "cell_type": "code",
   "execution_count": 73,
   "metadata": {},
   "outputs": [
    {
     "data": {
      "text/plain": [
       "<tf.Tensor: shape=(), dtype=int32, numpy=911>"
      ]
     },
     "execution_count": 73,
     "metadata": {},
     "output_type": "execute_result"
    }
   ],
   "source": [
    "tf.reduce_max(tensor)"
   ]
  },
  {
   "cell_type": "code",
   "execution_count": 74,
   "metadata": {},
   "outputs": [
    {
     "data": {
      "text/plain": [
       "<tf.Tensor: shape=(), dtype=int32, numpy=610>"
      ]
     },
     "execution_count": 74,
     "metadata": {},
     "output_type": "execute_result"
    }
   ],
   "source": [
    "tf.reduce_mean(tensor)"
   ]
  },
  {
   "cell_type": "code",
   "execution_count": 75,
   "metadata": {},
   "outputs": [
    {
     "data": {
      "text/plain": [
       "<tf.Tensor: shape=(), dtype=int32, numpy=6103>"
      ]
     },
     "execution_count": 75,
     "metadata": {},
     "output_type": "execute_result"
    }
   ],
   "source": [
    "tf.reduce_sum(tensor)"
   ]
  },
  {
   "attachments": {},
   "cell_type": "markdown",
   "metadata": {},
   "source": [
    "## Operations with Tensors"
   ]
  },
  {
   "cell_type": "code",
   "execution_count": 76,
   "metadata": {},
   "outputs": [
    {
     "name": "stdout",
     "output_type": "stream",
     "text": [
      "x: 2\n",
      "tf_x: tf.Tensor(2, shape=(), dtype=int32)\n",
      "tf_x type: <class 'tensorflow.python.framework.ops.EagerTensor'>\n"
     ]
    }
   ],
   "source": [
    "# skaler. Shape: ()\n",
    "x = 2\n",
    "tf_x = tf.constant(x)\n",
    "print('x:', x)\n",
    "print('tf_x:', tf_x)\n",
    "print('tf_x type:', type(tf_x))"
   ]
  },
  {
   "cell_type": "code",
   "execution_count": 77,
   "metadata": {},
   "outputs": [
    {
     "name": "stdout",
     "output_type": "stream",
     "text": [
      "x: 2\n",
      "tf_x: tf.Tensor([2], shape=(1,), dtype=int32)\n",
      "tf_x type: <class 'tensorflow.python.framework.ops.EagerTensor'>\n"
     ]
    }
   ],
   "source": [
    "# To do vector we just need [x] syntax and add 1 dimension. Shape: (1, )\n",
    "x = 2\n",
    "tf_x = tf.constant([x])\n",
    "print('x:', x)\n",
    "print('tf_x:', tf_x)\n",
    "print('tf_x type:', type(tf_x))"
   ]
  },
  {
   "cell_type": "code",
   "execution_count": 78,
   "metadata": {},
   "outputs": [
    {
     "name": "stdout",
     "output_type": "stream",
     "text": [
      "x: 2\n",
      "tf_x: tf.Tensor([ 7 -1], shape=(2,), dtype=int32)\n",
      "tf_x type: <class 'tensorflow.python.framework.ops.EagerTensor'>\n"
     ]
    }
   ],
   "source": [
    "# Another vector with 2 value.\n",
    "x = 2\n",
    "tf_x = tf.constant([x+5 , x-3])\n",
    "print('x:', x)\n",
    "print('tf_x:', tf_x)\n",
    "print('tf_x type:', type(tf_x))"
   ]
  },
  {
   "cell_type": "code",
   "execution_count": 79,
   "metadata": {},
   "outputs": [
    {
     "name": "stdout",
     "output_type": "stream",
     "text": [
      "x: 2\n",
      "tf_x: tf.Tensor(\n",
      "[[ 2  1]\n",
      " [ 5 10]\n",
      " [ 3 -4]\n",
      " [-2  0]], shape=(4, 2), dtype=int32)\n",
      "tf_x type: <class 'tensorflow.python.framework.ops.EagerTensor'>\n"
     ]
    }
   ],
   "source": [
    "# Lets create 2D tensot(matrix). Shape: (4,2)\n",
    "x = 2\n",
    "tf_x = tf.constant([ [x,x-1] , [x+3 , x+8] , [x+1,x-6] , [x-4,x-2] ])\n",
    "print('x:', x)\n",
    "print('tf_x:', tf_x)\n",
    "print('tf_x type:', type(tf_x))"
   ]
  },
  {
   "cell_type": "code",
   "execution_count": 80,
   "metadata": {},
   "outputs": [
    {
     "name": "stdout",
     "output_type": "stream",
     "text": [
      "tf.Tensor(\n",
      "[[1 2 3]\n",
      " [4 5 6]\n",
      " [7 8 9]], shape=(3, 3), dtype=int32)\n",
      "\n",
      "x[0, :] =  tf.Tensor([1 2 3], shape=(3,), dtype=int32)\n",
      "\n",
      "x[:, 0] =  tf.Tensor([1 4 7], shape=(3,), dtype=int32)\n",
      "\n",
      "x[0:2, 0:2] =  tf.Tensor(\n",
      "[[1 2]\n",
      " [4 5]], shape=(2, 2), dtype=int32)\n",
      "\n",
      "x + x[0, :] =  tf.Tensor(\n",
      "[[ 2  4  6]\n",
      " [ 5  7  9]\n",
      " [ 8 10 12]], shape=(3, 3), dtype=int32)\n"
     ]
    }
   ],
   "source": [
    "# Slicing\n",
    "x = tf.constant( [ [1,2,3] ,\n",
    "                   [4,5,6],\n",
    "                   [7,8,9]])\n",
    "print(x)\n",
    "print('\\nx[0, :] = ', x[0, :])\n",
    "print('\\nx[:, 0] = ', x[:, 0])\n",
    "print('\\nx[0:2, 0:2] = ', x[0:2, 0:2])\n",
    "print('\\nx + x[0, :] = ', x + x[0, :]) # It add first row values to all tensor values which is in same index."
   ]
  },
  {
   "cell_type": "code",
   "execution_count": 81,
   "metadata": {},
   "outputs": [
    {
     "name": "stdout",
     "output_type": "stream",
     "text": [
      "tf.Tensor(\n",
      "[[1 2 3]\n",
      " [4 5 6]\n",
      " [7 8 9]], shape=(3, 3), dtype=int32)\n",
      "\n",
      "x + x =  tf.Tensor(\n",
      "[[ 2  4  6]\n",
      " [ 8 10 12]\n",
      " [14 16 18]], shape=(3, 3), dtype=int32)\n",
      "\n",
      "x * x =  tf.Tensor(\n",
      "[[ 1  4  9]\n",
      " [16 25 36]\n",
      " [49 64 81]], shape=(3, 3), dtype=int32)\n",
      "\n",
      "x - x =  tf.Tensor(\n",
      "[[0 0 0]\n",
      " [0 0 0]\n",
      " [0 0 0]], shape=(3, 3), dtype=int32)\n",
      "\n",
      "x / x =  tf.Tensor(\n",
      "[[1. 1. 1.]\n",
      " [1. 1. 1.]\n",
      " [1. 1. 1.]], shape=(3, 3), dtype=float64)\n",
      "\n",
      "x * 2 =  tf.Tensor(\n",
      "[[ 2  4  6]\n",
      " [ 8 10 12]\n",
      " [14 16 18]], shape=(3, 3), dtype=int32)\n"
     ]
    }
   ],
   "source": [
    "# Element-Wise Operations\n",
    "print(x)\n",
    "print('\\nx + x = ', x + x)\n",
    "print('\\nx * x = ', x * x)\n",
    "print('\\nx - x = ', x - x)\n",
    "print('\\nx / x = ', x / x)\n",
    "print('\\nx * 2 = ', x * 2)"
   ]
  },
  {
   "cell_type": "code",
   "execution_count": 82,
   "metadata": {},
   "outputs": [
    {
     "name": "stdout",
     "output_type": "stream",
     "text": [
      "x: tf.Tensor(\n",
      "[[1. 2. 3.]\n",
      " [4. 5. 6.]], shape=(2, 3), dtype=float32)\n",
      "\n",
      "y: tf.Tensor(\n",
      "[[ 1.  2.]\n",
      " [ 4.  5.]\n",
      " [10. 20.]], shape=(3, 2), dtype=float32)\n"
     ]
    }
   ],
   "source": [
    "# (2, 3) Shape tensor\n",
    "x = tf.constant([[1,2,3] , \n",
    "                 [4,5,6]] , dtype = tf.float32)\n",
    "\n",
    "# (3, 2) Shape tensor\n",
    "y = tf.constant([[1,2] , \n",
    "                 [4,5] , \n",
    "                 [10,20]] , dtype = tf.float32)\n",
    "print('x:', x)\n",
    "print('\\ny:', y)"
   ]
  },
  {
   "cell_type": "code",
   "execution_count": 83,
   "metadata": {},
   "outputs": [
    {
     "name": "stdout",
     "output_type": "stream",
     "text": [
      "Normal x:  tf.Tensor(\n",
      "[[1. 2. 3.]\n",
      " [4. 5. 6.]], shape=(2, 3), dtype=float32)\n",
      "\n",
      "Transposed x:  tf.Tensor(\n",
      "[[1. 4.]\n",
      " [2. 5.]\n",
      " [3. 6.]], shape=(3, 2), dtype=float32)\n",
      "\n",
      "Transposed x_per:  tf.Tensor(\n",
      "[[1. 4.]\n",
      " [2. 5.]\n",
      " [3. 6.]], shape=(3, 2), dtype=float32)\n",
      "\n",
      "y: tf.Tensor(\n",
      "[[ 1.  2.]\n",
      " [ 4.  5.]\n",
      " [10. 20.]], shape=(3, 2), dtype=float32)\n"
     ]
    }
   ],
   "source": [
    "# (2, 3) --> (3, 2)\n",
    "x\n",
    "x_trans = tf.transpose(x)\n",
    "x_trans_per = tf.transpose(x , perm = [1,0])\n",
    "\n",
    "print('Normal x: ', x)\n",
    "print('\\nTransposed x: ', x_trans)\n",
    "print('\\nTransposed x_per: ', x_trans_per)\n",
    "print('\\ny:', y)"
   ]
  },
  {
   "cell_type": "code",
   "execution_count": 84,
   "metadata": {},
   "outputs": [
    {
     "name": "stdout",
     "output_type": "stream",
     "text": [
      "tf.Tensor(\n",
      "[[1. 4.]\n",
      " [2. 5.]\n",
      " [3. 6.]], shape=(3, 2), dtype=float32)\n",
      "\n",
      " tf.Tensor(\n",
      "[[ 1.  2.]\n",
      " [ 4.  5.]\n",
      " [10. 20.]], shape=(3, 2), dtype=float32)\n",
      "\n",
      "x + y =  tf.Tensor(\n",
      "[[ 2.  6.]\n",
      " [ 6. 10.]\n",
      " [13. 26.]], shape=(3, 2), dtype=float32)\n",
      "\n",
      "x * y =  tf.Tensor(\n",
      "[[  1.   8.]\n",
      " [  8.  25.]\n",
      " [ 30. 120.]], shape=(3, 2), dtype=float32)\n",
      "\n",
      "x - y =  tf.Tensor(\n",
      "[[  0.   2.]\n",
      " [ -2.   0.]\n",
      " [ -7. -14.]], shape=(3, 2), dtype=float32)\n",
      "\n",
      "x / y =  tf.Tensor(\n",
      "[[1.  2. ]\n",
      " [0.5 1. ]\n",
      " [0.3 0.3]], shape=(3, 2), dtype=float32)\n"
     ]
    }
   ],
   "source": [
    "x = x_trans_per\n",
    "print(x)\n",
    "print('\\n',y)\n",
    "\n",
    "print('\\nx + y = ', x + y)\n",
    "print('\\nx * y = ', x * y)\n",
    "print('\\nx - y = ', x - y)\n",
    "print('\\nx / y = ', x / y)"
   ]
  },
  {
   "cell_type": "code",
   "execution_count": 85,
   "metadata": {},
   "outputs": [
    {
     "name": "stdout",
     "output_type": "stream",
     "text": [
      "tf.add(x, y) =  tf.Tensor(\n",
      "[[ 2.  6.]\n",
      " [ 6. 10.]\n",
      " [13. 26.]], shape=(3, 2), dtype=float32)\n",
      "\n",
      "tf.multiply(x, y) =  tf.Tensor(\n",
      "[[  1.   8.]\n",
      " [  8.  25.]\n",
      " [ 30. 120.]], shape=(3, 2), dtype=float32)\n",
      "\n",
      "tf.subtract(x, y) =  tf.Tensor(\n",
      "[[  0.   2.]\n",
      " [ -2.   0.]\n",
      " [ -7. -14.]], shape=(3, 2), dtype=float32)\n",
      "\n",
      "tf.divide(x, y) =  tf.Tensor(\n",
      "[[1.  2. ]\n",
      " [0.5 1. ]\n",
      " [0.3 0.3]], shape=(3, 2), dtype=float32)\n"
     ]
    }
   ],
   "source": [
    "print('tf.add(x, y) = ', tf.add(x, y))\n",
    "print('\\ntf.multiply(x, y) = ', tf.multiply(x, y))\n",
    "print('\\ntf.subtract(x, y) = ', tf.subtract(x, y))\n",
    "print('\\ntf.divide(x, y) = ', tf.divide(x, y))"
   ]
  },
  {
   "cell_type": "code",
   "execution_count": 86,
   "metadata": {},
   "outputs": [
    {
     "data": {
      "text/plain": [
       "<tf.Tensor: shape=(3, 2), dtype=float32, numpy=\n",
       "array([[ 2.,  6.],\n",
       "       [ 6., 10.],\n",
       "       [13., 26.]], dtype=float32)>"
      ]
     },
     "execution_count": 86,
     "metadata": {},
     "output_type": "execute_result"
    }
   ],
   "source": [
    "x.__add__(y)"
   ]
  },
  {
   "cell_type": "code",
   "execution_count": 87,
   "metadata": {},
   "outputs": [
    {
     "name": "stdout",
     "output_type": "stream",
     "text": [
      "tf.Tensor(\n",
      "[[1. 4.]\n",
      " [2. 5.]\n",
      " [3. 6.]], shape=(3, 2), dtype=float32)\n",
      "\n",
      "tf.reduce_sum(x, None) =  tf.Tensor(21.0, shape=(), dtype=float32)\n",
      "\n",
      "tf.reduce_sum(x, 0) =  tf.Tensor([ 6. 15.], shape=(2,), dtype=float32)\n",
      "\n",
      " x[:, 0] tf.Tensor([1. 2. 3.], shape=(3,), dtype=float32)\n",
      "\n",
      " x[:, 1] tf.Tensor([4. 5. 6.], shape=(3,), dtype=float32)\n",
      "---------------------------------------------------------------------------------------------------------\n",
      "\n",
      "tf.reduce_sum(x, 1) =  tf.Tensor([5. 7. 9.], shape=(3,), dtype=float32)\n",
      "\n",
      " x[0, :] tf.Tensor([1. 4.], shape=(2,), dtype=float32)\n",
      "\n",
      " x[1, :] tf.Tensor([2. 5.], shape=(2,), dtype=float32)\n",
      "\n",
      " x[2, :] tf.Tensor([3. 6.], shape=(2,), dtype=float32)\n",
      "---------------------------------------------------------------------------------------------------------\n",
      "\n",
      "tf.reduce_sum(x, [0,1]) =  tf.Tensor(21.0, shape=(), dtype=float32)\n",
      "\n",
      "tf.reduce_sum(x, [1,0]) =  tf.Tensor(21.0, shape=(), dtype=float32)\n",
      "---------------------------------------------------------------------------------------------------------\n",
      "\n",
      "tf.reduce_mean(x) =  tf.Tensor(3.5, shape=(), dtype=float32)\n",
      "\n",
      "tf.reduce_mean(x, 0) =  tf.Tensor([2. 5.], shape=(2,), dtype=float32)\n",
      "\n",
      "tf.reduce_mean(x, 1) =  tf.Tensor([2.5 3.5 4.5], shape=(3,), dtype=float32)\n",
      "\n",
      "tf.reduce_mean(x, [0, 1]) =  tf.Tensor(3.5, shape=(), dtype=float32)\n"
     ]
    }
   ],
   "source": [
    "print(x)\n",
    "\n",
    "print('\\ntf.reduce_sum(x, None) = ', tf.reduce_sum(x, None))\n",
    "\n",
    "print('\\ntf.reduce_sum(x, 0) = ', tf.reduce_sum(x, axis = 0))\n",
    "print('\\n x[:, 0]', x[:, 0])\n",
    "print('\\n x[:, 1]', x[:, 1])\n",
    "print('---' * 35)\n",
    "print('\\ntf.reduce_sum(x, 1) = ', tf.reduce_sum(x, axis = 1))\n",
    "print('\\n x[0, :]', x[0, :])\n",
    "print('\\n x[1, :]', x[1, :])\n",
    "print('\\n x[2, :]', x[2, :])\n",
    "print('---' * 35)\n",
    "\n",
    "print('\\ntf.reduce_sum(x, [0,1]) = ', tf.reduce_sum(x, axis = [0,1])) # First rows, then result's columns\n",
    "print('\\ntf.reduce_sum(x, [1,0]) = ', tf.reduce_sum(x, [1,0]))\n",
    "print('---' * 35)\n",
    "print('\\ntf.reduce_mean(x) = ', tf.reduce_mean(x))\n",
    "print('\\ntf.reduce_mean(x, 0) = ', tf.reduce_mean(x, axis = 0))\n",
    "print('\\ntf.reduce_mean(x, 1) = ', tf.reduce_mean(x, axis = 1))\n",
    "print('\\ntf.reduce_mean(x, [0, 1]) = ', tf.reduce_mean(x, axis = [0, 1]))"
   ]
  },
  {
   "cell_type": "code",
   "execution_count": 88,
   "metadata": {},
   "outputs": [
    {
     "data": {
      "text/plain": [
       "<tf.Tensor: shape=(2, 3), dtype=float32, numpy=\n",
       "array([[1., 2., 3.],\n",
       "       [4., 5., 6.]], dtype=float32)>"
      ]
     },
     "execution_count": 88,
     "metadata": {},
     "output_type": "execute_result"
    }
   ],
   "source": [
    "x = tf.transpose(x)\n",
    "x"
   ]
  },
  {
   "cell_type": "code",
   "execution_count": 89,
   "metadata": {},
   "outputs": [
    {
     "data": {
      "text/plain": [
       "<tf.Tensor: shape=(3, 2), dtype=float32, numpy=\n",
       "array([[ 1.,  2.],\n",
       "       [ 4.,  5.],\n",
       "       [10., 20.]], dtype=float32)>"
      ]
     },
     "execution_count": 89,
     "metadata": {},
     "output_type": "execute_result"
    }
   ],
   "source": [
    "y"
   ]
  },
  {
   "cell_type": "code",
   "execution_count": 90,
   "metadata": {},
   "outputs": [
    {
     "name": "stdout",
     "output_type": "stream",
     "text": [
      "x: tf.Tensor(\n",
      "[[1. 2. 3.]\n",
      " [4. 5. 6.]], shape=(2, 3), dtype=float32)\n",
      "\n",
      "y: tf.Tensor(\n",
      "[[ 1.  2.]\n",
      " [ 4.  5.]\n",
      " [10. 20.]], shape=(3, 2), dtype=float32)\n",
      "\n",
      "tf.matmul(x, y) =  tf.Tensor(\n",
      "[[ 39.  72.]\n",
      " [ 84. 153.]], shape=(2, 2), dtype=float32)\n",
      "------------------------------------------------------------------------------------------\n",
      "\n",
      "tf.tensordot(x, y, axes=0) =  tf.Tensor(\n",
      "[[[[  1.   2.]\n",
      "   [  4.   5.]\n",
      "   [ 10.  20.]]\n",
      "\n",
      "  [[  2.   4.]\n",
      "   [  8.  10.]\n",
      "   [ 20.  40.]]\n",
      "\n",
      "  [[  3.   6.]\n",
      "   [ 12.  15.]\n",
      "   [ 30.  60.]]]\n",
      "\n",
      "\n",
      " [[[  4.   8.]\n",
      "   [ 16.  20.]\n",
      "   [ 40.  80.]]\n",
      "\n",
      "  [[  5.  10.]\n",
      "   [ 20.  25.]\n",
      "   [ 50. 100.]]\n",
      "\n",
      "  [[  6.  12.]\n",
      "   [ 24.  30.]\n",
      "   [ 60. 120.]]]], shape=(2, 3, 3, 2), dtype=float32)\n",
      "\n",
      "tf.tensordot(x, y, axes=1) =  tf.Tensor(\n",
      "[[ 39.  72.]\n",
      " [ 84. 153.]], shape=(2, 2), dtype=float32)\n",
      "\n",
      "tf.tensordot(x, y, axes=2) =  tf.Tensor(207.0, shape=(), dtype=float32)\n",
      "------------------------------------------------------------------------------------------\n",
      "\n",
      "tf.einsum(\"ij,jk->ik\", x, y) =  tf.Tensor(\n",
      "[[ 39.  72.]\n",
      " [ 84. 153.]], shape=(2, 2), dtype=float32)\n"
     ]
    }
   ],
   "source": [
    "print('x:', x)\n",
    "print('\\ny:', y)\n",
    "\n",
    "print('\\ntf.matmul(x, y) = ', tf.matmul(x, y))\n",
    "print('---' * 30)\n",
    "# Axes 0: Every element of x and every element of y are subjected to dot-product.\n",
    "print('\\ntf.tensordot(x, y, axes=0) = ', tf.tensordot(x, y, axes=0))\n",
    "# Axes = 1, every element in the last axis of x, every element in the first axis of y is taken, the vectors are subjected to dot-product.\n",
    "print('\\ntf.tensordot(x, y, axes=1) = ', tf.tensordot(x, y, axes=1))\n",
    "print('\\ntf.tensordot(x, y, axes=2) = ', tf.tensordot(x, y, axes=2))\n",
    "print('---' * 30)\n",
    "\n",
    "print('\\ntf.einsum(\"ij,jk->ik\", x, y) = ', tf.einsum(\"ij,jk->ik\", x, y)) # I need to learn about this."
   ]
  },
  {
   "cell_type": "code",
   "execution_count": 91,
   "metadata": {},
   "outputs": [
    {
     "name": "stdout",
     "output_type": "stream",
     "text": [
      "tf.Tensor(\n",
      "[[ 1.  2.]\n",
      " [ 8. 10.]], shape=(2, 2), dtype=float32)\n",
      "tf.Tensor(\n",
      "[[ 7.  8.]\n",
      " [ 9. 10.]], shape=(2, 2), dtype=float32)\n",
      "\n",
      "tf.tensordot(x, y, axes=2) =  tf.Tensor(195.0, shape=(), dtype=float32)\n"
     ]
    }
   ],
   "source": [
    "x = tf.constant([[1, 2], \n",
    "                 [8, 10]], dtype = tf.float32)\n",
    "\n",
    "\n",
    "y = tf.constant([[7, 8], \n",
    "                 [9, 10]], dtype = tf.float32)\n",
    "\n",
    "print(x)\n",
    "print(y)\n",
    "print('\\ntf.tensordot(x, y, axes=2) = ', tf.tensordot(x, y, axes=2))\n",
    "\n",
    "# Axes = 2, take the last two axes of x and multiply the first two axes of y."
   ]
  },
  {
   "cell_type": "code",
   "execution_count": 92,
   "metadata": {},
   "outputs": [
    {
     "name": "stdout",
     "output_type": "stream",
     "text": [
      "x: tf.Tensor(\n",
      "[[ 1.  2.]\n",
      " [ 8. 10.]], shape=(2, 2), dtype=float32)\n",
      "\n",
      "y: tf.Tensor(\n",
      "[[ 7.  8.]\n",
      " [ 9. 10.]], shape=(2, 2), dtype=float32)\n"
     ]
    },
    {
     "data": {
      "text/plain": [
       "<tf.Tensor: shape=(2, 2), dtype=float32, numpy=\n",
       "array([[  7.,  16.],\n",
       "       [ 72., 100.]], dtype=float32)>"
      ]
     },
     "execution_count": 92,
     "metadata": {},
     "output_type": "execute_result"
    }
   ],
   "source": [
    "print('x:', x)\n",
    "print('\\ny:', y)\n",
    "\n",
    "tf.multiply(x, y)"
   ]
  },
  {
   "cell_type": "code",
   "execution_count": 93,
   "metadata": {},
   "outputs": [
    {
     "data": {
      "text/plain": [
       "<tf.Tensor: shape=(), dtype=float32, numpy=195.0>"
      ]
     },
     "execution_count": 93,
     "metadata": {},
     "output_type": "execute_result"
    }
   ],
   "source": [
    "tf.reduce_sum(tf.multiply(x, y), axis = None)"
   ]
  },
  {
   "attachments": {},
   "cell_type": "markdown",
   "metadata": {},
   "source": [
    "There is also tf.math.reduce_std() and tf.math.reduce_variance() functions..."
   ]
  },
  {
   "attachments": {},
   "cell_type": "markdown",
   "metadata": {},
   "source": [
    "## Maximum / Minimum values indexes"
   ]
  },
  {
   "attachments": {},
   "cell_type": "markdown",
   "metadata": {},
   "source": [
    "Deep learning models can give us outputs such that the sum is 1. The `Softmax` activation function is an example of this. considering that we have 3 classes, the model output can be as follows: `[0.1, 0.6, 0.3]`. The index of the maximum number here will give us the predicted class. We can get it with `tf.argmax()`."
   ]
  },
  {
   "attachments": {},
   "cell_type": "markdown",
   "metadata": {},
   "source": [
    "* ['tf.argmax()'](https://www.tensorflow.org/api_docs/python/tf/math/argmax ) - The index in which the maximum element in the tensor is located.\n",
    "* ['tf.argmin()'](https://www.tensorflow.org/api_docs/python/tf/math/argmin ) - The index in which the minimum element in the tensor is located."
   ]
  },
  {
   "cell_type": "code",
   "execution_count": 97,
   "metadata": {},
   "outputs": [
    {
     "data": {
      "text/plain": [
       "<tf.Tensor: shape=(3,), dtype=float64, numpy=array([0.32142528, 0.26647229, 0.41210243])>"
      ]
     },
     "execution_count": 97,
     "metadata": {},
     "output_type": "execute_result"
    }
   ],
   "source": [
    "tensor = tf.math.softmax(tf.constant(np.random.random(3)))\n",
    "tensor"
   ]
  },
  {
   "cell_type": "code",
   "execution_count": 98,
   "metadata": {},
   "outputs": [
    {
     "data": {
      "text/plain": [
       "<tf.Tensor: shape=(), dtype=int64, numpy=2>"
      ]
     },
     "execution_count": 98,
     "metadata": {},
     "output_type": "execute_result"
    }
   ],
   "source": [
    "tf.argmax(tensor)"
   ]
  },
  {
   "cell_type": "code",
   "execution_count": 99,
   "metadata": {},
   "outputs": [
    {
     "data": {
      "text/plain": [
       "<tf.Tensor: shape=(), dtype=int64, numpy=1>"
      ]
     },
     "execution_count": 99,
     "metadata": {},
     "output_type": "execute_result"
    }
   ],
   "source": [
    "tf.argmin(tensor)"
   ]
  },
  {
   "cell_type": "code",
   "execution_count": 103,
   "metadata": {},
   "outputs": [
    {
     "name": "stdout",
     "output_type": "stream",
     "text": [
      "The index of the maximum element in the tensor is: 2\n",
      "The element of the maximum in the tensor is: 0.4121024348138279\n",
      "Lets find maximum element with argmax: 0.4121024348138279\n",
      "Sanity Check --> True\n"
     ]
    }
   ],
   "source": [
    "print(f\"The index of the maximum element in the tensor is: {tf.argmax(tensor).numpy()}\") \n",
    "print(f\"The element of the maximum in the tensor is: {tf.reduce_max(tensor).numpy()}\") \n",
    "print(f\"Lets find maximum element with argmax: {tensor[tf.argmax(tensor)].numpy()}\")\n",
    "print(f\"Sanity Check --> {tensor[tf.argmax(tensor)].numpy() == tf.reduce_max(tensor).numpy()}\")"
   ]
  },
  {
   "attachments": {},
   "cell_type": "markdown",
   "metadata": {},
   "source": [
    "## Squeezing the Tensor (Removing Singular Dimensions)"
   ]
  },
  {
   "attachments": {},
   "cell_type": "markdown",
   "metadata": {},
   "source": [
    "--> If we want to draw grayscale images with matplotlib with `imshow()`, there should be no channel dimension.\n",
    "\n",
    "For example, to show the image with shape `(28,28,1)` with `imshow()`, it is necessary to compress the `1` at the end.\n",
    "\n",
    "* [`tf.squeeze()`](https://www.tensorflow.org/api_docs/python/tf/squeeze) - It serves to remove dimensions with `size`i 1 from the tensor shape."
   ]
  },
  {
   "cell_type": "code",
   "execution_count": 105,
   "metadata": {},
   "outputs": [
    {
     "name": "stdout",
     "output_type": "stream",
     "text": [
      "Tensor: tf.Tensor(\n",
      "[[329 354 491 477 135 997  18 566 928 473 709 822 919  42 761 994 942 937\n",
      "  190 449  70  98 537 917 469]], shape=(1, 25), dtype=int32) \n",
      "\n",
      "\n",
      "Tensors shape: (1, 25)\n",
      "Tensors dimension: 2\n"
     ]
    }
   ],
   "source": [
    "size = 25\n",
    "tensor = tf.constant(np.random.randint(0, 1000 , size) , shape= (1,size))\n",
    "print('Tensor:', tensor, '\\n\\n')\n",
    "print('Tensors shape:', tensor.shape)\n",
    "print('Tensors dimension:', tensor.ndim)"
   ]
  },
  {
   "cell_type": "code",
   "execution_count": 106,
   "metadata": {},
   "outputs": [
    {
     "name": "stdout",
     "output_type": "stream",
     "text": [
      "Tensor: tf.Tensor(\n",
      "[329 354 491 477 135 997  18 566 928 473 709 822 919  42 761 994 942 937\n",
      " 190 449  70  98 537 917 469], shape=(25,), dtype=int32) \n",
      "\n",
      "\n",
      "Tensors shape: (25,)\n",
      "Tensors dimension: 1\n"
     ]
    }
   ],
   "source": [
    "# Squeeze tensor\n",
    "tensor_squeeze = tf.squeeze(tensor , axis = 0)\n",
    "print('Tensor:', tensor_squeeze, '\\n\\n')\n",
    "print('Tensors shape:', tensor_squeeze.shape)\n",
    "print('Tensors dimension:', tensor_squeeze.ndim)"
   ]
  },
  {
   "attachments": {},
   "cell_type": "markdown",
   "metadata": {},
   "source": [
    "## One-hot Encoding"
   ]
  },
  {
   "attachments": {},
   "cell_type": "markdown",
   "metadata": {},
   "source": [
    "When writing the model for certain loss functions, we may need to give the labels as one-hot. We can do it with [`tf.one_hot()`](https://www.tensorflow.org/api_docs/python/tf/one_hot)\n"
   ]
  },
  {
   "cell_type": "code",
   "execution_count": 109,
   "metadata": {},
   "outputs": [
    {
     "data": {
      "text/plain": [
       "<tf.Tensor: shape=(4, 4), dtype=float32, numpy=\n",
       "array([[1., 0., 0., 0.],\n",
       "       [0., 1., 0., 0.],\n",
       "       [0., 0., 1., 0.],\n",
       "       [0., 0., 0., 1.]], dtype=float32)>"
      ]
     },
     "execution_count": 109,
     "metadata": {},
     "output_type": "execute_result"
    }
   ],
   "source": [
    "labels = [0, 1, 2, 3]\n",
    "\n",
    "# One Hot\n",
    "tf.one_hot(labels, depth= len(np.unique(labels))) # Or manually depth = 4"
   ]
  },
  {
   "attachments": {},
   "cell_type": "markdown",
   "metadata": {},
   "source": [
    "`on_value` and `off_value` parameters"
   ]
  },
  {
   "cell_type": "code",
   "execution_count": 110,
   "metadata": {},
   "outputs": [
    {
     "data": {
      "text/plain": [
       "<tf.Tensor: shape=(4, 4), dtype=string, numpy=\n",
       "array([[b'1', b'2', b'2', b'2'],\n",
       "       [b'2', b'1', b'2', b'2'],\n",
       "       [b'2', b'2', b'1', b'2'],\n",
       "       [b'2', b'2', b'2', b'1']], dtype=object)>"
      ]
     },
     "execution_count": 110,
     "metadata": {},
     "output_type": "execute_result"
    }
   ],
   "source": [
    "\"\"\"on_value = what to write instead of 1's\n",
    "   off_value = what to write instead of 0's\n",
    "\"\"\"\n",
    "\n",
    "tf.one_hot(labels, depth = 4 , on_value='1' , off_value= '2' )"
   ]
  },
  {
   "attachments": {},
   "cell_type": "markdown",
   "metadata": {},
   "source": [
    "## Lets manipulate tensors which is created with tf.Variable()"
   ]
  },
  {
   "attachments": {},
   "cell_type": "markdown",
   "metadata": {},
   "source": [
    "* [`.assign()`](https://www.tensorflow.org/api_docs/python/tf/Variable#assign) - Change the value at spesific index.\n",
    "* [`.add_assign()`](https://www.tensorflow.org/api_docs/python/tf/Variable#assign_add) - add value to spesific index's value."
   ]
  },
  {
   "cell_type": "code",
   "execution_count": 111,
   "metadata": {},
   "outputs": [
    {
     "data": {
      "text/plain": [
       "<tf.Variable 'Variable:0' shape=(4,) dtype=int32, numpy=array([0, 1, 2, 3])>"
      ]
     },
     "execution_count": 111,
     "metadata": {},
     "output_type": "execute_result"
    }
   ],
   "source": [
    "tensor = tf.Variable(np.arange(4))\n",
    "tensor"
   ]
  },
  {
   "cell_type": "code",
   "execution_count": 113,
   "metadata": {},
   "outputs": [
    {
     "data": {
      "text/plain": [
       "<tf.Variable 'UnreadVariable' shape=(4,) dtype=int32, numpy=array([ 0,  1,  2, 50])>"
      ]
     },
     "execution_count": 113,
     "metadata": {},
     "output_type": "execute_result"
    }
   ],
   "source": [
    "tensor.assign([0,1,2,50])"
   ]
  },
  {
   "cell_type": "code",
   "execution_count": 114,
   "metadata": {},
   "outputs": [
    {
     "data": {
      "text/plain": [
       "<tf.Variable 'Variable:0' shape=(4,) dtype=int32, numpy=array([ 0,  1,  2, 50])>"
      ]
     },
     "execution_count": 114,
     "metadata": {},
     "output_type": "execute_result"
    }
   ],
   "source": [
    "# Changes automatically happens with inplace = True\n",
    "tensor"
   ]
  },
  {
   "cell_type": "code",
   "execution_count": 115,
   "metadata": {},
   "outputs": [
    {
     "data": {
      "text/plain": [
       "<tf.Variable 'UnreadVariable' shape=(4,) dtype=int32, numpy=array([10, 11, 12, 60])>"
      ]
     },
     "execution_count": 115,
     "metadata": {},
     "output_type": "execute_result"
    }
   ],
   "source": [
    "tensor.assign_add([10, 10, 10 , 10]) # add 10 values to every value"
   ]
  },
  {
   "cell_type": "code",
   "execution_count": 116,
   "metadata": {},
   "outputs": [
    {
     "data": {
      "text/plain": [
       "<tf.Variable 'Variable:0' shape=(4,) dtype=int32, numpy=array([10, 11, 12, 60])>"
      ]
     },
     "execution_count": 116,
     "metadata": {},
     "output_type": "execute_result"
    }
   ],
   "source": [
    "tensor"
   ]
  },
  {
   "attachments": {},
   "cell_type": "markdown",
   "metadata": {},
   "source": [
    "## Merge the Tensors"
   ]
  },
  {
   "attachments": {},
   "cell_type": "markdown",
   "metadata": {},
   "source": [
    "* `tf.concat()`\n",
    "* `tf.stack()`"
   ]
  },
  {
   "cell_type": "code",
   "execution_count": 117,
   "metadata": {},
   "outputs": [
    {
     "name": "stdout",
     "output_type": "stream",
     "text": [
      "(3, 3)\n",
      "(2, 3)\n"
     ]
    }
   ],
   "source": [
    "t1 = tf.constant([[1,2,3] , \n",
    "                  [4,5,6] , \n",
    "                  [-1,1,1]])\n",
    "\n",
    "t2 = tf.constant([[7,8,9],\n",
    "                  [10,11,12]])\n",
    "\n",
    "print(t1.shape)\n",
    "print(t2.shape)"
   ]
  },
  {
   "cell_type": "code",
   "execution_count": 118,
   "metadata": {},
   "outputs": [
    {
     "data": {
      "text/plain": [
       "<tf.Tensor: shape=(3, 3), dtype=int32, numpy=\n",
       "array([[ 1,  2,  3],\n",
       "       [ 4,  5,  6],\n",
       "       [-1,  1,  1]])>"
      ]
     },
     "execution_count": 118,
     "metadata": {},
     "output_type": "execute_result"
    }
   ],
   "source": [
    "t1"
   ]
  },
  {
   "cell_type": "code",
   "execution_count": 119,
   "metadata": {},
   "outputs": [
    {
     "data": {
      "text/plain": [
       "<tf.Tensor: shape=(2, 3), dtype=int32, numpy=\n",
       "array([[ 7,  8,  9],\n",
       "       [10, 11, 12]])>"
      ]
     },
     "execution_count": 119,
     "metadata": {},
     "output_type": "execute_result"
    }
   ],
   "source": [
    "t2"
   ]
  },
  {
   "cell_type": "code",
   "execution_count": 122,
   "metadata": {},
   "outputs": [
    {
     "data": {
      "text/plain": [
       "<tf.Tensor: shape=(5, 3), dtype=int32, numpy=\n",
       "array([[ 1,  2,  3],\n",
       "       [ 4,  5,  6],\n",
       "       [-1,  1,  1],\n",
       "       [ 7,  8,  9],\n",
       "       [10, 11, 12]])>"
      ]
     },
     "execution_count": 122,
     "metadata": {},
     "output_type": "execute_result"
    }
   ],
   "source": [
    "tf.concat([t1,t2] , axis = 0)"
   ]
  },
  {
   "cell_type": "code",
   "execution_count": 123,
   "metadata": {},
   "outputs": [
    {
     "ename": "InvalidArgumentError",
     "evalue": "{{function_node __wrapped__ConcatV2_N_2_device_/job:localhost/replica:0/task:0/device:GPU:0}} ConcatOp : Dimension 0 in both shapes must be equal: shape[0] = [3,3] vs. shape[1] = [2,3] [Op:ConcatV2] name: concat",
     "output_type": "error",
     "traceback": [
      "\u001b[1;31m---------------------------------------------------------------------------\u001b[0m",
      "\u001b[1;31mInvalidArgumentError\u001b[0m                      Traceback (most recent call last)",
      "Cell \u001b[1;32mIn[123], line 2\u001b[0m\n\u001b[0;32m      1\u001b[0m \u001b[39m# The dimensions to be concatenated must match.\u001b[39;00m\n\u001b[1;32m----> 2\u001b[0m tf\u001b[39m.\u001b[39;49mconcat([t1,t2] , axis \u001b[39m=\u001b[39;49m \u001b[39m1\u001b[39;49m)\n",
      "File \u001b[1;32m~\\AppData\\Roaming\\Python\\Python310\\site-packages\\tensorflow\\python\\util\\traceback_utils.py:153\u001b[0m, in \u001b[0;36mfilter_traceback.<locals>.error_handler\u001b[1;34m(*args, **kwargs)\u001b[0m\n\u001b[0;32m    151\u001b[0m \u001b[39mexcept\u001b[39;00m \u001b[39mException\u001b[39;00m \u001b[39mas\u001b[39;00m e:\n\u001b[0;32m    152\u001b[0m   filtered_tb \u001b[39m=\u001b[39m _process_traceback_frames(e\u001b[39m.\u001b[39m__traceback__)\n\u001b[1;32m--> 153\u001b[0m   \u001b[39mraise\u001b[39;00m e\u001b[39m.\u001b[39mwith_traceback(filtered_tb) \u001b[39mfrom\u001b[39;00m \u001b[39mNone\u001b[39m\n\u001b[0;32m    154\u001b[0m \u001b[39mfinally\u001b[39;00m:\n\u001b[0;32m    155\u001b[0m   \u001b[39mdel\u001b[39;00m filtered_tb\n",
      "File \u001b[1;32m~\\AppData\\Roaming\\Python\\Python310\\site-packages\\tensorflow\\python\\framework\\ops.py:7209\u001b[0m, in \u001b[0;36mraise_from_not_ok_status\u001b[1;34m(e, name)\u001b[0m\n\u001b[0;32m   7207\u001b[0m \u001b[39mdef\u001b[39;00m \u001b[39mraise_from_not_ok_status\u001b[39m(e, name):\n\u001b[0;32m   7208\u001b[0m   e\u001b[39m.\u001b[39mmessage \u001b[39m+\u001b[39m\u001b[39m=\u001b[39m (\u001b[39m\"\u001b[39m\u001b[39m name: \u001b[39m\u001b[39m\"\u001b[39m \u001b[39m+\u001b[39m name \u001b[39mif\u001b[39;00m name \u001b[39mis\u001b[39;00m \u001b[39mnot\u001b[39;00m \u001b[39mNone\u001b[39;00m \u001b[39melse\u001b[39;00m \u001b[39m\"\u001b[39m\u001b[39m\"\u001b[39m)\n\u001b[1;32m-> 7209\u001b[0m   \u001b[39mraise\u001b[39;00m core\u001b[39m.\u001b[39m_status_to_exception(e) \u001b[39mfrom\u001b[39;00m \u001b[39mNone\u001b[39m\n",
      "\u001b[1;31mInvalidArgumentError\u001b[0m: {{function_node __wrapped__ConcatV2_N_2_device_/job:localhost/replica:0/task:0/device:GPU:0}} ConcatOp : Dimension 0 in both shapes must be equal: shape[0] = [3,3] vs. shape[1] = [2,3] [Op:ConcatV2] name: concat"
     ]
    }
   ],
   "source": [
    "# The dimensions to be concatenated must match.\n",
    "tf.concat([t1,t2] , axis = 1)"
   ]
  },
  {
   "cell_type": "code",
   "execution_count": 126,
   "metadata": {},
   "outputs": [
    {
     "data": {
      "text/plain": [
       "<tf.Tensor: shape=(2, 6), dtype=int32, numpy=\n",
       "array([[ 1,  2,  3,  7,  8,  9],\n",
       "       [ 4,  5,  6, 10, 11, 12]])>"
      ]
     },
     "execution_count": 126,
     "metadata": {},
     "output_type": "execute_result"
    }
   ],
   "source": [
    "# If the delete a row from t1 , then we concatenate at axis = 1\n",
    "t1 = tf.constant([[1, 2, 3], \n",
    "                  [4, 5, 6]])\n",
    "\n",
    "t2 = tf.constant([[7, 8, 9], \n",
    "                  [10, 11, 12]])\n",
    "\n",
    "tf.concat([t1, t2], axis = 1)"
   ]
  },
  {
   "attachments": {},
   "cell_type": "markdown",
   "metadata": {},
   "source": [
    "`tf.stack()` function"
   ]
  },
  {
   "cell_type": "code",
   "execution_count": 129,
   "metadata": {},
   "outputs": [
    {
     "data": {
      "text/plain": [
       "<tf.Tensor: shape=(2, 2, 3), dtype=int32, numpy=\n",
       "array([[[ 1,  2,  3],\n",
       "        [ 4,  5,  6]],\n",
       "\n",
       "       [[ 7,  8,  9],\n",
       "        [10, 11, 12]]])>"
      ]
     },
     "execution_count": 129,
     "metadata": {},
     "output_type": "execute_result"
    }
   ],
   "source": [
    "t1 = tf.constant([ [1, 2, 3], \n",
    "                   [4, 5, 6] ])\n",
    "\n",
    "t2 = tf.constant([ [7, 8, 9], \n",
    "                   [10, 11, 12] ])\n",
    "\n",
    "tf.stack([t1, t2], axis = 0)"
   ]
  },
  {
   "attachments": {},
   "cell_type": "markdown",
   "metadata": {},
   "source": [
    "\n",
    "`tf.concat()` only works with existing dimensions, but `tf.stack()` creates a new dimension. If we sample both at the same time:"
   ]
  },
  {
   "cell_type": "code",
   "execution_count": 131,
   "metadata": {},
   "outputs": [
    {
     "name": "stdout",
     "output_type": "stream",
     "text": [
      "tf.Tensor(\n",
      "[[1 2 3]\n",
      " [4 5 6]], shape=(2, 3), dtype=int32)\n",
      "\n",
      "\n",
      " tf.Tensor(\n",
      "[[ 7  8  9]\n",
      " [10 11 12]], shape=(2, 3), dtype=int32)\n",
      "\n",
      "\n",
      "Tensor with concat:  tf.Tensor(\n",
      "[[ 1  2  3]\n",
      " [ 4  5  6]\n",
      " [ 7  8  9]\n",
      " [10 11 12]], shape=(4, 3), dtype=int32)\n",
      "\n",
      "\n",
      "Tensor with stack:  tf.Tensor(\n",
      "[[[ 1  2  3]\n",
      "  [ 4  5  6]]\n",
      "\n",
      " [[ 7  8  9]\n",
      "  [10 11 12]]], shape=(2, 2, 3), dtype=int32)\n",
      "\n",
      "\n",
      " Tensors shape with concat:  (4, 3)\n",
      "\n",
      "\n",
      " Tensors shape with stack:  (2, 2, 3)\n"
     ]
    }
   ],
   "source": [
    "t1 = tf.constant([[1, 2, 3], \n",
    "                  [4, 5, 6]])\n",
    "\n",
    "t2 = tf.constant([[7, 8, 9], \n",
    "                  [10, 11, 12]])\n",
    "\n",
    "print(t1)\n",
    "print('\\n\\n', t2)\n",
    "\n",
    "print('\\n\\nTensor with concat: ', tf.concat([t1, t2], axis = 0))\n",
    "print('\\n\\nTensor with stack: ', tf.stack([t1, t2], axis = 0))\n",
    "\n",
    "print('\\n\\n Tensors shape with concat: ', tf.concat([t1, t2], axis = 0).shape)\n",
    "print('\\n\\n Tensors shape with stack: ', tf.stack([t1, t2], axis = 0).shape)"
   ]
  },
  {
   "attachments": {},
   "cell_type": "markdown",
   "metadata": {},
   "source": [
    "## Other Tensor Functions"
   ]
  },
  {
   "attachments": {},
   "cell_type": "markdown",
   "metadata": {},
   "source": [
    "## Identity matrix by [`tf.eye()`](https://www.tensorflow.org/api_docs/python/tf/eye) \n",
    "\n",
    "We can create identity matrix by `tf.eye()` "
   ]
  },
  {
   "cell_type": "code",
   "execution_count": 132,
   "metadata": {},
   "outputs": [
    {
     "data": {
      "text/plain": [
       "<tf.Tensor: shape=(3, 3), dtype=float32, numpy=\n",
       "array([[1., 0., 0.],\n",
       "       [0., 1., 0.],\n",
       "       [0., 0., 1.]], dtype=float32)>"
      ]
     },
     "execution_count": 132,
     "metadata": {},
     "output_type": "execute_result"
    }
   ],
   "source": [
    "tf.eye(3)"
   ]
  },
  {
   "cell_type": "code",
   "execution_count": 133,
   "metadata": {},
   "outputs": [
    {
     "data": {
      "text/plain": [
       "<tf.Tensor: shape=(3, 4), dtype=float32, numpy=\n",
       "array([[1., 0., 0., 0.],\n",
       "       [0., 1., 0., 0.],\n",
       "       [0., 0., 1., 0.]], dtype=float32)>"
      ]
     },
     "execution_count": 133,
     "metadata": {},
     "output_type": "execute_result"
    }
   ],
   "source": [
    "# Last column will fill with zeros.\n",
    "tf.eye(3, num_columns= 4)"
   ]
  },
  {
   "attachments": {},
   "cell_type": "markdown",
   "metadata": {},
   "source": [
    "## `tf.reverse()` function"
   ]
  },
  {
   "cell_type": "code",
   "execution_count": 135,
   "metadata": {},
   "outputs": [
    {
     "data": {
      "text/plain": [
       "<tf.Tensor: shape=(4, 3), dtype=int32, numpy=\n",
       "array([[ 1,  2,  3],\n",
       "       [ 4,  5,  6],\n",
       "       [ 7,  8,  9],\n",
       "       [10, 11, 12]])>"
      ]
     },
     "execution_count": 135,
     "metadata": {},
     "output_type": "execute_result"
    }
   ],
   "source": [
    "tensor = tf.constant([[1,2,3] , \n",
    "                     [4,5,6],\n",
    "                     [7,8,9],\n",
    "                     [10,11,12]])\n",
    "tensor"
   ]
  },
  {
   "attachments": {},
   "cell_type": "markdown",
   "metadata": {},
   "source": [
    "by axis = 0 we can reverse the columns, by axis = 1 we can reverse the rows."
   ]
  },
  {
   "cell_type": "code",
   "execution_count": 136,
   "metadata": {},
   "outputs": [
    {
     "name": "stdout",
     "output_type": "stream",
     "text": [
      "Reverse with axis = 0:  tf.Tensor(\n",
      "[[10 11 12]\n",
      " [ 7  8  9]\n",
      " [ 4  5  6]\n",
      " [ 1  2  3]], shape=(4, 3), dtype=int32)\n",
      "Reverse with axis = 1:  tf.Tensor(\n",
      "[[ 3  2  1]\n",
      " [ 6  5  4]\n",
      " [ 9  8  7]\n",
      " [12 11 10]], shape=(4, 3), dtype=int32)\n"
     ]
    }
   ],
   "source": [
    "print('Reverse with axis = 0: ', tf.reverse(tensor, axis = [0]))\n",
    "print('Reverse with axis = 1: ', tf.reverse(tensor, axis = [1]))"
   ]
  },
  {
   "attachments": {},
   "cell_type": "markdown",
   "metadata": {},
   "source": [
    "### [`tf.roll`](https://www.tensorflow.org/api_docs/python/tf/roll) Function\n",
    "\n",
    "* This function serves to shift the elements of the tensor along a certain axis.\n",
    "* we determine how many elements we will shift with the `shift` parameter."
   ]
  },
  {
   "cell_type": "code",
   "execution_count": 137,
   "metadata": {},
   "outputs": [
    {
     "name": "stdout",
     "output_type": "stream",
     "text": [
      "First Tensor: tf.Tensor(\n",
      "[[ 1  2  3]\n",
      " [ 4  5  6]\n",
      " [ 7  8  9]\n",
      " [10 11 12]], shape=(4, 3), dtype=int32)\n",
      "\n",
      "\n",
      "Axis = 0 , shift = 1: tf.Tensor(\n",
      "[[10 11 12]\n",
      " [ 1  2  3]\n",
      " [ 4  5  6]\n",
      " [ 7  8  9]], shape=(4, 3), dtype=int32)\n",
      "\n",
      "\n",
      "Axis = 0 shift = 2: tf.Tensor(\n",
      "[[ 7  8  9]\n",
      " [10 11 12]\n",
      " [ 1  2  3]\n",
      " [ 4  5  6]], shape=(4, 3), dtype=int32)\n",
      "\n",
      "\n",
      "Axis = 1 shift = 1: tf.Tensor(\n",
      "[[ 3  1  2]\n",
      " [ 6  4  5]\n",
      " [ 9  7  8]\n",
      " [12 10 11]], shape=(4, 3), dtype=int32)\n"
     ]
    }
   ],
   "source": [
    "tensor = tf.constant([[1, 2, 3], \n",
    "                     [4, 5, 6],\n",
    "                     [7,8,9],\n",
    "                     [10,11,12]])\n",
    "\n",
    "print('First Tensor:', tensor)\n",
    "\n",
    "print('\\n\\nAxis = 0 , shift = 1:', \n",
    "      tf.roll(tensor, shift = 1, axis = 0))\n",
    "\n",
    "print('\\n\\nAxis = 0 shift = 2:', \n",
    "      tf.roll(tensor, shift = 2, axis = 0))\n",
    "\n",
    "print('\\n\\nAxis = 1 shift = 1:', \n",
    "      tf.roll(tensor, shift = 1, axis = 1))"
   ]
  },
  {
   "attachments": {},
   "cell_type": "markdown",
   "metadata": {},
   "source": [
    "We manipulate rows with axis = 1,\n",
    "We manipulate columns with axis = 0."
   ]
  },
  {
   "attachments": {},
   "cell_type": "markdown",
   "metadata": {},
   "source": [
    "### [`tf.unique_with_counts`](https://www.tensorflow.org/api_docs/python/tf/unique_with_counts) Function"
   ]
  },
  {
   "cell_type": "code",
   "execution_count": 138,
   "metadata": {},
   "outputs": [
    {
     "data": {
      "text/plain": [
       "TensorShape([4, 3])"
      ]
     },
     "execution_count": 138,
     "metadata": {},
     "output_type": "execute_result"
    }
   ],
   "source": [
    "tensor = tf.constant([[1, 1, 3], \n",
    "                     [4, 2, 6],\n",
    "                     [3,2,9],\n",
    "                     [2,1,1]])\n",
    "\n",
    "tensor.shape # It must be 1D"
   ]
  },
  {
   "cell_type": "code",
   "execution_count": 141,
   "metadata": {},
   "outputs": [
    {
     "data": {
      "text/plain": [
       "<tf.Tensor: shape=(12,), dtype=int32, numpy=array([1, 1, 3, 4, 2, 6, 3, 2, 9, 2, 1, 1])>"
      ]
     },
     "execution_count": 141,
     "metadata": {},
     "output_type": "execute_result"
    }
   ],
   "source": [
    "tf.reshape(tensor , (-1))"
   ]
  },
  {
   "cell_type": "code",
   "execution_count": 143,
   "metadata": {},
   "outputs": [
    {
     "name": "stdout",
     "output_type": "stream",
     "text": [
      "Unique numbers in Tensor: [1 3 4 2 6 9]\n",
      "\n",
      "Unique numbers indexes in Tensor: [0 0 1 2 3 4 1 3 5 3 0 0]\n",
      "\n",
      "Value counts of unique numbers in Tensor: [4 2 1 3 1 1]\n"
     ]
    }
   ],
   "source": [
    "tensor1D = tf.reshape(tensor , (-1))\n",
    "\n",
    "# Now we can use tf.unique_with_counts() function\n",
    "uniques, idx, nums = tf.unique_with_counts(tensor1D)\n",
    "\n",
    "print('Unique numbers in Tensor:', uniques.numpy())\n",
    "print('\\nUnique numbers indexes in Tensor:', idx.numpy())\n",
    "print('\\nValue counts of unique numbers in Tensor:', nums.numpy())"
   ]
  },
  {
   "attachments": {},
   "cell_type": "markdown",
   "metadata": {},
   "source": [
    "### Tensors and Numpy"
   ]
  },
  {
   "cell_type": "code",
   "execution_count": null,
   "metadata": {},
   "outputs": [],
   "source": [
    "# Done for now."
   ]
  }
 ],
 "metadata": {
  "kernelspec": {
   "display_name": "Python 3",
   "language": "python",
   "name": "python3"
  },
  "language_info": {
   "codemirror_mode": {
    "name": "ipython",
    "version": 3
   },
   "file_extension": ".py",
   "mimetype": "text/x-python",
   "name": "python",
   "nbconvert_exporter": "python",
   "pygments_lexer": "ipython3",
   "version": "3.10.10"
  },
  "orig_nbformat": 4
 },
 "nbformat": 4,
 "nbformat_minor": 2
}
