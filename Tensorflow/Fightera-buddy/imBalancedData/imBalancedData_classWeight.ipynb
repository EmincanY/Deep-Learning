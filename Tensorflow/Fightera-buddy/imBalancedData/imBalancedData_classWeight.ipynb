{
 "cells": [
  {
   "attachments": {},
   "cell_type": "markdown",
   "metadata": {},
   "source": [
    "# Import Libraries"
   ]
  },
  {
   "cell_type": "code",
   "execution_count": 1,
   "metadata": {},
   "outputs": [
    {
     "data": {
      "text/plain": [
       "'2.10.1'"
      ]
     },
     "execution_count": 1,
     "metadata": {},
     "output_type": "execute_result"
    }
   ],
   "source": [
    "import tensorflow as tf\n",
    "\n",
    "import numpy as np\n",
    "\n",
    "from sklearn.datasets import make_classification\n",
    "from sklearn.model_selection import train_test_split\n",
    "from sklearn.metrics import classification_report, confusion_matrix\n",
    "from sklearn.utils.class_weight import compute_class_weight\n",
    "\n",
    "import matplotlib.pyplot as plt\n",
    "\n",
    "tf.__version__"
   ]
  },
  {
   "attachments": {},
   "cell_type": "markdown",
   "metadata": {},
   "source": [
    "# Create Data"
   ]
  },
  {
   "cell_type": "code",
   "execution_count": 2,
   "metadata": {},
   "outputs": [
    {
     "data": {
      "image/png": "[encoded data removed]",
      "text/plain": [
       "<Figure size 1000x700 with 1 Axes>"
      ]
     },
     "metadata": {},
     "output_type": "display_data"
    }
   ],
   "source": [
    "X, y = make_classification(n_samples = 100000,\n",
    "                           n_features= 10,\n",
    "                           n_classes= 2,\n",
    "                           weights= [0.99, 0.01],\n",
    "                           n_redundant = 0)\n",
    "\n",
    "unique, counts = np.unique(y, return_counts=True)\n",
    "\n",
    "plt.figure(figsize=(10,7))\n",
    "plt.bar(unique, counts)\n",
    "\n",
    "plt.xticks(unique, fontsize = 16)\n",
    "plt.yticks(fontsize = 16)\n",
    "plt.title(\"Class Distribution\", fontsize = 16)\n",
    "\n",
    "plt.show()"
   ]
  },
  {
   "cell_type": "code",
   "execution_count": 3,
   "metadata": {},
   "outputs": [],
   "source": [
    "X_train, X_test, y_train, y_test = train_test_split(X,y , test_size= 0.2 , stratify= y , random_state= 53)"
   ]
  },
  {
   "cell_type": "code",
   "execution_count": 4,
   "metadata": {},
   "outputs": [
    {
     "data": {
      "text/plain": [
       "{0: 0.5073438015271048, 1: 34.542314335060446}"
      ]
     },
     "execution_count": 4,
     "metadata": {},
     "output_type": "execute_result"
    }
   ],
   "source": [
    "class_weights = compute_class_weight(class_weight= 'balanced',\n",
    "                                     classes = [0, 1], # classes = np.unique(y_train)\n",
    "                                     y = y_train)\n",
    "\n",
    "class_weights = dict(enumerate(class_weights))\n",
    "class_weights"
   ]
  },
  {
   "attachments": {},
   "cell_type": "markdown",
   "metadata": {},
   "source": [
    "# Models"
   ]
  },
  {
   "cell_type": "code",
   "execution_count": 5,
   "metadata": {},
   "outputs": [
    {
     "name": "stdout",
     "output_type": "stream",
     "text": [
      "Model: \"model\"\n",
      "_________________________________________________________________\n",
      " Layer (type)                Output Shape              Param #   \n",
      "=================================================================\n",
      " input_1 (InputLayer)        [(None, 10)]              0         \n",
      "                                                                 \n",
      " dense (Dense)               (None, 64)                704       \n",
      "                                                                 \n",
      " tf.nn.relu (TFOpLambda)     (None, 64)                0         \n",
      "                                                                 \n",
      " dense_1 (Dense)             (None, 32)                2080      \n",
      "                                                                 \n",
      " tf.nn.relu_1 (TFOpLambda)   (None, 32)                0         \n",
      "                                                                 \n",
      " dropout (Dropout)           (None, 32)                0         \n",
      "                                                                 \n",
      " dense_2 (Dense)             (None, 1)                 33        \n",
      "                                                                 \n",
      " activation (Activation)     (None, 1)                 0         \n",
      "                                                                 \n",
      "=================================================================\n",
      "Total params: 2,817\n",
      "Trainable params: 2,817\n",
      "Non-trainable params: 0\n",
      "_________________________________________________________________\n"
     ]
    }
   ],
   "source": [
    "input_layer = tf.keras.Input(shape=(X.shape[1],))\n",
    "\n",
    "x = tf.keras.layers.Dense(64)(input_layer)\n",
    "x = tf.nn.relu(x)\n",
    "\n",
    "x = tf.keras.layers.Dense(32)(x)\n",
    "x = tf.nn.relu(x)\n",
    "\n",
    "x = tf.keras.layers.Dropout(0.3)(x)\n",
    "\n",
    "x = tf.keras.layers.Dense(1)(x)\n",
    "x = tf.keras.layers.Activation(\"sigmoid\")(x)\n",
    "\n",
    "\n",
    "base_model = tf.keras.models.Model(input_layer, x)\n",
    "base_model.summary()"
   ]
  },
  {
   "cell_type": "code",
   "execution_count": 6,
   "metadata": {},
   "outputs": [],
   "source": [
    "# base_model(np.expand_dims(X_train[0] ,axis = 0)) # You can call this way."
   ]
  },
  {
   "cell_type": "code",
   "execution_count": 7,
   "metadata": {},
   "outputs": [
    {
     "data": {
      "text/plain": [
       "[array([[ 2.16108054e-01,  2.71043032e-01,  1.08210772e-01,\n",
       "          1.31857395e-02, -1.68552458e-01,  1.36771411e-01,\n",
       "          1.30642802e-01,  1.28387392e-01, -2.66527325e-01,\n",
       "         -2.47259185e-01,  9.61025357e-02,  8.71491432e-03,\n",
       "          2.46217877e-01, -3.02383304e-02, -2.15522677e-01,\n",
       "          8.35797191e-03,  2.06997097e-01,  5.66520095e-02,\n",
       "         -1.00547850e-01, -2.71732301e-01, -1.50074482e-01,\n",
       "         -1.47621989e-01, -2.42859289e-01, -1.03544265e-01,\n",
       "         -3.74167860e-02,  1.91409022e-01, -2.49071479e-01,\n",
       "          2.08416730e-01,  1.35455877e-01,  2.30627745e-01,\n",
       "         -1.22295633e-01, -2.17682838e-01,  5.60192168e-02,\n",
       "          2.08862484e-01, -1.19528949e-01,  2.26035923e-01,\n",
       "         -1.52933300e-01,  1.16830170e-02, -2.42573619e-02,\n",
       "         -2.27973118e-01, -1.18794441e-02,  1.78072214e-01,\n",
       "         -2.74302244e-01,  1.55341446e-01,  2.49310225e-01,\n",
       "          1.87181771e-01,  2.16650456e-01, -1.55258775e-02,\n",
       "         -1.61515027e-01,  2.99145579e-02,  1.45407647e-01,\n",
       "         -1.01607934e-01, -2.37428784e-01, -2.42403835e-01,\n",
       "          2.19920248e-01,  9.88394916e-02, -4.65691239e-02,\n",
       "          2.52262950e-02, -1.95011497e-02,  2.83644289e-01,\n",
       "         -2.04588935e-01, -3.29650342e-02,  2.03057021e-01,\n",
       "         -2.10236356e-01],\n",
       "        [-2.33971730e-01,  1.25045210e-01, -1.25690907e-01,\n",
       "          2.47262210e-01, -1.88528836e-01, -1.54078379e-01,\n",
       "          2.41831392e-01, -1.33623943e-01, -2.29908362e-01,\n",
       "         -2.17216775e-01,  1.27586842e-01, -1.58287302e-01,\n",
       "         -2.20528334e-01, -3.97412479e-02,  1.61330849e-01,\n",
       "          2.44667739e-01, -1.03367269e-02,  1.13475889e-01,\n",
       "          2.54836231e-01,  2.48565078e-02,  1.39597028e-01,\n",
       "         -3.07941437e-02,  1.27415895e-01, -1.81859672e-01,\n",
       "          1.17074758e-01,  2.16558307e-01, -2.30313465e-01,\n",
       "          1.13627017e-01,  1.58726066e-01, -1.59272581e-01,\n",
       "         -5.46928644e-02,  2.54706532e-01, -1.63484007e-01,\n",
       "         -2.32434109e-01, -2.59621173e-01,  1.91301674e-01,\n",
       "         -1.91561639e-01, -2.55234301e-01, -2.29904905e-01,\n",
       "          2.41355270e-01,  1.53678864e-01,  2.28661746e-01,\n",
       "         -2.80007362e-01, -9.36702788e-02, -7.17603713e-02,\n",
       "          1.98400438e-01, -7.82191753e-03,  1.38268650e-01,\n",
       "          5.33391535e-02,  5.95549345e-02, -2.53137708e-01,\n",
       "          1.48716837e-01, -1.14379972e-01, -2.54129022e-01,\n",
       "          1.52472317e-01, -6.94224089e-02, -1.30724072e-01,\n",
       "         -1.95285678e-02, -4.86172587e-02,  2.01764137e-01,\n",
       "         -2.95898616e-02,  2.40589976e-02,  1.62818432e-02,\n",
       "          1.49156839e-01],\n",
       "        [ 5.21173477e-02, -2.44043276e-01,  2.64876574e-01,\n",
       "          1.72236800e-01, -1.94059759e-01,  2.46671945e-01,\n",
       "          1.81257308e-01, -3.50066572e-02, -2.81016082e-01,\n",
       "         -2.62288541e-01, -5.33481836e-02, -8.61783773e-02,\n",
       "         -1.10531747e-01, -6.30199909e-03,  5.34855127e-02,\n",
       "          2.65065998e-01,  7.70206153e-02,  5.32537401e-02,\n",
       "          2.23290414e-01,  2.44187623e-01,  4.17848527e-02,\n",
       "         -1.48947865e-01,  4.02357578e-02, -2.62566060e-01,\n",
       "         -1.60700291e-01, -2.26738021e-01,  1.51765674e-01,\n",
       "         -2.02722877e-01, -7.70236105e-02,  2.83175856e-01,\n",
       "         -2.59139419e-01, -2.29027301e-01, -2.05610812e-01,\n",
       "          1.53288156e-01, -2.16618270e-01,  2.40763336e-01,\n",
       "          1.72410607e-01,  1.98494792e-02,  1.80544317e-01,\n",
       "         -1.64467037e-01,  2.63416737e-01,  1.90511107e-01,\n",
       "          1.05626374e-01, -1.17910340e-01,  9.88696218e-02,\n",
       "         -2.46396378e-01, -3.40065062e-02,  2.17236847e-01,\n",
       "          2.48931617e-01,  3.52123678e-02, -2.63142854e-01,\n",
       "         -1.46250129e-02, -2.13481188e-01,  1.87639266e-01,\n",
       "         -7.46894479e-02, -6.07892275e-02,  2.21723586e-01,\n",
       "          5.73660731e-02,  2.07241416e-01, -9.40829068e-02,\n",
       "          2.42826432e-01,  8.29613209e-02,  2.20530778e-01,\n",
       "         -5.96806705e-02],\n",
       "        [ 2.41759121e-02,  9.19169188e-02,  4.09977436e-02,\n",
       "         -2.89961696e-02,  1.02451801e-01,  8.62956941e-02,\n",
       "          5.44981658e-02,  4.50372696e-04,  3.25262547e-03,\n",
       "         -3.34462523e-03,  2.55288988e-01,  2.48241127e-02,\n",
       "          1.34189248e-01,  1.84404492e-01,  2.63161093e-01,\n",
       "          2.06072122e-01, -1.95850521e-01,  1.10458225e-01,\n",
       "          5.10275960e-02, -2.53077209e-01,  1.68340117e-01,\n",
       "         -2.69719124e-01, -1.15758121e-01, -1.17734671e-02,\n",
       "         -2.80493319e-01, -1.63002267e-01,  9.69590247e-02,\n",
       "         -2.83047259e-01,  8.96699131e-02, -1.87041998e-01,\n",
       "         -2.69438058e-01,  2.03296065e-01,  2.29143649e-01,\n",
       "          1.96394533e-01, -1.89674377e-01,  2.22828299e-01,\n",
       "         -2.59733111e-01, -1.61976248e-01,  8.98270011e-02,\n",
       "          1.22185856e-01,  8.16966891e-02, -1.96174979e-01,\n",
       "          2.72401422e-01, -4.50124890e-02,  2.72751123e-01,\n",
       "         -2.55992979e-01,  1.47602856e-01, -2.27590427e-01,\n",
       "         -2.37261713e-01, -1.29499763e-01, -2.73340255e-01,\n",
       "          5.27179539e-02, -1.01087168e-01, -1.10091433e-01,\n",
       "          2.07333088e-01,  2.24889249e-01,  1.53520614e-01,\n",
       "          1.79530263e-01,  1.60476387e-01,  1.39542103e-01,\n",
       "          4.19712067e-02,  1.32310390e-02, -1.41605809e-01,\n",
       "          1.68181926e-01],\n",
       "        [ 8.57829154e-02,  2.79863089e-01, -7.57447779e-02,\n",
       "          1.68572485e-01,  9.88499522e-02,  6.05801344e-02,\n",
       "         -4.92580682e-02,  2.49098748e-01,  2.27082103e-01,\n",
       "          1.60147458e-01,  1.16310596e-01,  2.46547431e-01,\n",
       "          1.54426932e-01, -1.22851998e-01,  8.92238319e-02,\n",
       "         -7.03344345e-02, -2.28033200e-01,  1.35342628e-01,\n",
       "          5.71561456e-02,  1.17004097e-01, -7.30998963e-02,\n",
       "          8.85809660e-02, -1.04944959e-01, -1.10957086e-01,\n",
       "         -1.55357480e-01, -2.18846932e-01, -2.40446106e-01,\n",
       "          2.15855986e-01,  2.75046200e-01, -2.99403667e-02,\n",
       "          1.09389782e-01,  2.37128586e-01,  6.40969276e-02,\n",
       "          1.85036123e-01,  5.24953604e-02, -1.13192201e-02,\n",
       "          2.18520850e-01,  2.86212564e-03, -2.69223750e-02,\n",
       "          1.62853777e-01, -8.50138217e-02, -2.19524801e-02,\n",
       "          2.40106732e-01, -1.32800519e-01, -2.55923569e-02,\n",
       "         -2.68737108e-01, -2.01336712e-01, -2.16882020e-01,\n",
       "          2.60459870e-01, -2.18009353e-02, -2.70226061e-01,\n",
       "         -5.44757545e-02,  1.47861838e-02,  1.41448647e-01,\n",
       "          1.23075426e-01,  4.48457003e-02,  2.27461010e-01,\n",
       "         -7.11004287e-02, -2.11262286e-01, -1.95183516e-01,\n",
       "         -8.04687738e-02, -2.57877380e-01, -2.82326609e-01,\n",
       "         -2.21974045e-01],\n",
       "        [ 6.12642467e-02,  5.48413396e-03,  1.42909408e-01,\n",
       "         -2.36728236e-01,  1.69058025e-01, -8.22610557e-02,\n",
       "         -2.49089882e-01,  6.45935237e-02,  8.50003064e-02,\n",
       "         -4.55199629e-02, -2.80653536e-01, -9.03451443e-02,\n",
       "          2.06287593e-01, -6.41706586e-03,  1.49540484e-01,\n",
       "         -5.29467463e-02, -5.99654615e-02,  2.40290374e-01,\n",
       "         -4.82617319e-02,  2.13793814e-01,  1.40083998e-01,\n",
       "         -1.95396274e-01, -2.56747007e-02,  2.75437683e-01,\n",
       "          1.12951458e-01, -2.76309878e-01,  1.44993454e-01,\n",
       "         -2.80093998e-01,  3.64533663e-02, -2.50351608e-01,\n",
       "          2.46358544e-01, -2.43589446e-01, -1.36640131e-01,\n",
       "         -4.41662520e-02, -1.40756920e-01, -2.84053981e-01,\n",
       "          2.10617900e-01, -7.96421617e-02,  8.46582651e-03,\n",
       "         -2.18524128e-01,  1.44553602e-01,  2.31922776e-01,\n",
       "          8.02583098e-02, -2.74145156e-01,  1.22726053e-01,\n",
       "         -1.26529634e-02, -2.55953610e-01,  1.35426283e-01,\n",
       "         -1.58501625e-01, -2.28943050e-01,  2.59656698e-01,\n",
       "          1.53493911e-01,  1.47120506e-01, -6.70777261e-02,\n",
       "         -2.58339703e-01,  2.32780725e-01, -2.48914450e-01,\n",
       "          8.19079578e-02, -1.69837743e-01, -7.43581504e-02,\n",
       "          7.07594156e-02, -5.61520606e-02, -8.76255035e-02,\n",
       "         -1.36197418e-01],\n",
       "        [-1.86969891e-01,  1.05506390e-01,  2.14412004e-01,\n",
       "         -7.29725361e-02,  1.30471587e-01,  2.48552829e-01,\n",
       "         -2.17998713e-01, -5.84272295e-02, -1.39419138e-02,\n",
       "          7.68875480e-02, -1.73979938e-01,  1.28147691e-01,\n",
       "         -1.87531531e-01,  1.09740704e-01, -5.37665188e-02,\n",
       "          1.50157809e-02, -2.16330081e-01, -2.80583471e-01,\n",
       "          2.73698777e-01,  8.93608332e-02,  2.64350504e-01,\n",
       "         -1.19952455e-01, -2.72560418e-02,  2.18530923e-01,\n",
       "          2.04941630e-02,  2.17948407e-01, -1.53227255e-01,\n",
       "         -1.99361473e-01, -3.66241187e-02,  6.89378083e-02,\n",
       "          2.03651935e-01, -1.41253322e-01,  2.01918513e-01,\n",
       "         -2.46444315e-01,  2.63647825e-01,  3.93203199e-02,\n",
       "         -4.56387699e-02,  2.39558011e-01,  1.87771738e-01,\n",
       "         -1.58286348e-01,  8.15534294e-02, -1.61151946e-01,\n",
       "         -7.41461962e-02,  1.92971826e-02, -1.93957850e-01,\n",
       "          1.10982955e-01, -1.37260228e-01,  1.41095817e-01,\n",
       "         -2.03064963e-01,  2.17340022e-01,  2.98784673e-02,\n",
       "         -1.55307993e-01, -2.65822172e-01,  1.00018978e-02,\n",
       "         -1.22278258e-01, -2.07952842e-01,  1.62342101e-01,\n",
       "         -1.88763246e-01,  2.41358608e-01, -1.42084762e-01,\n",
       "         -2.05675572e-01,  3.06586921e-02, -1.04039922e-01,\n",
       "         -1.78145260e-01],\n",
       "        [ 2.64467925e-01, -3.90217602e-02, -9.82079208e-02,\n",
       "          8.79754722e-02,  2.75981396e-01,  2.70430237e-01,\n",
       "         -1.32600188e-01,  1.96579993e-01, -2.36641467e-01,\n",
       "         -1.86552033e-01,  3.47891450e-03, -2.76138991e-01,\n",
       "          2.84034103e-01, -1.54265627e-01,  2.34791547e-01,\n",
       "          2.72032917e-02, -9.30133462e-03,  1.87877893e-01,\n",
       "         -1.49103329e-01,  7.57563114e-02,  2.32944459e-01,\n",
       "          2.57794708e-01,  1.01945758e-01,  2.22171038e-01,\n",
       "          1.87985241e-01,  1.50770217e-01,  1.27726823e-01,\n",
       "         -6.55435622e-02, -1.89814240e-01,  2.61373132e-01,\n",
       "         -1.56901479e-01,  2.60812372e-01, -1.24758661e-01,\n",
       "          1.17496431e-01,  1.86129004e-01,  1.76601410e-01,\n",
       "         -1.33288503e-01, -1.80939510e-01, -2.69213140e-01,\n",
       "         -9.80052054e-02,  1.92620218e-01, -2.37455666e-01,\n",
       "         -2.46846616e-01, -2.21291542e-01, -2.32292086e-01,\n",
       "          5.53722382e-02,  1.66305542e-01,  1.44451708e-01,\n",
       "         -8.54447037e-02, -2.16047466e-01,  2.51532644e-01,\n",
       "         -2.01895297e-01, -2.17799664e-01,  4.49948311e-02,\n",
       "         -7.66330510e-02, -2.70622998e-01, -2.50119001e-01,\n",
       "         -2.81414181e-01,  8.18469226e-02, -1.13707125e-01,\n",
       "         -7.13287294e-02, -1.50595129e-01,  4.92349267e-02,\n",
       "         -1.35814726e-01],\n",
       "        [ 1.28688961e-01, -4.01977301e-02, -2.69977152e-02,\n",
       "         -8.05090368e-02, -4.32352275e-02,  7.28076398e-02,\n",
       "          1.46819681e-01,  6.46113157e-02,  5.42284846e-02,\n",
       "          2.15479165e-01,  1.76727116e-01, -2.46101916e-02,\n",
       "          1.34506792e-01,  2.90728211e-02,  1.37805372e-01,\n",
       "         -1.19446874e-01,  4.19536233e-02, -2.71886587e-04,\n",
       "         -1.77996650e-01, -9.30547267e-02,  2.09733576e-01,\n",
       "         -2.78520674e-01,  2.26199597e-01,  2.49111205e-01,\n",
       "         -2.37311125e-01,  1.47687167e-01,  1.30442083e-02,\n",
       "          1.32257342e-02,  2.48031169e-01,  1.23998493e-01,\n",
       "          3.71632874e-02,  1.66369438e-01, -1.96179152e-02,\n",
       "         -1.15244821e-01, -6.20217621e-02, -1.75748229e-01,\n",
       "         -1.52379125e-01, -5.07229716e-02, -6.22231811e-02,\n",
       "         -6.64485991e-02,  1.25234008e-01, -2.13797614e-01,\n",
       "         -2.16440469e-01,  8.98689032e-02,  8.25103521e-02,\n",
       "          2.67345935e-01,  1.89537734e-01,  2.31403440e-01,\n",
       "          6.44763410e-02, -1.33946076e-01, -5.98139316e-02,\n",
       "          8.41813684e-02, -2.53053308e-01,  1.50603354e-01,\n",
       "         -1.66273639e-01, -2.67707378e-01, -1.46552950e-01,\n",
       "          2.66271025e-01,  1.81896746e-01,  2.38512546e-01,\n",
       "         -2.62368649e-01, -1.26316443e-01,  1.53851211e-01,\n",
       "          2.62296468e-01],\n",
       "        [-5.56753427e-02, -1.07781500e-01, -2.69804180e-01,\n",
       "          1.30002886e-01,  1.43196851e-01, -3.08119953e-02,\n",
       "          1.77356601e-01,  1.30540490e-01, -1.04743257e-01,\n",
       "         -1.55842617e-01, -1.10943571e-01,  1.59550518e-01,\n",
       "          2.39518255e-01, -5.93780875e-02, -8.48153085e-02,\n",
       "         -4.80973721e-03,  2.04254776e-01,  1.56167179e-01,\n",
       "          1.26827657e-01, -1.32297799e-01,  2.33226091e-01,\n",
       "         -1.89390272e-01, -6.73955083e-02,  2.70385116e-01,\n",
       "         -1.97648093e-01,  6.45946860e-02,  1.77025348e-01,\n",
       "          2.60743707e-01,  7.88895488e-02,  7.38827884e-02,\n",
       "         -2.65481234e-01,  6.92768693e-02,  1.62037820e-01,\n",
       "          2.97987461e-02, -1.31244034e-01, -2.17880726e-01,\n",
       "         -2.31722981e-01, -2.26210594e-01,  2.45101184e-01,\n",
       "          5.15555143e-02, -2.44655982e-01,  2.58665353e-01,\n",
       "         -2.70228565e-01,  1.43014491e-02,  8.22003484e-02,\n",
       "         -4.64961976e-02,  2.44913012e-01,  2.12882459e-02,\n",
       "          2.64517754e-01, -1.61607265e-02,  4.89522219e-02,\n",
       "          2.19235420e-02,  8.54715705e-03, -8.60744715e-03,\n",
       "          1.76074177e-01,  1.11256272e-01, -1.64399892e-01,\n",
       "          1.51384264e-01,  1.89894825e-01, -2.35532492e-01,\n",
       "         -1.51608855e-01, -2.16916502e-02, -2.13552669e-01,\n",
       "          7.53458738e-02]], dtype=float32),\n",
       " array([0., 0., 0., 0., 0., 0., 0., 0., 0., 0., 0., 0., 0., 0., 0., 0., 0.,\n",
       "        0., 0., 0., 0., 0., 0., 0., 0., 0., 0., 0., 0., 0., 0., 0., 0., 0.,\n",
       "        0., 0., 0., 0., 0., 0., 0., 0., 0., 0., 0., 0., 0., 0., 0., 0., 0.,\n",
       "        0., 0., 0., 0., 0., 0., 0., 0., 0., 0., 0., 0., 0.], dtype=float32),\n",
       " array([[ 0.24090624, -0.12772655, -0.24993724, ..., -0.21731806,\n",
       "          0.03085029, -0.24542892],\n",
       "        [ 0.17423403, -0.12493563, -0.14239973, ...,  0.03963804,\n",
       "          0.12126613,  0.04770434],\n",
       "        [-0.12512428, -0.11861807,  0.17763317, ..., -0.05629545,\n",
       "          0.17273587, -0.08634198],\n",
       "        ...,\n",
       "        [-0.10888076, -0.08751541,  0.21187979, ..., -0.24967921,\n",
       "         -0.1414091 ,  0.22126561],\n",
       "        [-0.22025609, -0.19196773, -0.23976648, ...,  0.23885417,\n",
       "          0.06771272, -0.23299092],\n",
       "        [-0.14620167, -0.09370154, -0.22842187, ..., -0.08979887,\n",
       "         -0.21774781, -0.18154687]], dtype=float32),\n",
       " array([0., 0., 0., 0., 0., 0., 0., 0., 0., 0., 0., 0., 0., 0., 0., 0., 0.,\n",
       "        0., 0., 0., 0., 0., 0., 0., 0., 0., 0., 0., 0., 0., 0., 0.],\n",
       "       dtype=float32),\n",
       " array([[ 0.0288949 ],\n",
       "        [-0.1031464 ],\n",
       "        [-0.41571411],\n",
       "        [-0.14915973],\n",
       "        [ 0.24738455],\n",
       "        [-0.38769656],\n",
       "        [-0.15733641],\n",
       "        [ 0.1321398 ],\n",
       "        [ 0.39548135],\n",
       "        [ 0.16785723],\n",
       "        [ 0.21553373],\n",
       "        [ 0.2582602 ],\n",
       "        [ 0.15570009],\n",
       "        [-0.1017468 ],\n",
       "        [-0.18569057],\n",
       "        [-0.15773931],\n",
       "        [-0.17652604],\n",
       "        [ 0.00520539],\n",
       "        [ 0.07361609],\n",
       "        [-0.17953402],\n",
       "        [-0.11111709],\n",
       "        [-0.12345684],\n",
       "        [ 0.02890942],\n",
       "        [-0.08562627],\n",
       "        [ 0.4148876 ],\n",
       "        [-0.30909413],\n",
       "        [-0.07591969],\n",
       "        [ 0.1888597 ],\n",
       "        [-0.32906687],\n",
       "        [ 0.12982178],\n",
       "        [ 0.36896056],\n",
       "        [ 0.18283784]], dtype=float32),\n",
       " array([0.], dtype=float32)]"
      ]
     },
     "execution_count": 7,
     "metadata": {},
     "output_type": "execute_result"
    }
   ],
   "source": [
    "base_model.get_weights()"
   ]
  },
  {
   "cell_type": "code",
   "execution_count": 8,
   "metadata": {},
   "outputs": [],
   "source": [
    "base_model.save_weights(\"initial_weights.h5\")"
   ]
  },
  {
   "cell_type": "code",
   "execution_count": 9,
   "metadata": {},
   "outputs": [],
   "source": [
    "class_weight_model = tf.keras.models.clone_model(base_model)\n",
    "focal_loss_model = tf.keras.models.clone_model(base_model)\n",
    "cat_focal_loss_model = tf.keras.models.clone_model(base_model)"
   ]
  },
  {
   "cell_type": "code",
   "execution_count": 10,
   "metadata": {},
   "outputs": [],
   "source": [
    "base_model.compile(optimizer = 'adam',\n",
    "                   loss = 'binary_crossentropy',\n",
    "                   metrics = [tf.keras.metrics.Precision(),\n",
    "                              tf.keras.metrics.Recall()])"
   ]
  },
  {
   "cell_type": "code",
   "execution_count": 11,
   "metadata": {},
   "outputs": [
    {
     "name": "stdout",
     "output_type": "stream",
     "text": [
      "Epoch 1/32\n",
      "500/500 [==============================] - 2s 2ms/step - loss: 0.1072 - precision: 0.0122 - recall: 0.0118 - val_loss: 0.0608 - val_precision: 0.0000e+00 - val_recall: 0.0000e+00\n",
      "Epoch 2/32\n",
      "500/500 [==============================] - 1s 2ms/step - loss: 0.0657 - precision: 0.3333 - recall: 0.0224 - val_loss: 0.0582 - val_precision: 0.5000 - val_recall: 0.0405\n",
      "Epoch 3/32\n",
      "500/500 [==============================] - 1s 2ms/step - loss: 0.0635 - precision: 0.4174 - recall: 0.0513 - val_loss: 0.0573 - val_precision: 0.5000 - val_recall: 0.0541\n",
      "Epoch 4/32\n",
      "500/500 [==============================] - 1s 2ms/step - loss: 0.0620 - precision: 0.4336 - recall: 0.0524 - val_loss: 0.0558 - val_precision: 0.4884 - val_recall: 0.0946\n",
      "Epoch 5/32\n",
      "500/500 [==============================] - 1s 2ms/step - loss: 0.0610 - precision: 0.5197 - recall: 0.0705 - val_loss: 0.0558 - val_precision: 0.5806 - val_recall: 0.0811\n",
      "Epoch 6/32\n",
      "500/500 [==============================] - 1s 2ms/step - loss: 0.0605 - precision: 0.5652 - recall: 0.0694 - val_loss: 0.0544 - val_precision: 0.7241 - val_recall: 0.0946\n",
      "Epoch 7/32\n",
      "500/500 [==============================] - 1s 2ms/step - loss: 0.0597 - precision: 0.6759 - recall: 0.0780 - val_loss: 0.0538 - val_precision: 0.8214 - val_recall: 0.1036\n",
      "Epoch 8/32\n",
      "500/500 [==============================] - 1s 2ms/step - loss: 0.0589 - precision: 0.8174 - recall: 0.1004 - val_loss: 0.0536 - val_precision: 0.9231 - val_recall: 0.1081\n",
      "Epoch 9/32\n",
      "500/500 [==============================] - 1s 2ms/step - loss: 0.0572 - precision: 0.8409 - recall: 0.1186 - val_loss: 0.0523 - val_precision: 0.9211 - val_recall: 0.1577\n",
      "Epoch 10/32\n",
      "500/500 [==============================] - 1s 2ms/step - loss: 0.0561 - precision: 0.8741 - recall: 0.1335 - val_loss: 0.0510 - val_precision: 0.9302 - val_recall: 0.1802\n",
      "Epoch 11/32\n",
      "500/500 [==============================] - 1s 2ms/step - loss: 0.0554 - precision: 0.9023 - recall: 0.1677 - val_loss: 0.0507 - val_precision: 0.8824 - val_recall: 0.2027\n",
      "Epoch 12/32\n",
      "500/500 [==============================] - 1s 2ms/step - loss: 0.0543 - precision: 0.9006 - recall: 0.1741 - val_loss: 0.0496 - val_precision: 0.9318 - val_recall: 0.1847\n",
      "Epoch 13/32\n",
      "500/500 [==============================] - 1s 2ms/step - loss: 0.0536 - precision: 0.8810 - recall: 0.1976 - val_loss: 0.0490 - val_precision: 0.9545 - val_recall: 0.1892\n",
      "Epoch 14/32\n",
      "500/500 [==============================] - 1s 1ms/step - loss: 0.0534 - precision: 0.8500 - recall: 0.2179 - val_loss: 0.0488 - val_precision: 0.9574 - val_recall: 0.2027\n",
      "Epoch 15/32\n",
      "500/500 [==============================] - 1s 2ms/step - loss: 0.0533 - precision: 0.8445 - recall: 0.2147 - val_loss: 0.0479 - val_precision: 0.9583 - val_recall: 0.2072\n",
      "Epoch 16/32\n",
      "500/500 [==============================] - 1s 2ms/step - loss: 0.0522 - precision: 0.8340 - recall: 0.2361 - val_loss: 0.0478 - val_precision: 0.9444 - val_recall: 0.2297\n",
      "Epoch 17/32\n",
      "500/500 [==============================] - 1s 2ms/step - loss: 0.0516 - precision: 0.8045 - recall: 0.2286 - val_loss: 0.0477 - val_precision: 0.9574 - val_recall: 0.2027\n",
      "Epoch 18/32\n",
      "500/500 [==============================] - 1s 2ms/step - loss: 0.0520 - precision: 0.8527 - recall: 0.2350 - val_loss: 0.0477 - val_precision: 0.9206 - val_recall: 0.2613\n",
      "Epoch 19/32\n",
      "500/500 [==============================] - 1s 2ms/step - loss: 0.0514 - precision: 0.8000 - recall: 0.2436 - val_loss: 0.0470 - val_precision: 0.9265 - val_recall: 0.2838\n",
      "Epoch 20/32\n",
      "500/500 [==============================] - 1s 1ms/step - loss: 0.0510 - precision: 0.8333 - recall: 0.2404 - val_loss: 0.0469 - val_precision: 0.9206 - val_recall: 0.2613\n",
      "Epoch 21/32\n",
      "500/500 [==============================] - 1s 2ms/step - loss: 0.0512 - precision: 0.7814 - recall: 0.2329 - val_loss: 0.0470 - val_precision: 0.9138 - val_recall: 0.2387\n",
      "Epoch 22/32\n",
      "500/500 [==============================] - 1s 2ms/step - loss: 0.0505 - precision: 0.8401 - recall: 0.2415 - val_loss: 0.0464 - val_precision: 0.8442 - val_recall: 0.2928\n",
      "Epoch 23/32\n",
      "500/500 [==============================] - 1s 2ms/step - loss: 0.0503 - precision: 0.8322 - recall: 0.2596 - val_loss: 0.0465 - val_precision: 0.9143 - val_recall: 0.2883\n",
      "Epoch 24/32\n",
      "500/500 [==============================] - 1s 2ms/step - loss: 0.0499 - precision: 0.8282 - recall: 0.2575 - val_loss: 0.0467 - val_precision: 0.8750 - val_recall: 0.2838\n",
      "Epoch 25/32\n",
      "500/500 [==============================] - 1s 2ms/step - loss: 0.0499 - precision: 0.8292 - recall: 0.2489 - val_loss: 0.0475 - val_precision: 0.7912 - val_recall: 0.3243\n",
      "Epoch 26/32\n",
      "500/500 [==============================] - 1s 2ms/step - loss: 0.0497 - precision: 0.7816 - recall: 0.2639 - val_loss: 0.0460 - val_precision: 0.8675 - val_recall: 0.3243\n",
      "Epoch 27/32\n",
      "500/500 [==============================] - 1s 2ms/step - loss: 0.0500 - precision: 0.8020 - recall: 0.2511 - val_loss: 0.0463 - val_precision: 0.9153 - val_recall: 0.2432\n",
      "Epoch 28/32\n",
      "500/500 [==============================] - 1s 2ms/step - loss: 0.0497 - precision: 0.8153 - recall: 0.2500 - val_loss: 0.0460 - val_precision: 0.8611 - val_recall: 0.2793\n",
      "Epoch 29/32\n",
      "500/500 [==============================] - 1s 2ms/step - loss: 0.0495 - precision: 0.8163 - recall: 0.2564 - val_loss: 0.0463 - val_precision: 0.8214 - val_recall: 0.3108\n",
      "Epoch 30/32\n",
      "500/500 [==============================] - 1s 2ms/step - loss: 0.0492 - precision: 0.8034 - recall: 0.2532 - val_loss: 0.0459 - val_precision: 0.9365 - val_recall: 0.2658\n",
      "Epoch 31/32\n",
      "500/500 [==============================] - 1s 2ms/step - loss: 0.0492 - precision: 0.8275 - recall: 0.2511 - val_loss: 0.0462 - val_precision: 0.9155 - val_recall: 0.2928\n",
      "Epoch 32/32\n",
      "500/500 [==============================] - 1s 2ms/step - loss: 0.0487 - precision: 0.8050 - recall: 0.2735 - val_loss: 0.0457 - val_precision: 0.8488 - val_recall: 0.3288\n"
     ]
    }
   ],
   "source": [
    "history = base_model.fit(X_train, y_train, epochs = 32, batch_size=128, validation_split=0.2)"
   ]
  },
  {
   "cell_type": "code",
   "execution_count": 12,
   "metadata": {},
   "outputs": [
    {
     "name": "stdout",
     "output_type": "stream",
     "text": [
      "625/625 [==============================] - 1s 1ms/step - loss: 0.0499 - precision: 0.7679 - recall: 0.2966\n"
     ]
    },
    {
     "data": {
      "text/plain": [
       "[0.04988572746515274, 0.7678571343421936, 0.29655173420906067]"
      ]
     },
     "execution_count": 12,
     "metadata": {},
     "output_type": "execute_result"
    }
   ],
   "source": [
    "base_model.evaluate(X_test, y_test)"
   ]
  },
  {
   "cell_type": "code",
   "execution_count": 13,
   "metadata": {},
   "outputs": [
    {
     "name": "stdout",
     "output_type": "stream",
     "text": [
      "625/625 [==============================] - 0s 465us/step\n"
     ]
    }
   ],
   "source": [
    "preds = base_model.predict(X_test)"
   ]
  },
  {
   "cell_type": "code",
   "execution_count": 14,
   "metadata": {},
   "outputs": [
    {
     "name": "stdout",
     "output_type": "stream",
     "text": [
      "              precision    recall  f1-score   support\n",
      "\n",
      "           0       0.99      1.00      0.99     19710\n",
      "           1       0.77      0.30      0.43       290\n",
      "\n",
      "    accuracy                           0.99     20000\n",
      "   macro avg       0.88      0.65      0.71     20000\n",
      "weighted avg       0.99      0.99      0.99     20000\n",
      "\n",
      "[[19684    26]\n",
      " [  204    86]]\n"
     ]
    }
   ],
   "source": [
    "threshold = 0.5\n",
    "y_pred = np.where(preds >= threshold , 1 , 0)\n",
    "\n",
    "print(classification_report(y_test,  y_pred))\n",
    "print(confusion_matrix(y_test,  y_pred))"
   ]
  },
  {
   "cell_type": "code",
   "execution_count": 15,
   "metadata": {},
   "outputs": [
    {
     "name": "stdout",
     "output_type": "stream",
     "text": [
      "              precision    recall  f1-score   support\n",
      "\n",
      "           0       0.99      0.99      0.99     19710\n",
      "           1       0.38      0.50      0.43       290\n",
      "\n",
      "    accuracy                           0.98     20000\n",
      "   macro avg       0.69      0.75      0.71     20000\n",
      "weighted avg       0.98      0.98      0.98     20000\n",
      "\n",
      "[[19473   237]\n",
      " [  144   146]]\n"
     ]
    }
   ],
   "source": [
    "threshold = 0.1\n",
    "y_pred = np.where(preds >= threshold , 1 , 0)\n",
    "\n",
    "print(classification_report(y_test,  y_pred))\n",
    "print(confusion_matrix(y_test,  y_pred))"
   ]
  },
  {
   "attachments": {},
   "cell_type": "markdown",
   "metadata": {},
   "source": [
    "# 2.Model"
   ]
  },
  {
   "cell_type": "code",
   "execution_count": 16,
   "metadata": {},
   "outputs": [],
   "source": [
    "class_weight_model.load_weights(\"initial_weights.h5\")"
   ]
  },
  {
   "cell_type": "code",
   "execution_count": 17,
   "metadata": {},
   "outputs": [
    {
     "data": {
      "text/plain": [
       "{0: 0.5073438015271048, 1: 34.542314335060446}"
      ]
     },
     "execution_count": 17,
     "metadata": {},
     "output_type": "execute_result"
    }
   ],
   "source": [
    "class_weights"
   ]
  },
  {
   "cell_type": "code",
   "execution_count": 18,
   "metadata": {},
   "outputs": [
    {
     "name": "stdout",
     "output_type": "stream",
     "text": [
      "Epoch 1/32\n",
      "500/500 [==============================] - 1s 2ms/step - loss: 0.5463 - precision_1: 0.0463 - recall_1: 0.6752 - val_loss: 0.5131 - val_precision_1: 0.0571 - val_recall_1: 0.7162\n",
      "Epoch 2/32\n",
      "500/500 [==============================] - 1s 2ms/step - loss: 0.5009 - precision_1: 0.0699 - recall_1: 0.6645 - val_loss: 0.4604 - val_precision_1: 0.0724 - val_recall_1: 0.6982\n",
      "Epoch 3/32\n",
      "500/500 [==============================] - 1s 2ms/step - loss: 0.4950 - precision_1: 0.0780 - recall_1: 0.6741 - val_loss: 0.4848 - val_precision_1: 0.0770 - val_recall_1: 0.7072\n",
      "Epoch 4/32\n",
      "500/500 [==============================] - 1s 2ms/step - loss: 0.4869 - precision_1: 0.0810 - recall_1: 0.6763 - val_loss: 0.3995 - val_precision_1: 0.0898 - val_recall_1: 0.6577\n",
      "Epoch 5/32\n",
      "500/500 [==============================] - 1s 2ms/step - loss: 0.4863 - precision_1: 0.0867 - recall_1: 0.6795 - val_loss: 0.4274 - val_precision_1: 0.0834 - val_recall_1: 0.6802\n",
      "Epoch 6/32\n",
      "500/500 [==============================] - 1s 2ms/step - loss: 0.4806 - precision_1: 0.0871 - recall_1: 0.6774 - val_loss: 0.4800 - val_precision_1: 0.0787 - val_recall_1: 0.7027\n",
      "Epoch 7/32\n",
      "500/500 [==============================] - 1s 2ms/step - loss: 0.4777 - precision_1: 0.0888 - recall_1: 0.6838 - val_loss: 0.4791 - val_precision_1: 0.0781 - val_recall_1: 0.7072\n",
      "Epoch 8/32\n",
      "500/500 [==============================] - 1s 2ms/step - loss: 0.4738 - precision_1: 0.0878 - recall_1: 0.6880 - val_loss: 0.4427 - val_precision_1: 0.0868 - val_recall_1: 0.6667\n",
      "Epoch 9/32\n",
      "500/500 [==============================] - 1s 2ms/step - loss: 0.4684 - precision_1: 0.0923 - recall_1: 0.6912 - val_loss: 0.4480 - val_precision_1: 0.0825 - val_recall_1: 0.6712\n",
      "Epoch 10/32\n",
      "500/500 [==============================] - 1s 2ms/step - loss: 0.4689 - precision_1: 0.0911 - recall_1: 0.6880 - val_loss: 0.4174 - val_precision_1: 0.0916 - val_recall_1: 0.6712\n",
      "Epoch 11/32\n",
      "500/500 [==============================] - 1s 2ms/step - loss: 0.4641 - precision_1: 0.0943 - recall_1: 0.6934 - val_loss: 0.4819 - val_precision_1: 0.0822 - val_recall_1: 0.6982\n",
      "Epoch 12/32\n",
      "500/500 [==============================] - 1s 2ms/step - loss: 0.4615 - precision_1: 0.0954 - recall_1: 0.6944 - val_loss: 0.4270 - val_precision_1: 0.0870 - val_recall_1: 0.6757\n",
      "Epoch 13/32\n",
      "500/500 [==============================] - 1s 2ms/step - loss: 0.4596 - precision_1: 0.0967 - recall_1: 0.6923 - val_loss: 0.4685 - val_precision_1: 0.0796 - val_recall_1: 0.7027\n",
      "Epoch 14/32\n",
      "500/500 [==============================] - 1s 2ms/step - loss: 0.4563 - precision_1: 0.0937 - recall_1: 0.6923 - val_loss: 0.4174 - val_precision_1: 0.0904 - val_recall_1: 0.6802\n",
      "Epoch 15/32\n",
      "500/500 [==============================] - 1s 2ms/step - loss: 0.4535 - precision_1: 0.0958 - recall_1: 0.6934 - val_loss: 0.4392 - val_precision_1: 0.0842 - val_recall_1: 0.6937\n",
      "Epoch 16/32\n",
      "500/500 [==============================] - 1s 2ms/step - loss: 0.4542 - precision_1: 0.0952 - recall_1: 0.7019 - val_loss: 0.4613 - val_precision_1: 0.0788 - val_recall_1: 0.6937\n",
      "Epoch 17/32\n",
      "500/500 [==============================] - 1s 2ms/step - loss: 0.4495 - precision_1: 0.0918 - recall_1: 0.7051 - val_loss: 0.3689 - val_precision_1: 0.1019 - val_recall_1: 0.6622\n",
      "Epoch 18/32\n",
      "500/500 [==============================] - 1s 2ms/step - loss: 0.4473 - precision_1: 0.0978 - recall_1: 0.6998 - val_loss: 0.3904 - val_precision_1: 0.0936 - val_recall_1: 0.6757\n",
      "Epoch 19/32\n",
      "500/500 [==============================] - 1s 2ms/step - loss: 0.4455 - precision_1: 0.0957 - recall_1: 0.6998 - val_loss: 0.4311 - val_precision_1: 0.0852 - val_recall_1: 0.6982\n",
      "Epoch 20/32\n",
      "500/500 [==============================] - 1s 2ms/step - loss: 0.4409 - precision_1: 0.0961 - recall_1: 0.6998 - val_loss: 0.4408 - val_precision_1: 0.0813 - val_recall_1: 0.7027\n",
      "Epoch 21/32\n",
      "500/500 [==============================] - 1s 2ms/step - loss: 0.4343 - precision_1: 0.0956 - recall_1: 0.7051 - val_loss: 0.4509 - val_precision_1: 0.0798 - val_recall_1: 0.7027\n",
      "Epoch 22/32\n",
      "500/500 [==============================] - 1s 2ms/step - loss: 0.4396 - precision_1: 0.0921 - recall_1: 0.7030 - val_loss: 0.4363 - val_precision_1: 0.0809 - val_recall_1: 0.6982\n",
      "Epoch 23/32\n",
      "500/500 [==============================] - 1s 2ms/step - loss: 0.4351 - precision_1: 0.0927 - recall_1: 0.7126 - val_loss: 0.4235 - val_precision_1: 0.0811 - val_recall_1: 0.6937\n",
      "Epoch 24/32\n",
      "500/500 [==============================] - 1s 2ms/step - loss: 0.4308 - precision_1: 0.0950 - recall_1: 0.7201 - val_loss: 0.3922 - val_precision_1: 0.0917 - val_recall_1: 0.6847\n",
      "Epoch 25/32\n",
      "500/500 [==============================] - 1s 2ms/step - loss: 0.4312 - precision_1: 0.0936 - recall_1: 0.7179 - val_loss: 0.4292 - val_precision_1: 0.0784 - val_recall_1: 0.7162\n",
      "Epoch 26/32\n",
      "500/500 [==============================] - 1s 2ms/step - loss: 0.4281 - precision_1: 0.0933 - recall_1: 0.7147 - val_loss: 0.4477 - val_precision_1: 0.0798 - val_recall_1: 0.7117\n",
      "Epoch 27/32\n",
      "500/500 [==============================] - 1s 2ms/step - loss: 0.4238 - precision_1: 0.0936 - recall_1: 0.7158 - val_loss: 0.3380 - val_precision_1: 0.1010 - val_recall_1: 0.6667\n",
      "Epoch 28/32\n",
      "500/500 [==============================] - 1s 2ms/step - loss: 0.4229 - precision_1: 0.0956 - recall_1: 0.7169 - val_loss: 0.3769 - val_precision_1: 0.0893 - val_recall_1: 0.6757\n",
      "Epoch 29/32\n",
      "500/500 [==============================] - 1s 2ms/step - loss: 0.4200 - precision_1: 0.0933 - recall_1: 0.7254 - val_loss: 0.3730 - val_precision_1: 0.0900 - val_recall_1: 0.6892\n",
      "Epoch 30/32\n",
      "500/500 [==============================] - 1s 2ms/step - loss: 0.4143 - precision_1: 0.0914 - recall_1: 0.7244 - val_loss: 0.4408 - val_precision_1: 0.0759 - val_recall_1: 0.7252\n",
      "Epoch 31/32\n",
      "500/500 [==============================] - 1s 2ms/step - loss: 0.4070 - precision_1: 0.0939 - recall_1: 0.7350 - val_loss: 0.3392 - val_precision_1: 0.0959 - val_recall_1: 0.6937\n",
      "Epoch 32/32\n",
      "500/500 [==============================] - 1s 2ms/step - loss: 0.4150 - precision_1: 0.0949 - recall_1: 0.7286 - val_loss: 0.4124 - val_precision_1: 0.0855 - val_recall_1: 0.7117\n"
     ]
    }
   ],
   "source": [
    "class_weight_model.compile(optimizer = 'adam',\n",
    "                   loss = 'binary_crossentropy',\n",
    "                   metrics = [tf.keras.metrics.Precision(),\n",
    "                              tf.keras.metrics.Recall()])\n",
    "\n",
    "\n",
    "history_cw = class_weight_model.fit(X_train, y_train, \n",
    "                         epochs = 32, \n",
    "                         batch_size= 128, \n",
    "                         validation_split= 0.2,\n",
    "                         class_weight= class_weights)\n",
    "                        # class_weight= {0: 0.5, 1: 32.948929159802304})"
   ]
  },
  {
   "cell_type": "code",
   "execution_count": 19,
   "metadata": {},
   "outputs": [
    {
     "name": "stdout",
     "output_type": "stream",
     "text": [
      "625/625 [==============================] - 0s 449us/step\n"
     ]
    }
   ],
   "source": [
    "preds = base_model.predict(X_test)"
   ]
  },
  {
   "cell_type": "code",
   "execution_count": 20,
   "metadata": {},
   "outputs": [
    {
     "name": "stdout",
     "output_type": "stream",
     "text": [
      "              precision    recall  f1-score   support\n",
      "\n",
      "           0       0.99      1.00      0.99     19710\n",
      "           1       0.77      0.30      0.43       290\n",
      "\n",
      "    accuracy                           0.99     20000\n",
      "   macro avg       0.88      0.65      0.71     20000\n",
      "weighted avg       0.99      0.99      0.99     20000\n",
      "\n",
      "[[19684    26]\n",
      " [  204    86]]\n"
     ]
    }
   ],
   "source": [
    "threshold = 0.5\n",
    "y_pred = np.where(preds >= threshold , 1 , 0)\n",
    "\n",
    "print(classification_report(y_test,  y_pred))\n",
    "print(confusion_matrix(y_test,  y_pred))"
   ]
  },
  {
   "cell_type": "code",
   "execution_count": 21,
   "metadata": {},
   "outputs": [
    {
     "name": "stdout",
     "output_type": "stream",
     "text": [
      "              precision    recall  f1-score   support\n",
      "\n",
      "           0       0.99      0.99      0.99     19710\n",
      "           1       0.38      0.50      0.43       290\n",
      "\n",
      "    accuracy                           0.98     20000\n",
      "   macro avg       0.69      0.75      0.71     20000\n",
      "weighted avg       0.98      0.98      0.98     20000\n",
      "\n",
      "[[19473   237]\n",
      " [  144   146]]\n"
     ]
    }
   ],
   "source": [
    "threshold = 0.1\n",
    "y_pred = np.where(preds >= threshold , 1 , 0)\n",
    "\n",
    "print(classification_report(y_test,  y_pred))\n",
    "print(confusion_matrix(y_test,  y_pred))"
   ]
  },
  {
   "cell_type": "code",
   "execution_count": 26,
   "metadata": {},
   "outputs": [
    {
     "name": "stdout",
     "output_type": "stream",
     "text": [
      "              precision    recall  f1-score   support\n",
      "\n",
      "           0       0.99      0.92      0.95     19710\n",
      "           1       0.10      0.66      0.18       290\n",
      "\n",
      "    accuracy                           0.91     20000\n",
      "   macro avg       0.55      0.79      0.57     20000\n",
      "weighted avg       0.98      0.91      0.94     20000\n",
      "\n",
      "[[18081  1629]\n",
      " [   99   191]]\n"
     ]
    }
   ],
   "source": [
    "threshold = 0.02\n",
    "y_pred = np.where(preds >= threshold , 1 , 0)\n",
    "\n",
    "print(classification_report(y_test,  y_pred))\n",
    "print(confusion_matrix(y_test,  y_pred))"
   ]
  },
  {
   "cell_type": "code",
   "execution_count": null,
   "metadata": {},
   "outputs": [],
   "source": [
    "# Done for now"
   ]
  }
 ],
 "metadata": {
  "kernelspec": {
   "display_name": "Python 3",
   "language": "python",
   "name": "python3"
  },
  "language_info": {
   "codemirror_mode": {
    "name": "ipython",
    "version": 3
   },
   "file_extension": ".py",
   "mimetype": "text/x-python",
   "name": "python",
   "nbconvert_exporter": "python",
   "pygments_lexer": "ipython3",
   "version": "3.10.10"
  },
  "orig_nbformat": 4
 },
 "nbformat": 4,
 "nbformat_minor": 2
}
