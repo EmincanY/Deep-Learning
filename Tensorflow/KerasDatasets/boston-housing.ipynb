{
 "cells": [
  {
   "attachments": {},
   "cell_type": "markdown",
   "metadata": {},
   "source": [
    "# Import the Libraries"
   ]
  },
  {
   "cell_type": "code",
   "execution_count": 1,
   "metadata": {},
   "outputs": [],
   "source": [
    "import numpy as np\n",
    "import pandas as pd\n",
    "\n",
    "import matplotlib.pyplot as plt\n",
    "import seaborn as sns\n",
    "\n",
    "import tensorflow as tf\n",
    "from tensorflow.keras.datasets import boston_housing"
   ]
  },
  {
   "attachments": {},
   "cell_type": "markdown",
   "metadata": {},
   "source": [
    "# Load the Dataset"
   ]
  },
  {
   "cell_type": "code",
   "execution_count": 2,
   "metadata": {},
   "outputs": [],
   "source": [
    "(X_train , y_train) , (X_test , y_test) = boston_housing.load_data()"
   ]
  },
  {
   "cell_type": "code",
   "execution_count": 3,
   "metadata": {},
   "outputs": [
    {
     "name": "stdout",
     "output_type": "stream",
     "text": [
      "Train shape : (404, 13)\n",
      "Train label shape : (404,)\n",
      "Test shape : (102, 13)\n",
      "Test label shape : (102,)\n"
     ]
    }
   ],
   "source": [
    "print(f'Train shape : {X_train.shape}')\n",
    "print(f'Train label shape : {y_train.shape}')\n",
    "\n",
    "print(f'Test shape : {X_test.shape}')\n",
    "print(f'Test label shape : {y_test.shape}')"
   ]
  },
  {
   "cell_type": "code",
   "execution_count": 4,
   "metadata": {},
   "outputs": [
    {
     "data": {
      "text/plain": [
       "array([  1.23247,   0.     ,   8.14   ,   0.     ,   0.538  ,   6.142  ,\n",
       "        91.7    ,   3.9769 ,   4.     , 307.     ,  21.     , 396.9    ,\n",
       "        18.72   ])"
      ]
     },
     "execution_count": 4,
     "metadata": {},
     "output_type": "execute_result"
    }
   ],
   "source": [
    "X_train[0]"
   ]
  },
  {
   "cell_type": "code",
   "execution_count": 5,
   "metadata": {},
   "outputs": [
    {
     "data": {
      "text/plain": [
       "{5.0,\n",
       " 6.3,\n",
       " 7.0,\n",
       " 7.2,\n",
       " 7.5,\n",
       " 8.3,\n",
       " 8.4,\n",
       " 8.5,\n",
       " 8.7,\n",
       " 8.8,\n",
       " 9.6,\n",
       " 10.2,\n",
       " 10.4,\n",
       " 10.5,\n",
       " 10.8,\n",
       " 10.9,\n",
       " 11.0,\n",
       " 11.3,\n",
       " 11.5,\n",
       " 11.7,\n",
       " 11.8,\n",
       " 11.9,\n",
       " 12.1,\n",
       " 12.3,\n",
       " 12.5,\n",
       " 12.6,\n",
       " 12.7,\n",
       " 12.8,\n",
       " 13.1,\n",
       " 13.2,\n",
       " 13.3,\n",
       " 13.4,\n",
       " 13.5,\n",
       " 13.6,\n",
       " 13.8,\n",
       " 13.9,\n",
       " 14.0,\n",
       " 14.1,\n",
       " 14.2,\n",
       " 14.3,\n",
       " 14.4,\n",
       " 14.5,\n",
       " 14.6,\n",
       " 14.8,\n",
       " 14.9,\n",
       " 15.0,\n",
       " 15.1,\n",
       " 15.2,\n",
       " 15.3,\n",
       " 15.6,\n",
       " 15.7,\n",
       " 16.0,\n",
       " 16.1,\n",
       " 16.2,\n",
       " 16.3,\n",
       " 16.4,\n",
       " 16.5,\n",
       " 16.6,\n",
       " 16.7,\n",
       " 16.8,\n",
       " 17.0,\n",
       " 17.1,\n",
       " 17.2,\n",
       " 17.3,\n",
       " 17.4,\n",
       " 17.5,\n",
       " 17.7,\n",
       " 17.8,\n",
       " 17.9,\n",
       " 18.0,\n",
       " 18.1,\n",
       " 18.2,\n",
       " 18.3,\n",
       " 18.4,\n",
       " 18.5,\n",
       " 18.7,\n",
       " 18.8,\n",
       " 18.9,\n",
       " 19.0,\n",
       " 19.1,\n",
       " 19.2,\n",
       " 19.3,\n",
       " 19.4,\n",
       " 19.5,\n",
       " 19.6,\n",
       " 19.7,\n",
       " 19.8,\n",
       " 19.9,\n",
       " 20.0,\n",
       " 20.1,\n",
       " 20.2,\n",
       " 20.3,\n",
       " 20.4,\n",
       " 20.5,\n",
       " 20.6,\n",
       " 20.7,\n",
       " 20.8,\n",
       " 21.0,\n",
       " 21.1,\n",
       " 21.2,\n",
       " 21.4,\n",
       " 21.6,\n",
       " 21.7,\n",
       " 21.8,\n",
       " 21.9,\n",
       " 22.0,\n",
       " 22.1,\n",
       " 22.2,\n",
       " 22.3,\n",
       " 22.4,\n",
       " 22.5,\n",
       " 22.6,\n",
       " 22.7,\n",
       " 22.8,\n",
       " 22.9,\n",
       " 23.0,\n",
       " 23.1,\n",
       " 23.2,\n",
       " 23.3,\n",
       " 23.4,\n",
       " 23.5,\n",
       " 23.6,\n",
       " 23.7,\n",
       " 23.8,\n",
       " 23.9,\n",
       " 24.0,\n",
       " 24.1,\n",
       " 24.3,\n",
       " 24.4,\n",
       " 24.5,\n",
       " 24.6,\n",
       " 24.7,\n",
       " 24.8,\n",
       " 25.0,\n",
       " 25.1,\n",
       " 25.2,\n",
       " 25.3,\n",
       " 26.2,\n",
       " 26.4,\n",
       " 26.5,\n",
       " 26.6,\n",
       " 27.1,\n",
       " 27.5,\n",
       " 27.9,\n",
       " 28.0,\n",
       " 28.2,\n",
       " 28.5,\n",
       " 28.6,\n",
       " 28.7,\n",
       " 29.0,\n",
       " 29.1,\n",
       " 29.4,\n",
       " 29.8,\n",
       " 29.9,\n",
       " 30.1,\n",
       " 30.3,\n",
       " 30.5,\n",
       " 30.7,\n",
       " 30.8,\n",
       " 31.0,\n",
       " 31.1,\n",
       " 31.5,\n",
       " 31.6,\n",
       " 31.7,\n",
       " 32.0,\n",
       " 32.2,\n",
       " 32.7,\n",
       " 32.9,\n",
       " 33.1,\n",
       " 33.2,\n",
       " 33.3,\n",
       " 33.4,\n",
       " 33.8,\n",
       " 34.6,\n",
       " 34.7,\n",
       " 34.9,\n",
       " 35.2,\n",
       " 36.1,\n",
       " 36.2,\n",
       " 36.4,\n",
       " 36.5,\n",
       " 37.0,\n",
       " 37.2,\n",
       " 37.3,\n",
       " 37.6,\n",
       " 37.9,\n",
       " 38.7,\n",
       " 39.8,\n",
       " 41.3,\n",
       " 41.7,\n",
       " 42.3,\n",
       " 43.5,\n",
       " 43.8,\n",
       " 44.0,\n",
       " 44.8,\n",
       " 45.4,\n",
       " 46.0,\n",
       " 48.3,\n",
       " 48.5,\n",
       " 48.8,\n",
       " 50.0}"
      ]
     },
     "execution_count": 5,
     "metadata": {},
     "output_type": "execute_result"
    }
   ],
   "source": [
    "set(y_train) # Continous"
   ]
  },
  {
   "cell_type": "code",
   "execution_count": 6,
   "metadata": {},
   "outputs": [],
   "source": [
    "# Its the regression task."
   ]
  },
  {
   "attachments": {},
   "cell_type": "markdown",
   "metadata": {},
   "source": [
    "# Lets Show Some Examples"
   ]
  },
  {
   "cell_type": "code",
   "execution_count": 7,
   "metadata": {},
   "outputs": [
    {
     "name": "stdout",
     "output_type": "stream",
     "text": [
      "Some samples from data:\n",
      "Features: [  1.23247   0.        8.14      0.        0.538     6.142    91.7\n",
      "   3.9769    4.      307.       21.      396.9      18.72   ]\n",
      "Target: 15.2\n",
      "\n",
      "Features: [2.1770e-02 8.2500e+01 2.0300e+00 0.0000e+00 4.1500e-01 7.6100e+00\n",
      " 1.5700e+01 6.2700e+00 2.0000e+00 3.4800e+02 1.4700e+01 3.9538e+02\n",
      " 3.1100e+00]\n",
      "Target: 42.3\n",
      "\n",
      "Features: [4.89822e+00 0.00000e+00 1.81000e+01 0.00000e+00 6.31000e-01 4.97000e+00\n",
      " 1.00000e+02 1.33250e+00 2.40000e+01 6.66000e+02 2.02000e+01 3.75520e+02\n",
      " 3.26000e+00]\n",
      "Target: 50.0\n",
      "\n"
     ]
    }
   ],
   "source": [
    "print(\"Some samples from data:\")\n",
    "\n",
    "for i in range(3):\n",
    "    print(\"Features:\", X_train[i])\n",
    "    print(\"Target:\", y_train[i])\n",
    "    print()"
   ]
  },
  {
   "attachments": {},
   "cell_type": "markdown",
   "metadata": {},
   "source": [
    "# Normalize the Data"
   ]
  },
  {
   "cell_type": "code",
   "execution_count": 8,
   "metadata": {},
   "outputs": [],
   "source": [
    "X_train_scaled = tf.keras.utils.normalize(X_train)\n",
    "X_test_scaled = tf.keras.utils.normalize(X_test)"
   ]
  },
  {
   "attachments": {},
   "cell_type": "markdown",
   "metadata": {},
   "source": [
    "# Modelling"
   ]
  },
  {
   "cell_type": "code",
   "execution_count": 9,
   "metadata": {},
   "outputs": [
    {
     "data": {
      "text/plain": [
       "(404, 13)"
      ]
     },
     "execution_count": 9,
     "metadata": {},
     "output_type": "execute_result"
    }
   ],
   "source": [
    "X_train.shape"
   ]
  },
  {
   "cell_type": "code",
   "execution_count": 10,
   "metadata": {},
   "outputs": [
    {
     "data": {
      "text/plain": [
       "50.0    13\n",
       "21.7     6\n",
       "23.1     6\n",
       "19.4     6\n",
       "20.6     6\n",
       "        ..\n",
       "13.2     1\n",
       "42.3     1\n",
       "8.7      1\n",
       "14.2     1\n",
       "25.2     1\n",
       "Name: count, Length: 201, dtype: int64"
      ]
     },
     "execution_count": 10,
     "metadata": {},
     "output_type": "execute_result"
    }
   ],
   "source": [
    "pd.Series(y_train).value_counts() # Cont."
   ]
  },
  {
   "attachments": {},
   "cell_type": "markdown",
   "metadata": {},
   "source": [
    "# ANN Model"
   ]
  },
  {
   "cell_type": "code",
   "execution_count": 11,
   "metadata": {},
   "outputs": [
    {
     "name": "stdout",
     "output_type": "stream",
     "text": [
      "Model: \"sequential\"\n",
      "_________________________________________________________________\n",
      " Layer (type)                Output Shape              Param #   \n",
      "=================================================================\n",
      " dense (Dense)               (None, 128)               1792      \n",
      "                                                                 \n",
      " dropout (Dropout)           (None, 128)               0         \n",
      "                                                                 \n",
      " dense_1 (Dense)             (None, 64)                8256      \n",
      "                                                                 \n",
      " dropout_1 (Dropout)         (None, 64)                0         \n",
      "                                                                 \n",
      " dense_2 (Dense)             (None, 32)                2080      \n",
      "                                                                 \n",
      " dropout_2 (Dropout)         (None, 32)                0         \n",
      "                                                                 \n",
      " dense_3 (Dense)             (None, 1)                 33        \n",
      "                                                                 \n",
      "=================================================================\n",
      "Total params: 12,161\n",
      "Trainable params: 12,161\n",
      "Non-trainable params: 0\n",
      "_________________________________________________________________\n"
     ]
    }
   ],
   "source": [
    "from tensorflow.keras.layers import Dense, InputLayer , Rescaling , Dropout , Flatten\n",
    "from tensorflow.keras import Sequential\n",
    "\n",
    "ann_model = Sequential([\n",
    "    InputLayer(input_shape=(X_train_scaled.shape[1])),\n",
    "    \n",
    "    Dense(128, activation='relu'),\n",
    "    Dropout(0.2),\n",
    "    Dense(64, activation='relu'),\n",
    "    Dropout(0.2),\n",
    "    Dense(32, activation=\"relu\"),\n",
    "    Dropout(0.1),\n",
    "    \n",
    "    Dense(1, activation= 'linear')\n",
    "])\n",
    "\n",
    "ann_model.summary()"
   ]
  },
  {
   "cell_type": "code",
   "execution_count": 12,
   "metadata": {},
   "outputs": [
    {
     "name": "stdout",
     "output_type": "stream",
     "text": [
      "Epoch 1/12\n",
      "12/12 [==============================] - 1s 12ms/step - loss: 590.0006 - mae: 22.3744 - val_loss: 490.6062 - val_mae: 21.1633\n",
      "Epoch 2/12\n",
      "12/12 [==============================] - 0s 4ms/step - loss: 567.7249 - mae: 21.8619 - val_loss: 458.5301 - val_mae: 20.3931\n",
      "Epoch 3/12\n",
      "12/12 [==============================] - 0s 4ms/step - loss: 520.3214 - mae: 20.7597 - val_loss: 391.8425 - val_mae: 18.6922\n",
      "Epoch 4/12\n",
      "12/12 [==============================] - 0s 4ms/step - loss: 420.7578 - mae: 18.1512 - val_loss: 256.8483 - val_mae: 14.6588\n",
      "Epoch 5/12\n",
      "12/12 [==============================] - 0s 4ms/step - loss: 251.0766 - mae: 12.6690 - val_loss: 85.1363 - val_mae: 7.5273\n",
      "Epoch 6/12\n",
      "12/12 [==============================] - 0s 4ms/step - loss: 103.7922 - mae: 7.2357 - val_loss: 46.6022 - val_mae: 5.5343\n",
      "Epoch 7/12\n",
      "12/12 [==============================] - 0s 4ms/step - loss: 100.2058 - mae: 7.9799 - val_loss: 40.2917 - val_mae: 5.1524\n",
      "Epoch 8/12\n",
      "12/12 [==============================] - 0s 4ms/step - loss: 96.4172 - mae: 7.1257 - val_loss: 35.5231 - val_mae: 4.8301\n",
      "Epoch 9/12\n",
      "12/12 [==============================] - 0s 4ms/step - loss: 89.0872 - mae: 6.8783 - val_loss: 33.8988 - val_mae: 4.7301\n",
      "Epoch 10/12\n",
      "12/12 [==============================] - 0s 4ms/step - loss: 90.7077 - mae: 7.2003 - val_loss: 32.4666 - val_mae: 4.6327\n",
      "Epoch 11/12\n",
      "12/12 [==============================] - 0s 4ms/step - loss: 94.4869 - mae: 6.8777 - val_loss: 30.7630 - val_mae: 4.4572\n",
      "Epoch 12/12\n",
      "12/12 [==============================] - 0s 4ms/step - loss: 91.4693 - mae: 6.6600 - val_loss: 29.4905 - val_mae: 4.3925\n"
     ]
    },
    {
     "data": {
      "text/plain": [
       "<keras.callbacks.History at 0x27786a6b4f0>"
      ]
     },
     "execution_count": 12,
     "metadata": {},
     "output_type": "execute_result"
    }
   ],
   "source": [
    "ann_model.compile(loss = 'mean_squared_error' , optimizer= \"adam\" , metrics = ['mae'])\n",
    "\n",
    "ann_model.fit(X_train_scaled, y_train, batch_size=32 , epochs = 12 , validation_split= 0.1)"
   ]
  },
  {
   "cell_type": "code",
   "execution_count": 13,
   "metadata": {},
   "outputs": [
    {
     "data": {
      "image/png": "[encoded data removed]",
      "text/plain": [
       "<Figure size 1200x500 with 2 Axes>"
      ]
     },
     "metadata": {},
     "output_type": "display_data"
    }
   ],
   "source": [
    "def visualize_model(model):\n",
    "    fig, (ax1, ax2) = plt.subplots(1, 2, figsize=(12, 5))\n",
    "\n",
    "\n",
    "    ax1.plot(model.history.history['loss'])\n",
    "    ax1.plot(model.history.history['val_loss'])\n",
    "    ax1.set_title('Train and Val Loss')\n",
    "    ax1.set_xlabel('Epoch')\n",
    "    ax1.set_ylabel('Loss')\n",
    "    ax1.legend(['Train', 'Val'], loc='upper right')\n",
    "\n",
    "\n",
    "    ax2.plot(model.history.history['mae'])\n",
    "    ax2.plot(model.history.history['val_mae'])\n",
    "    ax2.set_title('Train and Val MAE')\n",
    "    ax2.set_xlabel('Epoch')\n",
    "    ax2.set_ylabel('MAE')\n",
    "    ax2.legend(['Train', 'Val'], loc='lower right')\n",
    "\n",
    "\n",
    "    plt.tight_layout()\n",
    "    plt.show()\n",
    "        \n",
    "visualize_model(ann_model)"
   ]
  },
  {
   "cell_type": "code",
   "execution_count": 14,
   "metadata": {},
   "outputs": [
    {
     "name": "stdout",
     "output_type": "stream",
     "text": [
      "4/4 [==============================] - 0s 2ms/step - loss: 69.2160 - mae: 5.9501\n"
     ]
    },
    {
     "data": {
      "text/plain": [
       "[69.21601104736328, 5.95012903213501]"
      ]
     },
     "execution_count": 14,
     "metadata": {},
     "output_type": "execute_result"
    }
   ],
   "source": [
    "ann_model.evaluate(X_test_scaled, y_test)"
   ]
  },
  {
   "cell_type": "code",
   "execution_count": 15,
   "metadata": {},
   "outputs": [],
   "source": [
    "# Done"
   ]
  }
 ],
 "metadata": {
  "kernelspec": {
   "display_name": "ml",
   "language": "python",
   "name": "python3"
  },
  "language_info": {
   "codemirror_mode": {
    "name": "ipython",
    "version": 3
   },
   "file_extension": ".py",
   "mimetype": "text/x-python",
   "name": "python",
   "nbconvert_exporter": "python",
   "pygments_lexer": "ipython3",
   "version": "3.10.11"
  },
  "orig_nbformat": 4
 },
 "nbformat": 4,
 "nbformat_minor": 2
}
