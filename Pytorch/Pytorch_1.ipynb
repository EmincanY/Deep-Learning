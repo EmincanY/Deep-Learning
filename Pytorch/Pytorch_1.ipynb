{
  "nbformat": 4,
  "nbformat_minor": 0,
  "metadata": {
    "colab": {
      "provenance": [],
      "machine_shape": "hm"
    },
    "kernelspec": {
      "name": "python3",
      "display_name": "Python 3"
    },
    "language_info": {
      "name": "python"
    },
    "accelerator": "GPU",
    "gpuClass": "standard"
  },
  "cells": [
    {
      "cell_type": "markdown",
      "source": [
        "# Libraries"
      ],
      "metadata": {
        "id": "3shJAh_HnUBh"
      }
    },
    {
      "cell_type": "code",
      "source": [
        "from google.colab import drive\n",
        "drive.mount('/content/gdrive/')"
      ],
      "metadata": {
        "colab": {
          "base_uri": "https://localhost:8080/"
        },
        "id": "hcLzIqEZ4eap",
        "outputId": "9ab5d5e2-2497-457b-b290-e5afd44069b6"
      },
      "execution_count": 1,
      "outputs": [
        {
          "output_type": "stream",
          "name": "stdout",
          "text": [
            "Mounted at /content/gdrive/\n"
          ]
        }
      ]
    },
    {
      "cell_type": "code",
      "source": [
        "import sys\n",
        "sys.path.append('/content/gdrive/MyDrive/Pythorch/ArcFace/ArcFace')"
      ],
      "metadata": {
        "id": "Mi9keWua5D1f"
      },
      "execution_count": 2,
      "outputs": []
    },
    {
      "cell_type": "code",
      "execution_count": 3,
      "metadata": {
        "id": "JH1qhEfGcMS3"
      },
      "outputs": [],
      "source": [
        "import os\n",
        "from pathlib import Path\n",
        "\n",
        "from tqdm import tqdm\n",
        "from easydict import EasyDict as edict\n",
        "\n",
        "import torch\n",
        "import torch.nn as nn\n",
        "import torch.optim as optim\n",
        "import torchvision.utils as vutils\n",
        "from torchvision import transforms as trans\n",
        "\n",
        "\n",
        "from data.ms1m import get_train_loader\n",
        "from data.lfw import LFW\n",
        "\n",
        "from backbone.arcfacenet import SEResNet_IR\n",
        "from margin.ArcMarginProduct import ArcMarginProduct\n",
        "\n",
        "from util.utils import save_checkpoint , test\n"
      ]
    },
    {
      "cell_type": "markdown",
      "source": [
        "# Configuration"
      ],
      "metadata": {
        "id": "NaoQ18ewqvbx"
      }
    },
    {
      "cell_type": "code",
      "source": [
        "conf = edict()\n",
        "\n",
        "conf.train_root = '/content/gdrive/MyDrive/Pythorch/ArcFace/ArcFace/dataset/MS1M'\n",
        "conf.lfw_test_root = '/content/gdrive/MyDrive/Pythorch/ArcFace/ArcFace/dataset/lfw_aligned_112'\n",
        "conf.lfw_file_list = '/content/gdrive/MyDrive/Pythorch/ArcFace/ArcFace/dataset/lfw_pair.txt'\n",
        "\n",
        "conf.mode = 'se_ir' # We could also use 'ir' model.\n",
        "conf.depth = 50 # 100 , 152\n",
        "conf.margin_type = 'ArcFace'\n",
        "conf.feature_dim = 512\n",
        "conf.scale_siz = 32.0\n",
        "conf.batch_size = 96 # 16 , 32 , 48 ,...\n",
        "conf.lr = 0.01\n",
        "conf.milestones = [8,10,12]\n",
        "conf.total_epoch = 14\n",
        "\n",
        "conf.save_folder = '/content/gdrive/MyDrive/Pythorch/ArcFace/ArcFace/saved'\n",
        "conf.save_dir = os.path.join(conf.save_folder , conf.mode + '_' + str(conf.depth)) # ./save/se_ir_152\n",
        "conf.device = torch.device('cuda:0' if torch.cuda.is_available() else 'cpu')\n",
        "conf.num_workers = 4 # cpu workers num\n",
        "conf.pin_memory = True\n"
      ],
      "metadata": {
        "id": "DMMlMmrDnU_h"
      },
      "execution_count": 4,
      "outputs": []
    },
    {
      "cell_type": "code",
      "source": [
        "os.makedirs(conf.save_dir , exist_ok = True)"
      ],
      "metadata": {
        "id": "5aDmsSqK9qvi"
      },
      "execution_count": 5,
      "outputs": []
    },
    {
      "cell_type": "markdown",
      "source": [
        "# Dataset Load"
      ],
      "metadata": {
        "id": "rOO7SRK6AD32"
      }
    },
    {
      "cell_type": "code",
      "source": [
        "transform = trans.Compose([\n",
        "    trans.ToTensor() , # range(0,255) --> [0.0 , 1.0]\n",
        "    trans.Normalize(mean = (0.5,0.5,0.5) , std = (0.5,0.5,0.5)) # We give 3 value for all values R-G-B.\n",
        "])\n",
        "\n",
        "trainloader , class_num = get_train_loader(conf)"
      ],
      "metadata": {
        "id": "afD_In5993JV"
      },
      "execution_count": 6,
      "outputs": []
    },
    {
      "cell_type": "code",
      "source": [
        "print('number of id : ' , class_num)"
      ],
      "metadata": {
        "colab": {
          "base_uri": "https://localhost:8080/"
        },
        "id": "IRTkfOdMA5AV",
        "outputId": "fa9072c5-8841-4b87-f994-f21587431a13"
      },
      "execution_count": 7,
      "outputs": [
        {
          "output_type": "stream",
          "name": "stdout",
          "text": [
            "number of id :  200\n"
          ]
        }
      ]
    },
    {
      "cell_type": "code",
      "source": [
        "print(trainloader.dataset)"
      ],
      "metadata": {
        "colab": {
          "base_uri": "https://localhost:8080/"
        },
        "id": "hS-2dU9mBppW",
        "outputId": "40a374d2-76c4-423f-bf4a-6137f98c93b3"
      },
      "execution_count": 8,
      "outputs": [
        {
          "output_type": "stream",
          "name": "stdout",
          "text": [
            "Dataset ImageFolder\n",
            "    Number of datapoints: 29148\n",
            "    Root location: /content/gdrive/MyDrive/Pythorch/ArcFace/ArcFace/dataset/MS1M\n",
            "    StandardTransform\n",
            "Transform: Compose(\n",
            "               RandomHorizontalFlip(p=0.5)\n",
            "               ToTensor()\n",
            "               Normalize(mean=[0.5, 0.5, 0.5], std=[0.5, 0.5, 0.5])\n",
            "           )\n"
          ]
        }
      ]
    },
    {
      "cell_type": "code",
      "source": [
        "lfwdataset = LFW(conf.lfw_test_root , conf.lfw_file_list , transform = transform)\n",
        "lfwloader = torch.utils.data.DataLoader(lfwdataset , batch_size = 128 , num_workers = conf.num_workers)"
      ],
      "metadata": {
        "id": "WeFt7XbsB0UR"
      },
      "execution_count": 9,
      "outputs": []
    },
    {
      "cell_type": "markdown",
      "source": [
        "# Model"
      ],
      "metadata": {
        "id": "LIn0lp5vFdVa"
      }
    },
    {
      "cell_type": "code",
      "source": [
        "print(conf.device)"
      ],
      "metadata": {
        "colab": {
          "base_uri": "https://localhost:8080/"
        },
        "id": "jWfktop6Lrxh",
        "outputId": "583f6f65-ffbc-4abf-b39c-0e001950aa01"
      },
      "execution_count": 20,
      "outputs": [
        {
          "output_type": "stream",
          "name": "stdout",
          "text": [
            "cuda:0\n"
          ]
        }
      ]
    },
    {
      "cell_type": "code",
      "source": [
        "net = SEResNet_IR(num_layers = conf.depth , feature_dim = conf.feature_dim , mode = conf.mode ).to(conf.device)\n",
        "margin = ArcMarginProduct(conf.feature_dim , class_num).to(conf.device)"
      ],
      "metadata": {
        "id": "ERwjhc6nFQ1f"
      },
      "execution_count": 26,
      "outputs": []
    },
    {
      "cell_type": "code",
      "source": [
        "print(net)"
      ],
      "metadata": {
        "colab": {
          "base_uri": "https://localhost:8080/"
        },
        "id": "G2-AgmWcLtgs",
        "outputId": "64a4e29c-c62e-47f9-c62d-54e64fb7129e"
      },
      "execution_count": 12,
      "outputs": [
        {
          "output_type": "stream",
          "name": "stdout",
          "text": [
            "SEResNet_IR(\n",
            "  (input_layer): Sequential(\n",
            "    (0): Conv2d(3, 64, kernel_size=(3, 3), stride=(1, 1), padding=(1, 1), bias=False)\n",
            "    (1): BatchNorm2d(64, eps=1e-05, momentum=0.1, affine=True, track_running_stats=True)\n",
            "    (2): PReLU(num_parameters=64)\n",
            "  )\n",
            "  (output_layer): Sequential(\n",
            "    (0): BatchNorm2d(512, eps=1e-05, momentum=0.1, affine=True, track_running_stats=True)\n",
            "    (1): Dropout(p=0.4, inplace=False)\n",
            "    (2): Flatten()\n",
            "    (3): Linear(in_features=25088, out_features=512, bias=True)\n",
            "    (4): BatchNorm1d(512, eps=1e-05, momentum=0.1, affine=True, track_running_stats=True)\n",
            "  )\n",
            "  (body): Sequential(\n",
            "    (0): BottleNeck_IR_SE(\n",
            "      (shortcut_layer): MaxPool2d(kernel_size=1, stride=2, padding=0, dilation=1, ceil_mode=False)\n",
            "      (res_layer): Sequential(\n",
            "        (0): BatchNorm2d(64, eps=1e-05, momentum=0.1, affine=True, track_running_stats=True)\n",
            "        (1): Conv2d(64, 64, kernel_size=(3, 3), stride=(1, 1), padding=(1, 1), bias=False)\n",
            "        (2): BatchNorm2d(64, eps=1e-05, momentum=0.1, affine=True, track_running_stats=True)\n",
            "        (3): PReLU(num_parameters=64)\n",
            "        (4): Conv2d(64, 64, kernel_size=(3, 3), stride=(2, 2), padding=(1, 1), bias=False)\n",
            "        (5): BatchNorm2d(64, eps=1e-05, momentum=0.1, affine=True, track_running_stats=True)\n",
            "        (6): SEModule(\n",
            "          (avg_pool): AdaptiveAvgPool2d(output_size=1)\n",
            "          (fc1): Conv2d(64, 4, kernel_size=(1, 1), stride=(1, 1), bias=False)\n",
            "          (relu): ReLU(inplace=True)\n",
            "          (fc2): Conv2d(4, 64, kernel_size=(1, 1), stride=(1, 1), bias=False)\n",
            "          (sigmoid): Sigmoid()\n",
            "        )\n",
            "      )\n",
            "    )\n",
            "    (1): BottleNeck_IR_SE(\n",
            "      (shortcut_layer): MaxPool2d(kernel_size=1, stride=1, padding=0, dilation=1, ceil_mode=False)\n",
            "      (res_layer): Sequential(\n",
            "        (0): BatchNorm2d(64, eps=1e-05, momentum=0.1, affine=True, track_running_stats=True)\n",
            "        (1): Conv2d(64, 64, kernel_size=(3, 3), stride=(1, 1), padding=(1, 1), bias=False)\n",
            "        (2): BatchNorm2d(64, eps=1e-05, momentum=0.1, affine=True, track_running_stats=True)\n",
            "        (3): PReLU(num_parameters=64)\n",
            "        (4): Conv2d(64, 64, kernel_size=(3, 3), stride=(1, 1), padding=(1, 1), bias=False)\n",
            "        (5): BatchNorm2d(64, eps=1e-05, momentum=0.1, affine=True, track_running_stats=True)\n",
            "        (6): SEModule(\n",
            "          (avg_pool): AdaptiveAvgPool2d(output_size=1)\n",
            "          (fc1): Conv2d(64, 4, kernel_size=(1, 1), stride=(1, 1), bias=False)\n",
            "          (relu): ReLU(inplace=True)\n",
            "          (fc2): Conv2d(4, 64, kernel_size=(1, 1), stride=(1, 1), bias=False)\n",
            "          (sigmoid): Sigmoid()\n",
            "        )\n",
            "      )\n",
            "    )\n",
            "    (2): BottleNeck_IR_SE(\n",
            "      (shortcut_layer): MaxPool2d(kernel_size=1, stride=1, padding=0, dilation=1, ceil_mode=False)\n",
            "      (res_layer): Sequential(\n",
            "        (0): BatchNorm2d(64, eps=1e-05, momentum=0.1, affine=True, track_running_stats=True)\n",
            "        (1): Conv2d(64, 64, kernel_size=(3, 3), stride=(1, 1), padding=(1, 1), bias=False)\n",
            "        (2): BatchNorm2d(64, eps=1e-05, momentum=0.1, affine=True, track_running_stats=True)\n",
            "        (3): PReLU(num_parameters=64)\n",
            "        (4): Conv2d(64, 64, kernel_size=(3, 3), stride=(1, 1), padding=(1, 1), bias=False)\n",
            "        (5): BatchNorm2d(64, eps=1e-05, momentum=0.1, affine=True, track_running_stats=True)\n",
            "        (6): SEModule(\n",
            "          (avg_pool): AdaptiveAvgPool2d(output_size=1)\n",
            "          (fc1): Conv2d(64, 4, kernel_size=(1, 1), stride=(1, 1), bias=False)\n",
            "          (relu): ReLU(inplace=True)\n",
            "          (fc2): Conv2d(4, 64, kernel_size=(1, 1), stride=(1, 1), bias=False)\n",
            "          (sigmoid): Sigmoid()\n",
            "        )\n",
            "      )\n",
            "    )\n",
            "    (3): BottleNeck_IR_SE(\n",
            "      (shortcut_layer): Sequential(\n",
            "        (0): Conv2d(64, 128, kernel_size=(1, 1), stride=(2, 2), bias=False)\n",
            "        (1): BatchNorm2d(128, eps=1e-05, momentum=0.1, affine=True, track_running_stats=True)\n",
            "      )\n",
            "      (res_layer): Sequential(\n",
            "        (0): BatchNorm2d(64, eps=1e-05, momentum=0.1, affine=True, track_running_stats=True)\n",
            "        (1): Conv2d(64, 128, kernel_size=(3, 3), stride=(1, 1), padding=(1, 1), bias=False)\n",
            "        (2): BatchNorm2d(128, eps=1e-05, momentum=0.1, affine=True, track_running_stats=True)\n",
            "        (3): PReLU(num_parameters=128)\n",
            "        (4): Conv2d(128, 128, kernel_size=(3, 3), stride=(2, 2), padding=(1, 1), bias=False)\n",
            "        (5): BatchNorm2d(128, eps=1e-05, momentum=0.1, affine=True, track_running_stats=True)\n",
            "        (6): SEModule(\n",
            "          (avg_pool): AdaptiveAvgPool2d(output_size=1)\n",
            "          (fc1): Conv2d(128, 8, kernel_size=(1, 1), stride=(1, 1), bias=False)\n",
            "          (relu): ReLU(inplace=True)\n",
            "          (fc2): Conv2d(8, 128, kernel_size=(1, 1), stride=(1, 1), bias=False)\n",
            "          (sigmoid): Sigmoid()\n",
            "        )\n",
            "      )\n",
            "    )\n",
            "    (4): BottleNeck_IR_SE(\n",
            "      (shortcut_layer): MaxPool2d(kernel_size=1, stride=1, padding=0, dilation=1, ceil_mode=False)\n",
            "      (res_layer): Sequential(\n",
            "        (0): BatchNorm2d(128, eps=1e-05, momentum=0.1, affine=True, track_running_stats=True)\n",
            "        (1): Conv2d(128, 128, kernel_size=(3, 3), stride=(1, 1), padding=(1, 1), bias=False)\n",
            "        (2): BatchNorm2d(128, eps=1e-05, momentum=0.1, affine=True, track_running_stats=True)\n",
            "        (3): PReLU(num_parameters=128)\n",
            "        (4): Conv2d(128, 128, kernel_size=(3, 3), stride=(1, 1), padding=(1, 1), bias=False)\n",
            "        (5): BatchNorm2d(128, eps=1e-05, momentum=0.1, affine=True, track_running_stats=True)\n",
            "        (6): SEModule(\n",
            "          (avg_pool): AdaptiveAvgPool2d(output_size=1)\n",
            "          (fc1): Conv2d(128, 8, kernel_size=(1, 1), stride=(1, 1), bias=False)\n",
            "          (relu): ReLU(inplace=True)\n",
            "          (fc2): Conv2d(8, 128, kernel_size=(1, 1), stride=(1, 1), bias=False)\n",
            "          (sigmoid): Sigmoid()\n",
            "        )\n",
            "      )\n",
            "    )\n",
            "    (5): BottleNeck_IR_SE(\n",
            "      (shortcut_layer): MaxPool2d(kernel_size=1, stride=1, padding=0, dilation=1, ceil_mode=False)\n",
            "      (res_layer): Sequential(\n",
            "        (0): BatchNorm2d(128, eps=1e-05, momentum=0.1, affine=True, track_running_stats=True)\n",
            "        (1): Conv2d(128, 128, kernel_size=(3, 3), stride=(1, 1), padding=(1, 1), bias=False)\n",
            "        (2): BatchNorm2d(128, eps=1e-05, momentum=0.1, affine=True, track_running_stats=True)\n",
            "        (3): PReLU(num_parameters=128)\n",
            "        (4): Conv2d(128, 128, kernel_size=(3, 3), stride=(1, 1), padding=(1, 1), bias=False)\n",
            "        (5): BatchNorm2d(128, eps=1e-05, momentum=0.1, affine=True, track_running_stats=True)\n",
            "        (6): SEModule(\n",
            "          (avg_pool): AdaptiveAvgPool2d(output_size=1)\n",
            "          (fc1): Conv2d(128, 8, kernel_size=(1, 1), stride=(1, 1), bias=False)\n",
            "          (relu): ReLU(inplace=True)\n",
            "          (fc2): Conv2d(8, 128, kernel_size=(1, 1), stride=(1, 1), bias=False)\n",
            "          (sigmoid): Sigmoid()\n",
            "        )\n",
            "      )\n",
            "    )\n",
            "    (6): BottleNeck_IR_SE(\n",
            "      (shortcut_layer): MaxPool2d(kernel_size=1, stride=1, padding=0, dilation=1, ceil_mode=False)\n",
            "      (res_layer): Sequential(\n",
            "        (0): BatchNorm2d(128, eps=1e-05, momentum=0.1, affine=True, track_running_stats=True)\n",
            "        (1): Conv2d(128, 128, kernel_size=(3, 3), stride=(1, 1), padding=(1, 1), bias=False)\n",
            "        (2): BatchNorm2d(128, eps=1e-05, momentum=0.1, affine=True, track_running_stats=True)\n",
            "        (3): PReLU(num_parameters=128)\n",
            "        (4): Conv2d(128, 128, kernel_size=(3, 3), stride=(1, 1), padding=(1, 1), bias=False)\n",
            "        (5): BatchNorm2d(128, eps=1e-05, momentum=0.1, affine=True, track_running_stats=True)\n",
            "        (6): SEModule(\n",
            "          (avg_pool): AdaptiveAvgPool2d(output_size=1)\n",
            "          (fc1): Conv2d(128, 8, kernel_size=(1, 1), stride=(1, 1), bias=False)\n",
            "          (relu): ReLU(inplace=True)\n",
            "          (fc2): Conv2d(8, 128, kernel_size=(1, 1), stride=(1, 1), bias=False)\n",
            "          (sigmoid): Sigmoid()\n",
            "        )\n",
            "      )\n",
            "    )\n",
            "    (7): BottleNeck_IR_SE(\n",
            "      (shortcut_layer): Sequential(\n",
            "        (0): Conv2d(128, 256, kernel_size=(1, 1), stride=(2, 2), bias=False)\n",
            "        (1): BatchNorm2d(256, eps=1e-05, momentum=0.1, affine=True, track_running_stats=True)\n",
            "      )\n",
            "      (res_layer): Sequential(\n",
            "        (0): BatchNorm2d(128, eps=1e-05, momentum=0.1, affine=True, track_running_stats=True)\n",
            "        (1): Conv2d(128, 256, kernel_size=(3, 3), stride=(1, 1), padding=(1, 1), bias=False)\n",
            "        (2): BatchNorm2d(256, eps=1e-05, momentum=0.1, affine=True, track_running_stats=True)\n",
            "        (3): PReLU(num_parameters=256)\n",
            "        (4): Conv2d(256, 256, kernel_size=(3, 3), stride=(2, 2), padding=(1, 1), bias=False)\n",
            "        (5): BatchNorm2d(256, eps=1e-05, momentum=0.1, affine=True, track_running_stats=True)\n",
            "        (6): SEModule(\n",
            "          (avg_pool): AdaptiveAvgPool2d(output_size=1)\n",
            "          (fc1): Conv2d(256, 16, kernel_size=(1, 1), stride=(1, 1), bias=False)\n",
            "          (relu): ReLU(inplace=True)\n",
            "          (fc2): Conv2d(16, 256, kernel_size=(1, 1), stride=(1, 1), bias=False)\n",
            "          (sigmoid): Sigmoid()\n",
            "        )\n",
            "      )\n",
            "    )\n",
            "    (8): BottleNeck_IR_SE(\n",
            "      (shortcut_layer): MaxPool2d(kernel_size=1, stride=1, padding=0, dilation=1, ceil_mode=False)\n",
            "      (res_layer): Sequential(\n",
            "        (0): BatchNorm2d(256, eps=1e-05, momentum=0.1, affine=True, track_running_stats=True)\n",
            "        (1): Conv2d(256, 256, kernel_size=(3, 3), stride=(1, 1), padding=(1, 1), bias=False)\n",
            "        (2): BatchNorm2d(256, eps=1e-05, momentum=0.1, affine=True, track_running_stats=True)\n",
            "        (3): PReLU(num_parameters=256)\n",
            "        (4): Conv2d(256, 256, kernel_size=(3, 3), stride=(1, 1), padding=(1, 1), bias=False)\n",
            "        (5): BatchNorm2d(256, eps=1e-05, momentum=0.1, affine=True, track_running_stats=True)\n",
            "        (6): SEModule(\n",
            "          (avg_pool): AdaptiveAvgPool2d(output_size=1)\n",
            "          (fc1): Conv2d(256, 16, kernel_size=(1, 1), stride=(1, 1), bias=False)\n",
            "          (relu): ReLU(inplace=True)\n",
            "          (fc2): Conv2d(16, 256, kernel_size=(1, 1), stride=(1, 1), bias=False)\n",
            "          (sigmoid): Sigmoid()\n",
            "        )\n",
            "      )\n",
            "    )\n",
            "    (9): BottleNeck_IR_SE(\n",
            "      (shortcut_layer): MaxPool2d(kernel_size=1, stride=1, padding=0, dilation=1, ceil_mode=False)\n",
            "      (res_layer): Sequential(\n",
            "        (0): BatchNorm2d(256, eps=1e-05, momentum=0.1, affine=True, track_running_stats=True)\n",
            "        (1): Conv2d(256, 256, kernel_size=(3, 3), stride=(1, 1), padding=(1, 1), bias=False)\n",
            "        (2): BatchNorm2d(256, eps=1e-05, momentum=0.1, affine=True, track_running_stats=True)\n",
            "        (3): PReLU(num_parameters=256)\n",
            "        (4): Conv2d(256, 256, kernel_size=(3, 3), stride=(1, 1), padding=(1, 1), bias=False)\n",
            "        (5): BatchNorm2d(256, eps=1e-05, momentum=0.1, affine=True, track_running_stats=True)\n",
            "        (6): SEModule(\n",
            "          (avg_pool): AdaptiveAvgPool2d(output_size=1)\n",
            "          (fc1): Conv2d(256, 16, kernel_size=(1, 1), stride=(1, 1), bias=False)\n",
            "          (relu): ReLU(inplace=True)\n",
            "          (fc2): Conv2d(16, 256, kernel_size=(1, 1), stride=(1, 1), bias=False)\n",
            "          (sigmoid): Sigmoid()\n",
            "        )\n",
            "      )\n",
            "    )\n",
            "    (10): BottleNeck_IR_SE(\n",
            "      (shortcut_layer): MaxPool2d(kernel_size=1, stride=1, padding=0, dilation=1, ceil_mode=False)\n",
            "      (res_layer): Sequential(\n",
            "        (0): BatchNorm2d(256, eps=1e-05, momentum=0.1, affine=True, track_running_stats=True)\n",
            "        (1): Conv2d(256, 256, kernel_size=(3, 3), stride=(1, 1), padding=(1, 1), bias=False)\n",
            "        (2): BatchNorm2d(256, eps=1e-05, momentum=0.1, affine=True, track_running_stats=True)\n",
            "        (3): PReLU(num_parameters=256)\n",
            "        (4): Conv2d(256, 256, kernel_size=(3, 3), stride=(1, 1), padding=(1, 1), bias=False)\n",
            "        (5): BatchNorm2d(256, eps=1e-05, momentum=0.1, affine=True, track_running_stats=True)\n",
            "        (6): SEModule(\n",
            "          (avg_pool): AdaptiveAvgPool2d(output_size=1)\n",
            "          (fc1): Conv2d(256, 16, kernel_size=(1, 1), stride=(1, 1), bias=False)\n",
            "          (relu): ReLU(inplace=True)\n",
            "          (fc2): Conv2d(16, 256, kernel_size=(1, 1), stride=(1, 1), bias=False)\n",
            "          (sigmoid): Sigmoid()\n",
            "        )\n",
            "      )\n",
            "    )\n",
            "    (11): BottleNeck_IR_SE(\n",
            "      (shortcut_layer): MaxPool2d(kernel_size=1, stride=1, padding=0, dilation=1, ceil_mode=False)\n",
            "      (res_layer): Sequential(\n",
            "        (0): BatchNorm2d(256, eps=1e-05, momentum=0.1, affine=True, track_running_stats=True)\n",
            "        (1): Conv2d(256, 256, kernel_size=(3, 3), stride=(1, 1), padding=(1, 1), bias=False)\n",
            "        (2): BatchNorm2d(256, eps=1e-05, momentum=0.1, affine=True, track_running_stats=True)\n",
            "        (3): PReLU(num_parameters=256)\n",
            "        (4): Conv2d(256, 256, kernel_size=(3, 3), stride=(1, 1), padding=(1, 1), bias=False)\n",
            "        (5): BatchNorm2d(256, eps=1e-05, momentum=0.1, affine=True, track_running_stats=True)\n",
            "        (6): SEModule(\n",
            "          (avg_pool): AdaptiveAvgPool2d(output_size=1)\n",
            "          (fc1): Conv2d(256, 16, kernel_size=(1, 1), stride=(1, 1), bias=False)\n",
            "          (relu): ReLU(inplace=True)\n",
            "          (fc2): Conv2d(16, 256, kernel_size=(1, 1), stride=(1, 1), bias=False)\n",
            "          (sigmoid): Sigmoid()\n",
            "        )\n",
            "      )\n",
            "    )\n",
            "    (12): BottleNeck_IR_SE(\n",
            "      (shortcut_layer): MaxPool2d(kernel_size=1, stride=1, padding=0, dilation=1, ceil_mode=False)\n",
            "      (res_layer): Sequential(\n",
            "        (0): BatchNorm2d(256, eps=1e-05, momentum=0.1, affine=True, track_running_stats=True)\n",
            "        (1): Conv2d(256, 256, kernel_size=(3, 3), stride=(1, 1), padding=(1, 1), bias=False)\n",
            "        (2): BatchNorm2d(256, eps=1e-05, momentum=0.1, affine=True, track_running_stats=True)\n",
            "        (3): PReLU(num_parameters=256)\n",
            "        (4): Conv2d(256, 256, kernel_size=(3, 3), stride=(1, 1), padding=(1, 1), bias=False)\n",
            "        (5): BatchNorm2d(256, eps=1e-05, momentum=0.1, affine=True, track_running_stats=True)\n",
            "        (6): SEModule(\n",
            "          (avg_pool): AdaptiveAvgPool2d(output_size=1)\n",
            "          (fc1): Conv2d(256, 16, kernel_size=(1, 1), stride=(1, 1), bias=False)\n",
            "          (relu): ReLU(inplace=True)\n",
            "          (fc2): Conv2d(16, 256, kernel_size=(1, 1), stride=(1, 1), bias=False)\n",
            "          (sigmoid): Sigmoid()\n",
            "        )\n",
            "      )\n",
            "    )\n",
            "    (13): BottleNeck_IR_SE(\n",
            "      (shortcut_layer): MaxPool2d(kernel_size=1, stride=1, padding=0, dilation=1, ceil_mode=False)\n",
            "      (res_layer): Sequential(\n",
            "        (0): BatchNorm2d(256, eps=1e-05, momentum=0.1, affine=True, track_running_stats=True)\n",
            "        (1): Conv2d(256, 256, kernel_size=(3, 3), stride=(1, 1), padding=(1, 1), bias=False)\n",
            "        (2): BatchNorm2d(256, eps=1e-05, momentum=0.1, affine=True, track_running_stats=True)\n",
            "        (3): PReLU(num_parameters=256)\n",
            "        (4): Conv2d(256, 256, kernel_size=(3, 3), stride=(1, 1), padding=(1, 1), bias=False)\n",
            "        (5): BatchNorm2d(256, eps=1e-05, momentum=0.1, affine=True, track_running_stats=True)\n",
            "        (6): SEModule(\n",
            "          (avg_pool): AdaptiveAvgPool2d(output_size=1)\n",
            "          (fc1): Conv2d(256, 16, kernel_size=(1, 1), stride=(1, 1), bias=False)\n",
            "          (relu): ReLU(inplace=True)\n",
            "          (fc2): Conv2d(16, 256, kernel_size=(1, 1), stride=(1, 1), bias=False)\n",
            "          (sigmoid): Sigmoid()\n",
            "        )\n",
            "      )\n",
            "    )\n",
            "    (14): BottleNeck_IR_SE(\n",
            "      (shortcut_layer): MaxPool2d(kernel_size=1, stride=1, padding=0, dilation=1, ceil_mode=False)\n",
            "      (res_layer): Sequential(\n",
            "        (0): BatchNorm2d(256, eps=1e-05, momentum=0.1, affine=True, track_running_stats=True)\n",
            "        (1): Conv2d(256, 256, kernel_size=(3, 3), stride=(1, 1), padding=(1, 1), bias=False)\n",
            "        (2): BatchNorm2d(256, eps=1e-05, momentum=0.1, affine=True, track_running_stats=True)\n",
            "        (3): PReLU(num_parameters=256)\n",
            "        (4): Conv2d(256, 256, kernel_size=(3, 3), stride=(1, 1), padding=(1, 1), bias=False)\n",
            "        (5): BatchNorm2d(256, eps=1e-05, momentum=0.1, affine=True, track_running_stats=True)\n",
            "        (6): SEModule(\n",
            "          (avg_pool): AdaptiveAvgPool2d(output_size=1)\n",
            "          (fc1): Conv2d(256, 16, kernel_size=(1, 1), stride=(1, 1), bias=False)\n",
            "          (relu): ReLU(inplace=True)\n",
            "          (fc2): Conv2d(16, 256, kernel_size=(1, 1), stride=(1, 1), bias=False)\n",
            "          (sigmoid): Sigmoid()\n",
            "        )\n",
            "      )\n",
            "    )\n",
            "    (15): BottleNeck_IR_SE(\n",
            "      (shortcut_layer): MaxPool2d(kernel_size=1, stride=1, padding=0, dilation=1, ceil_mode=False)\n",
            "      (res_layer): Sequential(\n",
            "        (0): BatchNorm2d(256, eps=1e-05, momentum=0.1, affine=True, track_running_stats=True)\n",
            "        (1): Conv2d(256, 256, kernel_size=(3, 3), stride=(1, 1), padding=(1, 1), bias=False)\n",
            "        (2): BatchNorm2d(256, eps=1e-05, momentum=0.1, affine=True, track_running_stats=True)\n",
            "        (3): PReLU(num_parameters=256)\n",
            "        (4): Conv2d(256, 256, kernel_size=(3, 3), stride=(1, 1), padding=(1, 1), bias=False)\n",
            "        (5): BatchNorm2d(256, eps=1e-05, momentum=0.1, affine=True, track_running_stats=True)\n",
            "        (6): SEModule(\n",
            "          (avg_pool): AdaptiveAvgPool2d(output_size=1)\n",
            "          (fc1): Conv2d(256, 16, kernel_size=(1, 1), stride=(1, 1), bias=False)\n",
            "          (relu): ReLU(inplace=True)\n",
            "          (fc2): Conv2d(16, 256, kernel_size=(1, 1), stride=(1, 1), bias=False)\n",
            "          (sigmoid): Sigmoid()\n",
            "        )\n",
            "      )\n",
            "    )\n",
            "    (16): BottleNeck_IR_SE(\n",
            "      (shortcut_layer): MaxPool2d(kernel_size=1, stride=1, padding=0, dilation=1, ceil_mode=False)\n",
            "      (res_layer): Sequential(\n",
            "        (0): BatchNorm2d(256, eps=1e-05, momentum=0.1, affine=True, track_running_stats=True)\n",
            "        (1): Conv2d(256, 256, kernel_size=(3, 3), stride=(1, 1), padding=(1, 1), bias=False)\n",
            "        (2): BatchNorm2d(256, eps=1e-05, momentum=0.1, affine=True, track_running_stats=True)\n",
            "        (3): PReLU(num_parameters=256)\n",
            "        (4): Conv2d(256, 256, kernel_size=(3, 3), stride=(1, 1), padding=(1, 1), bias=False)\n",
            "        (5): BatchNorm2d(256, eps=1e-05, momentum=0.1, affine=True, track_running_stats=True)\n",
            "        (6): SEModule(\n",
            "          (avg_pool): AdaptiveAvgPool2d(output_size=1)\n",
            "          (fc1): Conv2d(256, 16, kernel_size=(1, 1), stride=(1, 1), bias=False)\n",
            "          (relu): ReLU(inplace=True)\n",
            "          (fc2): Conv2d(16, 256, kernel_size=(1, 1), stride=(1, 1), bias=False)\n",
            "          (sigmoid): Sigmoid()\n",
            "        )\n",
            "      )\n",
            "    )\n",
            "    (17): BottleNeck_IR_SE(\n",
            "      (shortcut_layer): MaxPool2d(kernel_size=1, stride=1, padding=0, dilation=1, ceil_mode=False)\n",
            "      (res_layer): Sequential(\n",
            "        (0): BatchNorm2d(256, eps=1e-05, momentum=0.1, affine=True, track_running_stats=True)\n",
            "        (1): Conv2d(256, 256, kernel_size=(3, 3), stride=(1, 1), padding=(1, 1), bias=False)\n",
            "        (2): BatchNorm2d(256, eps=1e-05, momentum=0.1, affine=True, track_running_stats=True)\n",
            "        (3): PReLU(num_parameters=256)\n",
            "        (4): Conv2d(256, 256, kernel_size=(3, 3), stride=(1, 1), padding=(1, 1), bias=False)\n",
            "        (5): BatchNorm2d(256, eps=1e-05, momentum=0.1, affine=True, track_running_stats=True)\n",
            "        (6): SEModule(\n",
            "          (avg_pool): AdaptiveAvgPool2d(output_size=1)\n",
            "          (fc1): Conv2d(256, 16, kernel_size=(1, 1), stride=(1, 1), bias=False)\n",
            "          (relu): ReLU(inplace=True)\n",
            "          (fc2): Conv2d(16, 256, kernel_size=(1, 1), stride=(1, 1), bias=False)\n",
            "          (sigmoid): Sigmoid()\n",
            "        )\n",
            "      )\n",
            "    )\n",
            "    (18): BottleNeck_IR_SE(\n",
            "      (shortcut_layer): MaxPool2d(kernel_size=1, stride=1, padding=0, dilation=1, ceil_mode=False)\n",
            "      (res_layer): Sequential(\n",
            "        (0): BatchNorm2d(256, eps=1e-05, momentum=0.1, affine=True, track_running_stats=True)\n",
            "        (1): Conv2d(256, 256, kernel_size=(3, 3), stride=(1, 1), padding=(1, 1), bias=False)\n",
            "        (2): BatchNorm2d(256, eps=1e-05, momentum=0.1, affine=True, track_running_stats=True)\n",
            "        (3): PReLU(num_parameters=256)\n",
            "        (4): Conv2d(256, 256, kernel_size=(3, 3), stride=(1, 1), padding=(1, 1), bias=False)\n",
            "        (5): BatchNorm2d(256, eps=1e-05, momentum=0.1, affine=True, track_running_stats=True)\n",
            "        (6): SEModule(\n",
            "          (avg_pool): AdaptiveAvgPool2d(output_size=1)\n",
            "          (fc1): Conv2d(256, 16, kernel_size=(1, 1), stride=(1, 1), bias=False)\n",
            "          (relu): ReLU(inplace=True)\n",
            "          (fc2): Conv2d(16, 256, kernel_size=(1, 1), stride=(1, 1), bias=False)\n",
            "          (sigmoid): Sigmoid()\n",
            "        )\n",
            "      )\n",
            "    )\n",
            "    (19): BottleNeck_IR_SE(\n",
            "      (shortcut_layer): MaxPool2d(kernel_size=1, stride=1, padding=0, dilation=1, ceil_mode=False)\n",
            "      (res_layer): Sequential(\n",
            "        (0): BatchNorm2d(256, eps=1e-05, momentum=0.1, affine=True, track_running_stats=True)\n",
            "        (1): Conv2d(256, 256, kernel_size=(3, 3), stride=(1, 1), padding=(1, 1), bias=False)\n",
            "        (2): BatchNorm2d(256, eps=1e-05, momentum=0.1, affine=True, track_running_stats=True)\n",
            "        (3): PReLU(num_parameters=256)\n",
            "        (4): Conv2d(256, 256, kernel_size=(3, 3), stride=(1, 1), padding=(1, 1), bias=False)\n",
            "        (5): BatchNorm2d(256, eps=1e-05, momentum=0.1, affine=True, track_running_stats=True)\n",
            "        (6): SEModule(\n",
            "          (avg_pool): AdaptiveAvgPool2d(output_size=1)\n",
            "          (fc1): Conv2d(256, 16, kernel_size=(1, 1), stride=(1, 1), bias=False)\n",
            "          (relu): ReLU(inplace=True)\n",
            "          (fc2): Conv2d(16, 256, kernel_size=(1, 1), stride=(1, 1), bias=False)\n",
            "          (sigmoid): Sigmoid()\n",
            "        )\n",
            "      )\n",
            "    )\n",
            "    (20): BottleNeck_IR_SE(\n",
            "      (shortcut_layer): MaxPool2d(kernel_size=1, stride=1, padding=0, dilation=1, ceil_mode=False)\n",
            "      (res_layer): Sequential(\n",
            "        (0): BatchNorm2d(256, eps=1e-05, momentum=0.1, affine=True, track_running_stats=True)\n",
            "        (1): Conv2d(256, 256, kernel_size=(3, 3), stride=(1, 1), padding=(1, 1), bias=False)\n",
            "        (2): BatchNorm2d(256, eps=1e-05, momentum=0.1, affine=True, track_running_stats=True)\n",
            "        (3): PReLU(num_parameters=256)\n",
            "        (4): Conv2d(256, 256, kernel_size=(3, 3), stride=(1, 1), padding=(1, 1), bias=False)\n",
            "        (5): BatchNorm2d(256, eps=1e-05, momentum=0.1, affine=True, track_running_stats=True)\n",
            "        (6): SEModule(\n",
            "          (avg_pool): AdaptiveAvgPool2d(output_size=1)\n",
            "          (fc1): Conv2d(256, 16, kernel_size=(1, 1), stride=(1, 1), bias=False)\n",
            "          (relu): ReLU(inplace=True)\n",
            "          (fc2): Conv2d(16, 256, kernel_size=(1, 1), stride=(1, 1), bias=False)\n",
            "          (sigmoid): Sigmoid()\n",
            "        )\n",
            "      )\n",
            "    )\n",
            "    (21): BottleNeck_IR_SE(\n",
            "      (shortcut_layer): Sequential(\n",
            "        (0): Conv2d(256, 512, kernel_size=(1, 1), stride=(2, 2), bias=False)\n",
            "        (1): BatchNorm2d(512, eps=1e-05, momentum=0.1, affine=True, track_running_stats=True)\n",
            "      )\n",
            "      (res_layer): Sequential(\n",
            "        (0): BatchNorm2d(256, eps=1e-05, momentum=0.1, affine=True, track_running_stats=True)\n",
            "        (1): Conv2d(256, 512, kernel_size=(3, 3), stride=(1, 1), padding=(1, 1), bias=False)\n",
            "        (2): BatchNorm2d(512, eps=1e-05, momentum=0.1, affine=True, track_running_stats=True)\n",
            "        (3): PReLU(num_parameters=512)\n",
            "        (4): Conv2d(512, 512, kernel_size=(3, 3), stride=(2, 2), padding=(1, 1), bias=False)\n",
            "        (5): BatchNorm2d(512, eps=1e-05, momentum=0.1, affine=True, track_running_stats=True)\n",
            "        (6): SEModule(\n",
            "          (avg_pool): AdaptiveAvgPool2d(output_size=1)\n",
            "          (fc1): Conv2d(512, 32, kernel_size=(1, 1), stride=(1, 1), bias=False)\n",
            "          (relu): ReLU(inplace=True)\n",
            "          (fc2): Conv2d(32, 512, kernel_size=(1, 1), stride=(1, 1), bias=False)\n",
            "          (sigmoid): Sigmoid()\n",
            "        )\n",
            "      )\n",
            "    )\n",
            "    (22): BottleNeck_IR_SE(\n",
            "      (shortcut_layer): MaxPool2d(kernel_size=1, stride=1, padding=0, dilation=1, ceil_mode=False)\n",
            "      (res_layer): Sequential(\n",
            "        (0): BatchNorm2d(512, eps=1e-05, momentum=0.1, affine=True, track_running_stats=True)\n",
            "        (1): Conv2d(512, 512, kernel_size=(3, 3), stride=(1, 1), padding=(1, 1), bias=False)\n",
            "        (2): BatchNorm2d(512, eps=1e-05, momentum=0.1, affine=True, track_running_stats=True)\n",
            "        (3): PReLU(num_parameters=512)\n",
            "        (4): Conv2d(512, 512, kernel_size=(3, 3), stride=(1, 1), padding=(1, 1), bias=False)\n",
            "        (5): BatchNorm2d(512, eps=1e-05, momentum=0.1, affine=True, track_running_stats=True)\n",
            "        (6): SEModule(\n",
            "          (avg_pool): AdaptiveAvgPool2d(output_size=1)\n",
            "          (fc1): Conv2d(512, 32, kernel_size=(1, 1), stride=(1, 1), bias=False)\n",
            "          (relu): ReLU(inplace=True)\n",
            "          (fc2): Conv2d(32, 512, kernel_size=(1, 1), stride=(1, 1), bias=False)\n",
            "          (sigmoid): Sigmoid()\n",
            "        )\n",
            "      )\n",
            "    )\n",
            "    (23): BottleNeck_IR_SE(\n",
            "      (shortcut_layer): MaxPool2d(kernel_size=1, stride=1, padding=0, dilation=1, ceil_mode=False)\n",
            "      (res_layer): Sequential(\n",
            "        (0): BatchNorm2d(512, eps=1e-05, momentum=0.1, affine=True, track_running_stats=True)\n",
            "        (1): Conv2d(512, 512, kernel_size=(3, 3), stride=(1, 1), padding=(1, 1), bias=False)\n",
            "        (2): BatchNorm2d(512, eps=1e-05, momentum=0.1, affine=True, track_running_stats=True)\n",
            "        (3): PReLU(num_parameters=512)\n",
            "        (4): Conv2d(512, 512, kernel_size=(3, 3), stride=(1, 1), padding=(1, 1), bias=False)\n",
            "        (5): BatchNorm2d(512, eps=1e-05, momentum=0.1, affine=True, track_running_stats=True)\n",
            "        (6): SEModule(\n",
            "          (avg_pool): AdaptiveAvgPool2d(output_size=1)\n",
            "          (fc1): Conv2d(512, 32, kernel_size=(1, 1), stride=(1, 1), bias=False)\n",
            "          (relu): ReLU(inplace=True)\n",
            "          (fc2): Conv2d(32, 512, kernel_size=(1, 1), stride=(1, 1), bias=False)\n",
            "          (sigmoid): Sigmoid()\n",
            "        )\n",
            "      )\n",
            "    )\n",
            "  )\n",
            ")\n"
          ]
        }
      ]
    },
    {
      "cell_type": "code",
      "source": [
        "criterion = nn.CrossEntropyLoss()"
      ],
      "metadata": {
        "id": "rDWn4OblLv9S"
      },
      "execution_count": 27,
      "outputs": []
    },
    {
      "cell_type": "code",
      "source": [
        "optimizer = optim.SGD([\n",
        "    {'params' : net.parameters() ,'weight_decay' : 5e-4 },\n",
        "    {'params' : margin.parameters() , 'weight_decay' : 5e-4}\n",
        "] , lr = conf.lr , momentum = 0.9 , nesterov = True , )"
      ],
      "metadata": {
        "id": "yl9TihxfM-jm"
      },
      "execution_count": 28,
      "outputs": []
    },
    {
      "cell_type": "code",
      "source": [
        "print(optimizer)"
      ],
      "metadata": {
        "colab": {
          "base_uri": "https://localhost:8080/"
        },
        "id": "bPHWqBACN1ug",
        "outputId": "ac284573-94f8-4ac2-b776-71869fd9c1fe"
      },
      "execution_count": 15,
      "outputs": [
        {
          "output_type": "stream",
          "name": "stdout",
          "text": [
            "SGD (\n",
            "Parameter Group 0\n",
            "    dampening: 0\n",
            "    foreach: None\n",
            "    lr: 0.01\n",
            "    maximize: False\n",
            "    momentum: 0.9\n",
            "    nesterov: True\n",
            "    weight_decay: 0.0005\n",
            "\n",
            "Parameter Group 1\n",
            "    dampening: 0\n",
            "    foreach: None\n",
            "    lr: 0.01\n",
            "    maximize: False\n",
            "    momentum: 0.9\n",
            "    nesterov: True\n",
            "    weight_decay: 0.0005\n",
            ")\n"
          ]
        }
      ]
    },
    {
      "cell_type": "code",
      "source": [
        "# class Model(torch.nn.Module):\n",
        "#     def __init__(self, model, pool):\n",
        "#         super(Model, self).__init__()"
      ],
      "metadata": {
        "id": "Yg5m_RDhjeaI"
      },
      "execution_count": 16,
      "outputs": []
    },
    {
      "cell_type": "code",
      "source": [
        "# class Skip(nn.Module):\n",
        "#     def forward(self, x):\n",
        "#         return x\n",
        "\n",
        "# class SkipEdge(Edge):\n",
        "#     def __init__(self):\n",
        "#         super().__init__()\n",
        "#         self.f = Skip()"
      ],
      "metadata": {
        "id": "m1vUBEzXjXK3"
      },
      "execution_count": 17,
      "outputs": []
    },
    {
      "cell_type": "code",
      "source": [
        "def schedule_lr():\n",
        "  for params in optimizer.param_groups:\n",
        "    params['lr'] /= 10\n",
        "  print(optimizer)"
      ],
      "metadata": {
        "id": "w8VR_CVRN5E9"
      },
      "execution_count": 24,
      "outputs": []
    },
    {
      "cell_type": "markdown",
      "source": [
        "# Train"
      ],
      "metadata": {
        "id": "GlDRP1CmOm9-"
      }
    },
    {
      "cell_type": "code",
      "source": [
        "best_acc = 0\n",
        "\n",
        "for epoch in range(1,conf.total_epoch+1):\n",
        "\n",
        "  net.train()\n",
        "\n",
        "  #net.eval()\n",
        "\n",
        "  print(f'Epoch : {epoch}/{conf.total_epoch}' ) # flush = True\n",
        "  \n",
        "  if epoch in conf.milestones:\n",
        "    schedule_lr()\n",
        "  # if epoch == conf.milestones[0]:\n",
        "  #   schedule_lr()\n",
        "  # if epoch == conf.milestones[1]:\n",
        "  #   schedule_lr()\n",
        "  # if epoch == conf.milestones[2]:\n",
        "  #   schedule_lr()\n",
        "\n",
        "\n",
        "  # iteration\n",
        "  for data in tqdm(trainloader):\n",
        "    img, label = data[0].to(conf.device) , data[1].to(conf.device)\n",
        "    optimizer.zero_grad()\n",
        "\n",
        "    logits = net(img)\n",
        "    output = margin(logits , label)\n",
        "    total_loss = criterion(output, label)\n",
        "    total_loss.backward()\n",
        "    optimizer.step()\n",
        "\n",
        "  # test\n",
        "  net.eval()\n",
        "\n",
        "  lfw_acc = test(conf , net , lfwdataset , lfwloader)\n",
        "\n",
        "  print(f'\\nLFW_Accuracy: {lfw_acc:.4f} | Train_Loss : {total_loss.item():.4f}\\n')\n",
        "\n",
        "  is_best = lfw_acc > best_acc # We could also do this with lowest_loss. Probably with lowest_loss could be better.\n",
        "  best_acc = max(lfw_acc , best_acc)\n",
        "\n",
        "\n",
        "  # model saving.\n",
        "  save_checkpoint({\n",
        "      'epoch' : epoch,\n",
        "      'net_state_dict' : net.state_dict(),\n",
        "      'margin_state_dict' : margin.state_dict(),\n",
        "      'best_acc' : best_acc\n",
        "  } , is_best , checkpoint = conf.save_dir)\n",
        "\n",
        "\n",
        "\n",
        "\n"
      ],
      "metadata": {
        "colab": {
          "base_uri": "https://localhost:8080/"
        },
        "id": "xi9IpkNIN5HY",
        "outputId": "7acc7d34-6a16-49e9-8c44-9bfe4991ab44"
      },
      "execution_count": 29,
      "outputs": [
        {
          "output_type": "stream",
          "name": "stdout",
          "text": [
            "Epoch : 1/14\n"
          ]
        },
        {
          "output_type": "stream",
          "name": "stderr",
          "text": [
            "100%|██████████| 304/304 [04:32<00:00,  1.12it/s]\n"
          ]
        },
        {
          "output_type": "stream",
          "name": "stdout",
          "text": [
            "\n",
            "LFW: 0.7610 | Train : 9.9456\n",
            "\n",
            "best model saved\n",
            "\n",
            "Epoch : 2/14\n"
          ]
        },
        {
          "output_type": "stream",
          "name": "stderr",
          "text": [
            "100%|██████████| 304/304 [04:32<00:00,  1.12it/s]\n"
          ]
        },
        {
          "output_type": "stream",
          "name": "stdout",
          "text": [
            "\n",
            "LFW: 0.8245 | Train : 7.3666\n",
            "\n",
            "best model saved\n",
            "\n",
            "Epoch : 3/14\n"
          ]
        },
        {
          "output_type": "stream",
          "name": "stderr",
          "text": [
            "100%|██████████| 304/304 [04:32<00:00,  1.12it/s]\n"
          ]
        },
        {
          "output_type": "stream",
          "name": "stdout",
          "text": [
            "\n",
            "LFW: 0.8350 | Train : 5.1473\n",
            "\n",
            "best model saved\n",
            "\n",
            "Epoch : 4/14\n"
          ]
        },
        {
          "output_type": "stream",
          "name": "stderr",
          "text": [
            "100%|██████████| 304/304 [04:32<00:00,  1.12it/s]\n"
          ]
        },
        {
          "output_type": "stream",
          "name": "stdout",
          "text": [
            "\n",
            "LFW: 0.8493 | Train : 4.9818\n",
            "\n",
            "best model saved\n",
            "\n",
            "Epoch : 5/14\n"
          ]
        },
        {
          "output_type": "stream",
          "name": "stderr",
          "text": [
            "100%|██████████| 304/304 [04:32<00:00,  1.12it/s]\n"
          ]
        },
        {
          "output_type": "stream",
          "name": "stdout",
          "text": [
            "\n",
            "LFW: 0.8500 | Train : 3.9388\n",
            "\n",
            "best model saved\n",
            "\n",
            "Epoch : 6/14\n"
          ]
        },
        {
          "output_type": "stream",
          "name": "stderr",
          "text": [
            "100%|██████████| 304/304 [04:32<00:00,  1.11it/s]\n"
          ]
        },
        {
          "output_type": "stream",
          "name": "stdout",
          "text": [
            "\n",
            "LFW: 0.8430 | Train : 2.7619\n",
            "\n",
            "Epoch : 7/14\n"
          ]
        },
        {
          "output_type": "stream",
          "name": "stderr",
          "text": [
            "100%|██████████| 304/304 [04:32<00:00,  1.12it/s]\n"
          ]
        },
        {
          "output_type": "stream",
          "name": "stdout",
          "text": [
            "\n",
            "LFW: 0.8655 | Train : 2.9422\n",
            "\n",
            "best model saved\n",
            "\n",
            "Epoch : 8/14\n",
            "SGD (\n",
            "Parameter Group 0\n",
            "    dampening: 0\n",
            "    foreach: None\n",
            "    lr: 0.001\n",
            "    maximize: False\n",
            "    momentum: 0.9\n",
            "    nesterov: True\n",
            "    weight_decay: 0.0005\n",
            "\n",
            "Parameter Group 1\n",
            "    dampening: 0\n",
            "    foreach: None\n",
            "    lr: 0.001\n",
            "    maximize: False\n",
            "    momentum: 0.9\n",
            "    nesterov: True\n",
            "    weight_decay: 0.0005\n",
            ")\n"
          ]
        },
        {
          "output_type": "stream",
          "name": "stderr",
          "text": [
            "100%|██████████| 304/304 [04:32<00:00,  1.11it/s]\n"
          ]
        },
        {
          "output_type": "stream",
          "name": "stdout",
          "text": [
            "\n",
            "LFW: 0.8708 | Train : 1.6383\n",
            "\n",
            "best model saved\n",
            "\n",
            "Epoch : 9/14\n"
          ]
        },
        {
          "output_type": "stream",
          "name": "stderr",
          "text": [
            "100%|██████████| 304/304 [04:32<00:00,  1.11it/s]\n"
          ]
        },
        {
          "output_type": "stream",
          "name": "stdout",
          "text": [
            "\n",
            "LFW: 0.8707 | Train : 0.3042\n",
            "\n",
            "Epoch : 10/14\n",
            "SGD (\n",
            "Parameter Group 0\n",
            "    dampening: 0\n",
            "    foreach: None\n",
            "    lr: 0.0001\n",
            "    maximize: False\n",
            "    momentum: 0.9\n",
            "    nesterov: True\n",
            "    weight_decay: 0.0005\n",
            "\n",
            "Parameter Group 1\n",
            "    dampening: 0\n",
            "    foreach: None\n",
            "    lr: 0.0001\n",
            "    maximize: False\n",
            "    momentum: 0.9\n",
            "    nesterov: True\n",
            "    weight_decay: 0.0005\n",
            ")\n"
          ]
        },
        {
          "output_type": "stream",
          "name": "stderr",
          "text": [
            "100%|██████████| 304/304 [04:33<00:00,  1.11it/s]\n"
          ]
        },
        {
          "output_type": "stream",
          "name": "stdout",
          "text": [
            "\n",
            "LFW: 0.8690 | Train : 1.1733\n",
            "\n",
            "Epoch : 11/14\n"
          ]
        },
        {
          "output_type": "stream",
          "name": "stderr",
          "text": [
            "100%|██████████| 304/304 [04:33<00:00,  1.11it/s]\n"
          ]
        },
        {
          "output_type": "stream",
          "name": "stdout",
          "text": [
            "\n",
            "LFW: 0.8707 | Train : 0.7290\n",
            "\n",
            "Epoch : 12/14\n",
            "SGD (\n",
            "Parameter Group 0\n",
            "    dampening: 0\n",
            "    foreach: None\n",
            "    lr: 1e-05\n",
            "    maximize: False\n",
            "    momentum: 0.9\n",
            "    nesterov: True\n",
            "    weight_decay: 0.0005\n",
            "\n",
            "Parameter Group 1\n",
            "    dampening: 0\n",
            "    foreach: None\n",
            "    lr: 1e-05\n",
            "    maximize: False\n",
            "    momentum: 0.9\n",
            "    nesterov: True\n",
            "    weight_decay: 0.0005\n",
            ")\n"
          ]
        },
        {
          "output_type": "stream",
          "name": "stderr",
          "text": [
            "100%|██████████| 304/304 [04:32<00:00,  1.12it/s]\n"
          ]
        },
        {
          "output_type": "stream",
          "name": "stdout",
          "text": [
            "\n",
            "LFW: 0.8703 | Train : 0.5056\n",
            "\n",
            "Epoch : 13/14\n"
          ]
        },
        {
          "output_type": "stream",
          "name": "stderr",
          "text": [
            "100%|██████████| 304/304 [04:32<00:00,  1.11it/s]\n"
          ]
        },
        {
          "output_type": "stream",
          "name": "stdout",
          "text": [
            "\n",
            "LFW: 0.8720 | Train : 0.3091\n",
            "\n",
            "best model saved\n",
            "\n",
            "Epoch : 14/14\n"
          ]
        },
        {
          "output_type": "stream",
          "name": "stderr",
          "text": [
            "100%|██████████| 304/304 [04:32<00:00,  1.11it/s]\n"
          ]
        },
        {
          "output_type": "stream",
          "name": "stdout",
          "text": [
            "\n",
            "LFW: 0.8697 | Train : 0.8754\n",
            "\n"
          ]
        }
      ]
    },
    {
      "cell_type": "code",
      "source": [
        "'''\n",
        "SOTA : The State of the Art ( Best Scores )\n",
        "\n",
        "1) MS1M Full Dataset.(Maybe CASIA dataset)\n",
        "2) conf.mode = 'ir'\n",
        "3) conf.depth = 100\n",
        "4) conf.total_epoch = 20\n",
        "5) conf.milestones = [12,16,18]\n",
        "\n",
        "lfw = %99.83\n",
        "\n",
        "# Its very hard to train. With GPU at least around a week.\n",
        "\n",
        "# MobileFaceNet to deployment tool.\n",
        "\n",
        "'''"
      ],
      "metadata": {
        "id": "WxhjKrrbQFSX"
      },
      "execution_count": null,
      "outputs": []
    },
    {
      "cell_type": "code",
      "source": [
        "# Done"
      ],
      "metadata": {
        "id": "xtmMlHogN5J4"
      },
      "execution_count": null,
      "outputs": []
    }
  ]
}